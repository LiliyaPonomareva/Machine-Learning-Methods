{
  "nbformat": 4,
  "nbformat_minor": 0,
  "metadata": {
    "colab": {
      "name": "Lab5_Ponomareva.ipynb",
      "provenance": [],
      "collapsed_sections": []
    },
    "kernelspec": {
      "name": "python3",
      "display_name": "Python 3"
    },
    "language_info": {
      "name": "python"
    }
  },
  "cells": [
    {
      "cell_type": "markdown",
      "source": [
        "### РОССИЙСКИЙ УНИВЕРСИТЕТ ДРУЖБЫ НАРОДОВ\n",
        "\n",
        "#### Факультет физико-математических и естественных наук  \n",
        "#### Кафедра информационных технологий "
      ],
      "metadata": {
        "id": "SpwhoMR714AG"
      }
    },
    {
      "cell_type": "markdown",
      "source": [
        "## ОТЧЕТ ПО ЛАБОРАТОРНОЙ РАБОТЕ № 4\n",
        "\n",
        "\n",
        "### Дисциплина: Методы машинного обучения"
      ],
      "metadata": {
        "id": "Gu16Rpp415ga"
      }
    },
    {
      "cell_type": "markdown",
      "source": [
        "##### Студент:  Пономарева Л. М.\n",
        "##### Группа:   НПИбд-02-19"
      ],
      "metadata": {
        "id": "ZgMH0QHp17aM"
      }
    },
    {
      "cell_type": "markdown",
      "source": [
        "## Москва 2022\n",
        "***"
      ],
      "metadata": {
        "id": "IXTYb7SJ19TT"
      }
    },
    {
      "cell_type": "markdown",
      "source": [
        "Вариант 2 \n",
        "\n",
        "1. Считайте котировки акции с указанным ниже тикером за 2020-2021 год: \n",
        "\n",
        " F         Ford Motor Company \n",
        "\n",
        "2. Показатель акции: дневной доход, способ визуализации –эмпирическая PDF \n",
        "\n",
        "3. Прогнозирование стоимости акции через 5 дней по данным за предыдущие 20 дней. \n",
        "\n",
        "4. Показатель качества RMSE \n",
        "\n",
        "5. Техника борьбы с исчезающими градиентами: пакетная нормализация"
      ],
      "metadata": {
        "id": "QsocpUPp1_4W"
      }
    },
    {
      "cell_type": "code",
      "source": [
        "import numpy as np\n",
        "import matplotlib as mpl\n",
        "import matplotlib.pyplot as plt\n",
        "import pandas as pd\n",
        "import tensorflow as tf"
      ],
      "metadata": {
        "id": "8Mkl87OzPudQ"
      },
      "execution_count": 1,
      "outputs": []
    },
    {
      "cell_type": "markdown",
      "source": [
        "#### Задание 1\n",
        "При помощи модуля `pandas_datareader` считайте котировки указанной в индивидуальным задании акции за указанный период времени. "
      ],
      "metadata": {
        "id": "lehB3zqyEUnW"
      }
    },
    {
      "cell_type": "markdown",
      "source": [
        "Загрузим модуль yfinance для получения биржевых данных с Yahoo! Finance"
      ],
      "metadata": {
        "id": "D58DJgxL5DwS"
      }
    },
    {
      "cell_type": "code",
      "source": [
        "!pip install yfinance"
      ],
      "metadata": {
        "colab": {
          "base_uri": "https://localhost:8080/"
        },
        "id": "qk-mkepI43IV",
        "outputId": "d69af6a8-4993-416e-c68a-58e5ac72a247"
      },
      "execution_count": 2,
      "outputs": [
        {
          "output_type": "stream",
          "name": "stdout",
          "text": [
            "Looking in indexes: https://pypi.org/simple, https://us-python.pkg.dev/colab-wheels/public/simple/\n",
            "Requirement already satisfied: yfinance in /usr/local/lib/python3.7/dist-packages (0.1.70)\n",
            "Requirement already satisfied: pandas>=0.24.0 in /usr/local/lib/python3.7/dist-packages (from yfinance) (1.3.5)\n",
            "Requirement already satisfied: lxml>=4.5.1 in /usr/local/lib/python3.7/dist-packages (from yfinance) (4.9.0)\n",
            "Requirement already satisfied: requests>=2.26 in /usr/local/lib/python3.7/dist-packages (from yfinance) (2.27.1)\n",
            "Requirement already satisfied: numpy>=1.15 in /usr/local/lib/python3.7/dist-packages (from yfinance) (1.21.6)\n",
            "Requirement already satisfied: multitasking>=0.0.7 in /usr/local/lib/python3.7/dist-packages (from yfinance) (0.0.10)\n",
            "Requirement already satisfied: pytz>=2017.3 in /usr/local/lib/python3.7/dist-packages (from pandas>=0.24.0->yfinance) (2022.1)\n",
            "Requirement already satisfied: python-dateutil>=2.7.3 in /usr/local/lib/python3.7/dist-packages (from pandas>=0.24.0->yfinance) (2.8.2)\n",
            "Requirement already satisfied: six>=1.5 in /usr/local/lib/python3.7/dist-packages (from python-dateutil>=2.7.3->pandas>=0.24.0->yfinance) (1.15.0)\n",
            "Requirement already satisfied: urllib3<1.27,>=1.21.1 in /usr/local/lib/python3.7/dist-packages (from requests>=2.26->yfinance) (1.24.3)\n",
            "Requirement already satisfied: idna<4,>=2.5 in /usr/local/lib/python3.7/dist-packages (from requests>=2.26->yfinance) (2.10)\n",
            "Requirement already satisfied: charset-normalizer~=2.0.0 in /usr/local/lib/python3.7/dist-packages (from requests>=2.26->yfinance) (2.0.12)\n",
            "Requirement already satisfied: certifi>=2017.4.17 in /usr/local/lib/python3.7/dist-packages (from requests>=2.26->yfinance) (2022.5.18.1)\n"
          ]
        }
      ]
    },
    {
      "cell_type": "markdown",
      "source": [
        "Загрузим модуль `pandas_datareader`"
      ],
      "metadata": {
        "id": "9EBcljFkEege"
      }
    },
    {
      "cell_type": "code",
      "source": [
        "from pandas_datareader import data as pdr\n",
        "import yfinance as yfin\n",
        "import datetime as dt\n",
        "\n",
        "yfin.pdr_override()"
      ],
      "metadata": {
        "id": "hZ1uGyu2-D1c"
      },
      "execution_count": 3,
      "outputs": []
    },
    {
      "cell_type": "markdown",
      "source": [
        "Загрузим ежедневные котировки акций компании Ford Motor Company за 2020-2021 год:"
      ],
      "metadata": {
        "id": "HwVvMiOQ51Gs"
      }
    },
    {
      "cell_type": "code",
      "source": [
        "ford = pdr.get_data_yahoo('F', \n",
        "                          start=dt.datetime(2020, 1, 1), \n",
        "                          end=dt.datetime(2022, 1, 1))\n",
        "ford.head()"
      ],
      "metadata": {
        "colab": {
          "base_uri": "https://localhost:8080/",
          "height": 255
        },
        "id": "kNT2QJIt_wFP",
        "outputId": "73380836-b641-44cf-ba68-fbe2e6aa0c1b"
      },
      "execution_count": 4,
      "outputs": [
        {
          "output_type": "stream",
          "name": "stdout",
          "text": [
            "\r[*********************100%***********************]  1 of 1 completed\n"
          ]
        },
        {
          "output_type": "execute_result",
          "data": {
            "text/plain": [
              "            Open  High   Low  Close  Adj Close    Volume\n",
              "Date                                                    \n",
              "2020-01-02  9.29  9.42  9.19   9.42   9.108328  43425700\n",
              "2020-01-03  9.31  9.37  9.15   9.21   8.905277  45040800\n",
              "2020-01-06  9.10  9.17  9.06   9.16   8.856931  43372300\n",
              "2020-01-07  9.20  9.25  9.12   9.25   8.943952  44984100\n",
              "2020-01-08  9.23  9.30  9.17   9.25   8.943952  45994900"
            ],
            "text/html": [
              "\n",
              "  <div id=\"df-16441d25-5cfa-48c1-ac47-4ec355fa6132\">\n",
              "    <div class=\"colab-df-container\">\n",
              "      <div>\n",
              "<style scoped>\n",
              "    .dataframe tbody tr th:only-of-type {\n",
              "        vertical-align: middle;\n",
              "    }\n",
              "\n",
              "    .dataframe tbody tr th {\n",
              "        vertical-align: top;\n",
              "    }\n",
              "\n",
              "    .dataframe thead th {\n",
              "        text-align: right;\n",
              "    }\n",
              "</style>\n",
              "<table border=\"1\" class=\"dataframe\">\n",
              "  <thead>\n",
              "    <tr style=\"text-align: right;\">\n",
              "      <th></th>\n",
              "      <th>Open</th>\n",
              "      <th>High</th>\n",
              "      <th>Low</th>\n",
              "      <th>Close</th>\n",
              "      <th>Adj Close</th>\n",
              "      <th>Volume</th>\n",
              "    </tr>\n",
              "    <tr>\n",
              "      <th>Date</th>\n",
              "      <th></th>\n",
              "      <th></th>\n",
              "      <th></th>\n",
              "      <th></th>\n",
              "      <th></th>\n",
              "      <th></th>\n",
              "    </tr>\n",
              "  </thead>\n",
              "  <tbody>\n",
              "    <tr>\n",
              "      <th>2020-01-02</th>\n",
              "      <td>9.29</td>\n",
              "      <td>9.42</td>\n",
              "      <td>9.19</td>\n",
              "      <td>9.42</td>\n",
              "      <td>9.108328</td>\n",
              "      <td>43425700</td>\n",
              "    </tr>\n",
              "    <tr>\n",
              "      <th>2020-01-03</th>\n",
              "      <td>9.31</td>\n",
              "      <td>9.37</td>\n",
              "      <td>9.15</td>\n",
              "      <td>9.21</td>\n",
              "      <td>8.905277</td>\n",
              "      <td>45040800</td>\n",
              "    </tr>\n",
              "    <tr>\n",
              "      <th>2020-01-06</th>\n",
              "      <td>9.10</td>\n",
              "      <td>9.17</td>\n",
              "      <td>9.06</td>\n",
              "      <td>9.16</td>\n",
              "      <td>8.856931</td>\n",
              "      <td>43372300</td>\n",
              "    </tr>\n",
              "    <tr>\n",
              "      <th>2020-01-07</th>\n",
              "      <td>9.20</td>\n",
              "      <td>9.25</td>\n",
              "      <td>9.12</td>\n",
              "      <td>9.25</td>\n",
              "      <td>8.943952</td>\n",
              "      <td>44984100</td>\n",
              "    </tr>\n",
              "    <tr>\n",
              "      <th>2020-01-08</th>\n",
              "      <td>9.23</td>\n",
              "      <td>9.30</td>\n",
              "      <td>9.17</td>\n",
              "      <td>9.25</td>\n",
              "      <td>8.943952</td>\n",
              "      <td>45994900</td>\n",
              "    </tr>\n",
              "  </tbody>\n",
              "</table>\n",
              "</div>\n",
              "      <button class=\"colab-df-convert\" onclick=\"convertToInteractive('df-16441d25-5cfa-48c1-ac47-4ec355fa6132')\"\n",
              "              title=\"Convert this dataframe to an interactive table.\"\n",
              "              style=\"display:none;\">\n",
              "        \n",
              "  <svg xmlns=\"http://www.w3.org/2000/svg\" height=\"24px\"viewBox=\"0 0 24 24\"\n",
              "       width=\"24px\">\n",
              "    <path d=\"M0 0h24v24H0V0z\" fill=\"none\"/>\n",
              "    <path d=\"M18.56 5.44l.94 2.06.94-2.06 2.06-.94-2.06-.94-.94-2.06-.94 2.06-2.06.94zm-11 1L8.5 8.5l.94-2.06 2.06-.94-2.06-.94L8.5 2.5l-.94 2.06-2.06.94zm10 10l.94 2.06.94-2.06 2.06-.94-2.06-.94-.94-2.06-.94 2.06-2.06.94z\"/><path d=\"M17.41 7.96l-1.37-1.37c-.4-.4-.92-.59-1.43-.59-.52 0-1.04.2-1.43.59L10.3 9.45l-7.72 7.72c-.78.78-.78 2.05 0 2.83L4 21.41c.39.39.9.59 1.41.59.51 0 1.02-.2 1.41-.59l7.78-7.78 2.81-2.81c.8-.78.8-2.07 0-2.86zM5.41 20L4 18.59l7.72-7.72 1.47 1.35L5.41 20z\"/>\n",
              "  </svg>\n",
              "      </button>\n",
              "      \n",
              "  <style>\n",
              "    .colab-df-container {\n",
              "      display:flex;\n",
              "      flex-wrap:wrap;\n",
              "      gap: 12px;\n",
              "    }\n",
              "\n",
              "    .colab-df-convert {\n",
              "      background-color: #E8F0FE;\n",
              "      border: none;\n",
              "      border-radius: 50%;\n",
              "      cursor: pointer;\n",
              "      display: none;\n",
              "      fill: #1967D2;\n",
              "      height: 32px;\n",
              "      padding: 0 0 0 0;\n",
              "      width: 32px;\n",
              "    }\n",
              "\n",
              "    .colab-df-convert:hover {\n",
              "      background-color: #E2EBFA;\n",
              "      box-shadow: 0px 1px 2px rgba(60, 64, 67, 0.3), 0px 1px 3px 1px rgba(60, 64, 67, 0.15);\n",
              "      fill: #174EA6;\n",
              "    }\n",
              "\n",
              "    [theme=dark] .colab-df-convert {\n",
              "      background-color: #3B4455;\n",
              "      fill: #D2E3FC;\n",
              "    }\n",
              "\n",
              "    [theme=dark] .colab-df-convert:hover {\n",
              "      background-color: #434B5C;\n",
              "      box-shadow: 0px 1px 3px 1px rgba(0, 0, 0, 0.15);\n",
              "      filter: drop-shadow(0px 1px 2px rgba(0, 0, 0, 0.3));\n",
              "      fill: #FFFFFF;\n",
              "    }\n",
              "  </style>\n",
              "\n",
              "      <script>\n",
              "        const buttonEl =\n",
              "          document.querySelector('#df-16441d25-5cfa-48c1-ac47-4ec355fa6132 button.colab-df-convert');\n",
              "        buttonEl.style.display =\n",
              "          google.colab.kernel.accessAllowed ? 'block' : 'none';\n",
              "\n",
              "        async function convertToInteractive(key) {\n",
              "          const element = document.querySelector('#df-16441d25-5cfa-48c1-ac47-4ec355fa6132');\n",
              "          const dataTable =\n",
              "            await google.colab.kernel.invokeFunction('convertToInteractive',\n",
              "                                                     [key], {});\n",
              "          if (!dataTable) return;\n",
              "\n",
              "          const docLinkHtml = 'Like what you see? Visit the ' +\n",
              "            '<a target=\"_blank\" href=https://colab.research.google.com/notebooks/data_table.ipynb>data table notebook</a>'\n",
              "            + ' to learn more about interactive tables.';\n",
              "          element.innerHTML = '';\n",
              "          dataTable['output_type'] = 'display_data';\n",
              "          await google.colab.output.renderOutput(dataTable, element);\n",
              "          const docLink = document.createElement('div');\n",
              "          docLink.innerHTML = docLinkHtml;\n",
              "          element.appendChild(docLink);\n",
              "        }\n",
              "      </script>\n",
              "    </div>\n",
              "  </div>\n",
              "  "
            ]
          },
          "metadata": {},
          "execution_count": 4
        }
      ]
    },
    {
      "cell_type": "code",
      "source": [
        "ford.tail()"
      ],
      "metadata": {
        "colab": {
          "base_uri": "https://localhost:8080/",
          "height": 238
        },
        "id": "uEdwUsFYAgaJ",
        "outputId": "4fd612ee-5a57-48e9-dd4e-0e662205ccb3"
      },
      "execution_count": 5,
      "outputs": [
        {
          "output_type": "execute_result",
          "data": {
            "text/plain": [
              "                 Open       High        Low      Close  Adj Close    Volume\n",
              "Date                                                                       \n",
              "2021-12-27  20.260000  20.889999  20.100000  20.799999  20.556833  59651800\n",
              "2021-12-28  20.660000  21.059999  20.590000  20.760000  20.517302  53020500\n",
              "2021-12-29  20.709999  20.770000  20.450001  20.559999  20.319639  37883000\n",
              "2021-12-30  20.590000  20.959999  20.469999  20.469999  20.230692  51470100\n",
              "2021-12-31  20.459999  21.010000  20.459999  20.770000  20.527185  51899600"
            ],
            "text/html": [
              "\n",
              "  <div id=\"df-74429786-c79a-46c1-baeb-2c86acbb0386\">\n",
              "    <div class=\"colab-df-container\">\n",
              "      <div>\n",
              "<style scoped>\n",
              "    .dataframe tbody tr th:only-of-type {\n",
              "        vertical-align: middle;\n",
              "    }\n",
              "\n",
              "    .dataframe tbody tr th {\n",
              "        vertical-align: top;\n",
              "    }\n",
              "\n",
              "    .dataframe thead th {\n",
              "        text-align: right;\n",
              "    }\n",
              "</style>\n",
              "<table border=\"1\" class=\"dataframe\">\n",
              "  <thead>\n",
              "    <tr style=\"text-align: right;\">\n",
              "      <th></th>\n",
              "      <th>Open</th>\n",
              "      <th>High</th>\n",
              "      <th>Low</th>\n",
              "      <th>Close</th>\n",
              "      <th>Adj Close</th>\n",
              "      <th>Volume</th>\n",
              "    </tr>\n",
              "    <tr>\n",
              "      <th>Date</th>\n",
              "      <th></th>\n",
              "      <th></th>\n",
              "      <th></th>\n",
              "      <th></th>\n",
              "      <th></th>\n",
              "      <th></th>\n",
              "    </tr>\n",
              "  </thead>\n",
              "  <tbody>\n",
              "    <tr>\n",
              "      <th>2021-12-27</th>\n",
              "      <td>20.260000</td>\n",
              "      <td>20.889999</td>\n",
              "      <td>20.100000</td>\n",
              "      <td>20.799999</td>\n",
              "      <td>20.556833</td>\n",
              "      <td>59651800</td>\n",
              "    </tr>\n",
              "    <tr>\n",
              "      <th>2021-12-28</th>\n",
              "      <td>20.660000</td>\n",
              "      <td>21.059999</td>\n",
              "      <td>20.590000</td>\n",
              "      <td>20.760000</td>\n",
              "      <td>20.517302</td>\n",
              "      <td>53020500</td>\n",
              "    </tr>\n",
              "    <tr>\n",
              "      <th>2021-12-29</th>\n",
              "      <td>20.709999</td>\n",
              "      <td>20.770000</td>\n",
              "      <td>20.450001</td>\n",
              "      <td>20.559999</td>\n",
              "      <td>20.319639</td>\n",
              "      <td>37883000</td>\n",
              "    </tr>\n",
              "    <tr>\n",
              "      <th>2021-12-30</th>\n",
              "      <td>20.590000</td>\n",
              "      <td>20.959999</td>\n",
              "      <td>20.469999</td>\n",
              "      <td>20.469999</td>\n",
              "      <td>20.230692</td>\n",
              "      <td>51470100</td>\n",
              "    </tr>\n",
              "    <tr>\n",
              "      <th>2021-12-31</th>\n",
              "      <td>20.459999</td>\n",
              "      <td>21.010000</td>\n",
              "      <td>20.459999</td>\n",
              "      <td>20.770000</td>\n",
              "      <td>20.527185</td>\n",
              "      <td>51899600</td>\n",
              "    </tr>\n",
              "  </tbody>\n",
              "</table>\n",
              "</div>\n",
              "      <button class=\"colab-df-convert\" onclick=\"convertToInteractive('df-74429786-c79a-46c1-baeb-2c86acbb0386')\"\n",
              "              title=\"Convert this dataframe to an interactive table.\"\n",
              "              style=\"display:none;\">\n",
              "        \n",
              "  <svg xmlns=\"http://www.w3.org/2000/svg\" height=\"24px\"viewBox=\"0 0 24 24\"\n",
              "       width=\"24px\">\n",
              "    <path d=\"M0 0h24v24H0V0z\" fill=\"none\"/>\n",
              "    <path d=\"M18.56 5.44l.94 2.06.94-2.06 2.06-.94-2.06-.94-.94-2.06-.94 2.06-2.06.94zm-11 1L8.5 8.5l.94-2.06 2.06-.94-2.06-.94L8.5 2.5l-.94 2.06-2.06.94zm10 10l.94 2.06.94-2.06 2.06-.94-2.06-.94-.94-2.06-.94 2.06-2.06.94z\"/><path d=\"M17.41 7.96l-1.37-1.37c-.4-.4-.92-.59-1.43-.59-.52 0-1.04.2-1.43.59L10.3 9.45l-7.72 7.72c-.78.78-.78 2.05 0 2.83L4 21.41c.39.39.9.59 1.41.59.51 0 1.02-.2 1.41-.59l7.78-7.78 2.81-2.81c.8-.78.8-2.07 0-2.86zM5.41 20L4 18.59l7.72-7.72 1.47 1.35L5.41 20z\"/>\n",
              "  </svg>\n",
              "      </button>\n",
              "      \n",
              "  <style>\n",
              "    .colab-df-container {\n",
              "      display:flex;\n",
              "      flex-wrap:wrap;\n",
              "      gap: 12px;\n",
              "    }\n",
              "\n",
              "    .colab-df-convert {\n",
              "      background-color: #E8F0FE;\n",
              "      border: none;\n",
              "      border-radius: 50%;\n",
              "      cursor: pointer;\n",
              "      display: none;\n",
              "      fill: #1967D2;\n",
              "      height: 32px;\n",
              "      padding: 0 0 0 0;\n",
              "      width: 32px;\n",
              "    }\n",
              "\n",
              "    .colab-df-convert:hover {\n",
              "      background-color: #E2EBFA;\n",
              "      box-shadow: 0px 1px 2px rgba(60, 64, 67, 0.3), 0px 1px 3px 1px rgba(60, 64, 67, 0.15);\n",
              "      fill: #174EA6;\n",
              "    }\n",
              "\n",
              "    [theme=dark] .colab-df-convert {\n",
              "      background-color: #3B4455;\n",
              "      fill: #D2E3FC;\n",
              "    }\n",
              "\n",
              "    [theme=dark] .colab-df-convert:hover {\n",
              "      background-color: #434B5C;\n",
              "      box-shadow: 0px 1px 3px 1px rgba(0, 0, 0, 0.15);\n",
              "      filter: drop-shadow(0px 1px 2px rgba(0, 0, 0, 0.3));\n",
              "      fill: #FFFFFF;\n",
              "    }\n",
              "  </style>\n",
              "\n",
              "      <script>\n",
              "        const buttonEl =\n",
              "          document.querySelector('#df-74429786-c79a-46c1-baeb-2c86acbb0386 button.colab-df-convert');\n",
              "        buttonEl.style.display =\n",
              "          google.colab.kernel.accessAllowed ? 'block' : 'none';\n",
              "\n",
              "        async function convertToInteractive(key) {\n",
              "          const element = document.querySelector('#df-74429786-c79a-46c1-baeb-2c86acbb0386');\n",
              "          const dataTable =\n",
              "            await google.colab.kernel.invokeFunction('convertToInteractive',\n",
              "                                                     [key], {});\n",
              "          if (!dataTable) return;\n",
              "\n",
              "          const docLinkHtml = 'Like what you see? Visit the ' +\n",
              "            '<a target=\"_blank\" href=https://colab.research.google.com/notebooks/data_table.ipynb>data table notebook</a>'\n",
              "            + ' to learn more about interactive tables.';\n",
              "          element.innerHTML = '';\n",
              "          dataTable['output_type'] = 'display_data';\n",
              "          await google.colab.output.renderOutput(dataTable, element);\n",
              "          const docLink = document.createElement('div');\n",
              "          docLink.innerHTML = docLinkHtml;\n",
              "          element.appendChild(docLink);\n",
              "        }\n",
              "      </script>\n",
              "    </div>\n",
              "  </div>\n",
              "  "
            ]
          },
          "metadata": {},
          "execution_count": 5
        }
      ]
    },
    {
      "cell_type": "markdown",
      "source": [
        "#### Задание 2 \n",
        "Визуализируйте котировки акции (столбец `Adj Close`) за весь период на графике. Подпишите оси и рисунок."
      ],
      "metadata": {
        "id": "_lz_pfPuF2Vr"
      }
    },
    {
      "cell_type": "code",
      "source": [
        "ford['Adj Close'].plot.line(ylabel='Adjusted Closing Price', grid=True, figsize = (11, 7), title='Котировки акций компании Ford Motor Company в 2020-2021 гг.');"
      ],
      "metadata": {
        "colab": {
          "base_uri": "https://localhost:8080/",
          "height": 440
        },
        "id": "e9lapdnjF69V",
        "outputId": "51faada7-2690-4221-d460-b1922ebca7db"
      },
      "execution_count": 6,
      "outputs": [
        {
          "output_type": "display_data",
          "data": {
            "text/plain": [
              "<Figure size 792x504 with 1 Axes>"
            ],
            "image/png": "[encoded data removed]"
          },
          "metadata": {
            "needs_background": "light"
          }
        }
      ]
    },
    {
      "cell_type": "markdown",
      "source": [
        "#### Задание 3. \n",
        "Вычислите и визуализируйте показатель акции заданный в индивидуальном задании.\n",
        "\n",
        "Показатель акции: дневной доход, способ визуализации – эмпирическая CDF "
      ],
      "metadata": {
        "id": "jmMQT5HIIVS-"
      }
    },
    {
      "cell_type": "code",
      "source": [
        "d_close = ford[['Adj Close']]\n",
        "d_close"
      ],
      "metadata": {
        "colab": {
          "base_uri": "https://localhost:8080/",
          "height": 455
        },
        "id": "D_5aJZA3IgQx",
        "outputId": "88a5902f-74e5-4f06-ac00-c883d991c4ca"
      },
      "execution_count": 7,
      "outputs": [
        {
          "output_type": "execute_result",
          "data": {
            "text/plain": [
              "            Adj Close\n",
              "Date                 \n",
              "2020-01-02   9.108328\n",
              "2020-01-03   8.905277\n",
              "2020-01-06   8.856931\n",
              "2020-01-07   8.943952\n",
              "2020-01-08   8.943952\n",
              "...               ...\n",
              "2021-12-27  20.556833\n",
              "2021-12-28  20.517302\n",
              "2021-12-29  20.319639\n",
              "2021-12-30  20.230692\n",
              "2021-12-31  20.527185\n",
              "\n",
              "[505 rows x 1 columns]"
            ],
            "text/html": [
              "\n",
              "  <div id=\"df-12aa17b7-05a5-42f8-92bf-399348f1ca57\">\n",
              "    <div class=\"colab-df-container\">\n",
              "      <div>\n",
              "<style scoped>\n",
              "    .dataframe tbody tr th:only-of-type {\n",
              "        vertical-align: middle;\n",
              "    }\n",
              "\n",
              "    .dataframe tbody tr th {\n",
              "        vertical-align: top;\n",
              "    }\n",
              "\n",
              "    .dataframe thead th {\n",
              "        text-align: right;\n",
              "    }\n",
              "</style>\n",
              "<table border=\"1\" class=\"dataframe\">\n",
              "  <thead>\n",
              "    <tr style=\"text-align: right;\">\n",
              "      <th></th>\n",
              "      <th>Adj Close</th>\n",
              "    </tr>\n",
              "    <tr>\n",
              "      <th>Date</th>\n",
              "      <th></th>\n",
              "    </tr>\n",
              "  </thead>\n",
              "  <tbody>\n",
              "    <tr>\n",
              "      <th>2020-01-02</th>\n",
              "      <td>9.108328</td>\n",
              "    </tr>\n",
              "    <tr>\n",
              "      <th>2020-01-03</th>\n",
              "      <td>8.905277</td>\n",
              "    </tr>\n",
              "    <tr>\n",
              "      <th>2020-01-06</th>\n",
              "      <td>8.856931</td>\n",
              "    </tr>\n",
              "    <tr>\n",
              "      <th>2020-01-07</th>\n",
              "      <td>8.943952</td>\n",
              "    </tr>\n",
              "    <tr>\n",
              "      <th>2020-01-08</th>\n",
              "      <td>8.943952</td>\n",
              "    </tr>\n",
              "    <tr>\n",
              "      <th>...</th>\n",
              "      <td>...</td>\n",
              "    </tr>\n",
              "    <tr>\n",
              "      <th>2021-12-27</th>\n",
              "      <td>20.556833</td>\n",
              "    </tr>\n",
              "    <tr>\n",
              "      <th>2021-12-28</th>\n",
              "      <td>20.517302</td>\n",
              "    </tr>\n",
              "    <tr>\n",
              "      <th>2021-12-29</th>\n",
              "      <td>20.319639</td>\n",
              "    </tr>\n",
              "    <tr>\n",
              "      <th>2021-12-30</th>\n",
              "      <td>20.230692</td>\n",
              "    </tr>\n",
              "    <tr>\n",
              "      <th>2021-12-31</th>\n",
              "      <td>20.527185</td>\n",
              "    </tr>\n",
              "  </tbody>\n",
              "</table>\n",
              "<p>505 rows × 1 columns</p>\n",
              "</div>\n",
              "      <button class=\"colab-df-convert\" onclick=\"convertToInteractive('df-12aa17b7-05a5-42f8-92bf-399348f1ca57')\"\n",
              "              title=\"Convert this dataframe to an interactive table.\"\n",
              "              style=\"display:none;\">\n",
              "        \n",
              "  <svg xmlns=\"http://www.w3.org/2000/svg\" height=\"24px\"viewBox=\"0 0 24 24\"\n",
              "       width=\"24px\">\n",
              "    <path d=\"M0 0h24v24H0V0z\" fill=\"none\"/>\n",
              "    <path d=\"M18.56 5.44l.94 2.06.94-2.06 2.06-.94-2.06-.94-.94-2.06-.94 2.06-2.06.94zm-11 1L8.5 8.5l.94-2.06 2.06-.94-2.06-.94L8.5 2.5l-.94 2.06-2.06.94zm10 10l.94 2.06.94-2.06 2.06-.94-2.06-.94-.94-2.06-.94 2.06-2.06.94z\"/><path d=\"M17.41 7.96l-1.37-1.37c-.4-.4-.92-.59-1.43-.59-.52 0-1.04.2-1.43.59L10.3 9.45l-7.72 7.72c-.78.78-.78 2.05 0 2.83L4 21.41c.39.39.9.59 1.41.59.51 0 1.02-.2 1.41-.59l7.78-7.78 2.81-2.81c.8-.78.8-2.07 0-2.86zM5.41 20L4 18.59l7.72-7.72 1.47 1.35L5.41 20z\"/>\n",
              "  </svg>\n",
              "      </button>\n",
              "      \n",
              "  <style>\n",
              "    .colab-df-container {\n",
              "      display:flex;\n",
              "      flex-wrap:wrap;\n",
              "      gap: 12px;\n",
              "    }\n",
              "\n",
              "    .colab-df-convert {\n",
              "      background-color: #E8F0FE;\n",
              "      border: none;\n",
              "      border-radius: 50%;\n",
              "      cursor: pointer;\n",
              "      display: none;\n",
              "      fill: #1967D2;\n",
              "      height: 32px;\n",
              "      padding: 0 0 0 0;\n",
              "      width: 32px;\n",
              "    }\n",
              "\n",
              "    .colab-df-convert:hover {\n",
              "      background-color: #E2EBFA;\n",
              "      box-shadow: 0px 1px 2px rgba(60, 64, 67, 0.3), 0px 1px 3px 1px rgba(60, 64, 67, 0.15);\n",
              "      fill: #174EA6;\n",
              "    }\n",
              "\n",
              "    [theme=dark] .colab-df-convert {\n",
              "      background-color: #3B4455;\n",
              "      fill: #D2E3FC;\n",
              "    }\n",
              "\n",
              "    [theme=dark] .colab-df-convert:hover {\n",
              "      background-color: #434B5C;\n",
              "      box-shadow: 0px 1px 3px 1px rgba(0, 0, 0, 0.15);\n",
              "      filter: drop-shadow(0px 1px 2px rgba(0, 0, 0, 0.3));\n",
              "      fill: #FFFFFF;\n",
              "    }\n",
              "  </style>\n",
              "\n",
              "      <script>\n",
              "        const buttonEl =\n",
              "          document.querySelector('#df-12aa17b7-05a5-42f8-92bf-399348f1ca57 button.colab-df-convert');\n",
              "        buttonEl.style.display =\n",
              "          google.colab.kernel.accessAllowed ? 'block' : 'none';\n",
              "\n",
              "        async function convertToInteractive(key) {\n",
              "          const element = document.querySelector('#df-12aa17b7-05a5-42f8-92bf-399348f1ca57');\n",
              "          const dataTable =\n",
              "            await google.colab.kernel.invokeFunction('convertToInteractive',\n",
              "                                                     [key], {});\n",
              "          if (!dataTable) return;\n",
              "\n",
              "          const docLinkHtml = 'Like what you see? Visit the ' +\n",
              "            '<a target=\"_blank\" href=https://colab.research.google.com/notebooks/data_table.ipynb>data table notebook</a>'\n",
              "            + ' to learn more about interactive tables.';\n",
              "          element.innerHTML = '';\n",
              "          dataTable['output_type'] = 'display_data';\n",
              "          await google.colab.output.renderOutput(dataTable, element);\n",
              "          const docLink = document.createElement('div');\n",
              "          docLink.innerHTML = docLinkHtml;\n",
              "          element.appendChild(docLink);\n",
              "        }\n",
              "      </script>\n",
              "    </div>\n",
              "  </div>\n",
              "  "
            ]
          },
          "metadata": {},
          "execution_count": 7
        }
      ]
    },
    {
      "cell_type": "markdown",
      "source": [
        "__Дневной доход__ по акции равен разности текущей цены акции и цены предыдущего дня.  \n",
        "Создадим функцию реализующую подсчет дневного дохода:"
      ],
      "metadata": {
        "id": "GYmqCKlibzJ8"
      }
    },
    {
      "cell_type": "code",
      "source": [
        "def daily_return(prices):\n",
        "    return prices - prices.shift(1)"
      ],
      "metadata": {
        "id": "1aU-Bktac5AX"
      },
      "execution_count": 8,
      "outputs": []
    },
    {
      "cell_type": "markdown",
      "source": [
        "Подсчитаем дневной доход для каждого дня. Для первого дня установим значения в 0."
      ],
      "metadata": {
        "id": "9QIsiODE0Wyr"
      }
    },
    {
      "cell_type": "code",
      "source": [
        "d_r = daily_return(d_close)\n",
        "d_r.fillna(0, inplace=True)\n",
        "d_r"
      ],
      "metadata": {
        "colab": {
          "base_uri": "https://localhost:8080/",
          "height": 455
        },
        "id": "ZDE8fztslF9x",
        "outputId": "5dbb5d9f-fbd4-45ce-dda8-7387693598c0"
      },
      "execution_count": 9,
      "outputs": [
        {
          "output_type": "execute_result",
          "data": {
            "text/plain": [
              "            Adj Close\n",
              "Date                 \n",
              "2020-01-02   0.000000\n",
              "2020-01-03  -0.203051\n",
              "2020-01-06  -0.048347\n",
              "2020-01-07   0.087021\n",
              "2020-01-08   0.000000\n",
              "...               ...\n",
              "2021-12-27   0.543570\n",
              "2021-12-28  -0.039532\n",
              "2021-12-29  -0.197662\n",
              "2021-12-30  -0.088947\n",
              "2021-12-31   0.296494\n",
              "\n",
              "[505 rows x 1 columns]"
            ],
            "text/html": [
              "\n",
              "  <div id=\"df-a45ceac0-2ba6-464e-a230-e34d9b6fa8ca\">\n",
              "    <div class=\"colab-df-container\">\n",
              "      <div>\n",
              "<style scoped>\n",
              "    .dataframe tbody tr th:only-of-type {\n",
              "        vertical-align: middle;\n",
              "    }\n",
              "\n",
              "    .dataframe tbody tr th {\n",
              "        vertical-align: top;\n",
              "    }\n",
              "\n",
              "    .dataframe thead th {\n",
              "        text-align: right;\n",
              "    }\n",
              "</style>\n",
              "<table border=\"1\" class=\"dataframe\">\n",
              "  <thead>\n",
              "    <tr style=\"text-align: right;\">\n",
              "      <th></th>\n",
              "      <th>Adj Close</th>\n",
              "    </tr>\n",
              "    <tr>\n",
              "      <th>Date</th>\n",
              "      <th></th>\n",
              "    </tr>\n",
              "  </thead>\n",
              "  <tbody>\n",
              "    <tr>\n",
              "      <th>2020-01-02</th>\n",
              "      <td>0.000000</td>\n",
              "    </tr>\n",
              "    <tr>\n",
              "      <th>2020-01-03</th>\n",
              "      <td>-0.203051</td>\n",
              "    </tr>\n",
              "    <tr>\n",
              "      <th>2020-01-06</th>\n",
              "      <td>-0.048347</td>\n",
              "    </tr>\n",
              "    <tr>\n",
              "      <th>2020-01-07</th>\n",
              "      <td>0.087021</td>\n",
              "    </tr>\n",
              "    <tr>\n",
              "      <th>2020-01-08</th>\n",
              "      <td>0.000000</td>\n",
              "    </tr>\n",
              "    <tr>\n",
              "      <th>...</th>\n",
              "      <td>...</td>\n",
              "    </tr>\n",
              "    <tr>\n",
              "      <th>2021-12-27</th>\n",
              "      <td>0.543570</td>\n",
              "    </tr>\n",
              "    <tr>\n",
              "      <th>2021-12-28</th>\n",
              "      <td>-0.039532</td>\n",
              "    </tr>\n",
              "    <tr>\n",
              "      <th>2021-12-29</th>\n",
              "      <td>-0.197662</td>\n",
              "    </tr>\n",
              "    <tr>\n",
              "      <th>2021-12-30</th>\n",
              "      <td>-0.088947</td>\n",
              "    </tr>\n",
              "    <tr>\n",
              "      <th>2021-12-31</th>\n",
              "      <td>0.296494</td>\n",
              "    </tr>\n",
              "  </tbody>\n",
              "</table>\n",
              "<p>505 rows × 1 columns</p>\n",
              "</div>\n",
              "      <button class=\"colab-df-convert\" onclick=\"convertToInteractive('df-a45ceac0-2ba6-464e-a230-e34d9b6fa8ca')\"\n",
              "              title=\"Convert this dataframe to an interactive table.\"\n",
              "              style=\"display:none;\">\n",
              "        \n",
              "  <svg xmlns=\"http://www.w3.org/2000/svg\" height=\"24px\"viewBox=\"0 0 24 24\"\n",
              "       width=\"24px\">\n",
              "    <path d=\"M0 0h24v24H0V0z\" fill=\"none\"/>\n",
              "    <path d=\"M18.56 5.44l.94 2.06.94-2.06 2.06-.94-2.06-.94-.94-2.06-.94 2.06-2.06.94zm-11 1L8.5 8.5l.94-2.06 2.06-.94-2.06-.94L8.5 2.5l-.94 2.06-2.06.94zm10 10l.94 2.06.94-2.06 2.06-.94-2.06-.94-.94-2.06-.94 2.06-2.06.94z\"/><path d=\"M17.41 7.96l-1.37-1.37c-.4-.4-.92-.59-1.43-.59-.52 0-1.04.2-1.43.59L10.3 9.45l-7.72 7.72c-.78.78-.78 2.05 0 2.83L4 21.41c.39.39.9.59 1.41.59.51 0 1.02-.2 1.41-.59l7.78-7.78 2.81-2.81c.8-.78.8-2.07 0-2.86zM5.41 20L4 18.59l7.72-7.72 1.47 1.35L5.41 20z\"/>\n",
              "  </svg>\n",
              "      </button>\n",
              "      \n",
              "  <style>\n",
              "    .colab-df-container {\n",
              "      display:flex;\n",
              "      flex-wrap:wrap;\n",
              "      gap: 12px;\n",
              "    }\n",
              "\n",
              "    .colab-df-convert {\n",
              "      background-color: #E8F0FE;\n",
              "      border: none;\n",
              "      border-radius: 50%;\n",
              "      cursor: pointer;\n",
              "      display: none;\n",
              "      fill: #1967D2;\n",
              "      height: 32px;\n",
              "      padding: 0 0 0 0;\n",
              "      width: 32px;\n",
              "    }\n",
              "\n",
              "    .colab-df-convert:hover {\n",
              "      background-color: #E2EBFA;\n",
              "      box-shadow: 0px 1px 2px rgba(60, 64, 67, 0.3), 0px 1px 3px 1px rgba(60, 64, 67, 0.15);\n",
              "      fill: #174EA6;\n",
              "    }\n",
              "\n",
              "    [theme=dark] .colab-df-convert {\n",
              "      background-color: #3B4455;\n",
              "      fill: #D2E3FC;\n",
              "    }\n",
              "\n",
              "    [theme=dark] .colab-df-convert:hover {\n",
              "      background-color: #434B5C;\n",
              "      box-shadow: 0px 1px 3px 1px rgba(0, 0, 0, 0.15);\n",
              "      filter: drop-shadow(0px 1px 2px rgba(0, 0, 0, 0.3));\n",
              "      fill: #FFFFFF;\n",
              "    }\n",
              "  </style>\n",
              "\n",
              "      <script>\n",
              "        const buttonEl =\n",
              "          document.querySelector('#df-a45ceac0-2ba6-464e-a230-e34d9b6fa8ca button.colab-df-convert');\n",
              "        buttonEl.style.display =\n",
              "          google.colab.kernel.accessAllowed ? 'block' : 'none';\n",
              "\n",
              "        async function convertToInteractive(key) {\n",
              "          const element = document.querySelector('#df-a45ceac0-2ba6-464e-a230-e34d9b6fa8ca');\n",
              "          const dataTable =\n",
              "            await google.colab.kernel.invokeFunction('convertToInteractive',\n",
              "                                                     [key], {});\n",
              "          if (!dataTable) return;\n",
              "\n",
              "          const docLinkHtml = 'Like what you see? Visit the ' +\n",
              "            '<a target=\"_blank\" href=https://colab.research.google.com/notebooks/data_table.ipynb>data table notebook</a>'\n",
              "            + ' to learn more about interactive tables.';\n",
              "          element.innerHTML = '';\n",
              "          dataTable['output_type'] = 'display_data';\n",
              "          await google.colab.output.renderOutput(dataTable, element);\n",
              "          const docLink = document.createElement('div');\n",
              "          docLink.innerHTML = docLinkHtml;\n",
              "          element.appendChild(docLink);\n",
              "        }\n",
              "      </script>\n",
              "    </div>\n",
              "  </div>\n",
              "  "
            ]
          },
          "metadata": {},
          "execution_count": 9
        }
      ]
    },
    {
      "cell_type": "markdown",
      "source": [
        "Эмпирическая функция распределения:"
      ],
      "metadata": {
        "id": "LgVXL6YHRlfT"
      }
    },
    {
      "cell_type": "code",
      "source": [
        "def ECDF(data, x):\n",
        "    counter = 0\n",
        "    for v in data:\n",
        "        if v <= x:\n",
        "            counter += 1\n",
        "    return counter / len(data)"
      ],
      "metadata": {
        "id": "FHNd51SgOr5T"
      },
      "execution_count": 10,
      "outputs": []
    },
    {
      "cell_type": "code",
      "source": [
        "prices = d_r['Adj Close']\n",
        "npoints = 1000\n",
        "dx = (prices.max()-prices.min())/npoints\n",
        "\n",
        "xlist = [prices.min()+dx*i for i in range(npoints)]\n",
        "ylist = [ECDF(prices, x) for x in xlist]"
      ],
      "metadata": {
        "id": "8KBhPcVBOsoy"
      },
      "execution_count": 11,
      "outputs": []
    },
    {
      "cell_type": "markdown",
      "source": [
        "Итоговое распределение:"
      ],
      "metadata": {
        "id": "gj8xb1Au0nmh"
      }
    },
    {
      "cell_type": "code",
      "source": [
        "df_ECDF = pd.DataFrame(ylist, columns=['Распределение'], index=xlist)\n",
        "df_ECDF"
      ],
      "metadata": {
        "colab": {
          "base_uri": "https://localhost:8080/",
          "height": 424
        },
        "id": "fsttTu1NOwzg",
        "outputId": "71473ddb-601e-4761-f2d2-7ba22b2e3ac3"
      },
      "execution_count": 12,
      "outputs": [
        {
          "output_type": "execute_result",
          "data": {
            "text/plain": [
              "           Распределение\n",
              "-1.150530        0.00198\n",
              "-1.147521        0.00198\n",
              "-1.144513        0.00198\n",
              "-1.141504        0.00198\n",
              "-1.138496        0.00198\n",
              "...                  ...\n",
              " 1.842980        0.99802\n",
              " 1.845988        0.99802\n",
              " 1.848997        0.99802\n",
              " 1.852006        0.99802\n",
              " 1.855014        0.99802\n",
              "\n",
              "[1000 rows x 1 columns]"
            ],
            "text/html": [
              "\n",
              "  <div id=\"df-102b9a7f-57fd-4f71-8af0-3161c09ebca0\">\n",
              "    <div class=\"colab-df-container\">\n",
              "      <div>\n",
              "<style scoped>\n",
              "    .dataframe tbody tr th:only-of-type {\n",
              "        vertical-align: middle;\n",
              "    }\n",
              "\n",
              "    .dataframe tbody tr th {\n",
              "        vertical-align: top;\n",
              "    }\n",
              "\n",
              "    .dataframe thead th {\n",
              "        text-align: right;\n",
              "    }\n",
              "</style>\n",
              "<table border=\"1\" class=\"dataframe\">\n",
              "  <thead>\n",
              "    <tr style=\"text-align: right;\">\n",
              "      <th></th>\n",
              "      <th>Распределение</th>\n",
              "    </tr>\n",
              "  </thead>\n",
              "  <tbody>\n",
              "    <tr>\n",
              "      <th>-1.150530</th>\n",
              "      <td>0.00198</td>\n",
              "    </tr>\n",
              "    <tr>\n",
              "      <th>-1.147521</th>\n",
              "      <td>0.00198</td>\n",
              "    </tr>\n",
              "    <tr>\n",
              "      <th>-1.144513</th>\n",
              "      <td>0.00198</td>\n",
              "    </tr>\n",
              "    <tr>\n",
              "      <th>-1.141504</th>\n",
              "      <td>0.00198</td>\n",
              "    </tr>\n",
              "    <tr>\n",
              "      <th>-1.138496</th>\n",
              "      <td>0.00198</td>\n",
              "    </tr>\n",
              "    <tr>\n",
              "      <th>...</th>\n",
              "      <td>...</td>\n",
              "    </tr>\n",
              "    <tr>\n",
              "      <th>1.842980</th>\n",
              "      <td>0.99802</td>\n",
              "    </tr>\n",
              "    <tr>\n",
              "      <th>1.845988</th>\n",
              "      <td>0.99802</td>\n",
              "    </tr>\n",
              "    <tr>\n",
              "      <th>1.848997</th>\n",
              "      <td>0.99802</td>\n",
              "    </tr>\n",
              "    <tr>\n",
              "      <th>1.852006</th>\n",
              "      <td>0.99802</td>\n",
              "    </tr>\n",
              "    <tr>\n",
              "      <th>1.855014</th>\n",
              "      <td>0.99802</td>\n",
              "    </tr>\n",
              "  </tbody>\n",
              "</table>\n",
              "<p>1000 rows × 1 columns</p>\n",
              "</div>\n",
              "      <button class=\"colab-df-convert\" onclick=\"convertToInteractive('df-102b9a7f-57fd-4f71-8af0-3161c09ebca0')\"\n",
              "              title=\"Convert this dataframe to an interactive table.\"\n",
              "              style=\"display:none;\">\n",
              "        \n",
              "  <svg xmlns=\"http://www.w3.org/2000/svg\" height=\"24px\"viewBox=\"0 0 24 24\"\n",
              "       width=\"24px\">\n",
              "    <path d=\"M0 0h24v24H0V0z\" fill=\"none\"/>\n",
              "    <path d=\"M18.56 5.44l.94 2.06.94-2.06 2.06-.94-2.06-.94-.94-2.06-.94 2.06-2.06.94zm-11 1L8.5 8.5l.94-2.06 2.06-.94-2.06-.94L8.5 2.5l-.94 2.06-2.06.94zm10 10l.94 2.06.94-2.06 2.06-.94-2.06-.94-.94-2.06-.94 2.06-2.06.94z\"/><path d=\"M17.41 7.96l-1.37-1.37c-.4-.4-.92-.59-1.43-.59-.52 0-1.04.2-1.43.59L10.3 9.45l-7.72 7.72c-.78.78-.78 2.05 0 2.83L4 21.41c.39.39.9.59 1.41.59.51 0 1.02-.2 1.41-.59l7.78-7.78 2.81-2.81c.8-.78.8-2.07 0-2.86zM5.41 20L4 18.59l7.72-7.72 1.47 1.35L5.41 20z\"/>\n",
              "  </svg>\n",
              "      </button>\n",
              "      \n",
              "  <style>\n",
              "    .colab-df-container {\n",
              "      display:flex;\n",
              "      flex-wrap:wrap;\n",
              "      gap: 12px;\n",
              "    }\n",
              "\n",
              "    .colab-df-convert {\n",
              "      background-color: #E8F0FE;\n",
              "      border: none;\n",
              "      border-radius: 50%;\n",
              "      cursor: pointer;\n",
              "      display: none;\n",
              "      fill: #1967D2;\n",
              "      height: 32px;\n",
              "      padding: 0 0 0 0;\n",
              "      width: 32px;\n",
              "    }\n",
              "\n",
              "    .colab-df-convert:hover {\n",
              "      background-color: #E2EBFA;\n",
              "      box-shadow: 0px 1px 2px rgba(60, 64, 67, 0.3), 0px 1px 3px 1px rgba(60, 64, 67, 0.15);\n",
              "      fill: #174EA6;\n",
              "    }\n",
              "\n",
              "    [theme=dark] .colab-df-convert {\n",
              "      background-color: #3B4455;\n",
              "      fill: #D2E3FC;\n",
              "    }\n",
              "\n",
              "    [theme=dark] .colab-df-convert:hover {\n",
              "      background-color: #434B5C;\n",
              "      box-shadow: 0px 1px 3px 1px rgba(0, 0, 0, 0.15);\n",
              "      filter: drop-shadow(0px 1px 2px rgba(0, 0, 0, 0.3));\n",
              "      fill: #FFFFFF;\n",
              "    }\n",
              "  </style>\n",
              "\n",
              "      <script>\n",
              "        const buttonEl =\n",
              "          document.querySelector('#df-102b9a7f-57fd-4f71-8af0-3161c09ebca0 button.colab-df-convert');\n",
              "        buttonEl.style.display =\n",
              "          google.colab.kernel.accessAllowed ? 'block' : 'none';\n",
              "\n",
              "        async function convertToInteractive(key) {\n",
              "          const element = document.querySelector('#df-102b9a7f-57fd-4f71-8af0-3161c09ebca0');\n",
              "          const dataTable =\n",
              "            await google.colab.kernel.invokeFunction('convertToInteractive',\n",
              "                                                     [key], {});\n",
              "          if (!dataTable) return;\n",
              "\n",
              "          const docLinkHtml = 'Like what you see? Visit the ' +\n",
              "            '<a target=\"_blank\" href=https://colab.research.google.com/notebooks/data_table.ipynb>data table notebook</a>'\n",
              "            + ' to learn more about interactive tables.';\n",
              "          element.innerHTML = '';\n",
              "          dataTable['output_type'] = 'display_data';\n",
              "          await google.colab.output.renderOutput(dataTable, element);\n",
              "          const docLink = document.createElement('div');\n",
              "          docLink.innerHTML = docLinkHtml;\n",
              "          element.appendChild(docLink);\n",
              "        }\n",
              "      </script>\n",
              "    </div>\n",
              "  </div>\n",
              "  "
            ]
          },
          "metadata": {},
          "execution_count": 12
        }
      ]
    },
    {
      "cell_type": "markdown",
      "source": [
        "Визуализируем график эмпирической функции распределения:"
      ],
      "metadata": {
        "id": "vnhzEpkw0qen"
      }
    },
    {
      "cell_type": "code",
      "source": [
        "df_ECDF.plot.line(title='График эмпирической функции распределения показателя дневного дохода акции', xlabel=\"x\", ylabel=\"F(x)\", figsize = (11, 7), grid=True);"
      ],
      "metadata": {
        "colab": {
          "base_uri": "https://localhost:8080/",
          "height": 458
        },
        "id": "lk9Y9vA1O0J3",
        "outputId": "0d912c10-1422-49b5-f9c4-5d4f32b99699"
      },
      "execution_count": 13,
      "outputs": [
        {
          "output_type": "display_data",
          "data": {
            "text/plain": [
              "<Figure size 792x504 with 1 Axes>"
            ],
            "image/png": "[encoded data removed]"
          },
          "metadata": {
            "needs_background": "light"
          }
        }
      ]
    },
    {
      "cell_type": "markdown",
      "source": [
        "#### Задание 4\n",
        "Сформируйте обучающую, тестовую и валидационные выборки для обучения нейронной сети в соответствии с индивидуальным заданием.  \n",
        "\n",
        "Прогнозирование стоимости акции через 5 дней по данным за предыдущие 20 дней. "
      ],
      "metadata": {
        "id": "X9a9ckvVtLxZ"
      }
    },
    {
      "cell_type": "code",
      "source": [
        "ford.shape"
      ],
      "metadata": {
        "colab": {
          "base_uri": "https://localhost:8080/"
        },
        "id": "QCUNVHpH3_FB",
        "outputId": "31979fc1-4337-43c4-84e3-180793ae584f"
      },
      "execution_count": 14,
      "outputs": [
        {
          "output_type": "execute_result",
          "data": {
            "text/plain": [
              "(505, 6)"
            ]
          },
          "metadata": {},
          "execution_count": 14
        }
      ]
    },
    {
      "cell_type": "markdown",
      "source": [
        "Используем первые 50% данных в наборе для обучения, следующие 25% для валидации и последние 25% для тестирования. Вычислим количество записей в обучающей, валидационной и тестовой выборках: "
      ],
      "metadata": {
        "id": "v0nT1KK74TiL"
      }
    },
    {
      "cell_type": "code",
      "source": [
        "train_size = int(0.5 * len(ford))\n",
        "val_size = int(0.25 * len(ford))\n",
        "test_size = len(ford) - train_size - val_size\n",
        "print(\"train_size\", train_size)\n",
        "print(\"val_size:\", val_size)\n",
        "print(\"test_size:\", test_size)"
      ],
      "metadata": {
        "colab": {
          "base_uri": "https://localhost:8080/"
        },
        "id": "_UKMI1tVtXXq",
        "outputId": "13fd63d6-af59-4b08-a796-94aff8f6c35c"
      },
      "execution_count": 15,
      "outputs": [
        {
          "output_type": "stream",
          "name": "stdout",
          "text": [
            "train_size 252\n",
            "val_size: 126\n",
            "test_size: 127\n"
          ]
        }
      ]
    },
    {
      "cell_type": "markdown",
      "source": [
        "Используем `timeseries_dataset_from_array()` для создания трех наборов данных (объектов `BatchDataset`) – для обучения, для валидации и для тестирования со следующими значениями параметров:\n",
        "\n",
        "* `sample_rate = 1` — наблюдения будут производиться каждый день;\n",
        "* `sequence_length=20` — наблюдения будут браться за 20 дней;\n",
        "* `delay=sampling_rate*(sequence_length+20-1)` — целью для входной последовательности будет цена через 5 дней после окончания последовательности;\n",
        "\n",
        "При создании набора обучающих данных передадим в функцию аргементы `start_index = 0` и `end_index = train_size`, чтобы использовать только первые 50% данных. Для набора данных валидации передадим в функцию `start_index = train_size` и `end_index = train_ize + val_size`, чтобы использовать следующие 25% данных. Наконец, для тестового набора данных передадим `start_index=train_size+val_size`, чтобы использовать оставшиеся данные."
      ],
      "metadata": {
        "id": "ZknoVJrp1g7n"
      }
    },
    {
      "cell_type": "code",
      "source": [
        "sampling_rate = 1\n",
        "sequence_length = 20\n",
        "delay = sampling_rate * (sequence_length + 5 - 1)\n",
        "batch_size = 64\n",
        "\n",
        "train_dataset = tf.keras.utils.timeseries_dataset_from_array(\n",
        "    ford[:-delay],\n",
        "    targets=prices[delay:],\n",
        "    sampling_rate=sampling_rate,\n",
        "    sequence_length=sequence_length,\n",
        "    shuffle=True,\n",
        "    batch_size=batch_size,\n",
        "    start_index=0,\n",
        "    end_index=train_size)\n",
        "\n",
        "val_dataset = tf.keras.utils.timeseries_dataset_from_array(\n",
        "    ford[:-delay],\n",
        "    targets=prices[delay:],\n",
        "    sampling_rate=sampling_rate,\n",
        "    sequence_length=sequence_length,\n",
        "    shuffle=True,\n",
        "    batch_size=batch_size,\n",
        "    start_index=train_size,\n",
        "    end_index=train_size + val_size)\n",
        "\n",
        "test_dataset = tf.keras.utils.timeseries_dataset_from_array(\n",
        "    ford[:-delay],\n",
        "    targets=prices[delay:],\n",
        "    sampling_rate=sampling_rate,\n",
        "    sequence_length=sequence_length,\n",
        "    shuffle=True,\n",
        "    batch_size=batch_size,\n",
        "    start_index=train_size + val_size)"
      ],
      "metadata": {
        "id": "-eGT8BCD40io"
      },
      "execution_count": 16,
      "outputs": []
    },
    {
      "cell_type": "markdown",
      "source": [
        "Посмотрим на размеры первого пакета:"
      ],
      "metadata": {
        "id": "-TU_MrKb2Vh9"
      }
    },
    {
      "cell_type": "code",
      "source": [
        "for samples, targets in train_dataset:\n",
        "    print(\"Форма признаков:\", samples.shape)\n",
        "    print(\"Форма откликов:\", targets.shape)\n",
        "    break"
      ],
      "metadata": {
        "colab": {
          "base_uri": "https://localhost:8080/"
        },
        "id": "vOCF-_-FrTuN",
        "outputId": "f2e3614c-b0c9-4df0-ede2-d220d47366c9"
      },
      "execution_count": 17,
      "outputs": [
        {
          "output_type": "stream",
          "name": "stdout",
          "text": [
            "Форма признаков: (64, 20, 6)\n",
            "Форма откликов: (64,)\n"
          ]
        }
      ]
    },
    {
      "cell_type": "markdown",
      "source": [
        "#### Задание 5\n",
        "Постройте нейронную сеть MLP с нормализующим слоем и одним плотным скрытым слоем из 16 нейронов для прогнозирования стоимости акции и обучите ее на обучающей выборке. Оцените качество прогнозирования при помощи заданного показателя качества на тестовой выборке.\n",
        "\n",
        "Показатель качества RMSE."
      ],
      "metadata": {
        "id": "s9g8QF-TtXzm"
      }
    },
    {
      "cell_type": "markdown",
      "source": [
        "Создадим нормализующий слой, адаптируем для обучающей выборки:"
      ],
      "metadata": {
        "id": "FY65b2-72kDS"
      }
    },
    {
      "cell_type": "code",
      "source": [
        "normalization_layer = tf.keras.layers.Normalization(axis=None,input_shape=(ford.shape[1],)) \n",
        "normalization_layer.adapt(ford[:train_size])"
      ],
      "metadata": {
        "id": "04syLQKZ5jL4"
      },
      "execution_count": 18,
      "outputs": []
    },
    {
      "cell_type": "markdown",
      "source": [
        "Создадим нейронную сеть MLP с нормализующим слоем и одним плотным скрытым слоем и обучим ее на обучающей выборке:"
      ],
      "metadata": {
        "id": "Ziy1GfNn3Jmu"
      }
    },
    {
      "cell_type": "code",
      "source": [
        "inputs = tf.keras.Input(shape=(sequence_length, ford.shape[-1]))\n",
        "x = normalization_layer(inputs)\n",
        "x = tf.keras.layers.Dense(16, activation=\"relu\")(x)\n",
        "outputs = tf.keras.layers.Dense(1)(x)\n",
        "\n",
        "model_mlp = tf.keras.Model(inputs, outputs)\n",
        "\n",
        "model_mlp.compile(optimizer=\"rmsprop\", loss=\"mse\", metrics=[tf.keras.metrics.RootMeanSquaredError()])\n",
        "history = model_mlp.fit(train_dataset,\n",
        "                    epochs=5,\n",
        "                    validation_data=val_dataset,\n",
        "                   ) "
      ],
      "metadata": {
        "colab": {
          "base_uri": "https://localhost:8080/"
        },
        "id": "f4U9raHAxS3-",
        "outputId": "e55655c9-9857-4596-e200-b04aac9ecbb7"
      },
      "execution_count": 19,
      "outputs": [
        {
          "output_type": "stream",
          "name": "stdout",
          "text": [
            "Epoch 1/5\n",
            "4/4 [==============================] - 1s 92ms/step - loss: 0.0780 - root_mean_squared_error: 0.2829 - val_loss: 0.1432 - val_root_mean_squared_error: 0.3811\n",
            "Epoch 2/5\n",
            "4/4 [==============================] - 0s 36ms/step - loss: 0.0560 - root_mean_squared_error: 0.2340 - val_loss: 0.1304 - val_root_mean_squared_error: 0.3663\n",
            "Epoch 3/5\n",
            "4/4 [==============================] - 0s 29ms/step - loss: 0.0509 - root_mean_squared_error: 0.2242 - val_loss: 0.1241 - val_root_mean_squared_error: 0.3627\n",
            "Epoch 4/5\n",
            "4/4 [==============================] - 0s 33ms/step - loss: 0.0488 - root_mean_squared_error: 0.2217 - val_loss: 0.1224 - val_root_mean_squared_error: 0.3441\n",
            "Epoch 5/5\n",
            "4/4 [==============================] - 0s 30ms/step - loss: 0.0485 - root_mean_squared_error: 0.2225 - val_loss: 0.1220 - val_root_mean_squared_error: 0.3551\n"
          ]
        }
      ]
    },
    {
      "cell_type": "code",
      "source": [
        "print(f\"RMSE на тестовом наборе: {model_mlp.evaluate(test_dataset)[1]:.2f}\")"
      ],
      "metadata": {
        "colab": {
          "base_uri": "https://localhost:8080/"
        },
        "id": "pBrJCMmLyckX",
        "outputId": "32bc5a46-401d-483d-d919-f7773bd7f362"
      },
      "execution_count": 20,
      "outputs": [
        {
          "output_type": "stream",
          "name": "stdout",
          "text": [
            "2/2 [==============================] - 0s 9ms/step - loss: 0.1468 - root_mean_squared_error: 0.4010\n",
            "RMSE на тестовом наборе: 0.40\n"
          ]
        }
      ]
    },
    {
      "cell_type": "code",
      "source": [
        "model_mlp.summary()"
      ],
      "metadata": {
        "colab": {
          "base_uri": "https://localhost:8080/"
        },
        "id": "TZq_IjzgecVY",
        "outputId": "d5546602-2421-4a1e-e340-51c72cdec451"
      },
      "execution_count": 21,
      "outputs": [
        {
          "output_type": "stream",
          "name": "stdout",
          "text": [
            "Model: \"model\"\n",
            "_________________________________________________________________\n",
            " Layer (type)                Output Shape              Param #   \n",
            "=================================================================\n",
            " input_1 (InputLayer)        [(None, 20, 6)]           0         \n",
            "                                                                 \n",
            " normalization (Normalizatio  (None, 20, 6)            3         \n",
            " n)                                                              \n",
            "                                                                 \n",
            " dense (Dense)               (None, 20, 16)            112       \n",
            "                                                                 \n",
            " dense_1 (Dense)             (None, 20, 1)             17        \n",
            "                                                                 \n",
            "=================================================================\n",
            "Total params: 132\n",
            "Trainable params: 129\n",
            "Non-trainable params: 3\n",
            "_________________________________________________________________\n"
          ]
        }
      ]
    },
    {
      "cell_type": "markdown",
      "source": [
        "Создадим переменные необходимые для будущей визуализации получившихся данных:"
      ],
      "metadata": {
        "id": "Sh6vTlCFDNgZ"
      }
    },
    {
      "cell_type": "code",
      "source": [
        "loss_mlp = np.true_divide(history.history[\"root_mean_squared_error\"], history.history[\"root_mean_squared_error\"][0])\n",
        "val_loss_mlp = np.true_divide(history.history[\"val_root_mean_squared_error\"], history.history[\"val_root_mean_squared_error\"][0])"
      ],
      "metadata": {
        "id": "8iOxGGlPDC-6"
      },
      "execution_count": 22,
      "outputs": []
    },
    {
      "cell_type": "code",
      "source": [
        "trainPredict_mlp = model_mlp.predict(train_dataset)\n",
        "testPredict_mlp = model_mlp.predict(test_dataset)"
      ],
      "metadata": {
        "id": "E67zhgQtwyl5"
      },
      "execution_count": 23,
      "outputs": []
    },
    {
      "cell_type": "markdown",
      "source": [
        "#### Задание 6\n",
        "Примените указанную в индивидуальном задании технику решения проблемы исчезающих градиентов и постройте нейронную сеть MLP с нормализующим слоем и тремя плотными скрытыми слоями из 16 нейронов для прогнозирования стоимости акции и обучите ее на обучающей выборке. Оцените качество прогнозирования при помощи заданного показателя качества для тестовой выборки.\n",
        "\n",
        "Техника борьбы с исчезающими градиентами: пакетная нормализация"
      ],
      "metadata": {
        "id": "82MUjEw9tdDR"
      }
    },
    {
      "cell_type": "code",
      "source": [
        "inputs = tf.keras.Input(shape=(sequence_length, ford.shape[-1]))\n",
        "x = normalization_layer(inputs)\n",
        "x = tf.keras.layers.Dense(16, activation=\"relu\")(x)\n",
        "x = tf.keras.layers.BatchNormalization()(x)\n",
        "x = tf.keras.layers.Dense(16, activation=\"relu\")(x)\n",
        "x = tf.keras.layers.BatchNormalization()(x)\n",
        "x = tf.keras.layers.Dense(16, activation=\"relu\")(x)\n",
        "x = tf.keras.layers.BatchNormalization()(x)\n",
        "outputs = tf.keras.layers.Dense(1)(x)\n",
        "\n",
        "model_mlp_2 = tf.keras.Model(inputs, outputs)\n",
        "\n",
        "model_mlp_2.compile(optimizer=\"rmsprop\", loss=\"mse\", metrics=[tf.keras.metrics.RootMeanSquaredError()])\n",
        "history = model_mlp_2.fit(train_dataset,\n",
        "                    epochs=5,\n",
        "                    validation_data=val_dataset,\n",
        "                   ) "
      ],
      "metadata": {
        "colab": {
          "base_uri": "https://localhost:8080/"
        },
        "id": "Z88BveyN6HV1",
        "outputId": "c26d6087-eab6-4b1c-c6ba-5a10f62ebb7b"
      },
      "execution_count": 24,
      "outputs": [
        {
          "output_type": "stream",
          "name": "stdout",
          "text": [
            "Epoch 1/5\n",
            "4/4 [==============================] - 4s 207ms/step - loss: 1.7337 - root_mean_squared_error: 1.3437 - val_loss: 0.1398 - val_root_mean_squared_error: 0.3648\n",
            "Epoch 2/5\n",
            "4/4 [==============================] - 0s 93ms/step - loss: 0.3181 - root_mean_squared_error: 0.5680 - val_loss: 0.1337 - val_root_mean_squared_error: 0.3608\n",
            "Epoch 3/5\n",
            "4/4 [==============================] - 0s 84ms/step - loss: 0.1649 - root_mean_squared_error: 0.4116 - val_loss: 0.1276 - val_root_mean_squared_error: 0.3526\n",
            "Epoch 4/5\n",
            "4/4 [==============================] - 0s 79ms/step - loss: 0.1227 - root_mean_squared_error: 0.3530 - val_loss: 0.1249 - val_root_mean_squared_error: 0.3592\n",
            "Epoch 5/5\n",
            "4/4 [==============================] - 0s 47ms/step - loss: 0.1069 - root_mean_squared_error: 0.3276 - val_loss: 0.1229 - val_root_mean_squared_error: 0.3531\n"
          ]
        }
      ]
    },
    {
      "cell_type": "code",
      "source": [
        "print(f\"RMSE на тестовом наборе: {model_mlp.evaluate(test_dataset)[1]:.2f}\")"
      ],
      "metadata": {
        "colab": {
          "base_uri": "https://localhost:8080/"
        },
        "id": "NzDJX86j76bt",
        "outputId": "1af68ecf-935e-4ff6-9441-0441d6dbc76d"
      },
      "execution_count": 25,
      "outputs": [
        {
          "output_type": "stream",
          "name": "stdout",
          "text": [
            "2/2 [==============================] - 0s 8ms/step - loss: 0.1463 - root_mean_squared_error: 0.3859\n",
            "RMSE на тестовом наборе: 0.39\n"
          ]
        }
      ]
    },
    {
      "cell_type": "code",
      "source": [
        "model_mlp_2.summary()"
      ],
      "metadata": {
        "colab": {
          "base_uri": "https://localhost:8080/"
        },
        "id": "LOP0Thy08HQR",
        "outputId": "c0d38088-2dc7-473b-a722-c4eb68df08b4"
      },
      "execution_count": 26,
      "outputs": [
        {
          "output_type": "stream",
          "name": "stdout",
          "text": [
            "Model: \"model_1\"\n",
            "_________________________________________________________________\n",
            " Layer (type)                Output Shape              Param #   \n",
            "=================================================================\n",
            " input_2 (InputLayer)        [(None, 20, 6)]           0         \n",
            "                                                                 \n",
            " normalization (Normalizatio  (None, 20, 6)            3         \n",
            " n)                                                              \n",
            "                                                                 \n",
            " dense_2 (Dense)             (None, 20, 16)            112       \n",
            "                                                                 \n",
            " batch_normalization (BatchN  (None, 20, 16)           64        \n",
            " ormalization)                                                   \n",
            "                                                                 \n",
            " dense_3 (Dense)             (None, 20, 16)            272       \n",
            "                                                                 \n",
            " batch_normalization_1 (Batc  (None, 20, 16)           64        \n",
            " hNormalization)                                                 \n",
            "                                                                 \n",
            " dense_4 (Dense)             (None, 20, 16)            272       \n",
            "                                                                 \n",
            " batch_normalization_2 (Batc  (None, 20, 16)           64        \n",
            " hNormalization)                                                 \n",
            "                                                                 \n",
            " dense_5 (Dense)             (None, 20, 1)             17        \n",
            "                                                                 \n",
            "=================================================================\n",
            "Total params: 868\n",
            "Trainable params: 769\n",
            "Non-trainable params: 99\n",
            "_________________________________________________________________\n"
          ]
        }
      ]
    },
    {
      "cell_type": "markdown",
      "source": [
        "Переменные необходимые для будущей визуализации получившихся данных:"
      ],
      "metadata": {
        "id": "o8eb8lhSDZhP"
      }
    },
    {
      "cell_type": "code",
      "source": [
        "loss_mlp_2 = np.true_divide(history.history[\"root_mean_squared_error\"], history.history[\"root_mean_squared_error\"][0])\n",
        "val_loss_mlp_2 = np.true_divide(history.history[\"val_root_mean_squared_error\"], history.history[\"val_root_mean_squared_error\"][0])"
      ],
      "metadata": {
        "id": "9KeqG1pn8PB4"
      },
      "execution_count": 27,
      "outputs": []
    },
    {
      "cell_type": "code",
      "source": [
        "trainPredict_mlp_2 = model_mlp_2.predict(train_dataset)\n",
        "testPredict_mlp_2 = model_mlp_2.predict(test_dataset)"
      ],
      "metadata": {
        "id": "MnCpa8au-1Py"
      },
      "execution_count": 28,
      "outputs": []
    },
    {
      "cell_type": "markdown",
      "source": [
        "#### Задание 7\n",
        "Постройте рекуррентную нейронную сеть с нормализующим слоем и одним скрытым слоем LSTM из 16 нейронов для прогнозирования стоимости акции и обучите ее на обучающей выборке. Оцените качество прогнозирования при помощи заданного показателя качества на тестовой выборке."
      ],
      "metadata": {
        "id": "nUslysDLticI"
      }
    },
    {
      "cell_type": "code",
      "source": [
        "inputs = tf.keras.Input(shape=(sequence_length, ford.shape[-1]))\n",
        "x = normalization_layer(inputs)\n",
        "x = tf.keras.layers.LSTM(16)(x)\n",
        "outputs = tf.keras.layers.Dense(1)(x)\n",
        "\n",
        "model_rnn = tf.keras.Model(inputs, outputs)\n",
        "\n",
        "model_rnn.compile(optimizer=\"rmsprop\", loss=\"mse\", metrics=[tf.keras.metrics.RootMeanSquaredError()])\n",
        "history = model_rnn.fit(train_dataset,\n",
        "                    epochs=5,\n",
        "                    validation_data=val_dataset,\n",
        "                   ) "
      ],
      "metadata": {
        "colab": {
          "base_uri": "https://localhost:8080/"
        },
        "id": "X9S8eWem8nTh",
        "outputId": "069252e0-7ab5-4d3e-95db-f501f385990d"
      },
      "execution_count": 29,
      "outputs": [
        {
          "output_type": "stream",
          "name": "stdout",
          "text": [
            "Epoch 1/5\n",
            "4/4 [==============================] - 7s 745ms/step - loss: 0.0504 - root_mean_squared_error: 0.2246 - val_loss: 0.1176 - val_root_mean_squared_error: 0.3429\n",
            "Epoch 2/5\n",
            "4/4 [==============================] - 0s 75ms/step - loss: 0.0459 - root_mean_squared_error: 0.2142 - val_loss: 0.1174 - val_root_mean_squared_error: 0.3426\n",
            "Epoch 3/5\n",
            "4/4 [==============================] - 0s 93ms/step - loss: 0.0453 - root_mean_squared_error: 0.2129 - val_loss: 0.1158 - val_root_mean_squared_error: 0.3403\n",
            "Epoch 4/5\n",
            "4/4 [==============================] - 1s 102ms/step - loss: 0.0454 - root_mean_squared_error: 0.2130 - val_loss: 0.1156 - val_root_mean_squared_error: 0.3399\n",
            "Epoch 5/5\n",
            "4/4 [==============================] - 0s 85ms/step - loss: 0.0449 - root_mean_squared_error: 0.2119 - val_loss: 0.1192 - val_root_mean_squared_error: 0.3452\n"
          ]
        }
      ]
    },
    {
      "cell_type": "code",
      "source": [
        "print(f\"RMSE на тестовом наборе: {model_mlp.evaluate(test_dataset)[1]:.2f}\")"
      ],
      "metadata": {
        "colab": {
          "base_uri": "https://localhost:8080/"
        },
        "id": "xJZxLoCh9hTW",
        "outputId": "05d58d27-4c86-4d55-8416-afb5712763f2"
      },
      "execution_count": 30,
      "outputs": [
        {
          "output_type": "stream",
          "name": "stdout",
          "text": [
            "2/2 [==============================] - 0s 9ms/step - loss: 0.1461 - root_mean_squared_error: 0.3687\n",
            "RMSE на тестовом наборе: 0.37\n"
          ]
        }
      ]
    },
    {
      "cell_type": "markdown",
      "source": [
        "Переменные необходимые для будущей визуализации получившихся данных:"
      ],
      "metadata": {
        "id": "js84PvYwDdMO"
      }
    },
    {
      "cell_type": "code",
      "source": [
        "loss_rnn = np.true_divide(history.history[\"root_mean_squared_error\"], history.history[\"root_mean_squared_error\"][0])\n",
        "val_loss_rnn = np.true_divide(history.history[\"val_root_mean_squared_error\"], history.history[\"val_root_mean_squared_error\"][0])"
      ],
      "metadata": {
        "id": "_HIVqX8qEEwj"
      },
      "execution_count": 31,
      "outputs": []
    },
    {
      "cell_type": "code",
      "source": [
        "trainPredict_rnn = model_rnn.predict(train_dataset)\n",
        "testPredict_rnn = model_rnn.predict(test_dataset)"
      ],
      "metadata": {
        "id": "yEKIR8OA-5OT"
      },
      "execution_count": 32,
      "outputs": []
    },
    {
      "cell_type": "markdown",
      "source": [
        "#### Задание 8\n",
        "Визуализируйте кривые обучения для трех построенных моделей на одном рисунке в зависимости от эпохи обучения, подписывая оси и рисунок и создавая легенду. Используйте для визуализации относительную ошибку (ошибку обучения, деленную на начальную ошибку на первой эпохе). \n",
        "(Поделить ошибку на первое значение ошибки в каждой модели)"
      ],
      "metadata": {
        "id": "xGs11HSPtoAO"
      }
    },
    {
      "cell_type": "code",
      "source": [
        "epochs = range(1, len(val_loss_rnn) + 1)\n",
        "plt.figure(figsize=(12,8))\n",
        "plt.plot(epochs, loss_mlp, \"bo\", label=\"Модель MLP (обуч. выборка)\")\n",
        "plt.plot(epochs, val_loss_mlp, \"b\", label=\"Модель MLP (вал. выборка)\")\n",
        "plt.plot(epochs, loss_mlp_2, \"ro\", label=\"Модель MLP с пакетной нормализацией (обуч. выборка)\")\n",
        "plt.plot(epochs, val_loss_mlp_2, \"r\", label=\"Модель MLP с пакетной нормализацией (вал. выборка)\")\n",
        "plt.plot(epochs, loss_rnn, \"yo\", label=\"Модель RNN (обуч. выборка)\")\n",
        "plt.plot(epochs, val_loss_rnn, \"y\", label=\"Модель RNN (вал. выборка)\")\n",
        "plt.title(\"Относительная ошибка RMSE на обучающей и валидационной выборках\")\n",
        "plt.legend();"
      ],
      "metadata": {
        "colab": {
          "base_uri": "https://localhost:8080/",
          "height": 499
        },
        "id": "DkyvB7-bemjn",
        "outputId": "664c483f-34d7-41dc-f97d-20e38dd045eb"
      },
      "execution_count": 34,
      "outputs": [
        {
          "output_type": "display_data",
          "data": {
            "text/plain": [
              "<Figure size 864x576 with 1 Axes>"
            ],
            "image/png": "[encoded data removed]"
          },
          "metadata": {
            "needs_background": "light"
          }
        }
      ]
    },
    {
      "cell_type": "markdown",
      "source": [
        "#### Задание 9\n",
        "Визуализируйте весь набор данных и прогнозы трех построенных моделей для обучающей и тестовой выборок на одном рисунке (ось X – даты, ось Y – стоимость акции), подписывая оси и рисунок и создавая легенду. \n"
      ],
      "metadata": {
        "id": "RN8hLbioENdD"
      }
    }
  ]
}