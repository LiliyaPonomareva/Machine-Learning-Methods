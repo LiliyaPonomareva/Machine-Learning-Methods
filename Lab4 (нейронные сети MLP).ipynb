{
 "cells": [
  {
   "cell_type": "code",
   "execution_count": null,
   "metadata": {},
   "outputs": [],
   "source": []
  },
  {
   "cell_type": "markdown",
   "metadata": {
    "id": "PVHpyzoagYns"
   },
   "source": [
    "### РОССИЙСКИЙ УНИВЕРСИТЕТ ДРУЖБЫ НАРОДОВ\n",
    "\n",
    "#### Факультет физико-математических и естественных наук  \n",
    "#### Кафедра информационных технологий "
   ]
  },
  {
   "cell_type": "markdown",
   "metadata": {
    "id": "WFuPF7hqggNv"
   },
   "source": [
    "## ОТЧЕТ ПО ЛАБОРАТОРНОЙ РАБОТЕ № 4\n",
    "\n",
    "\n",
    "### Дисциплина: Методы машинного обучения"
   ]
  },
  {
   "cell_type": "markdown",
   "metadata": {
    "id": "RQ7uBsW_giK6"
   },
   "source": [
    "##### Студент:  Пономарева Л. М.\n",
    "##### Группа:   НПИбд-02-19"
   ]
  },
  {
   "cell_type": "markdown",
   "metadata": {
    "id": "ApnkoN9tgkQe"
   },
   "source": [
    "## Москва 2022\n",
    "***"
   ]
  },
  {
   "cell_type": "markdown",
   "metadata": {
    "id": "t6Otp-WtgoZX"
   },
   "source": [
    "## Вариант №10\n",
    "1. Набор данных: wine_quality \n",
    "2. Независимые признаки: features/density, features/chlorides \n",
    "3. Метка класса: quality \n",
    "4. Параметры глубокой нейронной сети: кол-во скрытых слоев – 3, кол-во нейронов в скрытом слое – 128. \n",
    "\n",
    " "
   ]
  },
  {
   "cell_type": "markdown",
   "metadata": {
    "id": "AWY24Nn5aE6V"
   },
   "source": [
    "### Задание 1\t\n",
    "Загрузите заданный в индивидуальном задании набор данных из Tensorflow Datasets, включая указанные в задании независимые признаки и метку класса."
   ]
  },
  {
   "cell_type": "markdown",
   "metadata": {
    "id": "D248lpiLYZSx"
   },
   "source": [
    "Импортируем необходимые библиотеки:"
   ]
  },
  {
   "cell_type": "code",
   "execution_count": 1,
   "metadata": {
    "id": "_b_EpkrFZ3gG"
   },
   "outputs": [],
   "source": [
    "import numpy as np\n",
    "import matplotlib.pyplot as plt\n",
    "import pandas as pd\n",
    "import tensorflow as tf\n",
    "import tensorflow_datasets as tfds"
   ]
  },
  {
   "cell_type": "markdown",
   "metadata": {
    "id": "RzgUo6_5b8UR"
   },
   "source": [
    "Загрузим набор данных wine_quality:"
   ]
  },
  {
   "cell_type": "code",
   "execution_count": 2,
   "metadata": {
    "colab": {
     "base_uri": "https://localhost:8080/",
     "height": 644,
     "referenced_widgets": [
      "66ed4248e6d443f48296ecd98fcff8ec",
      "c86df5f5246347f2ad3a5f8b475680ba",
      "8ade7dce3b6b4a0ba56efa9c0e171366",
      "1e51352b8dce40fba39fc84ce1fe8d95",
      "6c494094d9014265995415af4564a92a",
      "a91fe2b764504ebfbfb226a47f3094fa",
      "7c3e52ecb7444eb18121d8d341f1f249",
      "b064d5acc8af4e2b814f3b7728171f05",
      "45d4b7e5dcdf41a6ab3577c0e8fb8c9d",
      "59776b6e283345568e80fee81ea1dc21",
      "351e2c3cb9364d31ac17e6c1bc03015b",
      "4c69abc37d7c4a02929400a2c3261469",
      "a287620ac94449158d7eb0a332e42ca9",
      "181d318df9fd48728622e73f21e99c6d",
      "8be227225eeb4e87b2099bce5ce46bca",
      "b0eb76bd715d4c7ca05237e59f82cfb8",
      "dd57462999cf4b5fa4402e03a0e94537",
      "f15f00fe1c8b492da729720e28d09dc1",
      "a7f565ca74c34a3096920999823e931f",
      "2a8e3af81f3d44cd8f586b675ae0bb6f",
      "3f3b2a0d4d42478cae4fbb784846f803",
      "419c9821f6ca4421bc5cfe39bc0e5a10",
      "1f66ed6966fe45dbb9b4ab43f2959a54",
      "3d468082305c4ebc99cfb9d6ac0d23ab",
      "83b11256f3ff41a5a3c92a205e6908eb",
      "b5b4835764f347c3a3e5716fda21efab",
      "e136f5d0ff1945c3a91835d41bcaf77e",
      "ce97885521104a9b992650f4a35700ff",
      "4f27a8969d33458f951c16d70f5fea2f",
      "c56f070c132f4f36a651e51d103a0b47",
      "0d734550b4f24617878d17b006ec5c96",
      "8b2aff5123874bb19fce335b4bc08800",
      "880d8b5456294aa88ac32fa0e1298d44",
      "524b2e03f0d74573b5321f73d135a099",
      "5483095455c4431c8c19b46374d133c0",
      "39b90b78a52f41058ff865f7ae0a15f4",
      "09b58394ae6c40b0986337b0f75f9291",
      "e9fd3d5309fa43a98662447bcd29af51",
      "c4fbfc0fb9504eb4afae78c78df3c746",
      "2217cb1d1bc14ce0886cf235848b57f0",
      "92740ad745b64e61b572738e480e3841",
      "0686e3622a914333bb01ae433d4f381c",
      "f6b7ad7806a94a9cbfa6db627001490d",
      "da7c7bcb56834d9b8ccff9a482813907"
     ]
    },
    "id": "13bgL3Eeb2Mw",
    "outputId": "b98e2aff-1e68-4be3-a964-09d5faa91946"
   },
   "outputs": [
    {
     "name": "stdout",
     "output_type": "stream",
     "text": [
      "\u001b[1mDownloading and preparing dataset wine_quality/white/1.0.0 (download: 258.23 KiB, generated: 1.87 MiB, total: 2.13 MiB) to /root/tensorflow_datasets/wine_quality/white/1.0.0...\u001b[0m\n"
     ]
    },
    {
     "data": {
      "application/vnd.jupyter.widget-view+json": {
       "model_id": "66ed4248e6d443f48296ecd98fcff8ec",
       "version_major": 2,
       "version_minor": 0
      },
      "text/plain": [
       "Dl Completed...: 0 url [00:00, ? url/s]"
      ]
     },
     "metadata": {},
     "output_type": "display_data"
    },
    {
     "data": {
      "application/vnd.jupyter.widget-view+json": {
       "model_id": "4c69abc37d7c4a02929400a2c3261469",
       "version_major": 2,
       "version_minor": 0
      },
      "text/plain": [
       "Dl Size...: 0 MiB [00:00, ? MiB/s]"
      ]
     },
     "metadata": {},
     "output_type": "display_data"
    },
    {
     "name": "stdout",
     "output_type": "stream",
     "text": [
      "\n",
      "\n"
     ]
    },
    {
     "data": {
      "application/vnd.jupyter.widget-view+json": {
       "model_id": "1f66ed6966fe45dbb9b4ab43f2959a54",
       "version_major": 2,
       "version_minor": 0
      },
      "text/plain": [
       "0 examples [00:00, ? examples/s]"
      ]
     },
     "metadata": {},
     "output_type": "display_data"
    },
    {
     "name": "stdout",
     "output_type": "stream",
     "text": [
      "Shuffling and writing examples to /root/tensorflow_datasets/wine_quality/white/1.0.0.incompleteQQO8T5/wine_quality-train.tfrecord\n"
     ]
    },
    {
     "data": {
      "application/vnd.jupyter.widget-view+json": {
       "model_id": "524b2e03f0d74573b5321f73d135a099",
       "version_major": 2,
       "version_minor": 0
      },
      "text/plain": [
       "  0%|          | 0/4898 [00:00<?, ? examples/s]"
      ]
     },
     "metadata": {},
     "output_type": "display_data"
    },
    {
     "name": "stdout",
     "output_type": "stream",
     "text": [
      "\u001b[1mDataset wine_quality downloaded and prepared to /root/tensorflow_datasets/wine_quality/white/1.0.0. Subsequent calls will reuse this data.\u001b[0m\n"
     ]
    },
    {
     "data": {
      "text/html": [
       "\n",
       "  <div id=\"df-719dc012-a61a-4900-97f7-8b5364b54e80\">\n",
       "    <div class=\"colab-df-container\">\n",
       "      <div>\n",
       "<style scoped>\n",
       "    .dataframe tbody tr th:only-of-type {\n",
       "        vertical-align: middle;\n",
       "    }\n",
       "\n",
       "    .dataframe tbody tr th {\n",
       "        vertical-align: top;\n",
       "    }\n",
       "\n",
       "    .dataframe thead th {\n",
       "        text-align: right;\n",
       "    }\n",
       "</style>\n",
       "<table border=\"1\" class=\"dataframe\">\n",
       "  <thead>\n",
       "    <tr style=\"text-align: right;\">\n",
       "      <th></th>\n",
       "      <th>features/alcohol</th>\n",
       "      <th>features/chlorides</th>\n",
       "      <th>features/citric acid</th>\n",
       "      <th>features/density</th>\n",
       "      <th>features/fixed acidity</th>\n",
       "      <th>features/free sulfur dioxide</th>\n",
       "      <th>features/pH</th>\n",
       "      <th>features/residual sugar</th>\n",
       "      <th>features/sulphates</th>\n",
       "      <th>features/total sulfur dioxide</th>\n",
       "      <th>features/volatile acidity</th>\n",
       "      <th>quality</th>\n",
       "    </tr>\n",
       "  </thead>\n",
       "  <tbody>\n",
       "    <tr>\n",
       "      <th>2630</th>\n",
       "      <td>11.2</td>\n",
       "      <td>0.030</td>\n",
       "      <td>0.27</td>\n",
       "      <td>0.99212</td>\n",
       "      <td>8.1</td>\n",
       "      <td>43.0</td>\n",
       "      <td>3.16</td>\n",
       "      <td>4.300000</td>\n",
       "      <td>0.33</td>\n",
       "      <td>123.0</td>\n",
       "      <td>0.260</td>\n",
       "      <td>6</td>\n",
       "    </tr>\n",
       "    <tr>\n",
       "      <th>1856</th>\n",
       "      <td>9.4</td>\n",
       "      <td>0.052</td>\n",
       "      <td>0.30</td>\n",
       "      <td>0.99825</td>\n",
       "      <td>6.6</td>\n",
       "      <td>18.0</td>\n",
       "      <td>3.37</td>\n",
       "      <td>13.000000</td>\n",
       "      <td>0.49</td>\n",
       "      <td>143.0</td>\n",
       "      <td>0.240</td>\n",
       "      <td>6</td>\n",
       "    </tr>\n",
       "    <tr>\n",
       "      <th>4116</th>\n",
       "      <td>9.4</td>\n",
       "      <td>0.070</td>\n",
       "      <td>0.28</td>\n",
       "      <td>0.99660</td>\n",
       "      <td>7.0</td>\n",
       "      <td>45.0</td>\n",
       "      <td>3.34</td>\n",
       "      <td>7.500000</td>\n",
       "      <td>0.55</td>\n",
       "      <td>185.0</td>\n",
       "      <td>0.210</td>\n",
       "      <td>5</td>\n",
       "    </tr>\n",
       "    <tr>\n",
       "      <th>178</th>\n",
       "      <td>11.5</td>\n",
       "      <td>0.043</td>\n",
       "      <td>0.38</td>\n",
       "      <td>0.99340</td>\n",
       "      <td>7.9</td>\n",
       "      <td>46.0</td>\n",
       "      <td>3.12</td>\n",
       "      <td>8.000000</td>\n",
       "      <td>0.32</td>\n",
       "      <td>152.0</td>\n",
       "      <td>0.220</td>\n",
       "      <td>7</td>\n",
       "    </tr>\n",
       "    <tr>\n",
       "      <th>3404</th>\n",
       "      <td>10.7</td>\n",
       "      <td>0.049</td>\n",
       "      <td>0.32</td>\n",
       "      <td>0.99332</td>\n",
       "      <td>6.8</td>\n",
       "      <td>37.0</td>\n",
       "      <td>3.12</td>\n",
       "      <td>7.600000</td>\n",
       "      <td>0.44</td>\n",
       "      <td>107.0</td>\n",
       "      <td>0.190</td>\n",
       "      <td>7</td>\n",
       "    </tr>\n",
       "    <tr>\n",
       "      <th>610</th>\n",
       "      <td>10.2</td>\n",
       "      <td>0.042</td>\n",
       "      <td>0.06</td>\n",
       "      <td>0.99432</td>\n",
       "      <td>5.7</td>\n",
       "      <td>9.0</td>\n",
       "      <td>3.44</td>\n",
       "      <td>6.800000</td>\n",
       "      <td>0.44</td>\n",
       "      <td>84.0</td>\n",
       "      <td>0.695</td>\n",
       "      <td>5</td>\n",
       "    </tr>\n",
       "    <tr>\n",
       "      <th>2748</th>\n",
       "      <td>9.5</td>\n",
       "      <td>0.032</td>\n",
       "      <td>0.14</td>\n",
       "      <td>0.99542</td>\n",
       "      <td>5.9</td>\n",
       "      <td>30.0</td>\n",
       "      <td>3.28</td>\n",
       "      <td>8.600000</td>\n",
       "      <td>0.44</td>\n",
       "      <td>142.0</td>\n",
       "      <td>0.280</td>\n",
       "      <td>6</td>\n",
       "    </tr>\n",
       "    <tr>\n",
       "      <th>2717</th>\n",
       "      <td>10.0</td>\n",
       "      <td>0.052</td>\n",
       "      <td>0.46</td>\n",
       "      <td>0.99800</td>\n",
       "      <td>7.8</td>\n",
       "      <td>38.0</td>\n",
       "      <td>3.15</td>\n",
       "      <td>13.600000</td>\n",
       "      <td>0.50</td>\n",
       "      <td>118.0</td>\n",
       "      <td>0.180</td>\n",
       "      <td>6</td>\n",
       "    </tr>\n",
       "    <tr>\n",
       "      <th>3984</th>\n",
       "      <td>8.8</td>\n",
       "      <td>0.048</td>\n",
       "      <td>0.48</td>\n",
       "      <td>1.00100</td>\n",
       "      <td>7.5</td>\n",
       "      <td>55.0</td>\n",
       "      <td>2.95</td>\n",
       "      <td>19.450001</td>\n",
       "      <td>0.40</td>\n",
       "      <td>243.0</td>\n",
       "      <td>0.330</td>\n",
       "      <td>5</td>\n",
       "    </tr>\n",
       "    <tr>\n",
       "      <th>1898</th>\n",
       "      <td>12.3</td>\n",
       "      <td>0.033</td>\n",
       "      <td>0.39</td>\n",
       "      <td>0.99080</td>\n",
       "      <td>7.2</td>\n",
       "      <td>29.0</td>\n",
       "      <td>3.26</td>\n",
       "      <td>2.300000</td>\n",
       "      <td>0.54</td>\n",
       "      <td>102.0</td>\n",
       "      <td>0.230</td>\n",
       "      <td>7</td>\n",
       "    </tr>\n",
       "  </tbody>\n",
       "</table>\n",
       "</div>\n",
       "      <button class=\"colab-df-convert\" onclick=\"convertToInteractive('df-719dc012-a61a-4900-97f7-8b5364b54e80')\"\n",
       "              title=\"Convert this dataframe to an interactive table.\"\n",
       "              style=\"display:none;\">\n",
       "        \n",
       "  <svg xmlns=\"http://www.w3.org/2000/svg\" height=\"24px\"viewBox=\"0 0 24 24\"\n",
       "       width=\"24px\">\n",
       "    <path d=\"M0 0h24v24H0V0z\" fill=\"none\"/>\n",
       "    <path d=\"M18.56 5.44l.94 2.06.94-2.06 2.06-.94-2.06-.94-.94-2.06-.94 2.06-2.06.94zm-11 1L8.5 8.5l.94-2.06 2.06-.94-2.06-.94L8.5 2.5l-.94 2.06-2.06.94zm10 10l.94 2.06.94-2.06 2.06-.94-2.06-.94-.94-2.06-.94 2.06-2.06.94z\"/><path d=\"M17.41 7.96l-1.37-1.37c-.4-.4-.92-.59-1.43-.59-.52 0-1.04.2-1.43.59L10.3 9.45l-7.72 7.72c-.78.78-.78 2.05 0 2.83L4 21.41c.39.39.9.59 1.41.59.51 0 1.02-.2 1.41-.59l7.78-7.78 2.81-2.81c.8-.78.8-2.07 0-2.86zM5.41 20L4 18.59l7.72-7.72 1.47 1.35L5.41 20z\"/>\n",
       "  </svg>\n",
       "      </button>\n",
       "      \n",
       "  <style>\n",
       "    .colab-df-container {\n",
       "      display:flex;\n",
       "      flex-wrap:wrap;\n",
       "      gap: 12px;\n",
       "    }\n",
       "\n",
       "    .colab-df-convert {\n",
       "      background-color: #E8F0FE;\n",
       "      border: none;\n",
       "      border-radius: 50%;\n",
       "      cursor: pointer;\n",
       "      display: none;\n",
       "      fill: #1967D2;\n",
       "      height: 32px;\n",
       "      padding: 0 0 0 0;\n",
       "      width: 32px;\n",
       "    }\n",
       "\n",
       "    .colab-df-convert:hover {\n",
       "      background-color: #E2EBFA;\n",
       "      box-shadow: 0px 1px 2px rgba(60, 64, 67, 0.3), 0px 1px 3px 1px rgba(60, 64, 67, 0.15);\n",
       "      fill: #174EA6;\n",
       "    }\n",
       "\n",
       "    [theme=dark] .colab-df-convert {\n",
       "      background-color: #3B4455;\n",
       "      fill: #D2E3FC;\n",
       "    }\n",
       "\n",
       "    [theme=dark] .colab-df-convert:hover {\n",
       "      background-color: #434B5C;\n",
       "      box-shadow: 0px 1px 3px 1px rgba(0, 0, 0, 0.15);\n",
       "      filter: drop-shadow(0px 1px 2px rgba(0, 0, 0, 0.3));\n",
       "      fill: #FFFFFF;\n",
       "    }\n",
       "  </style>\n",
       "\n",
       "      <script>\n",
       "        const buttonEl =\n",
       "          document.querySelector('#df-719dc012-a61a-4900-97f7-8b5364b54e80 button.colab-df-convert');\n",
       "        buttonEl.style.display =\n",
       "          google.colab.kernel.accessAllowed ? 'block' : 'none';\n",
       "\n",
       "        async function convertToInteractive(key) {\n",
       "          const element = document.querySelector('#df-719dc012-a61a-4900-97f7-8b5364b54e80');\n",
       "          const dataTable =\n",
       "            await google.colab.kernel.invokeFunction('convertToInteractive',\n",
       "                                                     [key], {});\n",
       "          if (!dataTable) return;\n",
       "\n",
       "          const docLinkHtml = 'Like what you see? Visit the ' +\n",
       "            '<a target=\"_blank\" href=https://colab.research.google.com/notebooks/data_table.ipynb>data table notebook</a>'\n",
       "            + ' to learn more about interactive tables.';\n",
       "          element.innerHTML = '';\n",
       "          dataTable['output_type'] = 'display_data';\n",
       "          await google.colab.output.renderOutput(dataTable, element);\n",
       "          const docLink = document.createElement('div');\n",
       "          docLink.innerHTML = docLinkHtml;\n",
       "          element.appendChild(docLink);\n",
       "        }\n",
       "      </script>\n",
       "    </div>\n",
       "  </div>\n",
       "  "
      ],
      "text/plain": [
       "      features/alcohol  features/chlorides  features/citric acid  \\\n",
       "2630              11.2               0.030                  0.27   \n",
       "1856               9.4               0.052                  0.30   \n",
       "4116               9.4               0.070                  0.28   \n",
       "178               11.5               0.043                  0.38   \n",
       "3404              10.7               0.049                  0.32   \n",
       "610               10.2               0.042                  0.06   \n",
       "2748               9.5               0.032                  0.14   \n",
       "2717              10.0               0.052                  0.46   \n",
       "3984               8.8               0.048                  0.48   \n",
       "1898              12.3               0.033                  0.39   \n",
       "\n",
       "      features/density  features/fixed acidity  features/free sulfur dioxide  \\\n",
       "2630           0.99212                     8.1                          43.0   \n",
       "1856           0.99825                     6.6                          18.0   \n",
       "4116           0.99660                     7.0                          45.0   \n",
       "178            0.99340                     7.9                          46.0   \n",
       "3404           0.99332                     6.8                          37.0   \n",
       "610            0.99432                     5.7                           9.0   \n",
       "2748           0.99542                     5.9                          30.0   \n",
       "2717           0.99800                     7.8                          38.0   \n",
       "3984           1.00100                     7.5                          55.0   \n",
       "1898           0.99080                     7.2                          29.0   \n",
       "\n",
       "      features/pH  features/residual sugar  features/sulphates  \\\n",
       "2630         3.16                 4.300000                0.33   \n",
       "1856         3.37                13.000000                0.49   \n",
       "4116         3.34                 7.500000                0.55   \n",
       "178          3.12                 8.000000                0.32   \n",
       "3404         3.12                 7.600000                0.44   \n",
       "610          3.44                 6.800000                0.44   \n",
       "2748         3.28                 8.600000                0.44   \n",
       "2717         3.15                13.600000                0.50   \n",
       "3984         2.95                19.450001                0.40   \n",
       "1898         3.26                 2.300000                0.54   \n",
       "\n",
       "      features/total sulfur dioxide  features/volatile acidity  quality  \n",
       "2630                          123.0                      0.260        6  \n",
       "1856                          143.0                      0.240        6  \n",
       "4116                          185.0                      0.210        5  \n",
       "178                           152.0                      0.220        7  \n",
       "3404                          107.0                      0.190        7  \n",
       "610                            84.0                      0.695        5  \n",
       "2748                          142.0                      0.280        6  \n",
       "2717                          118.0                      0.180        6  \n",
       "3984                          243.0                      0.330        5  \n",
       "1898                          102.0                      0.230        7  "
      ]
     },
     "execution_count": 2,
     "metadata": {},
     "output_type": "execute_result"
    }
   ],
   "source": [
    "ds = tfds.load(\"wine_quality\", split='train')\n",
    "df = tfds.as_dataframe(ds)\n",
    "df.sample(10)"
   ]
  },
  {
   "cell_type": "markdown",
   "metadata": {
    "id": "LuwXNMKUcsw8"
   },
   "source": [
    "Создадим набор , в котором оставим только два независимых признака `features/density` и `features/chlorides` и метку класса `quality`,  убрав из названий признаков строку `features/`:"
   ]
  },
  {
   "cell_type": "code",
   "execution_count": 3,
   "metadata": {
    "colab": {
     "base_uri": "https://localhost:8080/",
     "height": 206
    },
    "id": "JCG7FiXPcOqA",
    "outputId": "7d82d024-5a91-4083-9247-3864b4d3a7fe"
   },
   "outputs": [
    {
     "data": {
      "text/html": [
       "\n",
       "  <div id=\"df-3077c30d-217f-4b52-b10f-408b0fd80994\">\n",
       "    <div class=\"colab-df-container\">\n",
       "      <div>\n",
       "<style scoped>\n",
       "    .dataframe tbody tr th:only-of-type {\n",
       "        vertical-align: middle;\n",
       "    }\n",
       "\n",
       "    .dataframe tbody tr th {\n",
       "        vertical-align: top;\n",
       "    }\n",
       "\n",
       "    .dataframe thead th {\n",
       "        text-align: right;\n",
       "    }\n",
       "</style>\n",
       "<table border=\"1\" class=\"dataframe\">\n",
       "  <thead>\n",
       "    <tr style=\"text-align: right;\">\n",
       "      <th></th>\n",
       "      <th>density</th>\n",
       "      <th>chlorides</th>\n",
       "      <th>quality</th>\n",
       "    </tr>\n",
       "  </thead>\n",
       "  <tbody>\n",
       "    <tr>\n",
       "      <th>1888</th>\n",
       "      <td>0.99670</td>\n",
       "      <td>0.059</td>\n",
       "      <td>6</td>\n",
       "    </tr>\n",
       "    <tr>\n",
       "      <th>885</th>\n",
       "      <td>0.99990</td>\n",
       "      <td>0.038</td>\n",
       "      <td>6</td>\n",
       "    </tr>\n",
       "    <tr>\n",
       "      <th>394</th>\n",
       "      <td>0.99220</td>\n",
       "      <td>0.038</td>\n",
       "      <td>4</td>\n",
       "    </tr>\n",
       "    <tr>\n",
       "      <th>64</th>\n",
       "      <td>0.99888</td>\n",
       "      <td>0.052</td>\n",
       "      <td>6</td>\n",
       "    </tr>\n",
       "    <tr>\n",
       "      <th>2157</th>\n",
       "      <td>0.99226</td>\n",
       "      <td>0.049</td>\n",
       "      <td>5</td>\n",
       "    </tr>\n",
       "  </tbody>\n",
       "</table>\n",
       "</div>\n",
       "      <button class=\"colab-df-convert\" onclick=\"convertToInteractive('df-3077c30d-217f-4b52-b10f-408b0fd80994')\"\n",
       "              title=\"Convert this dataframe to an interactive table.\"\n",
       "              style=\"display:none;\">\n",
       "        \n",
       "  <svg xmlns=\"http://www.w3.org/2000/svg\" height=\"24px\"viewBox=\"0 0 24 24\"\n",
       "       width=\"24px\">\n",
       "    <path d=\"M0 0h24v24H0V0z\" fill=\"none\"/>\n",
       "    <path d=\"M18.56 5.44l.94 2.06.94-2.06 2.06-.94-2.06-.94-.94-2.06-.94 2.06-2.06.94zm-11 1L8.5 8.5l.94-2.06 2.06-.94-2.06-.94L8.5 2.5l-.94 2.06-2.06.94zm10 10l.94 2.06.94-2.06 2.06-.94-2.06-.94-.94-2.06-.94 2.06-2.06.94z\"/><path d=\"M17.41 7.96l-1.37-1.37c-.4-.4-.92-.59-1.43-.59-.52 0-1.04.2-1.43.59L10.3 9.45l-7.72 7.72c-.78.78-.78 2.05 0 2.83L4 21.41c.39.39.9.59 1.41.59.51 0 1.02-.2 1.41-.59l7.78-7.78 2.81-2.81c.8-.78.8-2.07 0-2.86zM5.41 20L4 18.59l7.72-7.72 1.47 1.35L5.41 20z\"/>\n",
       "  </svg>\n",
       "      </button>\n",
       "      \n",
       "  <style>\n",
       "    .colab-df-container {\n",
       "      display:flex;\n",
       "      flex-wrap:wrap;\n",
       "      gap: 12px;\n",
       "    }\n",
       "\n",
       "    .colab-df-convert {\n",
       "      background-color: #E8F0FE;\n",
       "      border: none;\n",
       "      border-radius: 50%;\n",
       "      cursor: pointer;\n",
       "      display: none;\n",
       "      fill: #1967D2;\n",
       "      height: 32px;\n",
       "      padding: 0 0 0 0;\n",
       "      width: 32px;\n",
       "    }\n",
       "\n",
       "    .colab-df-convert:hover {\n",
       "      background-color: #E2EBFA;\n",
       "      box-shadow: 0px 1px 2px rgba(60, 64, 67, 0.3), 0px 1px 3px 1px rgba(60, 64, 67, 0.15);\n",
       "      fill: #174EA6;\n",
       "    }\n",
       "\n",
       "    [theme=dark] .colab-df-convert {\n",
       "      background-color: #3B4455;\n",
       "      fill: #D2E3FC;\n",
       "    }\n",
       "\n",
       "    [theme=dark] .colab-df-convert:hover {\n",
       "      background-color: #434B5C;\n",
       "      box-shadow: 0px 1px 3px 1px rgba(0, 0, 0, 0.15);\n",
       "      filter: drop-shadow(0px 1px 2px rgba(0, 0, 0, 0.3));\n",
       "      fill: #FFFFFF;\n",
       "    }\n",
       "  </style>\n",
       "\n",
       "      <script>\n",
       "        const buttonEl =\n",
       "          document.querySelector('#df-3077c30d-217f-4b52-b10f-408b0fd80994 button.colab-df-convert');\n",
       "        buttonEl.style.display =\n",
       "          google.colab.kernel.accessAllowed ? 'block' : 'none';\n",
       "\n",
       "        async function convertToInteractive(key) {\n",
       "          const element = document.querySelector('#df-3077c30d-217f-4b52-b10f-408b0fd80994');\n",
       "          const dataTable =\n",
       "            await google.colab.kernel.invokeFunction('convertToInteractive',\n",
       "                                                     [key], {});\n",
       "          if (!dataTable) return;\n",
       "\n",
       "          const docLinkHtml = 'Like what you see? Visit the ' +\n",
       "            '<a target=\"_blank\" href=https://colab.research.google.com/notebooks/data_table.ipynb>data table notebook</a>'\n",
       "            + ' to learn more about interactive tables.';\n",
       "          element.innerHTML = '';\n",
       "          dataTable['output_type'] = 'display_data';\n",
       "          await google.colab.output.renderOutput(dataTable, element);\n",
       "          const docLink = document.createElement('div');\n",
       "          docLink.innerHTML = docLinkHtml;\n",
       "          element.appendChild(docLink);\n",
       "        }\n",
       "      </script>\n",
       "    </div>\n",
       "  </div>\n",
       "  "
      ],
      "text/plain": [
       "      density  chlorides  quality\n",
       "1888  0.99670      0.059        6\n",
       "885   0.99990      0.038        6\n",
       "394   0.99220      0.038        4\n",
       "64    0.99888      0.052        6\n",
       "2157  0.99226      0.049        5"
      ]
     },
     "execution_count": 3,
     "metadata": {},
     "output_type": "execute_result"
    }
   ],
   "source": [
    "df1 = df[['features/density','features/chlorides','quality']]\n",
    "df1.columns = ['density','chlorides','quality']\n",
    "df1.sample(5)"
   ]
  },
  {
   "cell_type": "markdown",
   "metadata": {
    "id": "KAVCebYxdJ1s"
   },
   "source": [
    "### Задание 2\t\n",
    "Визуализируйте точки набора данных на плоскости с координатами, соответствующими двум независимым признакам, отображая точки различных классов разными цветами. Подпишите оси и рисунок, создайте легенду для классов набора данных."
   ]
  },
  {
   "cell_type": "code",
   "execution_count": 4,
   "metadata": {
    "colab": {
     "base_uri": "https://localhost:8080/",
     "height": 404
    },
    "id": "tl2NLoKAdyjA",
    "outputId": "9814106d-1542-46ef-9526-e2824f01efb5"
   },
   "outputs": [
    {
     "data": {
      "image/png": "[encoded data removed]",
      "text/plain": [
       "<Figure size 576x432 with 1 Axes>"
      ]
     },
     "metadata": {
      "needs_background": "light"
     },
     "output_type": "display_data"
    }
   ],
   "source": [
    "fig, ax = plt.subplots(figsize=(8, 6))\n",
    "\n",
    "ax.set_title(r\"Набор данных с информацией о качестве вина на основе физико-химических показателей\", fontsize=12)\n",
    "ax.set_xlabel(r\"density\")        \n",
    "ax.set_ylabel(r\"chlorides\")\n",
    "\n",
    "scatter = ax.scatter(df1['density'], df1['chlorides'], c=df1['quality'],\n",
    "                     vmin=2, vmax=9, cmap='RdBu_r')\n",
    "\n",
    "legend = ax.legend(*scatter.legend_elements(num=6),\n",
    "                    loc=\"upper right\", title=\"Wine's quality\")\n",
    "ax.add_artist(legend);"
   ]
  },
  {
   "cell_type": "markdown",
   "metadata": {
    "id": "bD4GHPTQuFrN"
   },
   "source": [
    "### Задание 3\n",
    "Если признак с метками классов содержит более двух классов, то объедините некоторые классы, чтобы получить набор для бинарной классификации. Объединяйте классы таким образом, чтобы положительный и отрицательный классы были сопоставимы по количеству точек. "
   ]
  },
  {
   "cell_type": "markdown",
   "metadata": {
    "id": "YMWfKL3d3-vU"
   },
   "source": [
    "Объявим винами высшего качества вина с индексом качества более или равным 6:"
   ]
  },
  {
   "cell_type": "code",
   "execution_count": 5,
   "metadata": {
    "colab": {
     "base_uri": "https://localhost:8080/"
    },
    "id": "ixwlc4Zg35Ox",
    "outputId": "461363af-1496-40f5-ee2b-57329c66faff"
   },
   "outputs": [
    {
     "name": "stderr",
     "output_type": "stream",
     "text": [
      "/usr/local/lib/python3.7/dist-packages/ipykernel_launcher.py:1: SettingWithCopyWarning: \n",
      "A value is trying to be set on a copy of a slice from a DataFrame.\n",
      "Try using .loc[row_indexer,col_indexer] = value instead\n",
      "\n",
      "See the caveats in the documentation: https://pandas.pydata.org/pandas-docs/stable/user_guide/indexing.html#returning-a-view-versus-a-copy\n",
      "  \"\"\"Entry point for launching an IPython kernel.\n",
      "/usr/local/lib/python3.7/dist-packages/pandas/core/frame.py:4913: SettingWithCopyWarning: \n",
      "A value is trying to be set on a copy of a slice from a DataFrame\n",
      "\n",
      "See the caveats in the documentation: https://pandas.pydata.org/pandas-docs/stable/user_guide/indexing.html#returning-a-view-versus-a-copy\n",
      "  errors=errors,\n"
     ]
    },
    {
     "data": {
      "text/plain": [
       "1    3258\n",
       "0    1640\n",
       "Name: class, dtype: int64"
      ]
     },
     "execution_count": 5,
     "metadata": {},
     "output_type": "execute_result"
    }
   ],
   "source": [
    "df1['class'] = [1 if q >= 6 else 0 for q in df1['quality']]\n",
    "df1.drop('quality', axis=1, inplace=True)\n",
    "\n",
    "df1['class'].value_counts()"
   ]
  },
  {
   "cell_type": "markdown",
   "metadata": {
    "id": "qTsu4xmr5yLN"
   },
   "source": [
    "### Задание 4\n",
    "Разбейте набор данных из двух признаков и меток класса на обучающую и тестовую выборки. Постройте нейронную сеть с нормализующим слоем и параметрами, указанными в индивидуальном задании, для бинарной классификации и обучите ее на обучающей выборке. Оцените качество бинарной классификации при помощи матрицы ошибок для тестовой выборки."
   ]
  },
  {
   "cell_type": "markdown",
   "metadata": {
    "id": "cM6dVBc3ELCY"
   },
   "source": [
    "Для начала представим данные в виде массивов:"
   ]
  },
  {
   "cell_type": "code",
   "execution_count": 6,
   "metadata": {
    "colab": {
     "base_uri": "https://localhost:8080/"
    },
    "id": "CJdsu8GEAG2d",
    "outputId": "4b8238a3-f416-490c-8312-757b31edb0d3"
   },
   "outputs": [
    {
     "data": {
      "text/plain": [
       "((4898, 2), (4898,))"
      ]
     },
     "execution_count": 6,
     "metadata": {},
     "output_type": "execute_result"
    }
   ],
   "source": [
    "X = np.array(df1[['density','chlorides']])\n",
    "y = np.array(df1[['class']]).reshape(-1)\n",
    "X.shape, y.shape"
   ]
  },
  {
   "cell_type": "markdown",
   "metadata": {
    "id": "vpqe5w6rEWti"
   },
   "source": [
    "Теперь можем разделить набор данных на обучающую и тестовую выборки:"
   ]
  },
  {
   "cell_type": "code",
   "execution_count": 7,
   "metadata": {
    "id": "EXWNrBPfUz4z"
   },
   "outputs": [],
   "source": [
    "from sklearn.model_selection import train_test_split\n",
    "X_train, X_test, y_train, y_test = train_test_split(X, y, test_size=0.2, random_state=42)"
   ]
  },
  {
   "cell_type": "code",
   "execution_count": 8,
   "metadata": {
    "colab": {
     "base_uri": "https://localhost:8080/"
    },
    "id": "TE_CKQfTVVMU",
    "outputId": "4d6892b7-f1d6-441b-f187-f74d4ccd6fc9"
   },
   "outputs": [
    {
     "data": {
      "text/plain": [
       "((3918, 2), (980, 2), (3918,), (980,))"
      ]
     },
     "execution_count": 8,
     "metadata": {},
     "output_type": "execute_result"
    }
   ],
   "source": [
    "X_train.shape, X_test.shape, y_train.shape, y_test.shape"
   ]
  },
  {
   "cell_type": "markdown",
   "metadata": {
    "id": "ZNq7dlHmVjDq"
   },
   "source": [
    "Создадим нормализующий слой:"
   ]
  },
  {
   "cell_type": "code",
   "execution_count": 9,
   "metadata": {
    "id": "LHx04lcNVe_e"
   },
   "outputs": [],
   "source": [
    "feature_normalizer = tf.keras.layers.Normalization(axis=None,input_shape=(X.shape[1],)) \n",
    "feature_normalizer.adapt(X_train)"
   ]
  },
  {
   "cell_type": "markdown",
   "metadata": {
    "id": "MkQ2c2_YFeR0"
   },
   "source": [
    "Создадим нейронную сеть со слоем нормализации, тремя скрытыми слоями с 128  нейронами, функцией активации ReLu и выходным слоем из одного нейрона с функцией активации сигмоида:\n"
   ]
  },
  {
   "cell_type": "code",
   "execution_count": 10,
   "metadata": {
    "id": "U1pV8hTNFkjG"
   },
   "outputs": [],
   "source": [
    "model_1 = tf.keras.Sequential([\n",
    "    feature_normalizer,\n",
    "    tf.keras.layers.Dense(128, activation = 'relu'), \n",
    "    tf.keras.layers.Dense(128, activation = 'relu'),\n",
    "    tf.keras.layers.Dense(128, activation = 'relu'),\n",
    "    tf.keras.layers.Dense(1, activation = 'sigmoid')\n",
    "])"
   ]
  },
  {
   "cell_type": "markdown",
   "metadata": {
    "id": "Smwc1dqcWb_o"
   },
   "source": [
    "Используем в качестве функции потерь при работе с задачами бинарной классификации `binary_crossentropy`. В ходе обучения будем отслеживать показатель аккуратности (accuracy):"
   ]
  },
  {
   "cell_type": "code",
   "execution_count": 11,
   "metadata": {
    "id": "YlgGO2dMWdsy"
   },
   "outputs": [],
   "source": [
    "model_1.compile(loss= tf.keras.losses.binary_crossentropy,\n",
    "                optimizer = tf.keras.optimizers.Adam(learning_rate = 0.0005),\n",
    "                metrics = ['accuracy'])"
   ]
  },
  {
   "cell_type": "markdown",
   "metadata": {
    "id": "yW1eLKC-Gdvm"
   },
   "source": [
    "Обучим ее на обучающей выборке:"
   ]
  },
  {
   "cell_type": "code",
   "execution_count": 12,
   "metadata": {
    "colab": {
     "base_uri": "https://localhost:8080/"
    },
    "id": "IHk51puLGFBE",
    "outputId": "b852d19e-a668-4875-fe74-ea82df756a19"
   },
   "outputs": [
    {
     "name": "stdout",
     "output_type": "stream",
     "text": [
      "Epoch 1/15\n",
      "123/123 [==============================] - 1s 2ms/step - loss: 0.6398 - accuracy: 0.6646\n",
      "Epoch 2/15\n",
      "123/123 [==============================] - 0s 2ms/step - loss: 0.6354 - accuracy: 0.6672\n",
      "Epoch 3/15\n",
      "123/123 [==============================] - 0s 2ms/step - loss: 0.6339 - accuracy: 0.6672\n",
      "Epoch 4/15\n",
      "123/123 [==============================] - 0s 2ms/step - loss: 0.6306 - accuracy: 0.6672\n",
      "Epoch 5/15\n",
      "123/123 [==============================] - 0s 2ms/step - loss: 0.6294 - accuracy: 0.6685\n",
      "Epoch 6/15\n",
      "123/123 [==============================] - 0s 2ms/step - loss: 0.6276 - accuracy: 0.6679\n",
      "Epoch 7/15\n",
      "123/123 [==============================] - 0s 2ms/step - loss: 0.6264 - accuracy: 0.6682\n",
      "Epoch 8/15\n",
      "123/123 [==============================] - 0s 2ms/step - loss: 0.6237 - accuracy: 0.6674\n",
      "Epoch 9/15\n",
      "123/123 [==============================] - 0s 2ms/step - loss: 0.6203 - accuracy: 0.6682\n",
      "Epoch 10/15\n",
      "123/123 [==============================] - 0s 2ms/step - loss: 0.6167 - accuracy: 0.6710\n",
      "Epoch 11/15\n",
      "123/123 [==============================] - 0s 2ms/step - loss: 0.6158 - accuracy: 0.6733\n",
      "Epoch 12/15\n",
      "123/123 [==============================] - 0s 2ms/step - loss: 0.6154 - accuracy: 0.6702\n",
      "Epoch 13/15\n",
      "123/123 [==============================] - 0s 2ms/step - loss: 0.6177 - accuracy: 0.6713\n",
      "Epoch 14/15\n",
      "123/123 [==============================] - 0s 2ms/step - loss: 0.6167 - accuracy: 0.6776\n",
      "Epoch 15/15\n",
      "123/123 [==============================] - 0s 2ms/step - loss: 0.6113 - accuracy: 0.6728\n"
     ]
    }
   ],
   "source": [
    "model_1.fit(X_train, y_train, epochs = 15, verbose = 1);"
   ]
  },
  {
   "cell_type": "markdown",
   "metadata": {
    "id": "2MT87Lqfde9p"
   },
   "source": [
    "**Показатели качества бинарной классификации.**  \n",
    "Когда имеется всего два класса, то будем называть класс $c_{1}$ положительным классом, а класс $c_{2}$ отрицательным классом. Тогда матрица ошибок (confusion matrix) принимает вид:\n",
    "\n",
    "$$\\left(\\begin{array}{cc}\n",
    "TP & FN\\\\\n",
    "FP & TN\n",
    "\\end{array}\\right),$$\n",
    "\n",
    "где \n",
    "* $TP$ – (True Positives) – число корректно спрогнозированных точек в классе $c_{1}$ \n"
   ]
  },
  {
   "cell_type": "code",
   "execution_count": 13,
   "metadata": {
    "id": "tNJexhjVd1kr"
   },
   "outputs": [],
   "source": [
    "def TP(y_true, y_predict):\n",
    "    assert len(y_true) == len(y_predict)\n",
    "    return np.sum((y_true == 1) & (y_predict == 1))"
   ]
  },
  {
   "cell_type": "markdown",
   "metadata": {
    "id": "E9NucE-0d-Gq"
   },
   "source": [
    "* $TN$ – (True Negatives) – число корректно спрогнозированных точек в классе $c_{2}$ "
   ]
  },
  {
   "cell_type": "code",
   "execution_count": 14,
   "metadata": {
    "id": "ZdrUkBFJdvfV"
   },
   "outputs": [],
   "source": [
    "def TN(y_true, y_predict):\n",
    "    assert len(y_true) == len(y_predict)\n",
    "    return np.sum((y_true == 0) & (y_predict == 0))"
   ]
  },
  {
   "cell_type": "markdown",
   "metadata": {
    "id": "xoZ_bnJBeB9C"
   },
   "source": [
    "* $FP$ – (False Positives) – число точек в классе $c_{2}$, ошибочно спрогнозированных в класс $c_{1}$"
   ]
  },
  {
   "cell_type": "code",
   "execution_count": 15,
   "metadata": {
    "id": "ZNiHJeXVdwaD"
   },
   "outputs": [],
   "source": [
    "def FP(y_true, y_predict):\n",
    "    assert len(y_true) == len(y_predict)\n",
    "    return np.sum((y_true == 0) & (y_predict == 1))"
   ]
  },
  {
   "cell_type": "markdown",
   "metadata": {
    "id": "WTSBQ5TreD9x"
   },
   "source": [
    "* $FN$ – (False Negatives) – число точек в классе $c_{1}$, ошибочно спрогнозированных в класс $c_{2}$"
   ]
  },
  {
   "cell_type": "code",
   "execution_count": 16,
   "metadata": {
    "id": "AbPm1Xtwdzxw"
   },
   "outputs": [],
   "source": [
    "def FN(y_true, y_predict):\n",
    "    assert len(y_true) == len(y_predict)\n",
    "    return np.sum((y_true == 1) & (y_predict == 0))"
   ]
  },
  {
   "cell_type": "markdown",
   "metadata": {
    "id": "O2jeiJOEeMyd"
   },
   "source": [
    "Функция расчета матрицы ошибок для бинарной классификации:"
   ]
  },
  {
   "cell_type": "code",
   "execution_count": 17,
   "metadata": {
    "id": "PGwbPv2ceSgB"
   },
   "outputs": [],
   "source": [
    "def confusion_matrix(y_true, y_predict):\n",
    "    return np.array([\n",
    "        [TN(y_true, y_predict), FP(y_true, y_predict)],\n",
    "        [FN(y_true, y_predict), TP(y_true, y_predict)]\n",
    "    ])"
   ]
  },
  {
   "cell_type": "code",
   "execution_count": 18,
   "metadata": {
    "id": "L3TlEfYufFYX"
   },
   "outputs": [],
   "source": [
    "prediction = model_1.predict(X_test)\n",
    "y_pred = np.array([1 if prob > 0.5 else 0 for prob in np.ravel(prediction)])"
   ]
  },
  {
   "cell_type": "code",
   "execution_count": 19,
   "metadata": {
    "id": "5HBV9f5kjYbJ"
   },
   "outputs": [],
   "source": [
    "tp = TP(y_test, y_pred)\n",
    "tn = TN(y_test, y_pred)\n",
    "fp = FP(y_test, y_pred)\n",
    "fn = FN(y_test, y_pred)"
   ]
  },
  {
   "cell_type": "markdown",
   "metadata": {
    "id": "RNmZVJXheW8a"
   },
   "source": [
    "Оценим качество бинарной классификации при помощи матрицы ошибок:"
   ]
  },
  {
   "cell_type": "code",
   "execution_count": 20,
   "metadata": {
    "colab": {
     "base_uri": "https://localhost:8080/"
    },
    "id": "VPB2ufKfeuVT",
    "outputId": "b8c78c37-885d-4869-9be0-f4dda2ee2d60"
   },
   "outputs": [
    {
     "data": {
      "text/plain": [
       "array([[ 31, 305],\n",
       "       [ 23, 621]])"
      ]
     },
     "execution_count": 20,
     "metadata": {},
     "output_type": "execute_result"
    }
   ],
   "source": [
    "confusion_matrix(y_test, y_pred)"
   ]
  },
  {
   "cell_type": "markdown",
   "metadata": {
    "id": "K-E7zpHDhFtO"
   },
   "source": [
    "По ней мы можем рассчитать:\n",
    "1. Точность (precision) для положительного класса"
   ]
  },
  {
   "cell_type": "code",
   "execution_count": 21,
   "metadata": {
    "colab": {
     "base_uri": "https://localhost:8080/"
    },
    "id": "t1vbqqhqhNcb",
    "outputId": "497f6410-65ab-43de-d2ed-412b3b367d85"
   },
   "outputs": [
    {
     "data": {
      "text/plain": [
       "0.6706263498920086"
      ]
     },
     "execution_count": 21,
     "metadata": {},
     "output_type": "execute_result"
    }
   ],
   "source": [
    "tp / (tp + fp)"
   ]
  },
  {
   "cell_type": "markdown",
   "metadata": {
    "id": "mGyiiY4Mh4Nn"
   },
   "source": [
    "2. Долю ошибок (error rate)"
   ]
  },
  {
   "cell_type": "code",
   "execution_count": 22,
   "metadata": {
    "colab": {
     "base_uri": "https://localhost:8080/"
    },
    "id": "xlp-EA7JiFpq",
    "outputId": "f0e7cebe-ca8a-4c4c-e37c-a5ae3d4c2ffb"
   },
   "outputs": [
    {
     "data": {
      "text/plain": [
       "0.3346938775510204"
      ]
     },
     "execution_count": 22,
     "metadata": {},
     "output_type": "execute_result"
    }
   ],
   "source": [
    "P = tp + fn\n",
    "N = tn + fp\n",
    "(fp+fn)/(P+N)"
   ]
  },
  {
   "cell_type": "markdown",
   "metadata": {
    "id": "VTzH11foiUUM"
   },
   "source": [
    "3. Вероятность обнаружения (TPR)"
   ]
  },
  {
   "cell_type": "code",
   "execution_count": 23,
   "metadata": {
    "colab": {
     "base_uri": "https://localhost:8080/"
    },
    "id": "vSiHa1U0kCCO",
    "outputId": "6369a6a8-c5b7-4b37-c811-bcc1f43c3612"
   },
   "outputs": [
    {
     "data": {
      "text/plain": [
       "0.9642857142857143"
      ]
     },
     "execution_count": 23,
     "metadata": {},
     "output_type": "execute_result"
    }
   ],
   "source": [
    "tp/P"
   ]
  },
  {
   "cell_type": "markdown",
   "metadata": {
    "id": "bh74_nroItPG"
   },
   "source": [
    "### Задание 5\n",
    "Визуализируйте границы принятия решений построенной нейронной сетью на обучающей и тестовой выборках."
   ]
  },
  {
   "cell_type": "code",
   "execution_count": 24,
   "metadata": {
    "id": "5s1kfP4nG4M3"
   },
   "outputs": [],
   "source": [
    "def plot_decision_boundary(model, X, y):\n",
    "    # Найдем диапазоны изменения по осям и построим сетку\n",
    "    x_min, x_max = X[:, 0].min() - 0.1, X[:, 0].max() + 0.1\n",
    "    y_min, y_max = X[:, 1].min() - 0.1, X[:, 1].max() + 0.1\n",
    "    xx, yy = np.meshgrid(np.linspace(x_min, x_max, 100),\n",
    "                         np.linspace(y_min, y_max, 100))\n",
    "    # Набор данных для прогнозирования\n",
    "    X_in = np.c_[xx.ravel(), yy.ravel()] \n",
    "    # Прогноз при помощи обученной модели\n",
    "    y_pred = model.predict(X_in)\n",
    "    # Проверка мультиклассовости\n",
    "    if len(y_pred[1]) > 1:\n",
    "        # мультиклассовая классификация\n",
    "        # изменяем форму прогноза для визуализации \n",
    "        y_pred = np.argmax(y_pred, axis=1).reshape(xx.shape)\n",
    "    else:\n",
    "        # бинарная классификация \n",
    "        y_pred = np.round(y_pred).reshape(xx.shape)\n",
    "    # Рисуем границу решения\n",
    "    plt.contourf(xx, yy, y_pred, cmap=plt.cm.RdYlBu, alpha=0.7)\n",
    "    plt.scatter(X[:, 0], X[:, 1], c=y, s=40, cmap=plt.cm.RdYlBu)\n",
    "    plt.xlim(xx.min(), xx.max())\n",
    "    plt.ylim(yy.min(), yy.max())"
   ]
  },
  {
   "cell_type": "code",
   "execution_count": 25,
   "metadata": {
    "colab": {
     "base_uri": "https://localhost:8080/",
     "height": 404
    },
    "id": "mnCHbreXGut-",
    "outputId": "cbe2d40b-d4fe-490f-c63b-e5766fd0613c"
   },
   "outputs": [
    {
     "data": {
      "image/png": "[encoded data removed]",
      "text/plain": [
       "<Figure size 864x432 with 2 Axes>"
      ]
     },
     "metadata": {
      "needs_background": "light"
     },
     "output_type": "display_data"
    }
   ],
   "source": [
    "plt.figure(figsize=(12, 6))\n",
    "plt.subplot(1, 2, 1)\n",
    "plt.title(\"Обучающая выборка\")\n",
    "plot_decision_boundary(model_1, X=X_train, y=y_train)\n",
    "plt.xlabel('density')\n",
    "plt.ylabel('chlorides')\n",
    "plt.subplot(1, 2, 2)\n",
    "plt.title(\"Тестовая выборка\")\n",
    "plot_decision_boundary(model_1, X=X_test, y=y_test)\n",
    "plt.xlabel('density')\n",
    "plt.ylabel('chlorides');"
   ]
  },
  {
   "cell_type": "markdown",
   "metadata": {
    "id": "lDF9GYxtTwl5"
   },
   "source": [
    "### Задание 6\n",
    "Визуализируйте ROC-кривую для построенного классификатора и вычислите площадь под ROC-кривой методом трапеций или иным методом."
   ]
  },
  {
   "cell_type": "code",
   "execution_count": 26,
   "metadata": {
    "colab": {
     "base_uri": "https://localhost:8080/"
    },
    "id": "KaXEWGjZxdpk",
    "outputId": "198ca3c2-7065-442b-caf8-0e718d7622a4"
   },
   "outputs": [
    {
     "data": {
      "text/plain": [
       "(4898, 1)"
      ]
     },
     "execution_count": 26,
     "metadata": {},
     "output_type": "execute_result"
    }
   ],
   "source": [
    "prediction_ = model_1.predict(X)\n",
    "prediction_.shape"
   ]
  },
  {
   "cell_type": "code",
   "execution_count": 27,
   "metadata": {
    "id": "mmRhydSSwy3c"
   },
   "outputs": [],
   "source": [
    "def true_false_positive(threshold_vector, y_test):\n",
    "    true_positive = np.equal(threshold_vector, 1) & np.equal(y_test, 1)\n",
    "    true_negative = np.equal(threshold_vector, 0) & np.equal(y_test, 0)\n",
    "    false_positive = np.equal(threshold_vector, 1) & np.equal(y_test, 0)\n",
    "    false_negative = np.equal(threshold_vector, 0) & np.equal(y_test, 1)\n",
    "\n",
    "    tpr = true_positive.sum() / (true_positive.sum() + false_negative.sum())\n",
    "    fpr = false_positive.sum() / (false_positive.sum() + true_negative.sum())\n",
    "\n",
    "    return tpr, fpr"
   ]
  },
  {
   "cell_type": "code",
   "execution_count": 28,
   "metadata": {
    "id": "vgA7HVlywqK5"
   },
   "outputs": [],
   "source": [
    "def roc_from_scratch(probabilities, y_test, partitions=100):\n",
    "    roc = np.array([])\n",
    "    for i in range(partitions + 1):\n",
    "        \n",
    "        threshold_vector = np.greater_equal(probabilities, i / partitions).astype(int)\n",
    "        tpr, fpr = true_false_positive(threshold_vector, y_test)\n",
    "        roc = np.append(roc, [fpr, tpr])\n",
    "        \n",
    "    return roc.reshape(-1, 2)"
   ]
  },
  {
   "cell_type": "code",
   "execution_count": 29,
   "metadata": {
    "colab": {
     "base_uri": "https://localhost:8080/",
     "height": 468
    },
    "id": "aG_ZJZlbwjNf",
    "outputId": "a3a43dde-ddba-477b-f14e-1dd1075d1c68"
   },
   "outputs": [
    {
     "data": {
      "image/png": "[encoded data removed]",
      "text/plain": [
       "<Figure size 1080x504 with 1 Axes>"
      ]
     },
     "metadata": {
      "needs_background": "light"
     },
     "output_type": "display_data"
    }
   ],
   "source": [
    "plt.figure(figsize=(15,7))\n",
    "\n",
    "ROC = roc_from_scratch(prediction_.reshape(-1),y,partitions=50)\n",
    "plt.plot(ROC[:,0],ROC[:,1],color='#0F9D58',lw=5)\n",
    "plt.title('ROC кривая',fontsize=20)\n",
    "plt.xlabel('Показатель FPR (False Positive Rate)',fontsize=16)\n",
    "plt.ylabel('Показатель TPR (True Positive Rate)',fontsize=16);"
   ]
  },
  {
   "cell_type": "markdown",
   "metadata": {
    "id": "fqS0H2gj8G6H"
   },
   "source": [
    "Составная формула метода трапеций:  \n",
    " $\\int _{a}^{b}f(x)\\,dx\\approx \\sum _{{i=0}}^{{n-1}}{\\frac  {f(x_{i})+f(x_{{i+1}})}{2}}(x_{{i+1}}-x_{{i}})$"
   ]
  },
  {
   "cell_type": "markdown",
   "metadata": {
    "id": "fitqPoIp84ol"
   },
   "source": [
    "Создадим функцию для подсчета площади одной трапеции (одного шага):"
   ]
  },
  {
   "cell_type": "code",
   "execution_count": 30,
   "metadata": {
    "id": "EpurAZJf11mf"
   },
   "outputs": [],
   "source": [
    "def node(fx1, fx2, x1, x2):\n",
    "  return np.abs((fx1+fx2)*(x2-x1)/2)"
   ]
  },
  {
   "cell_type": "markdown",
   "metadata": {
    "id": "AkPn8ieg9KWg"
   },
   "source": [
    "Получим значение площади под ROC-кривой:"
   ]
  },
  {
   "cell_type": "code",
   "execution_count": 31,
   "metadata": {
    "colab": {
     "base_uri": "https://localhost:8080/"
    },
    "id": "dTc0W0ZB0BD4",
    "outputId": "dd00396a-66b2-4e74-9c4e-88dbd4a170f3"
   },
   "outputs": [
    {
     "name": "stdout",
     "output_type": "stream",
     "text": [
      "AUC =  0.674665083322104\n"
     ]
    }
   ],
   "source": [
    "S = 0\n",
    "for i in range(ROC.shape[0]-1):\n",
    "  S += node(ROC[i][1], ROC[i+1][1], ROC[i][0], ROC[i+1][0])\n",
    "print(\"AUC = \", S)"
   ]
  },
  {
   "cell_type": "markdown",
   "metadata": {
    "id": "vXhrK2lb9xhl"
   },
   "source": [
    "### Задание 7\n",
    "Обучите на полном наборе данных нейронную сеть с одним слоем и одним выходным нейроном с функцией активации сигмоида и определите дополнительный признак, отличный от указанных в задании двух независимых признаков, принимающий непрерывные значения и являющийся важным по абсолютному значению веса в обученной нейронной сети. "
   ]
  },
  {
   "cell_type": "markdown",
   "metadata": {
    "id": "18PZNX2WmuZl"
   },
   "source": [
    "Сформируем массивы из признаков (X2) и меток класса (y2):"
   ]
  },
  {
   "cell_type": "code",
   "execution_count": 122,
   "metadata": {
    "colab": {
     "base_uri": "https://localhost:8080/"
    },
    "id": "nOG7AnoXY0pu",
    "outputId": "ae41d83e-a988-4568-e86d-a18eb5b754e9"
   },
   "outputs": [
    {
     "data": {
      "text/plain": [
       "((4898, 11), (4898,))"
      ]
     },
     "execution_count": 122,
     "metadata": {},
     "output_type": "execute_result"
    }
   ],
   "source": [
    "X2 = np.array(df.drop('quality', axis=1))\n",
    "y2 = np.array(df['quality'])\n",
    "X2.shape, y2.shape"
   ]
  },
  {
   "cell_type": "markdown",
   "metadata": {
    "id": "PVf0UgWbq-jB"
   },
   "source": [
    "Создадим нормализующий слой и адаптируем для всех признаков:"
   ]
  },
  {
   "cell_type": "code",
   "execution_count": 123,
   "metadata": {
    "id": "FEYH0a_5pXRk"
   },
   "outputs": [],
   "source": [
    "features_normalizer = tf.keras.layers.Normalization(axis=None,input_shape=(X2.shape[1],)) \n",
    "features_normalizer.adapt(X2)"
   ]
  },
  {
   "cell_type": "markdown",
   "metadata": {
    "id": "OSBIf3IGrXdL"
   },
   "source": [
    "Создадим нейронную сеть с одним слоем и одним выходным нейроном с функцией активации сигмоида:"
   ]
  },
  {
   "cell_type": "code",
   "execution_count": 124,
   "metadata": {
    "colab": {
     "base_uri": "https://localhost:8080/"
    },
    "id": "Nuyp5yJcrS9N",
    "outputId": "709f4db3-757c-43a9-ecc0-06ec34f43f32"
   },
   "outputs": [
    {
     "name": "stdout",
     "output_type": "stream",
     "text": [
      "Model: \"sequential_18\"\n",
      "_________________________________________________________________\n",
      " Layer (type)                Output Shape              Param #   \n",
      "=================================================================\n",
      " normalization_9 (Normalizat  (None, 11)               3         \n",
      " ion)                                                            \n",
      "                                                                 \n",
      " dense_42 (Dense)            (None, 1)                 12        \n",
      "                                                                 \n",
      "=================================================================\n",
      "Total params: 15\n",
      "Trainable params: 12\n",
      "Non-trainable params: 3\n",
      "_________________________________________________________________\n"
     ]
    }
   ],
   "source": [
    "model_2 = tf.keras.Sequential([\n",
    "    features_normalizer,\n",
    "    tf.keras.layers.Dense(1, activation='sigmoid')\n",
    "])\n",
    "\n",
    "model_2.summary()"
   ]
  },
  {
   "cell_type": "markdown",
   "metadata": {
    "id": "Gbly2IAZr9Rd"
   },
   "source": [
    "Скомпилируем и обучим модель:"
   ]
  },
  {
   "cell_type": "code",
   "execution_count": 125,
   "metadata": {
    "id": "Ye6Q99-pr_6g"
   },
   "outputs": [],
   "source": [
    "model_2.compile(loss=tf.keras.losses.binary_crossentropy)\n",
    "model_2.fit(X2, y2, epochs=100, verbose=0);"
   ]
  },
  {
   "cell_type": "markdown",
   "metadata": {
    "id": "Kp7U6J-KsFmj"
   },
   "source": [
    "Посмотрим на значения весов в выходном слое:"
   ]
  },
  {
   "cell_type": "code",
   "execution_count": 126,
   "metadata": {
    "colab": {
     "base_uri": "https://localhost:8080/"
    },
    "id": "X8NgA25yslqY",
    "outputId": "0fd51043-5b50-418a-ad61-dc1f9297c240"
   },
   "outputs": [
    {
     "data": {
      "text/plain": [
       "array([[14.9794035],\n",
       "       [15.018522 ],\n",
       "       [15.936247 ],\n",
       "       [15.197053 ],\n",
       "       [15.204806 ],\n",
       "       [15.823586 ],\n",
       "       [14.990222 ],\n",
       "       [14.923561 ],\n",
       "       [15.948238 ],\n",
       "       [15.238623 ],\n",
       "       [15.730975 ]], dtype=float32)"
      ]
     },
     "execution_count": 126,
     "metadata": {},
     "output_type": "execute_result"
    }
   ],
   "source": [
    "mean = np.abs(model_2.layers[1].kernel)\n",
    "mean"
   ]
  },
  {
   "cell_type": "markdown",
   "metadata": {
    "id": "HL5YUDgvtTbr"
   },
   "source": [
    "Попробовала найти некие средние значения:"
   ]
  },
  {
   "cell_type": "code",
   "execution_count": 127,
   "metadata": {
    "colab": {
     "base_uri": "https://localhost:8080/"
    },
    "id": "lsnX0jpeufLb",
    "outputId": "a1f9f1ba-7eb2-470f-91fb-a119c042a6bb"
   },
   "outputs": [
    {
     "data": {
      "text/plain": [
       "array([[15.168088 ],\n",
       "       [15.351463 ],\n",
       "       [15.413597 ],\n",
       "       [15.408157 ],\n",
       "       [15.467511 ],\n",
       "       [15.099386 ],\n",
       "       [15.225761 ],\n",
       "       [15.3685665],\n",
       "       [15.450398 ],\n",
       "       [15.266645 ],\n",
       "       [15.4457655]], dtype=float32)"
      ]
     },
     "execution_count": 127,
     "metadata": {},
     "output_type": "execute_result"
    }
   ],
   "source": [
    "for i in range(9):\n",
    "  X2 = np.array(df.drop('quality', axis=1))\n",
    "  y2 = np.array(df['quality'])\n",
    "  model_2 = tf.keras.Sequential([\n",
    "      features_normalizer,\n",
    "      tf.keras.layers.Dense(1, activation='sigmoid')\n",
    "  ])\n",
    "  model_2.compile(loss=tf.keras.losses.binary_crossentropy)\n",
    "  model_2.fit(X2, y2, epochs=100, verbose=0)\n",
    "  mean+=np.abs(model_2.layers[1].kernel)\n",
    "mean/10"
   ]
  },
  {
   "cell_type": "markdown",
   "metadata": {
    "id": "NVD1GEDEsVXR"
   },
   "source": [
    "Более высокие значения весов (по абсолютному значению) и, соответственно, более высокую важность имеет 4 признак, который мы и так используем. Поэтому возьмем следующий по важности признак - 9 (features/sulphates)"
   ]
  },
  {
   "cell_type": "markdown",
   "metadata": {
    "id": "B_ldwZVHaC1c"
   },
   "source": [
    "### Задание 8\n",
    "Визуализируйте точки набора данных в трехмерном пространстве с координатами, соответствующими трем независимым признакам, отображая точки различных классов разными цветами. Подпишите оси и рисунок, создайте легенду для классов набора данных."
   ]
  },
  {
   "cell_type": "code",
   "execution_count": 38,
   "metadata": {
    "colab": {
     "base_uri": "https://localhost:8080/",
     "height": 575
    },
    "id": "Q5kb9LqY8cTZ",
    "outputId": "d33a40ab-9140-4177-91d8-d7beac672337"
   },
   "outputs": [
    {
     "data": {
      "image/png": "[encoded data removed]",
      "text/plain": [
       "<Figure size 864x720 with 1 Axes>"
      ]
     },
     "metadata": {
      "needs_background": "light"
     },
     "output_type": "display_data"
    }
   ],
   "source": [
    "fig = plt.figure(figsize=(12,10)) \n",
    "ax = plt.axes(projection='3d') \n",
    "ax.set_title(r\"Набор данных с информацией о качестве вина на основе 3-x физико-химических показателей\", fontsize=12)\n",
    "\n",
    "xs = df['features/density']\n",
    "ys = df['features/chlorides']\n",
    "zs = df['features/sulphates']\n",
    "\n",
    "ax.scatter( xs, ys, zs, c=df['quality'],\n",
    "                     vmin=2, vmax=9, cmap='RdBu_r', s=100) \n",
    "ax.set_xlabel('density')        \n",
    "ax.set_ylabel('chlorides')\n",
    "ax.set_zlabel('sulphates') \n",
    "legend = ax.legend(*scatter.legend_elements(num=6), \n",
    "                    loc=\"center right\", title=\"Wine's quality\")\n",
    "ax.view_init( azim=-110, elev=25 );"
   ]
  },
  {
   "cell_type": "markdown",
   "metadata": {
    "id": "MVH3f31Y-GH3"
   },
   "source": [
    "### Задание 9 \n",
    "Разбейте полный набор данных на обучающую и тестовую выборки. Постройте нейронную сеть с нормализующим слоем и параметрами, указанными в индивидуальном задании, для многоклассовой классификации и обучите ее на обучающей выборке."
   ]
  },
  {
   "cell_type": "markdown",
   "metadata": {
    "id": "MbHFwqh8Aw3Z"
   },
   "source": [
    "Разделим набор данных на массив признаков и массив меток классов."
   ]
  },
  {
   "cell_type": "code",
   "execution_count": 112,
   "metadata": {
    "colab": {
     "base_uri": "https://localhost:8080/"
    },
    "id": "PuKTNu85__AY",
    "outputId": "57290114-318f-4a9b-8b1f-916c836b23b8"
   },
   "outputs": [
    {
     "data": {
      "text/plain": [
       "((4898, 11), (4898,))"
      ]
     },
     "execution_count": 112,
     "metadata": {},
     "output_type": "execute_result"
    }
   ],
   "source": [
    "X3 = np.array(df.drop('quality', axis=1))\n",
    "y3 = np.array(df['quality'])\n",
    "X3.shape, y3.shape"
   ]
  },
  {
   "cell_type": "markdown",
   "metadata": {
    "id": "bih8ZRn3BVwL"
   },
   "source": [
    "Разобъем набор данных на обучающую и тестовую выборки:"
   ]
  },
  {
   "cell_type": "code",
   "execution_count": 113,
   "metadata": {
    "colab": {
     "base_uri": "https://localhost:8080/"
    },
    "id": "Sb5xkEZwBb9L",
    "outputId": "76ccb103-8958-4157-a79c-9ce105685f5a"
   },
   "outputs": [
    {
     "data": {
      "text/plain": [
       "((3918,), (980,))"
      ]
     },
     "execution_count": 113,
     "metadata": {},
     "output_type": "execute_result"
    }
   ],
   "source": [
    "X3_train, X3_test, y3_train, y3_test = train_test_split(X3, y3, test_size=0.2, random_state=42)\n",
    "y3_train.shape, y3_test.shape"
   ]
  },
  {
   "cell_type": "markdown",
   "metadata": {
    "id": "7Js-fwOLKSxD"
   },
   "source": [
    "Преобразуем одномерный массив со зачениями от 3 до 9 (категория вина) в многомерный массив с 7 колонками, в котором каждая колонка отвечает за свою категорию и принимает значение 0 или 1 (в одной строке одна 1)."
   ]
  },
  {
   "cell_type": "code",
   "execution_count": 114,
   "metadata": {
    "id": "60lhGVFHJGAb"
   },
   "outputs": [],
   "source": [
    "def to_one_hot(labels, dimension=7):\n",
    "    results = np.zeros((len(labels), dimension))\n",
    "    for i, label in enumerate(labels):\n",
    "        results[i-3, label-3] = 1.\n",
    "    return results"
   ]
  },
  {
   "cell_type": "code",
   "execution_count": 115,
   "metadata": {
    "colab": {
     "base_uri": "https://localhost:8080/"
    },
    "id": "377eyrf5LtUN",
    "outputId": "e7567738-e401-4c94-f0cf-ba5decea45c2"
   },
   "outputs": [
    {
     "data": {
      "text/plain": [
       "((3918, 7), (980, 7))"
      ]
     },
     "execution_count": 115,
     "metadata": {},
     "output_type": "execute_result"
    }
   ],
   "source": [
    "y3_train = to_one_hot(y3_train)\n",
    "y3_test = to_one_hot(y3_test)\n",
    "y3_train.shape, y3_test.shape"
   ]
  },
  {
   "cell_type": "markdown",
   "metadata": {
    "id": "u4q2RAs0PrK4"
   },
   "source": [
    "Построим нейронную сеть с нормализующим слоем и параметрами, указанными в индивидуальном задании, для многоклассовой классификации и обучим ее на обучающей выборке:"
   ]
  },
  {
   "cell_type": "markdown",
   "metadata": {
    "id": "srOnGIh6R_dv"
   },
   "source": [
    "Нормализующий слой:"
   ]
  },
  {
   "cell_type": "code",
   "execution_count": 116,
   "metadata": {
    "id": "_Kt6PEQbPuN4"
   },
   "outputs": [],
   "source": [
    "features_normalizer2 = tf.keras.layers.Normalization(axis=None,input_shape=(X3.shape[1],)) \n",
    "features_normalizer2.adapt(X3_train)"
   ]
  },
  {
   "cell_type": "markdown",
   "metadata": {
    "id": "XG5RlYy-SDj_"
   },
   "source": [
    "Нейронная сеть: кол-во скрытых слоев – 3, кол-во нейронов в скрытом слое – 128."
   ]
  },
  {
   "cell_type": "code",
   "execution_count": 117,
   "metadata": {
    "id": "kCSUEvT-RJeg"
   },
   "outputs": [],
   "source": [
    "model = tf.keras.Sequential([\n",
    "    features_normalizer2,\n",
    "    tf.keras.layers.Dense(128, activation=\"relu\"),\n",
    "    tf.keras.layers.Dense(128, activation=\"relu\"),\n",
    "    tf.keras.layers.Dense(128, activation=\"relu\"),\n",
    "    tf.keras.layers.Dense(7, activation=\"softmax\") # по количеству классов\n",
    "])"
   ]
  },
  {
   "cell_type": "code",
   "execution_count": 118,
   "metadata": {
    "id": "pg-kpjY1RLsZ"
   },
   "outputs": [],
   "source": [
    "model.compile(optimizer=tf.keras.optimizers.RMSprop(learning_rate=0.0001),\n",
    "              #optimizer=tf.keras.optimizers.Adam(learning_rate=0.0001),\n",
    "              loss=\"categorical_crossentropy\",\n",
    "              metrics=[\"accuracy\"])"
   ]
  },
  {
   "cell_type": "markdown",
   "metadata": {
    "id": "LTAYA1sDSlHI"
   },
   "source": [
    "Обучим нашу модель:"
   ]
  },
  {
   "cell_type": "code",
   "execution_count": 119,
   "metadata": {
    "colab": {
     "base_uri": "https://localhost:8080/"
    },
    "id": "P5h2pxXyRNx8",
    "outputId": "88b870f3-8a00-48f6-dee5-4e685a939b76"
   },
   "outputs": [
    {
     "name": "stdout",
     "output_type": "stream",
     "text": [
      "Epoch 1/30\n",
      "98/98 [==============================] - 1s 4ms/step - loss: 1.6366 - accuracy: 0.4375 - val_loss: 1.3994 - val_accuracy: 0.4541\n",
      "Epoch 2/30\n",
      "98/98 [==============================] - 0s 3ms/step - loss: 1.3607 - accuracy: 0.4560 - val_loss: 1.2828 - val_accuracy: 0.4541\n",
      "Epoch 3/30\n",
      "98/98 [==============================] - 0s 2ms/step - loss: 1.3150 - accuracy: 0.4560 - val_loss: 1.2655 - val_accuracy: 0.4541\n",
      "Epoch 4/30\n",
      "98/98 [==============================] - 0s 2ms/step - loss: 1.3045 - accuracy: 0.4560 - val_loss: 1.2584 - val_accuracy: 0.4541\n",
      "Epoch 5/30\n",
      "98/98 [==============================] - 0s 2ms/step - loss: 1.3008 - accuracy: 0.4560 - val_loss: 1.2528 - val_accuracy: 0.4541\n",
      "Epoch 6/30\n",
      "98/98 [==============================] - 0s 2ms/step - loss: 1.2976 - accuracy: 0.4560 - val_loss: 1.2497 - val_accuracy: 0.4541\n",
      "Epoch 7/30\n",
      "98/98 [==============================] - 0s 3ms/step - loss: 1.2961 - accuracy: 0.4560 - val_loss: 1.2518 - val_accuracy: 0.4541\n",
      "Epoch 8/30\n",
      "98/98 [==============================] - 0s 2ms/step - loss: 1.2954 - accuracy: 0.4560 - val_loss: 1.2491 - val_accuracy: 0.4541\n",
      "Epoch 9/30\n",
      "98/98 [==============================] - 0s 2ms/step - loss: 1.2949 - accuracy: 0.4560 - val_loss: 1.2473 - val_accuracy: 0.4541\n",
      "Epoch 10/30\n",
      "98/98 [==============================] - 0s 2ms/step - loss: 1.2936 - accuracy: 0.4560 - val_loss: 1.2491 - val_accuracy: 0.4554\n",
      "Epoch 11/30\n",
      "98/98 [==============================] - 0s 2ms/step - loss: 1.2930 - accuracy: 0.4560 - val_loss: 1.2458 - val_accuracy: 0.4541\n",
      "Epoch 12/30\n",
      "98/98 [==============================] - 0s 3ms/step - loss: 1.2925 - accuracy: 0.4560 - val_loss: 1.2490 - val_accuracy: 0.4541\n",
      "Epoch 13/30\n",
      "98/98 [==============================] - 0s 2ms/step - loss: 1.2927 - accuracy: 0.4560 - val_loss: 1.2460 - val_accuracy: 0.4541\n",
      "Epoch 14/30\n",
      "98/98 [==============================] - 0s 2ms/step - loss: 1.2911 - accuracy: 0.4560 - val_loss: 1.2459 - val_accuracy: 0.4541\n",
      "Epoch 15/30\n",
      "98/98 [==============================] - 0s 2ms/step - loss: 1.2919 - accuracy: 0.4560 - val_loss: 1.2452 - val_accuracy: 0.4541\n",
      "Epoch 16/30\n",
      "98/98 [==============================] - 0s 3ms/step - loss: 1.2914 - accuracy: 0.4560 - val_loss: 1.2462 - val_accuracy: 0.4541\n",
      "Epoch 17/30\n",
      "98/98 [==============================] - 0s 2ms/step - loss: 1.2914 - accuracy: 0.4560 - val_loss: 1.2442 - val_accuracy: 0.4541\n",
      "Epoch 18/30\n",
      "98/98 [==============================] - 0s 2ms/step - loss: 1.2909 - accuracy: 0.4560 - val_loss: 1.2438 - val_accuracy: 0.4541\n",
      "Epoch 19/30\n",
      "98/98 [==============================] - 0s 2ms/step - loss: 1.2903 - accuracy: 0.4560 - val_loss: 1.2467 - val_accuracy: 0.4541\n",
      "Epoch 20/30\n",
      "98/98 [==============================] - 0s 3ms/step - loss: 1.2900 - accuracy: 0.4560 - val_loss: 1.2438 - val_accuracy: 0.4541\n",
      "Epoch 21/30\n",
      "98/98 [==============================] - 0s 2ms/step - loss: 1.2892 - accuracy: 0.4560 - val_loss: 1.2441 - val_accuracy: 0.4541\n",
      "Epoch 22/30\n",
      "98/98 [==============================] - 0s 2ms/step - loss: 1.2898 - accuracy: 0.4560 - val_loss: 1.2457 - val_accuracy: 0.4541\n",
      "Epoch 23/30\n",
      "98/98 [==============================] - 0s 2ms/step - loss: 1.2895 - accuracy: 0.4560 - val_loss: 1.2430 - val_accuracy: 0.4541\n",
      "Epoch 24/30\n",
      "98/98 [==============================] - 0s 3ms/step - loss: 1.2891 - accuracy: 0.4560 - val_loss: 1.2435 - val_accuracy: 0.4541\n",
      "Epoch 25/30\n",
      "98/98 [==============================] - 0s 2ms/step - loss: 1.2887 - accuracy: 0.4560 - val_loss: 1.2456 - val_accuracy: 0.4541\n",
      "Epoch 26/30\n",
      "98/98 [==============================] - 0s 2ms/step - loss: 1.2892 - accuracy: 0.4560 - val_loss: 1.2451 - val_accuracy: 0.4541\n",
      "Epoch 27/30\n",
      "98/98 [==============================] - 0s 2ms/step - loss: 1.2886 - accuracy: 0.4560 - val_loss: 1.2433 - val_accuracy: 0.4541\n",
      "Epoch 28/30\n",
      "98/98 [==============================] - 0s 3ms/step - loss: 1.2875 - accuracy: 0.4560 - val_loss: 1.2498 - val_accuracy: 0.4554\n",
      "Epoch 29/30\n",
      "98/98 [==============================] - 0s 2ms/step - loss: 1.2885 - accuracy: 0.4560 - val_loss: 1.2438 - val_accuracy: 0.4554\n",
      "Epoch 30/30\n",
      "98/98 [==============================] - 0s 2ms/step - loss: 1.2885 - accuracy: 0.4560 - val_loss: 1.2460 - val_accuracy: 0.4541\n"
     ]
    }
   ],
   "source": [
    "history = model.fit(X3_train,\n",
    "                    y3_train,\n",
    "                    epochs=30,\n",
    "                    # уровень выводимой информации\n",
    "                    verbose=1,\n",
    "                    # проверка (валидация) на 20% обучающих данных\n",
    "                    validation_split = 0.2)"
   ]
  },
  {
   "cell_type": "markdown",
   "metadata": {
    "id": "z-8pjOD0-H61"
   },
   "source": [
    "### Задание 10\n",
    "Постройте кривые обучения в зависимости от эпохи обучения, подписывая оси и рисунок и создавая легенду."
   ]
  },
  {
   "cell_type": "code",
   "execution_count": 120,
   "metadata": {
    "colab": {
     "base_uri": "https://localhost:8080/",
     "height": 296
    },
    "id": "KyGHloHDWPZf",
    "outputId": "babe8a1d-20d1-4d3b-8611-33f64fbbed7a"
   },
   "outputs": [
    {
     "data": {
      "image/png": "[encoded data removed]",
      "text/plain": [
       "<Figure size 432x288 with 1 Axes>"
      ]
     },
     "metadata": {
      "needs_background": "light"
     },
     "output_type": "display_data"
    }
   ],
   "source": [
    "loss = history.history[\"loss\"]\n",
    "val_loss = history.history[\"val_loss\"]\n",
    "epochs = range(1, len(loss) + 1)\n",
    "plt.plot(epochs, loss, \"bo\", label=\"Потери на обучающей выборке\")\n",
    "plt.plot(epochs, val_loss, \"r\", label=\"Потери на тестовой выборке\")\n",
    "plt.title(\"Функция потерь при обучении модели\", size = 14)\n",
    "plt.xlabel(\"Эпохи обучения\", size = 11)\n",
    "plt.ylabel(\"Функция потерь\", size = 11)\n",
    "plt.legend();"
   ]
  },
  {
   "cell_type": "code",
   "execution_count": 121,
   "metadata": {
    "colab": {
     "base_uri": "https://localhost:8080/",
     "height": 296
    },
    "id": "XXCZRoCHU3dd",
    "outputId": "990f6627-83d8-4fed-8735-0da407e14c75"
   },
   "outputs": [
    {
     "data": {
      "image/png": "[encoded data removed]",
      "text/plain": [
       "<Figure size 432x288 with 1 Axes>"
      ]
     },
     "metadata": {
      "needs_background": "light"
     },
     "output_type": "display_data"
    }
   ],
   "source": [
    "plt.plot(np.arange(1, 31), history.history['loss'], label='Потери')\n",
    "plt.plot(np.arange(1, 31), history.history['accuracy'], label='Аккуратность')\n",
    "plt.title('Показатели качества нейронной сети', size=14)\n",
    "plt.xlabel('Эпохи', size=11)\n",
    "plt.legend();"
   ]
  }
 ],
 "metadata": {
  "colab": {
   "collapsed_sections": [],
   "name": "Lab4 (Ponomareva).ipynb",
   "provenance": []
  },
  "kernelspec": {
   "display_name": "Python 3",
   "language": "python",
   "name": "python3"
  },
  "language_info": {
   "codemirror_mode": {
    "name": "ipython",
    "version": 3
   },
   "file_extension": ".py",
   "mimetype": "text/x-python",
   "name": "python",
   "nbconvert_exporter": "python",
   "pygments_lexer": "ipython3",
   "version": "3.7.4"
  },
  "widgets": {
   "application/vnd.jupyter.widget-state+json": {
    "0686e3622a914333bb01ae433d4f381c": {
     "model_module": "@jupyter-widgets/controls",
     "model_module_version": "1.5.0",
     "model_name": "ProgressStyleModel",
     "state": {
      "_model_module": "@jupyter-widgets/controls",
      "_model_module_version": "1.5.0",
      "_model_name": "ProgressStyleModel",
      "_view_count": null,
      "_view_module": "@jupyter-widgets/base",
      "_view_module_version": "1.2.0",
      "_view_name": "StyleView",
      "bar_color": null,
      "description_width": ""
     }
    },
    "09b58394ae6c40b0986337b0f75f9291": {
     "model_module": "@jupyter-widgets/controls",
     "model_module_version": "1.5.0",
     "model_name": "HTMLModel",
     "state": {
      "_dom_classes": [],
      "_model_module": "@jupyter-widgets/controls",
      "_model_module_version": "1.5.0",
      "_model_name": "HTMLModel",
      "_view_count": null,
      "_view_module": "@jupyter-widgets/controls",
      "_view_module_version": "1.5.0",
      "_view_name": "HTMLView",
      "description": "",
      "description_tooltip": null,
      "layout": "IPY_MODEL_f6b7ad7806a94a9cbfa6db627001490d",
      "placeholder": "​",
      "style": "IPY_MODEL_da7c7bcb56834d9b8ccff9a482813907",
      "value": " 4897/4898 [00:00&lt;00:00,  9.78 examples/s]"
     }
    },
    "0d734550b4f24617878d17b006ec5c96": {
     "model_module": "@jupyter-widgets/controls",
     "model_module_version": "1.5.0",
     "model_name": "ProgressStyleModel",
     "state": {
      "_model_module": "@jupyter-widgets/controls",
      "_model_module_version": "1.5.0",
      "_model_name": "ProgressStyleModel",
      "_view_count": null,
      "_view_module": "@jupyter-widgets/base",
      "_view_module_version": "1.2.0",
      "_view_name": "StyleView",
      "bar_color": null,
      "description_width": ""
     }
    },
    "181d318df9fd48728622e73f21e99c6d": {
     "model_module": "@jupyter-widgets/controls",
     "model_module_version": "1.5.0",
     "model_name": "FloatProgressModel",
     "state": {
      "_dom_classes": [],
      "_model_module": "@jupyter-widgets/controls",
      "_model_module_version": "1.5.0",
      "_model_name": "FloatProgressModel",
      "_view_count": null,
      "_view_module": "@jupyter-widgets/controls",
      "_view_module_version": "1.5.0",
      "_view_name": "ProgressView",
      "bar_style": "success",
      "description": "",
      "description_tooltip": null,
      "layout": "IPY_MODEL_a7f565ca74c34a3096920999823e931f",
      "max": 1,
      "min": 0,
      "orientation": "horizontal",
      "style": "IPY_MODEL_2a8e3af81f3d44cd8f586b675ae0bb6f",
      "value": 0
     }
    },
    "1e51352b8dce40fba39fc84ce1fe8d95": {
     "model_module": "@jupyter-widgets/controls",
     "model_module_version": "1.5.0",
     "model_name": "HTMLModel",
     "state": {
      "_dom_classes": [],
      "_model_module": "@jupyter-widgets/controls",
      "_model_module_version": "1.5.0",
      "_model_name": "HTMLModel",
      "_view_count": null,
      "_view_module": "@jupyter-widgets/controls",
      "_view_module_version": "1.5.0",
      "_view_name": "HTMLView",
      "description": "",
      "description_tooltip": null,
      "layout": "IPY_MODEL_59776b6e283345568e80fee81ea1dc21",
      "placeholder": "​",
      "style": "IPY_MODEL_351e2c3cb9364d31ac17e6c1bc03015b",
      "value": " 1/1 [00:01&lt;00:00,  1.32s/ url]"
     }
    },
    "1f66ed6966fe45dbb9b4ab43f2959a54": {
     "model_module": "@jupyter-widgets/controls",
     "model_module_version": "1.5.0",
     "model_name": "HBoxModel",
     "state": {
      "_dom_classes": [],
      "_model_module": "@jupyter-widgets/controls",
      "_model_module_version": "1.5.0",
      "_model_name": "HBoxModel",
      "_view_count": null,
      "_view_module": "@jupyter-widgets/controls",
      "_view_module_version": "1.5.0",
      "_view_name": "HBoxView",
      "box_style": "",
      "children": [
       "IPY_MODEL_3d468082305c4ebc99cfb9d6ac0d23ab",
       "IPY_MODEL_83b11256f3ff41a5a3c92a205e6908eb",
       "IPY_MODEL_b5b4835764f347c3a3e5716fda21efab"
      ],
      "layout": "IPY_MODEL_e136f5d0ff1945c3a91835d41bcaf77e"
     }
    },
    "2217cb1d1bc14ce0886cf235848b57f0": {
     "model_module": "@jupyter-widgets/controls",
     "model_module_version": "1.5.0",
     "model_name": "DescriptionStyleModel",
     "state": {
      "_model_module": "@jupyter-widgets/controls",
      "_model_module_version": "1.5.0",
      "_model_name": "DescriptionStyleModel",
      "_view_count": null,
      "_view_module": "@jupyter-widgets/base",
      "_view_module_version": "1.2.0",
      "_view_name": "StyleView",
      "description_width": ""
     }
    },
    "2a8e3af81f3d44cd8f586b675ae0bb6f": {
     "model_module": "@jupyter-widgets/controls",
     "model_module_version": "1.5.0",
     "model_name": "ProgressStyleModel",
     "state": {
      "_model_module": "@jupyter-widgets/controls",
      "_model_module_version": "1.5.0",
      "_model_name": "ProgressStyleModel",
      "_view_count": null,
      "_view_module": "@jupyter-widgets/base",
      "_view_module_version": "1.2.0",
      "_view_name": "StyleView",
      "bar_color": null,
      "description_width": ""
     }
    },
    "351e2c3cb9364d31ac17e6c1bc03015b": {
     "model_module": "@jupyter-widgets/controls",
     "model_module_version": "1.5.0",
     "model_name": "DescriptionStyleModel",
     "state": {
      "_model_module": "@jupyter-widgets/controls",
      "_model_module_version": "1.5.0",
      "_model_name": "DescriptionStyleModel",
      "_view_count": null,
      "_view_module": "@jupyter-widgets/base",
      "_view_module_version": "1.2.0",
      "_view_name": "StyleView",
      "description_width": ""
     }
    },
    "39b90b78a52f41058ff865f7ae0a15f4": {
     "model_module": "@jupyter-widgets/controls",
     "model_module_version": "1.5.0",
     "model_name": "FloatProgressModel",
     "state": {
      "_dom_classes": [],
      "_model_module": "@jupyter-widgets/controls",
      "_model_module_version": "1.5.0",
      "_model_name": "FloatProgressModel",
      "_view_count": null,
      "_view_module": "@jupyter-widgets/controls",
      "_view_module_version": "1.5.0",
      "_view_name": "ProgressView",
      "bar_style": "danger",
      "description": "",
      "description_tooltip": null,
      "layout": "IPY_MODEL_92740ad745b64e61b572738e480e3841",
      "max": 4898,
      "min": 0,
      "orientation": "horizontal",
      "style": "IPY_MODEL_0686e3622a914333bb01ae433d4f381c",
      "value": 4897
     }
    },
    "3d468082305c4ebc99cfb9d6ac0d23ab": {
     "model_module": "@jupyter-widgets/controls",
     "model_module_version": "1.5.0",
     "model_name": "HTMLModel",
     "state": {
      "_dom_classes": [],
      "_model_module": "@jupyter-widgets/controls",
      "_model_module_version": "1.5.0",
      "_model_name": "HTMLModel",
      "_view_count": null,
      "_view_module": "@jupyter-widgets/controls",
      "_view_module_version": "1.5.0",
      "_view_name": "HTMLView",
      "description": "",
      "description_tooltip": null,
      "layout": "IPY_MODEL_ce97885521104a9b992650f4a35700ff",
      "placeholder": "​",
      "style": "IPY_MODEL_4f27a8969d33458f951c16d70f5fea2f",
      "value": ""
     }
    },
    "3f3b2a0d4d42478cae4fbb784846f803": {
     "model_module": "@jupyter-widgets/base",
     "model_module_version": "1.2.0",
     "model_name": "LayoutModel",
     "state": {
      "_model_module": "@jupyter-widgets/base",
      "_model_module_version": "1.2.0",
      "_model_name": "LayoutModel",
      "_view_count": null,
      "_view_module": "@jupyter-widgets/base",
      "_view_module_version": "1.2.0",
      "_view_name": "LayoutView",
      "align_content": null,
      "align_items": null,
      "align_self": null,
      "border": null,
      "bottom": null,
      "display": null,
      "flex": null,
      "flex_flow": null,
      "grid_area": null,
      "grid_auto_columns": null,
      "grid_auto_flow": null,
      "grid_auto_rows": null,
      "grid_column": null,
      "grid_gap": null,
      "grid_row": null,
      "grid_template_areas": null,
      "grid_template_columns": null,
      "grid_template_rows": null,
      "height": null,
      "justify_content": null,
      "justify_items": null,
      "left": null,
      "margin": null,
      "max_height": null,
      "max_width": null,
      "min_height": null,
      "min_width": null,
      "object_fit": null,
      "object_position": null,
      "order": null,
      "overflow": null,
      "overflow_x": null,
      "overflow_y": null,
      "padding": null,
      "right": null,
      "top": null,
      "visibility": null,
      "width": null
     }
    },
    "419c9821f6ca4421bc5cfe39bc0e5a10": {
     "model_module": "@jupyter-widgets/controls",
     "model_module_version": "1.5.0",
     "model_name": "DescriptionStyleModel",
     "state": {
      "_model_module": "@jupyter-widgets/controls",
      "_model_module_version": "1.5.0",
      "_model_name": "DescriptionStyleModel",
      "_view_count": null,
      "_view_module": "@jupyter-widgets/base",
      "_view_module_version": "1.2.0",
      "_view_name": "StyleView",
      "description_width": ""
     }
    },
    "45d4b7e5dcdf41a6ab3577c0e8fb8c9d": {
     "model_module": "@jupyter-widgets/controls",
     "model_module_version": "1.5.0",
     "model_name": "ProgressStyleModel",
     "state": {
      "_model_module": "@jupyter-widgets/controls",
      "_model_module_version": "1.5.0",
      "_model_name": "ProgressStyleModel",
      "_view_count": null,
      "_view_module": "@jupyter-widgets/base",
      "_view_module_version": "1.2.0",
      "_view_name": "StyleView",
      "bar_color": null,
      "description_width": ""
     }
    },
    "4c69abc37d7c4a02929400a2c3261469": {
     "model_module": "@jupyter-widgets/controls",
     "model_module_version": "1.5.0",
     "model_name": "HBoxModel",
     "state": {
      "_dom_classes": [],
      "_model_module": "@jupyter-widgets/controls",
      "_model_module_version": "1.5.0",
      "_model_name": "HBoxModel",
      "_view_count": null,
      "_view_module": "@jupyter-widgets/controls",
      "_view_module_version": "1.5.0",
      "_view_name": "HBoxView",
      "box_style": "",
      "children": [
       "IPY_MODEL_a287620ac94449158d7eb0a332e42ca9",
       "IPY_MODEL_181d318df9fd48728622e73f21e99c6d",
       "IPY_MODEL_8be227225eeb4e87b2099bce5ce46bca"
      ],
      "layout": "IPY_MODEL_b0eb76bd715d4c7ca05237e59f82cfb8"
     }
    },
    "4f27a8969d33458f951c16d70f5fea2f": {
     "model_module": "@jupyter-widgets/controls",
     "model_module_version": "1.5.0",
     "model_name": "DescriptionStyleModel",
     "state": {
      "_model_module": "@jupyter-widgets/controls",
      "_model_module_version": "1.5.0",
      "_model_name": "DescriptionStyleModel",
      "_view_count": null,
      "_view_module": "@jupyter-widgets/base",
      "_view_module_version": "1.2.0",
      "_view_name": "StyleView",
      "description_width": ""
     }
    },
    "524b2e03f0d74573b5321f73d135a099": {
     "model_module": "@jupyter-widgets/controls",
     "model_module_version": "1.5.0",
     "model_name": "HBoxModel",
     "state": {
      "_dom_classes": [],
      "_model_module": "@jupyter-widgets/controls",
      "_model_module_version": "1.5.0",
      "_model_name": "HBoxModel",
      "_view_count": null,
      "_view_module": "@jupyter-widgets/controls",
      "_view_module_version": "1.5.0",
      "_view_name": "HBoxView",
      "box_style": "",
      "children": [
       "IPY_MODEL_5483095455c4431c8c19b46374d133c0",
       "IPY_MODEL_39b90b78a52f41058ff865f7ae0a15f4",
       "IPY_MODEL_09b58394ae6c40b0986337b0f75f9291"
      ],
      "layout": "IPY_MODEL_e9fd3d5309fa43a98662447bcd29af51"
     }
    },
    "5483095455c4431c8c19b46374d133c0": {
     "model_module": "@jupyter-widgets/controls",
     "model_module_version": "1.5.0",
     "model_name": "HTMLModel",
     "state": {
      "_dom_classes": [],
      "_model_module": "@jupyter-widgets/controls",
      "_model_module_version": "1.5.0",
      "_model_name": "HTMLModel",
      "_view_count": null,
      "_view_module": "@jupyter-widgets/controls",
      "_view_module_version": "1.5.0",
      "_view_name": "HTMLView",
      "description": "",
      "description_tooltip": null,
      "layout": "IPY_MODEL_c4fbfc0fb9504eb4afae78c78df3c746",
      "placeholder": "​",
      "style": "IPY_MODEL_2217cb1d1bc14ce0886cf235848b57f0",
      "value": "100%"
     }
    },
    "59776b6e283345568e80fee81ea1dc21": {
     "model_module": "@jupyter-widgets/base",
     "model_module_version": "1.2.0",
     "model_name": "LayoutModel",
     "state": {
      "_model_module": "@jupyter-widgets/base",
      "_model_module_version": "1.2.0",
      "_model_name": "LayoutModel",
      "_view_count": null,
      "_view_module": "@jupyter-widgets/base",
      "_view_module_version": "1.2.0",
      "_view_name": "LayoutView",
      "align_content": null,
      "align_items": null,
      "align_self": null,
      "border": null,
      "bottom": null,
      "display": null,
      "flex": null,
      "flex_flow": null,
      "grid_area": null,
      "grid_auto_columns": null,
      "grid_auto_flow": null,
      "grid_auto_rows": null,
      "grid_column": null,
      "grid_gap": null,
      "grid_row": null,
      "grid_template_areas": null,
      "grid_template_columns": null,
      "grid_template_rows": null,
      "height": null,
      "justify_content": null,
      "justify_items": null,
      "left": null,
      "margin": null,
      "max_height": null,
      "max_width": null,
      "min_height": null,
      "min_width": null,
      "object_fit": null,
      "object_position": null,
      "order": null,
      "overflow": null,
      "overflow_x": null,
      "overflow_y": null,
      "padding": null,
      "right": null,
      "top": null,
      "visibility": null,
      "width": null
     }
    },
    "66ed4248e6d443f48296ecd98fcff8ec": {
     "model_module": "@jupyter-widgets/controls",
     "model_module_version": "1.5.0",
     "model_name": "HBoxModel",
     "state": {
      "_dom_classes": [],
      "_model_module": "@jupyter-widgets/controls",
      "_model_module_version": "1.5.0",
      "_model_name": "HBoxModel",
      "_view_count": null,
      "_view_module": "@jupyter-widgets/controls",
      "_view_module_version": "1.5.0",
      "_view_name": "HBoxView",
      "box_style": "",
      "children": [
       "IPY_MODEL_c86df5f5246347f2ad3a5f8b475680ba",
       "IPY_MODEL_8ade7dce3b6b4a0ba56efa9c0e171366",
       "IPY_MODEL_1e51352b8dce40fba39fc84ce1fe8d95"
      ],
      "layout": "IPY_MODEL_6c494094d9014265995415af4564a92a"
     }
    },
    "6c494094d9014265995415af4564a92a": {
     "model_module": "@jupyter-widgets/base",
     "model_module_version": "1.2.0",
     "model_name": "LayoutModel",
     "state": {
      "_model_module": "@jupyter-widgets/base",
      "_model_module_version": "1.2.0",
      "_model_name": "LayoutModel",
      "_view_count": null,
      "_view_module": "@jupyter-widgets/base",
      "_view_module_version": "1.2.0",
      "_view_name": "LayoutView",
      "align_content": null,
      "align_items": null,
      "align_self": null,
      "border": null,
      "bottom": null,
      "display": null,
      "flex": null,
      "flex_flow": null,
      "grid_area": null,
      "grid_auto_columns": null,
      "grid_auto_flow": null,
      "grid_auto_rows": null,
      "grid_column": null,
      "grid_gap": null,
      "grid_row": null,
      "grid_template_areas": null,
      "grid_template_columns": null,
      "grid_template_rows": null,
      "height": null,
      "justify_content": null,
      "justify_items": null,
      "left": null,
      "margin": null,
      "max_height": null,
      "max_width": null,
      "min_height": null,
      "min_width": null,
      "object_fit": null,
      "object_position": null,
      "order": null,
      "overflow": null,
      "overflow_x": null,
      "overflow_y": null,
      "padding": null,
      "right": null,
      "top": null,
      "visibility": null,
      "width": null
     }
    },
    "7c3e52ecb7444eb18121d8d341f1f249": {
     "model_module": "@jupyter-widgets/controls",
     "model_module_version": "1.5.0",
     "model_name": "DescriptionStyleModel",
     "state": {
      "_model_module": "@jupyter-widgets/controls",
      "_model_module_version": "1.5.0",
      "_model_name": "DescriptionStyleModel",
      "_view_count": null,
      "_view_module": "@jupyter-widgets/base",
      "_view_module_version": "1.2.0",
      "_view_name": "StyleView",
      "description_width": ""
     }
    },
    "83b11256f3ff41a5a3c92a205e6908eb": {
     "model_module": "@jupyter-widgets/controls",
     "model_module_version": "1.5.0",
     "model_name": "FloatProgressModel",
     "state": {
      "_dom_classes": [],
      "_model_module": "@jupyter-widgets/controls",
      "_model_module_version": "1.5.0",
      "_model_name": "FloatProgressModel",
      "_view_count": null,
      "_view_module": "@jupyter-widgets/controls",
      "_view_module_version": "1.5.0",
      "_view_name": "ProgressView",
      "bar_style": "info",
      "description": "",
      "description_tooltip": null,
      "layout": "IPY_MODEL_c56f070c132f4f36a651e51d103a0b47",
      "max": 1,
      "min": 0,
      "orientation": "horizontal",
      "style": "IPY_MODEL_0d734550b4f24617878d17b006ec5c96",
      "value": 1
     }
    },
    "880d8b5456294aa88ac32fa0e1298d44": {
     "model_module": "@jupyter-widgets/controls",
     "model_module_version": "1.5.0",
     "model_name": "DescriptionStyleModel",
     "state": {
      "_model_module": "@jupyter-widgets/controls",
      "_model_module_version": "1.5.0",
      "_model_name": "DescriptionStyleModel",
      "_view_count": null,
      "_view_module": "@jupyter-widgets/base",
      "_view_module_version": "1.2.0",
      "_view_name": "StyleView",
      "description_width": ""
     }
    },
    "8ade7dce3b6b4a0ba56efa9c0e171366": {
     "model_module": "@jupyter-widgets/controls",
     "model_module_version": "1.5.0",
     "model_name": "FloatProgressModel",
     "state": {
      "_dom_classes": [],
      "_model_module": "@jupyter-widgets/controls",
      "_model_module_version": "1.5.0",
      "_model_name": "FloatProgressModel",
      "_view_count": null,
      "_view_module": "@jupyter-widgets/controls",
      "_view_module_version": "1.5.0",
      "_view_name": "ProgressView",
      "bar_style": "success",
      "description": "",
      "description_tooltip": null,
      "layout": "IPY_MODEL_b064d5acc8af4e2b814f3b7728171f05",
      "max": 1,
      "min": 0,
      "orientation": "horizontal",
      "style": "IPY_MODEL_45d4b7e5dcdf41a6ab3577c0e8fb8c9d",
      "value": 1
     }
    },
    "8b2aff5123874bb19fce335b4bc08800": {
     "model_module": "@jupyter-widgets/base",
     "model_module_version": "1.2.0",
     "model_name": "LayoutModel",
     "state": {
      "_model_module": "@jupyter-widgets/base",
      "_model_module_version": "1.2.0",
      "_model_name": "LayoutModel",
      "_view_count": null,
      "_view_module": "@jupyter-widgets/base",
      "_view_module_version": "1.2.0",
      "_view_name": "LayoutView",
      "align_content": null,
      "align_items": null,
      "align_self": null,
      "border": null,
      "bottom": null,
      "display": null,
      "flex": null,
      "flex_flow": null,
      "grid_area": null,
      "grid_auto_columns": null,
      "grid_auto_flow": null,
      "grid_auto_rows": null,
      "grid_column": null,
      "grid_gap": null,
      "grid_row": null,
      "grid_template_areas": null,
      "grid_template_columns": null,
      "grid_template_rows": null,
      "height": null,
      "justify_content": null,
      "justify_items": null,
      "left": null,
      "margin": null,
      "max_height": null,
      "max_width": null,
      "min_height": null,
      "min_width": null,
      "object_fit": null,
      "object_position": null,
      "order": null,
      "overflow": null,
      "overflow_x": null,
      "overflow_y": null,
      "padding": null,
      "right": null,
      "top": null,
      "visibility": null,
      "width": null
     }
    },
    "8be227225eeb4e87b2099bce5ce46bca": {
     "model_module": "@jupyter-widgets/controls",
     "model_module_version": "1.5.0",
     "model_name": "HTMLModel",
     "state": {
      "_dom_classes": [],
      "_model_module": "@jupyter-widgets/controls",
      "_model_module_version": "1.5.0",
      "_model_name": "HTMLModel",
      "_view_count": null,
      "_view_module": "@jupyter-widgets/controls",
      "_view_module_version": "1.5.0",
      "_view_name": "HTMLView",
      "description": "",
      "description_tooltip": null,
      "layout": "IPY_MODEL_3f3b2a0d4d42478cae4fbb784846f803",
      "placeholder": "​",
      "style": "IPY_MODEL_419c9821f6ca4421bc5cfe39bc0e5a10",
      "value": " 0/0 [00:01&lt;?, ? MiB/s]"
     }
    },
    "92740ad745b64e61b572738e480e3841": {
     "model_module": "@jupyter-widgets/base",
     "model_module_version": "1.2.0",
     "model_name": "LayoutModel",
     "state": {
      "_model_module": "@jupyter-widgets/base",
      "_model_module_version": "1.2.0",
      "_model_name": "LayoutModel",
      "_view_count": null,
      "_view_module": "@jupyter-widgets/base",
      "_view_module_version": "1.2.0",
      "_view_name": "LayoutView",
      "align_content": null,
      "align_items": null,
      "align_self": null,
      "border": null,
      "bottom": null,
      "display": null,
      "flex": null,
      "flex_flow": null,
      "grid_area": null,
      "grid_auto_columns": null,
      "grid_auto_flow": null,
      "grid_auto_rows": null,
      "grid_column": null,
      "grid_gap": null,
      "grid_row": null,
      "grid_template_areas": null,
      "grid_template_columns": null,
      "grid_template_rows": null,
      "height": null,
      "justify_content": null,
      "justify_items": null,
      "left": null,
      "margin": null,
      "max_height": null,
      "max_width": null,
      "min_height": null,
      "min_width": null,
      "object_fit": null,
      "object_position": null,
      "order": null,
      "overflow": null,
      "overflow_x": null,
      "overflow_y": null,
      "padding": null,
      "right": null,
      "top": null,
      "visibility": null,
      "width": null
     }
    },
    "a287620ac94449158d7eb0a332e42ca9": {
     "model_module": "@jupyter-widgets/controls",
     "model_module_version": "1.5.0",
     "model_name": "HTMLModel",
     "state": {
      "_dom_classes": [],
      "_model_module": "@jupyter-widgets/controls",
      "_model_module_version": "1.5.0",
      "_model_name": "HTMLModel",
      "_view_count": null,
      "_view_module": "@jupyter-widgets/controls",
      "_view_module_version": "1.5.0",
      "_view_name": "HTMLView",
      "description": "",
      "description_tooltip": null,
      "layout": "IPY_MODEL_dd57462999cf4b5fa4402e03a0e94537",
      "placeholder": "​",
      "style": "IPY_MODEL_f15f00fe1c8b492da729720e28d09dc1",
      "value": "Dl Size...: "
     }
    },
    "a7f565ca74c34a3096920999823e931f": {
     "model_module": "@jupyter-widgets/base",
     "model_module_version": "1.2.0",
     "model_name": "LayoutModel",
     "state": {
      "_model_module": "@jupyter-widgets/base",
      "_model_module_version": "1.2.0",
      "_model_name": "LayoutModel",
      "_view_count": null,
      "_view_module": "@jupyter-widgets/base",
      "_view_module_version": "1.2.0",
      "_view_name": "LayoutView",
      "align_content": null,
      "align_items": null,
      "align_self": null,
      "border": null,
      "bottom": null,
      "display": null,
      "flex": null,
      "flex_flow": null,
      "grid_area": null,
      "grid_auto_columns": null,
      "grid_auto_flow": null,
      "grid_auto_rows": null,
      "grid_column": null,
      "grid_gap": null,
      "grid_row": null,
      "grid_template_areas": null,
      "grid_template_columns": null,
      "grid_template_rows": null,
      "height": null,
      "justify_content": null,
      "justify_items": null,
      "left": null,
      "margin": null,
      "max_height": null,
      "max_width": null,
      "min_height": null,
      "min_width": null,
      "object_fit": null,
      "object_position": null,
      "order": null,
      "overflow": null,
      "overflow_x": null,
      "overflow_y": null,
      "padding": null,
      "right": null,
      "top": null,
      "visibility": null,
      "width": "20px"
     }
    },
    "a91fe2b764504ebfbfb226a47f3094fa": {
     "model_module": "@jupyter-widgets/base",
     "model_module_version": "1.2.0",
     "model_name": "LayoutModel",
     "state": {
      "_model_module": "@jupyter-widgets/base",
      "_model_module_version": "1.2.0",
      "_model_name": "LayoutModel",
      "_view_count": null,
      "_view_module": "@jupyter-widgets/base",
      "_view_module_version": "1.2.0",
      "_view_name": "LayoutView",
      "align_content": null,
      "align_items": null,
      "align_self": null,
      "border": null,
      "bottom": null,
      "display": null,
      "flex": null,
      "flex_flow": null,
      "grid_area": null,
      "grid_auto_columns": null,
      "grid_auto_flow": null,
      "grid_auto_rows": null,
      "grid_column": null,
      "grid_gap": null,
      "grid_row": null,
      "grid_template_areas": null,
      "grid_template_columns": null,
      "grid_template_rows": null,
      "height": null,
      "justify_content": null,
      "justify_items": null,
      "left": null,
      "margin": null,
      "max_height": null,
      "max_width": null,
      "min_height": null,
      "min_width": null,
      "object_fit": null,
      "object_position": null,
      "order": null,
      "overflow": null,
      "overflow_x": null,
      "overflow_y": null,
      "padding": null,
      "right": null,
      "top": null,
      "visibility": null,
      "width": null
     }
    },
    "b064d5acc8af4e2b814f3b7728171f05": {
     "model_module": "@jupyter-widgets/base",
     "model_module_version": "1.2.0",
     "model_name": "LayoutModel",
     "state": {
      "_model_module": "@jupyter-widgets/base",
      "_model_module_version": "1.2.0",
      "_model_name": "LayoutModel",
      "_view_count": null,
      "_view_module": "@jupyter-widgets/base",
      "_view_module_version": "1.2.0",
      "_view_name": "LayoutView",
      "align_content": null,
      "align_items": null,
      "align_self": null,
      "border": null,
      "bottom": null,
      "display": null,
      "flex": null,
      "flex_flow": null,
      "grid_area": null,
      "grid_auto_columns": null,
      "grid_auto_flow": null,
      "grid_auto_rows": null,
      "grid_column": null,
      "grid_gap": null,
      "grid_row": null,
      "grid_template_areas": null,
      "grid_template_columns": null,
      "grid_template_rows": null,
      "height": null,
      "justify_content": null,
      "justify_items": null,
      "left": null,
      "margin": null,
      "max_height": null,
      "max_width": null,
      "min_height": null,
      "min_width": null,
      "object_fit": null,
      "object_position": null,
      "order": null,
      "overflow": null,
      "overflow_x": null,
      "overflow_y": null,
      "padding": null,
      "right": null,
      "top": null,
      "visibility": null,
      "width": "20px"
     }
    },
    "b0eb76bd715d4c7ca05237e59f82cfb8": {
     "model_module": "@jupyter-widgets/base",
     "model_module_version": "1.2.0",
     "model_name": "LayoutModel",
     "state": {
      "_model_module": "@jupyter-widgets/base",
      "_model_module_version": "1.2.0",
      "_model_name": "LayoutModel",
      "_view_count": null,
      "_view_module": "@jupyter-widgets/base",
      "_view_module_version": "1.2.0",
      "_view_name": "LayoutView",
      "align_content": null,
      "align_items": null,
      "align_self": null,
      "border": null,
      "bottom": null,
      "display": null,
      "flex": null,
      "flex_flow": null,
      "grid_area": null,
      "grid_auto_columns": null,
      "grid_auto_flow": null,
      "grid_auto_rows": null,
      "grid_column": null,
      "grid_gap": null,
      "grid_row": null,
      "grid_template_areas": null,
      "grid_template_columns": null,
      "grid_template_rows": null,
      "height": null,
      "justify_content": null,
      "justify_items": null,
      "left": null,
      "margin": null,
      "max_height": null,
      "max_width": null,
      "min_height": null,
      "min_width": null,
      "object_fit": null,
      "object_position": null,
      "order": null,
      "overflow": null,
      "overflow_x": null,
      "overflow_y": null,
      "padding": null,
      "right": null,
      "top": null,
      "visibility": null,
      "width": null
     }
    },
    "b5b4835764f347c3a3e5716fda21efab": {
     "model_module": "@jupyter-widgets/controls",
     "model_module_version": "1.5.0",
     "model_name": "HTMLModel",
     "state": {
      "_dom_classes": [],
      "_model_module": "@jupyter-widgets/controls",
      "_model_module_version": "1.5.0",
      "_model_name": "HTMLModel",
      "_view_count": null,
      "_view_module": "@jupyter-widgets/controls",
      "_view_module_version": "1.5.0",
      "_view_name": "HTMLView",
      "description": "",
      "description_tooltip": null,
      "layout": "IPY_MODEL_8b2aff5123874bb19fce335b4bc08800",
      "placeholder": "​",
      "style": "IPY_MODEL_880d8b5456294aa88ac32fa0e1298d44",
      "value": " 4885/0 [00:06&lt;00:00, 528.29 examples/s]"
     }
    },
    "c4fbfc0fb9504eb4afae78c78df3c746": {
     "model_module": "@jupyter-widgets/base",
     "model_module_version": "1.2.0",
     "model_name": "LayoutModel",
     "state": {
      "_model_module": "@jupyter-widgets/base",
      "_model_module_version": "1.2.0",
      "_model_name": "LayoutModel",
      "_view_count": null,
      "_view_module": "@jupyter-widgets/base",
      "_view_module_version": "1.2.0",
      "_view_name": "LayoutView",
      "align_content": null,
      "align_items": null,
      "align_self": null,
      "border": null,
      "bottom": null,
      "display": null,
      "flex": null,
      "flex_flow": null,
      "grid_area": null,
      "grid_auto_columns": null,
      "grid_auto_flow": null,
      "grid_auto_rows": null,
      "grid_column": null,
      "grid_gap": null,
      "grid_row": null,
      "grid_template_areas": null,
      "grid_template_columns": null,
      "grid_template_rows": null,
      "height": null,
      "justify_content": null,
      "justify_items": null,
      "left": null,
      "margin": null,
      "max_height": null,
      "max_width": null,
      "min_height": null,
      "min_width": null,
      "object_fit": null,
      "object_position": null,
      "order": null,
      "overflow": null,
      "overflow_x": null,
      "overflow_y": null,
      "padding": null,
      "right": null,
      "top": null,
      "visibility": null,
      "width": null
     }
    },
    "c56f070c132f4f36a651e51d103a0b47": {
     "model_module": "@jupyter-widgets/base",
     "model_module_version": "1.2.0",
     "model_name": "LayoutModel",
     "state": {
      "_model_module": "@jupyter-widgets/base",
      "_model_module_version": "1.2.0",
      "_model_name": "LayoutModel",
      "_view_count": null,
      "_view_module": "@jupyter-widgets/base",
      "_view_module_version": "1.2.0",
      "_view_name": "LayoutView",
      "align_content": null,
      "align_items": null,
      "align_self": null,
      "border": null,
      "bottom": null,
      "display": null,
      "flex": null,
      "flex_flow": null,
      "grid_area": null,
      "grid_auto_columns": null,
      "grid_auto_flow": null,
      "grid_auto_rows": null,
      "grid_column": null,
      "grid_gap": null,
      "grid_row": null,
      "grid_template_areas": null,
      "grid_template_columns": null,
      "grid_template_rows": null,
      "height": null,
      "justify_content": null,
      "justify_items": null,
      "left": null,
      "margin": null,
      "max_height": null,
      "max_width": null,
      "min_height": null,
      "min_width": null,
      "object_fit": null,
      "object_position": null,
      "order": null,
      "overflow": null,
      "overflow_x": null,
      "overflow_y": null,
      "padding": null,
      "right": null,
      "top": null,
      "visibility": null,
      "width": "20px"
     }
    },
    "c86df5f5246347f2ad3a5f8b475680ba": {
     "model_module": "@jupyter-widgets/controls",
     "model_module_version": "1.5.0",
     "model_name": "HTMLModel",
     "state": {
      "_dom_classes": [],
      "_model_module": "@jupyter-widgets/controls",
      "_model_module_version": "1.5.0",
      "_model_name": "HTMLModel",
      "_view_count": null,
      "_view_module": "@jupyter-widgets/controls",
      "_view_module_version": "1.5.0",
      "_view_name": "HTMLView",
      "description": "",
      "description_tooltip": null,
      "layout": "IPY_MODEL_a91fe2b764504ebfbfb226a47f3094fa",
      "placeholder": "​",
      "style": "IPY_MODEL_7c3e52ecb7444eb18121d8d341f1f249",
      "value": "Dl Completed...: 100%"
     }
    },
    "ce97885521104a9b992650f4a35700ff": {
     "model_module": "@jupyter-widgets/base",
     "model_module_version": "1.2.0",
     "model_name": "LayoutModel",
     "state": {
      "_model_module": "@jupyter-widgets/base",
      "_model_module_version": "1.2.0",
      "_model_name": "LayoutModel",
      "_view_count": null,
      "_view_module": "@jupyter-widgets/base",
      "_view_module_version": "1.2.0",
      "_view_name": "LayoutView",
      "align_content": null,
      "align_items": null,
      "align_self": null,
      "border": null,
      "bottom": null,
      "display": null,
      "flex": null,
      "flex_flow": null,
      "grid_area": null,
      "grid_auto_columns": null,
      "grid_auto_flow": null,
      "grid_auto_rows": null,
      "grid_column": null,
      "grid_gap": null,
      "grid_row": null,
      "grid_template_areas": null,
      "grid_template_columns": null,
      "grid_template_rows": null,
      "height": null,
      "justify_content": null,
      "justify_items": null,
      "left": null,
      "margin": null,
      "max_height": null,
      "max_width": null,
      "min_height": null,
      "min_width": null,
      "object_fit": null,
      "object_position": null,
      "order": null,
      "overflow": null,
      "overflow_x": null,
      "overflow_y": null,
      "padding": null,
      "right": null,
      "top": null,
      "visibility": null,
      "width": null
     }
    },
    "da7c7bcb56834d9b8ccff9a482813907": {
     "model_module": "@jupyter-widgets/controls",
     "model_module_version": "1.5.0",
     "model_name": "DescriptionStyleModel",
     "state": {
      "_model_module": "@jupyter-widgets/controls",
      "_model_module_version": "1.5.0",
      "_model_name": "DescriptionStyleModel",
      "_view_count": null,
      "_view_module": "@jupyter-widgets/base",
      "_view_module_version": "1.2.0",
      "_view_name": "StyleView",
      "description_width": ""
     }
    },
    "dd57462999cf4b5fa4402e03a0e94537": {
     "model_module": "@jupyter-widgets/base",
     "model_module_version": "1.2.0",
     "model_name": "LayoutModel",
     "state": {
      "_model_module": "@jupyter-widgets/base",
      "_model_module_version": "1.2.0",
      "_model_name": "LayoutModel",
      "_view_count": null,
      "_view_module": "@jupyter-widgets/base",
      "_view_module_version": "1.2.0",
      "_view_name": "LayoutView",
      "align_content": null,
      "align_items": null,
      "align_self": null,
      "border": null,
      "bottom": null,
      "display": null,
      "flex": null,
      "flex_flow": null,
      "grid_area": null,
      "grid_auto_columns": null,
      "grid_auto_flow": null,
      "grid_auto_rows": null,
      "grid_column": null,
      "grid_gap": null,
      "grid_row": null,
      "grid_template_areas": null,
      "grid_template_columns": null,
      "grid_template_rows": null,
      "height": null,
      "justify_content": null,
      "justify_items": null,
      "left": null,
      "margin": null,
      "max_height": null,
      "max_width": null,
      "min_height": null,
      "min_width": null,
      "object_fit": null,
      "object_position": null,
      "order": null,
      "overflow": null,
      "overflow_x": null,
      "overflow_y": null,
      "padding": null,
      "right": null,
      "top": null,
      "visibility": null,
      "width": null
     }
    },
    "e136f5d0ff1945c3a91835d41bcaf77e": {
     "model_module": "@jupyter-widgets/base",
     "model_module_version": "1.2.0",
     "model_name": "LayoutModel",
     "state": {
      "_model_module": "@jupyter-widgets/base",
      "_model_module_version": "1.2.0",
      "_model_name": "LayoutModel",
      "_view_count": null,
      "_view_module": "@jupyter-widgets/base",
      "_view_module_version": "1.2.0",
      "_view_name": "LayoutView",
      "align_content": null,
      "align_items": null,
      "align_self": null,
      "border": null,
      "bottom": null,
      "display": null,
      "flex": null,
      "flex_flow": null,
      "grid_area": null,
      "grid_auto_columns": null,
      "grid_auto_flow": null,
      "grid_auto_rows": null,
      "grid_column": null,
      "grid_gap": null,
      "grid_row": null,
      "grid_template_areas": null,
      "grid_template_columns": null,
      "grid_template_rows": null,
      "height": null,
      "justify_content": null,
      "justify_items": null,
      "left": null,
      "margin": null,
      "max_height": null,
      "max_width": null,
      "min_height": null,
      "min_width": null,
      "object_fit": null,
      "object_position": null,
      "order": null,
      "overflow": null,
      "overflow_x": null,
      "overflow_y": null,
      "padding": null,
      "right": null,
      "top": null,
      "visibility": null,
      "width": null
     }
    },
    "e9fd3d5309fa43a98662447bcd29af51": {
     "model_module": "@jupyter-widgets/base",
     "model_module_version": "1.2.0",
     "model_name": "LayoutModel",
     "state": {
      "_model_module": "@jupyter-widgets/base",
      "_model_module_version": "1.2.0",
      "_model_name": "LayoutModel",
      "_view_count": null,
      "_view_module": "@jupyter-widgets/base",
      "_view_module_version": "1.2.0",
      "_view_name": "LayoutView",
      "align_content": null,
      "align_items": null,
      "align_self": null,
      "border": null,
      "bottom": null,
      "display": null,
      "flex": null,
      "flex_flow": null,
      "grid_area": null,
      "grid_auto_columns": null,
      "grid_auto_flow": null,
      "grid_auto_rows": null,
      "grid_column": null,
      "grid_gap": null,
      "grid_row": null,
      "grid_template_areas": null,
      "grid_template_columns": null,
      "grid_template_rows": null,
      "height": null,
      "justify_content": null,
      "justify_items": null,
      "left": null,
      "margin": null,
      "max_height": null,
      "max_width": null,
      "min_height": null,
      "min_width": null,
      "object_fit": null,
      "object_position": null,
      "order": null,
      "overflow": null,
      "overflow_x": null,
      "overflow_y": null,
      "padding": null,
      "right": null,
      "top": null,
      "visibility": null,
      "width": null
     }
    },
    "f15f00fe1c8b492da729720e28d09dc1": {
     "model_module": "@jupyter-widgets/controls",
     "model_module_version": "1.5.0",
     "model_name": "DescriptionStyleModel",
     "state": {
      "_model_module": "@jupyter-widgets/controls",
      "_model_module_version": "1.5.0",
      "_model_name": "DescriptionStyleModel",
      "_view_count": null,
      "_view_module": "@jupyter-widgets/base",
      "_view_module_version": "1.2.0",
      "_view_name": "StyleView",
      "description_width": ""
     }
    },
    "f6b7ad7806a94a9cbfa6db627001490d": {
     "model_module": "@jupyter-widgets/base",
     "model_module_version": "1.2.0",
     "model_name": "LayoutModel",
     "state": {
      "_model_module": "@jupyter-widgets/base",
      "_model_module_version": "1.2.0",
      "_model_name": "LayoutModel",
      "_view_count": null,
      "_view_module": "@jupyter-widgets/base",
      "_view_module_version": "1.2.0",
      "_view_name": "LayoutView",
      "align_content": null,
      "align_items": null,
      "align_self": null,
      "border": null,
      "bottom": null,
      "display": null,
      "flex": null,
      "flex_flow": null,
      "grid_area": null,
      "grid_auto_columns": null,
      "grid_auto_flow": null,
      "grid_auto_rows": null,
      "grid_column": null,
      "grid_gap": null,
      "grid_row": null,
      "grid_template_areas": null,
      "grid_template_columns": null,
      "grid_template_rows": null,
      "height": null,
      "justify_content": null,
      "justify_items": null,
      "left": null,
      "margin": null,
      "max_height": null,
      "max_width": null,
      "min_height": null,
      "min_width": null,
      "object_fit": null,
      "object_position": null,
      "order": null,
      "overflow": null,
      "overflow_x": null,
      "overflow_y": null,
      "padding": null,
      "right": null,
      "top": null,
      "visibility": null,
      "width": null
     }
    }
   }
  }
 },
 "nbformat": 4,
 "nbformat_minor": 1
}
