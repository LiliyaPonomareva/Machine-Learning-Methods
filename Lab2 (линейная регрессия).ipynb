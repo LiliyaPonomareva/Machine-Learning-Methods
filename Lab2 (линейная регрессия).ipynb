{
  "cells": [
    {
      "cell_type": "markdown",
      "metadata": {
        "id": "bkvu6piHt3ra"
      },
      "source": [
        "### РОССИЙСКИЙ УНИВЕРСИТЕТ ДРУЖБЫ НАРОДОВ\n",
        "\n",
        "#### Факультет физико-математических и естественных наук  \n",
        "#### Кафедра информационных технологий "
      ]
    },
    {
      "cell_type": "markdown",
      "metadata": {
        "id": "djXIWnpjt3rf"
      },
      "source": [
        "## ОТЧЕТ ПО ЛАБОРАТОРНОЙ РАБОТЕ № 2\n",
        "\n",
        "\n",
        "### Дисциплина: Методы машинного обучения"
      ]
    },
    {
      "cell_type": "markdown",
      "metadata": {
        "id": "fo_ynhTst3rg"
      },
      "source": [
        "##### Студент:  Пономарева Л. М.\n",
        "##### Группа:   НПИбд-02-19"
      ]
    },
    {
      "cell_type": "markdown",
      "metadata": {
        "id": "TbvGIymht3rh"
      },
      "source": [
        "## Москва 2022\n",
        "***"
      ]
    },
    {
      "cell_type": "markdown",
      "metadata": {
        "id": "avs03Eqmt3rh"
      },
      "source": [
        "## Вариант №22\n",
        "\n",
        "1. Набор данных: howell \n",
        "\n",
        "2. Независимая переменная: height \n",
        "\n",
        "3. Зависимая переменная: weight \n",
        "\n",
        "4. Визуализация для независимой переменной – диаграмма размаха \n",
        "\n",
        "5. Визуализация для зависимой переменной – эмпирическая функция распределения \n",
        "\n",
        "6. Показатель качества регрессии – MSE (mean squared error)"
      ]
    },
    {
      "cell_type": "markdown",
      "source": [
        "### Задание 1\n",
        "Загрузите заданный в индивидуальном задании набор данных из Tensorflow Datasets."
      ],
      "metadata": {
        "id": "k4NbLrGBKKqO"
      }
    },
    {
      "cell_type": "markdown",
      "source": [
        "Активируем последние версии наборов данных и подключаем модуль Tensorflow Datasets, который содержит необходимый нам набор 'howell':"
      ],
      "metadata": {
        "id": "xu0NnU_s8P10"
      }
    },
    {
      "cell_type": "code",
      "source": [
        "!pip install -q tfds-nightly\n",
        "import tensorflow_datasets as tfds"
      ],
      "metadata": {
        "id": "Jasw0y5o-bWc",
        "colab": {
          "base_uri": "https://localhost:8080/"
        },
        "outputId": "afa55407-0623-407d-b979-b421f0232604"
      },
      "execution_count": 1,
      "outputs": [
        {
          "output_type": "stream",
          "name": "stdout",
          "text": [
            "\u001b[K     |████████████████████████████████| 4.3 MB 33.7 MB/s \n",
            "\u001b[K     |████████████████████████████████| 86 kB 4.4 MB/s \n",
            "\u001b[?25h"
          ]
        }
      ]
    },
    {
      "cell_type": "markdown",
      "source": [
        "Считываем из TFDS набор данных howell:"
      ],
      "metadata": {
        "id": "Zuh8g4749H5R"
      }
    },
    {
      "cell_type": "code",
      "source": [
        "dataSet = tfds.load('howell', split='train')\n",
        "dataSet"
      ],
      "metadata": {
        "colab": {
          "base_uri": "https://localhost:8080/",
          "height": 185,
          "referenced_widgets": [
            "eaac3417db73498e94e467f27488fb93",
            "4ef61a844b7045b3823588e97b3668f3",
            "56f6879a75d8497ea0b7bca45ca0b0bd",
            "b5c1b65845f2470ea9865dbc9b1b30e4",
            "9f7f63d606464910a9693ae9add08f34",
            "00fd53b4385c427f92f053f192b43cb2",
            "0bfa4cd5ace44e469bed9e00133c7743",
            "4db7a23feb884705b073c76a9018fe0a",
            "3fa5f0a5fda445dd980212c3b0329d73",
            "520ed6344dea4c169677331de7faad6b",
            "3cbc97b5b8f1444b9f7a8ac3999f29c6",
            "4774931780884e94b2c25e4259bd1507",
            "e8778ffa23c94bc29ed0d86388a11e8a",
            "098ac18396f249549d2b63c949c2a1e9",
            "33377de5bf834d0daf15b1e1d69f3e78",
            "d027a07a0118421eaac381520ee1672f",
            "29d45756c4f5431c8d2ffd9b2fcc7164",
            "19541a92b5ad4dbc82f47830342a5315",
            "1cd8bfb816f84430a38923615ff07469",
            "f2c85ab720534bb0b3c2984213b14a7a",
            "33dfccf9f2414b64afb7d5406d057e0f",
            "34d16408efb64b5293ac26a860d1e712",
            "b54449b9a0b74adab0a93cf5edc4b1a9",
            "2b5ee81465a4448ba425fdf891750040",
            "198b4e7f787344bfb8c95e78e79d6513",
            "69f949a3cf4f4c408dbfc5177325bbeb",
            "c7b095d7ca03439fb1885e966b3dcf2d",
            "28f0ff49e05a4032933bd522df1158d2",
            "3a19d7feb6c3449bbdc7072f40e1cc46",
            "e928a1945dae45f7875fc48decb19212",
            "895b4c865fc64f01aaca11b4786be7c6",
            "7cd75271a5b747259a214a3a55ed00ab",
            "39491357af844ade8aedf87e63fb37ff",
            "0d00eb2ac1ee476f91cbcd857a7ef0c7",
            "99cc7338db4648038dc6aba51fe5451b",
            "58fc54a91b204bd89a0ea7838a14b55d",
            "9fef85a57f744184a83edf4bf40b1c2d",
            "2593337009a44f3e9c31e4a4f1e81abf",
            "b17958f659c94ea18874527799f486dc",
            "c65b0ed8c3374b24b08d47a17ec278f0",
            "1c9c828dd0fe4f3c9204d202cdc31d96",
            "64c2dccd05084132b39bee03504a97f6",
            "d4ad81ae5afb48d49f1ad9e624786104",
            "a6f2fcfcec02448a8c7ca62e3914aa38",
            "278ebb80d487439d93d090bc5a53a411",
            "6a501ebc018d4b4e894e93a419ecd4ac",
            "7ed2a510d0314b468dc6942daba5eee7",
            "1d0625adbc5348eb96d0b8667294e26b",
            "b5108c94a91f40fa9a729f53ea23efa8",
            "382d93d6152247839fe19d5635779015",
            "475c07f7aa484fed9f306c2475a1a5de",
            "5f68e56b80664af6aae8e824c0d84351",
            "5c26032eeffa46b691b8ee0009a89ece",
            "fd83804e05cf4b959095d96682278dfe",
            "a61906d0e57b40158932835b327eb445",
            "45b5c84ebb174bfc928aea814e3b52f0",
            "db2e667f002c47f39ac350dfcd76de76",
            "7b3fefab250f4427a200e98226d1e8f6",
            "cb1e8a163df0420aa0d3fd762e5ea649",
            "595f9e0c6dfd499da3d85d7a4cae0ea3",
            "1a8b37ef948d4065abaff01ac9b7f8e9",
            "bba96b0379c84d16a1fca600e618b4ff",
            "f606f9ee5996492da8318f1d558e4424",
            "04426e3657e1427e9d445c2994a89511",
            "46d8b8737da941e0956140cc35c8dc1e",
            "fad6eafc9e974e9e99edf69b5e46382e"
          ]
        },
        "id": "w6Nqu_CrqeJL",
        "outputId": "9a7a40bf-81f6-4109-f1f6-7e8eb0b2a40a"
      },
      "execution_count": 2,
      "outputs": [
        {
          "output_type": "stream",
          "name": "stdout",
          "text": [
            "\u001b[1mDownloading and preparing dataset 11.92 KiB (download: 11.92 KiB, generated: 39.31 KiB, total: 51.23 KiB) to ~/tensorflow_datasets/howell/1.0.0...\u001b[0m\n"
          ]
        },
        {
          "output_type": "display_data",
          "data": {
            "text/plain": [
              "Dl Completed...: 0 url [00:00, ? url/s]"
            ],
            "application/vnd.jupyter.widget-view+json": {
              "version_major": 2,
              "version_minor": 0,
              "model_id": "eaac3417db73498e94e467f27488fb93"
            }
          },
          "metadata": {}
        },
        {
          "output_type": "display_data",
          "data": {
            "text/plain": [
              "Dl Size...: 0 MiB [00:00, ? MiB/s]"
            ],
            "application/vnd.jupyter.widget-view+json": {
              "version_major": 2,
              "version_minor": 0,
              "model_id": "4774931780884e94b2c25e4259bd1507"
            }
          },
          "metadata": {}
        },
        {
          "output_type": "display_data",
          "data": {
            "text/plain": [
              "Extraction completed...: 0 file [00:00, ? file/s]"
            ],
            "application/vnd.jupyter.widget-view+json": {
              "version_major": 2,
              "version_minor": 0,
              "model_id": "b54449b9a0b74adab0a93cf5edc4b1a9"
            }
          },
          "metadata": {}
        },
        {
          "output_type": "display_data",
          "data": {
            "text/plain": [
              "Generating splits...:   0%|          | 0/1 [00:00<?, ? splits/s]"
            ],
            "application/vnd.jupyter.widget-view+json": {
              "version_major": 2,
              "version_minor": 0,
              "model_id": "0d00eb2ac1ee476f91cbcd857a7ef0c7"
            }
          },
          "metadata": {}
        },
        {
          "output_type": "display_data",
          "data": {
            "text/plain": [
              "Generating train examples...:   0%|          | 0/544 [00:00<?, ? examples/s]"
            ],
            "application/vnd.jupyter.widget-view+json": {
              "version_major": 2,
              "version_minor": 0,
              "model_id": "278ebb80d487439d93d090bc5a53a411"
            }
          },
          "metadata": {}
        },
        {
          "output_type": "display_data",
          "data": {
            "text/plain": [
              "Shuffling ~/tensorflow_datasets/howell/1.0.0.incompleteO8SZV1/howell-train.tfrecord*...:   0%|          | 0/54…"
            ],
            "application/vnd.jupyter.widget-view+json": {
              "version_major": 2,
              "version_minor": 0,
              "model_id": "45b5c84ebb174bfc928aea814e3b52f0"
            }
          },
          "metadata": {}
        },
        {
          "output_type": "stream",
          "name": "stdout",
          "text": [
            "\u001b[1mDataset howell downloaded and prepared to ~/tensorflow_datasets/howell/1.0.0. Subsequent calls will reuse this data.\u001b[0m\n"
          ]
        },
        {
          "output_type": "execute_result",
          "data": {
            "text/plain": [
              "<PrefetchDataset element_spec={'age': TensorSpec(shape=(), dtype=tf.float32, name=None), 'height': TensorSpec(shape=(), dtype=tf.float32, name=None), 'male': TensorSpec(shape=(), dtype=tf.int32, name=None), 'weight': TensorSpec(shape=(), dtype=tf.float32, name=None)}>"
            ]
          },
          "metadata": {},
          "execution_count": 2
        }
      ]
    },
    {
      "cell_type": "markdown",
      "source": [
        "Преобразуем объект PrefetchDataset в датафрейм:"
      ],
      "metadata": {
        "id": "rtnet7Ufo_zu"
      }
    },
    {
      "cell_type": "code",
      "source": [
        "dataFrame = tfds.as_dataframe(dataSet)\n",
        "dataFrame.head()"
      ],
      "metadata": {
        "colab": {
          "base_uri": "https://localhost:8080/",
          "height": 206
        },
        "id": "dkPJDY1bi7Z5",
        "outputId": "13214501-ca49-4a55-be81-1501dbfe369f"
      },
      "execution_count": 52,
      "outputs": [
        {
          "output_type": "execute_result",
          "data": {
            "text/plain": [
              "    age      height  male     weight\n",
              "0  20.0  154.899994     1  38.200001\n",
              "1  21.0  155.574997     0  45.529297\n",
              "2  21.0  146.050003     0  44.763859\n",
              "3  21.0  163.830002     1  46.776676\n",
              "4  18.0  149.225006     0  42.127357"
            ],
            "text/html": [
              "\n",
              "  <div id=\"df-0e5c913e-58f9-41d0-907d-dad31e74386d\">\n",
              "    <div class=\"colab-df-container\">\n",
              "      <div>\n",
              "<style scoped>\n",
              "    .dataframe tbody tr th:only-of-type {\n",
              "        vertical-align: middle;\n",
              "    }\n",
              "\n",
              "    .dataframe tbody tr th {\n",
              "        vertical-align: top;\n",
              "    }\n",
              "\n",
              "    .dataframe thead th {\n",
              "        text-align: right;\n",
              "    }\n",
              "</style>\n",
              "<table border=\"1\" class=\"dataframe\">\n",
              "  <thead>\n",
              "    <tr style=\"text-align: right;\">\n",
              "      <th></th>\n",
              "      <th>age</th>\n",
              "      <th>height</th>\n",
              "      <th>male</th>\n",
              "      <th>weight</th>\n",
              "    </tr>\n",
              "  </thead>\n",
              "  <tbody>\n",
              "    <tr>\n",
              "      <th>0</th>\n",
              "      <td>20.0</td>\n",
              "      <td>154.899994</td>\n",
              "      <td>1</td>\n",
              "      <td>38.200001</td>\n",
              "    </tr>\n",
              "    <tr>\n",
              "      <th>1</th>\n",
              "      <td>21.0</td>\n",
              "      <td>155.574997</td>\n",
              "      <td>0</td>\n",
              "      <td>45.529297</td>\n",
              "    </tr>\n",
              "    <tr>\n",
              "      <th>2</th>\n",
              "      <td>21.0</td>\n",
              "      <td>146.050003</td>\n",
              "      <td>0</td>\n",
              "      <td>44.763859</td>\n",
              "    </tr>\n",
              "    <tr>\n",
              "      <th>3</th>\n",
              "      <td>21.0</td>\n",
              "      <td>163.830002</td>\n",
              "      <td>1</td>\n",
              "      <td>46.776676</td>\n",
              "    </tr>\n",
              "    <tr>\n",
              "      <th>4</th>\n",
              "      <td>18.0</td>\n",
              "      <td>149.225006</td>\n",
              "      <td>0</td>\n",
              "      <td>42.127357</td>\n",
              "    </tr>\n",
              "  </tbody>\n",
              "</table>\n",
              "</div>\n",
              "      <button class=\"colab-df-convert\" onclick=\"convertToInteractive('df-0e5c913e-58f9-41d0-907d-dad31e74386d')\"\n",
              "              title=\"Convert this dataframe to an interactive table.\"\n",
              "              style=\"display:none;\">\n",
              "        \n",
              "  <svg xmlns=\"http://www.w3.org/2000/svg\" height=\"24px\"viewBox=\"0 0 24 24\"\n",
              "       width=\"24px\">\n",
              "    <path d=\"M0 0h24v24H0V0z\" fill=\"none\"/>\n",
              "    <path d=\"M18.56 5.44l.94 2.06.94-2.06 2.06-.94-2.06-.94-.94-2.06-.94 2.06-2.06.94zm-11 1L8.5 8.5l.94-2.06 2.06-.94-2.06-.94L8.5 2.5l-.94 2.06-2.06.94zm10 10l.94 2.06.94-2.06 2.06-.94-2.06-.94-.94-2.06-.94 2.06-2.06.94z\"/><path d=\"M17.41 7.96l-1.37-1.37c-.4-.4-.92-.59-1.43-.59-.52 0-1.04.2-1.43.59L10.3 9.45l-7.72 7.72c-.78.78-.78 2.05 0 2.83L4 21.41c.39.39.9.59 1.41.59.51 0 1.02-.2 1.41-.59l7.78-7.78 2.81-2.81c.8-.78.8-2.07 0-2.86zM5.41 20L4 18.59l7.72-7.72 1.47 1.35L5.41 20z\"/>\n",
              "  </svg>\n",
              "      </button>\n",
              "      \n",
              "  <style>\n",
              "    .colab-df-container {\n",
              "      display:flex;\n",
              "      flex-wrap:wrap;\n",
              "      gap: 12px;\n",
              "    }\n",
              "\n",
              "    .colab-df-convert {\n",
              "      background-color: #E8F0FE;\n",
              "      border: none;\n",
              "      border-radius: 50%;\n",
              "      cursor: pointer;\n",
              "      display: none;\n",
              "      fill: #1967D2;\n",
              "      height: 32px;\n",
              "      padding: 0 0 0 0;\n",
              "      width: 32px;\n",
              "    }\n",
              "\n",
              "    .colab-df-convert:hover {\n",
              "      background-color: #E2EBFA;\n",
              "      box-shadow: 0px 1px 2px rgba(60, 64, 67, 0.3), 0px 1px 3px 1px rgba(60, 64, 67, 0.15);\n",
              "      fill: #174EA6;\n",
              "    }\n",
              "\n",
              "    [theme=dark] .colab-df-convert {\n",
              "      background-color: #3B4455;\n",
              "      fill: #D2E3FC;\n",
              "    }\n",
              "\n",
              "    [theme=dark] .colab-df-convert:hover {\n",
              "      background-color: #434B5C;\n",
              "      box-shadow: 0px 1px 3px 1px rgba(0, 0, 0, 0.15);\n",
              "      filter: drop-shadow(0px 1px 2px rgba(0, 0, 0, 0.3));\n",
              "      fill: #FFFFFF;\n",
              "    }\n",
              "  </style>\n",
              "\n",
              "      <script>\n",
              "        const buttonEl =\n",
              "          document.querySelector('#df-0e5c913e-58f9-41d0-907d-dad31e74386d button.colab-df-convert');\n",
              "        buttonEl.style.display =\n",
              "          google.colab.kernel.accessAllowed ? 'block' : 'none';\n",
              "\n",
              "        async function convertToInteractive(key) {\n",
              "          const element = document.querySelector('#df-0e5c913e-58f9-41d0-907d-dad31e74386d');\n",
              "          const dataTable =\n",
              "            await google.colab.kernel.invokeFunction('convertToInteractive',\n",
              "                                                     [key], {});\n",
              "          if (!dataTable) return;\n",
              "\n",
              "          const docLinkHtml = 'Like what you see? Visit the ' +\n",
              "            '<a target=\"_blank\" href=https://colab.research.google.com/notebooks/data_table.ipynb>data table notebook</a>'\n",
              "            + ' to learn more about interactive tables.';\n",
              "          element.innerHTML = '';\n",
              "          dataTable['output_type'] = 'display_data';\n",
              "          await google.colab.output.renderOutput(dataTable, element);\n",
              "          const docLink = document.createElement('div');\n",
              "          docLink.innerHTML = docLinkHtml;\n",
              "          element.appendChild(docLink);\n",
              "        }\n",
              "      </script>\n",
              "    </div>\n",
              "  </div>\n",
              "  "
            ]
          },
          "metadata": {},
          "execution_count": 52
        }
      ]
    },
    {
      "cell_type": "markdown",
      "source": [
        "### Задание 2\n",
        "Выполните визуализацию независимой и зависимой переменных в соответствии с индивидуальным заданием, подписывая оси и рисунок. \n",
        "\n",
        "Независимая переменная: height  \n",
        "Визуализация – диаграмма размаха  \n",
        "\n",
        "Зависимая переменная: weight   \n",
        "Визуализация – эмпирическая функция распределения "
      ],
      "metadata": {
        "id": "cxZukOGIilLW"
      }
    },
    {
      "cell_type": "markdown",
      "source": [
        "Подключаем необходимые библиотеки в том числе Matplotlib, предназначенную для визуализации данных:"
      ],
      "metadata": {
        "id": "lbloUxM7YTwQ"
      }
    },
    {
      "cell_type": "code",
      "source": [
        "import numpy as np\n",
        "import matplotlib.pyplot as plt\n",
        "import pandas as pd"
      ],
      "metadata": {
        "id": "Gb5S7Mg2JHpj"
      },
      "execution_count": 4,
      "outputs": []
    },
    {
      "cell_type": "markdown",
      "source": [
        "Создаем два массива с данными о наших параметрах:"
      ],
      "metadata": {
        "id": "OS77eLDJIm76"
      }
    },
    {
      "cell_type": "code",
      "source": [
        "h = dataFrame['height'].to_numpy()\n",
        "w = dataFrame['weight'].to_numpy()"
      ],
      "metadata": {
        "id": "_f25Djt0GHt6"
      },
      "execution_count": 5,
      "outputs": []
    },
    {
      "cell_type": "markdown",
      "source": [
        "Создадим функцию, вычисляющую значения функции распределения для переменной weight:"
      ],
      "metadata": {
        "id": "nlodPcFffohB"
      }
    },
    {
      "cell_type": "code",
      "source": [
        "def ECDF(data, x):\n",
        "    counter = 0\n",
        "    for v in data:\n",
        "        if v <= x:\n",
        "            counter += 1\n",
        "    return counter / len(data)"
      ],
      "metadata": {
        "id": "AuTC0HyIbdMK"
      },
      "execution_count": 6,
      "outputs": []
    },
    {
      "cell_type": "markdown",
      "source": [
        "Зададим массивы значений для визуализации функции распределения:"
      ],
      "metadata": {
        "id": "XYdUzlMtgFUD"
      }
    },
    {
      "cell_type": "code",
      "source": [
        "npoints = 500\n",
        "dx = (w.max()-w.min())/npoints\n",
        "\n",
        "xlist = [w.min()+dx*i for i in range(npoints)]\n",
        "ylist = [ECDF(w, x) for x in xlist]"
      ],
      "metadata": {
        "id": "fJCSChuXbidV"
      },
      "execution_count": 7,
      "outputs": []
    },
    {
      "cell_type": "markdown",
      "source": [
        "Выполним визуализацию независимой и зависимой переменных:"
      ],
      "metadata": {
        "id": "3vyyVV51gXip"
      }
    },
    {
      "cell_type": "code",
      "source": [
        "plt.figure(figsize=(9, 9))\n",
        "plt.subplot(2, 3, 1)          # график №1\n",
        "plt.boxplot(h)  # построение диаграммы размаха\n",
        "plt.title(\"Диаграмма размаха параметра height\") # заголовок\n",
        "plt.xticks([1], ['height']) # подпись тика на оси абсцисс\n",
        "plt.grid(True)                # включение отображение сетки\n",
        "plt.subplot(2, 2, 2)          # график №2\n",
        "plt.plot(xlist, ylist)               # построение графика функции распределения\n",
        "plt.title(\"Эмпирическая функция распределения признака weight\")\n",
        "plt.xlabel(r\"$x$\", fontsize=14)  # ось абсцисс\n",
        "plt.ylabel(r\"$F(x)$\", fontsize=14) # ось ординат\n",
        "plt.grid(True);   "
      ],
      "metadata": {
        "colab": {
          "base_uri": "https://localhost:8080/",
          "height": 304
        },
        "id": "qn8ley1UaeTV",
        "outputId": "fbef1e16-e201-40c9-db47-0de3122e7205"
      },
      "execution_count": 8,
      "outputs": [
        {
          "output_type": "display_data",
          "data": {
            "text/plain": [
              "<Figure size 648x648 with 2 Axes>"
            ],
            "image/png": "[encoded data removed]"
          },
          "metadata": {
            "needs_background": "light"
          }
        }
      ]
    },
    {
      "cell_type": "markdown",
      "source": [
        "### Задание 3\n",
        "Постройте парную линейную регрессию для независимой и зависимой переменных при помощи точного подхода и при помощи нейронной сети с одним нейроном. Вычислите и сравните значения показателей качества R^2 двух подходов."
      ],
      "metadata": {
        "id": "G82R1xrpYkSS"
      }
    },
    {
      "cell_type": "markdown",
      "source": [
        "#### Точный подход"
      ],
      "metadata": {
        "id": "m5UymB4zi-Rx"
      }
    },
    {
      "cell_type": "markdown",
      "source": [
        "Добавим класс, позволяющий вычислять коэффициенты $a,\\,b$ парной линейной регрессии $y=a\\,x+b$ и прогнозировать значение  $y$  по любому значению  $x$:"
      ],
      "metadata": {
        "id": "VYC1VCpPeFQh"
      }
    },
    {
      "cell_type": "code",
      "source": [
        "class SimpleLinReg:\n",
        "\n",
        "    def __init__(self):\n",
        "        self.a_ = None\n",
        "        self.b_ = None\n",
        "\n",
        "    def fit(self, x_train, y_train):\n",
        "        assert x_train.ndim == 1, \\\n",
        "            \"В данных должен быть один признак\"\n",
        "        assert len(x_train) == len(y_train), \\\n",
        "            \"Данные должны иметь одинаковый размер\"\n",
        "\n",
        "        x_mean = np.mean(x_train)\n",
        "        y_mean = np.mean(y_train)\n",
        "\n",
        "        self.a_ = (x_train - x_mean).dot(y_train - y_mean) / \\\n",
        "                  (x_train - x_mean).dot(x_train - x_mean)\n",
        "        self.b_ = y_mean - self.a_ * x_mean\n",
        "\n",
        "        return self\n",
        "\n",
        "    def predict(self, x_predict):\n",
        "        assert x_predict.ndim == 1, \\\n",
        "            \"В данных должен быть один признак\"\n",
        "        assert self.a_ is not None and self.b_ is not None, \\\n",
        "            \"Модель вначале должна быть обучена\"\n",
        "\n",
        "        return np.array([self._predict(x) for x in x_predict])\n",
        "\n",
        "    def _predict(self, x_single):\n",
        "        return self.a_ * x_single + self.b_\n",
        "\n",
        "    def __repr__(self):\n",
        "        return \"SimpleLinearReg()\""
      ],
      "metadata": {
        "id": "T0XbCst5g_fu"
      },
      "execution_count": 9,
      "outputs": []
    },
    {
      "cell_type": "markdown",
      "source": [
        "Создадим объект класса SimpleLinReg и построим функцию парной регрессии:"
      ],
      "metadata": {
        "id": "NGyLYyxgkj2Q"
      }
    },
    {
      "cell_type": "code",
      "source": [
        "reg1 = SimpleLinReg()\n",
        "reg1.fit(h, w)\n",
        "reg1.a_, reg1.b_"
      ],
      "metadata": {
        "colab": {
          "base_uri": "https://localhost:8080/"
        },
        "id": "bcCJ_dwljiWB",
        "outputId": "ac2272af-aa16-4fa2-fd7a-094ba056b9a2"
      },
      "execution_count": 10,
      "outputs": [
        {
          "output_type": "execute_result",
          "data": {
            "text/plain": [
              "(0.5016993, -33.756134)"
            ]
          },
          "metadata": {},
          "execution_count": 10
        }
      ]
    },
    {
      "cell_type": "markdown",
      "source": [
        "Выполним прогнозировние значений переменной weight"
      ],
      "metadata": {
        "id": "Qd-IFviulEh8"
      }
    },
    {
      "cell_type": "code",
      "source": [
        "w_hat1 = reg1.predict(h)"
      ],
      "metadata": {
        "id": "uILnu42LkOTM"
      },
      "execution_count": 31,
      "outputs": []
    },
    {
      "cell_type": "markdown",
      "source": [
        "#### Нейронная сеть"
      ],
      "metadata": {
        "id": "v3ETTzyAmDp7"
      }
    },
    {
      "cell_type": "markdown",
      "source": [
        "Рассмотрим задачу регрессии для набора howell с использованием средств Tensorflow."
      ],
      "metadata": {
        "id": "0pgDMEXtpYSV"
      }
    },
    {
      "cell_type": "markdown",
      "source": [
        "Подключим библиотеку Tensorflow"
      ],
      "metadata": {
        "id": "l2GpbObsmH9B"
      }
    },
    {
      "cell_type": "code",
      "source": [
        "import tensorflow as tf\n",
        "print(tf.__version__)"
      ],
      "metadata": {
        "colab": {
          "base_uri": "https://localhost:8080/"
        },
        "id": "Va-qoGudpASk",
        "outputId": "03a91f47-9375-4b38-c0aa-b4574e386bb5"
      },
      "execution_count": 12,
      "outputs": [
        {
          "output_type": "stream",
          "name": "stdout",
          "text": [
            "2.8.0\n"
          ]
        }
      ]
    },
    {
      "cell_type": "markdown",
      "source": [
        "Создадим с использованием средств модуля Keras модель простейшей нейронной сети из одного слоя с одним нейроном:"
      ],
      "metadata": {
        "id": "GBPK1HGRpVBJ"
      }
    },
    {
      "cell_type": "code",
      "source": [
        "model = tf.keras.Sequential( [ tf.keras.layers.Dense(1, input_shape=(1,)) ] )"
      ],
      "metadata": {
        "id": "-QqQxan5pRQi"
      },
      "execution_count": 13,
      "outputs": []
    },
    {
      "cell_type": "code",
      "source": [
        "model.summary()"
      ],
      "metadata": {
        "colab": {
          "base_uri": "https://localhost:8080/"
        },
        "id": "TNF7e37FpoOk",
        "outputId": "0cfe239e-88fb-4e7b-e7ca-c0a8d38c8ee3"
      },
      "execution_count": 14,
      "outputs": [
        {
          "output_type": "stream",
          "name": "stdout",
          "text": [
            "Model: \"sequential\"\n",
            "_________________________________________________________________\n",
            " Layer (type)                Output Shape              Param #   \n",
            "=================================================================\n",
            " dense (Dense)               (None, 1)                 2         \n",
            "                                                                 \n",
            "=================================================================\n",
            "Total params: 2\n",
            "Trainable params: 2\n",
            "Non-trainable params: 0\n",
            "_________________________________________________________________\n"
          ]
        }
      ]
    },
    {
      "cell_type": "markdown",
      "source": [
        "После того, как модель построена, настроим процесс ее обучения вызовом метода compile():"
      ],
      "metadata": {
        "id": "Mec6rspKps3i"
      }
    },
    {
      "cell_type": "code",
      "source": [
        "model.compile(\n",
        "    loss=tf.keras.losses.mean_absolute_error, # для оценки качества модели используется средняя абсолютная ошибка MAE\n",
        "    optimizer=tf.keras.optimizers.Adam(learning_rate=0.25),\n",
        "    metrics=['mean_absolute_error']\n",
        ")"
      ],
      "metadata": {
        "id": "wdkJAG5mptkK"
      },
      "execution_count": 15,
      "outputs": []
    },
    {
      "cell_type": "markdown",
      "source": [
        "Обучим модель, используя метод fit():"
      ],
      "metadata": {
        "id": "JX3G38k4qB9s"
      }
    },
    {
      "cell_type": "code",
      "source": [
        "model.fit(h, w, epochs=100)"
      ],
      "metadata": {
        "colab": {
          "base_uri": "https://localhost:8080/"
        },
        "id": "FnB9dJJAqGRd",
        "outputId": "c3ce1106-937a-4f86-baef-a8f2d61e018b"
      },
      "execution_count": 16,
      "outputs": [
        {
          "output_type": "stream",
          "name": "stdout",
          "text": [
            "Epoch 1/100\n",
            "17/17 [==============================] - 1s 2ms/step - loss: 11.0386 - mean_absolute_error: 11.0386\n",
            "Epoch 2/100\n",
            "17/17 [==============================] - 0s 1ms/step - loss: 8.1533 - mean_absolute_error: 8.1533\n",
            "Epoch 3/100\n",
            "17/17 [==============================] - 0s 1ms/step - loss: 7.3515 - mean_absolute_error: 7.3515\n",
            "Epoch 4/100\n",
            "17/17 [==============================] - 0s 1ms/step - loss: 6.8269 - mean_absolute_error: 6.8269\n",
            "Epoch 5/100\n",
            "17/17 [==============================] - 0s 2ms/step - loss: 7.2904 - mean_absolute_error: 7.2904\n",
            "Epoch 6/100\n",
            "17/17 [==============================] - 0s 1ms/step - loss: 6.6105 - mean_absolute_error: 6.6105\n",
            "Epoch 7/100\n",
            "17/17 [==============================] - 0s 2ms/step - loss: 6.7621 - mean_absolute_error: 6.7621\n",
            "Epoch 8/100\n",
            "17/17 [==============================] - 0s 1ms/step - loss: 7.0283 - mean_absolute_error: 7.0283\n",
            "Epoch 9/100\n",
            "17/17 [==============================] - 0s 1ms/step - loss: 6.1814 - mean_absolute_error: 6.1814\n",
            "Epoch 10/100\n",
            "17/17 [==============================] - 0s 1ms/step - loss: 5.8951 - mean_absolute_error: 5.8951\n",
            "Epoch 11/100\n",
            "17/17 [==============================] - 0s 1ms/step - loss: 6.3171 - mean_absolute_error: 6.3171\n",
            "Epoch 12/100\n",
            "17/17 [==============================] - 0s 1ms/step - loss: 5.5477 - mean_absolute_error: 5.5477\n",
            "Epoch 13/100\n",
            "17/17 [==============================] - 0s 2ms/step - loss: 6.2612 - mean_absolute_error: 6.2612\n",
            "Epoch 14/100\n",
            "17/17 [==============================] - 0s 1ms/step - loss: 5.3464 - mean_absolute_error: 5.3464\n",
            "Epoch 15/100\n",
            "17/17 [==============================] - 0s 1ms/step - loss: 5.5060 - mean_absolute_error: 5.5060\n",
            "Epoch 16/100\n",
            "17/17 [==============================] - 0s 2ms/step - loss: 5.4676 - mean_absolute_error: 5.4676\n",
            "Epoch 17/100\n",
            "17/17 [==============================] - 0s 2ms/step - loss: 5.5407 - mean_absolute_error: 5.5407\n",
            "Epoch 18/100\n",
            "17/17 [==============================] - 0s 2ms/step - loss: 5.7674 - mean_absolute_error: 5.7674\n",
            "Epoch 19/100\n",
            "17/17 [==============================] - 0s 1ms/step - loss: 5.0348 - mean_absolute_error: 5.0348\n",
            "Epoch 20/100\n",
            "17/17 [==============================] - 0s 1ms/step - loss: 5.2306 - mean_absolute_error: 5.2306\n",
            "Epoch 21/100\n",
            "17/17 [==============================] - 0s 2ms/step - loss: 5.2475 - mean_absolute_error: 5.2475\n",
            "Epoch 22/100\n",
            "17/17 [==============================] - 0s 2ms/step - loss: 4.8801 - mean_absolute_error: 4.8801\n",
            "Epoch 23/100\n",
            "17/17 [==============================] - 0s 2ms/step - loss: 4.7717 - mean_absolute_error: 4.7717\n",
            "Epoch 24/100\n",
            "17/17 [==============================] - 0s 1ms/step - loss: 4.5941 - mean_absolute_error: 4.5941\n",
            "Epoch 25/100\n",
            "17/17 [==============================] - 0s 2ms/step - loss: 4.8314 - mean_absolute_error: 4.8314\n",
            "Epoch 26/100\n",
            "17/17 [==============================] - 0s 1ms/step - loss: 4.9380 - mean_absolute_error: 4.9380\n",
            "Epoch 27/100\n",
            "17/17 [==============================] - 0s 2ms/step - loss: 5.0478 - mean_absolute_error: 5.0478\n",
            "Epoch 28/100\n",
            "17/17 [==============================] - 0s 1ms/step - loss: 5.3137 - mean_absolute_error: 5.3137\n",
            "Epoch 29/100\n",
            "17/17 [==============================] - 0s 2ms/step - loss: 5.1561 - mean_absolute_error: 5.1561\n",
            "Epoch 30/100\n",
            "17/17 [==============================] - 0s 2ms/step - loss: 5.3078 - mean_absolute_error: 5.3078\n",
            "Epoch 31/100\n",
            "17/17 [==============================] - 0s 2ms/step - loss: 4.9945 - mean_absolute_error: 4.9945\n",
            "Epoch 32/100\n",
            "17/17 [==============================] - 0s 3ms/step - loss: 4.8694 - mean_absolute_error: 4.8694\n",
            "Epoch 33/100\n",
            "17/17 [==============================] - 0s 2ms/step - loss: 5.2210 - mean_absolute_error: 5.2210\n",
            "Epoch 34/100\n",
            "17/17 [==============================] - 0s 2ms/step - loss: 6.1848 - mean_absolute_error: 6.1848\n",
            "Epoch 35/100\n",
            "17/17 [==============================] - 0s 2ms/step - loss: 4.4790 - mean_absolute_error: 4.4790\n",
            "Epoch 36/100\n",
            "17/17 [==============================] - 0s 2ms/step - loss: 4.6977 - mean_absolute_error: 4.6977\n",
            "Epoch 37/100\n",
            "17/17 [==============================] - 0s 2ms/step - loss: 5.5508 - mean_absolute_error: 5.5508\n",
            "Epoch 38/100\n",
            "17/17 [==============================] - 0s 2ms/step - loss: 5.0143 - mean_absolute_error: 5.0143\n",
            "Epoch 39/100\n",
            "17/17 [==============================] - 0s 2ms/step - loss: 4.7050 - mean_absolute_error: 4.7050\n",
            "Epoch 40/100\n",
            "17/17 [==============================] - 0s 2ms/step - loss: 4.9416 - mean_absolute_error: 4.9416\n",
            "Epoch 41/100\n",
            "17/17 [==============================] - 0s 2ms/step - loss: 5.8992 - mean_absolute_error: 5.8992\n",
            "Epoch 42/100\n",
            "17/17 [==============================] - 0s 2ms/step - loss: 5.4169 - mean_absolute_error: 5.4169\n",
            "Epoch 43/100\n",
            "17/17 [==============================] - 0s 3ms/step - loss: 4.6586 - mean_absolute_error: 4.6586\n",
            "Epoch 44/100\n",
            "17/17 [==============================] - 0s 2ms/step - loss: 4.7036 - mean_absolute_error: 4.7036\n",
            "Epoch 45/100\n",
            "17/17 [==============================] - 0s 3ms/step - loss: 4.9974 - mean_absolute_error: 4.9974\n",
            "Epoch 46/100\n",
            "17/17 [==============================] - 0s 2ms/step - loss: 4.4644 - mean_absolute_error: 4.4644\n",
            "Epoch 47/100\n",
            "17/17 [==============================] - 0s 2ms/step - loss: 4.3371 - mean_absolute_error: 4.3371\n",
            "Epoch 48/100\n",
            "17/17 [==============================] - 0s 2ms/step - loss: 4.3442 - mean_absolute_error: 4.3442\n",
            "Epoch 49/100\n",
            "17/17 [==============================] - 0s 2ms/step - loss: 4.5055 - mean_absolute_error: 4.5055\n",
            "Epoch 50/100\n",
            "17/17 [==============================] - 0s 1ms/step - loss: 4.4637 - mean_absolute_error: 4.4637\n",
            "Epoch 51/100\n",
            "17/17 [==============================] - 0s 1ms/step - loss: 5.6697 - mean_absolute_error: 5.6697\n",
            "Epoch 52/100\n",
            "17/17 [==============================] - 0s 1ms/step - loss: 5.9563 - mean_absolute_error: 5.9563\n",
            "Epoch 53/100\n",
            "17/17 [==============================] - 0s 2ms/step - loss: 5.1937 - mean_absolute_error: 5.1937\n",
            "Epoch 54/100\n",
            "17/17 [==============================] - 0s 1ms/step - loss: 5.4655 - mean_absolute_error: 5.4655\n",
            "Epoch 55/100\n",
            "17/17 [==============================] - 0s 1ms/step - loss: 4.9639 - mean_absolute_error: 4.9639\n",
            "Epoch 56/100\n",
            "17/17 [==============================] - 0s 2ms/step - loss: 4.5113 - mean_absolute_error: 4.5113\n",
            "Epoch 57/100\n",
            "17/17 [==============================] - 0s 1ms/step - loss: 4.6737 - mean_absolute_error: 4.6737\n",
            "Epoch 58/100\n",
            "17/17 [==============================] - 0s 2ms/step - loss: 5.2324 - mean_absolute_error: 5.2324\n",
            "Epoch 59/100\n",
            "17/17 [==============================] - 0s 2ms/step - loss: 4.8509 - mean_absolute_error: 4.8509\n",
            "Epoch 60/100\n",
            "17/17 [==============================] - 0s 2ms/step - loss: 4.8920 - mean_absolute_error: 4.8920\n",
            "Epoch 61/100\n",
            "17/17 [==============================] - 0s 2ms/step - loss: 4.3655 - mean_absolute_error: 4.3655\n",
            "Epoch 62/100\n",
            "17/17 [==============================] - 0s 2ms/step - loss: 4.4711 - mean_absolute_error: 4.4711\n",
            "Epoch 63/100\n",
            "17/17 [==============================] - 0s 2ms/step - loss: 4.4989 - mean_absolute_error: 4.4989\n",
            "Epoch 64/100\n",
            "17/17 [==============================] - 0s 2ms/step - loss: 4.3590 - mean_absolute_error: 4.3590\n",
            "Epoch 65/100\n",
            "17/17 [==============================] - 0s 2ms/step - loss: 4.3667 - mean_absolute_error: 4.3667\n",
            "Epoch 66/100\n",
            "17/17 [==============================] - 0s 2ms/step - loss: 5.2720 - mean_absolute_error: 5.2720\n",
            "Epoch 67/100\n",
            "17/17 [==============================] - 0s 2ms/step - loss: 4.3955 - mean_absolute_error: 4.3955\n",
            "Epoch 68/100\n",
            "17/17 [==============================] - 0s 1ms/step - loss: 4.5649 - mean_absolute_error: 4.5649\n",
            "Epoch 69/100\n",
            "17/17 [==============================] - 0s 2ms/step - loss: 4.2537 - mean_absolute_error: 4.2537\n",
            "Epoch 70/100\n",
            "17/17 [==============================] - 0s 1ms/step - loss: 4.3265 - mean_absolute_error: 4.3265\n",
            "Epoch 71/100\n",
            "17/17 [==============================] - 0s 2ms/step - loss: 4.6030 - mean_absolute_error: 4.6030\n",
            "Epoch 72/100\n",
            "17/17 [==============================] - 0s 2ms/step - loss: 4.8203 - mean_absolute_error: 4.8203\n",
            "Epoch 73/100\n",
            "17/17 [==============================] - 0s 2ms/step - loss: 4.9367 - mean_absolute_error: 4.9367\n",
            "Epoch 74/100\n",
            "17/17 [==============================] - 0s 2ms/step - loss: 4.2383 - mean_absolute_error: 4.2383\n",
            "Epoch 75/100\n",
            "17/17 [==============================] - 0s 1ms/step - loss: 4.5846 - mean_absolute_error: 4.5846\n",
            "Epoch 76/100\n",
            "17/17 [==============================] - 0s 2ms/step - loss: 4.6302 - mean_absolute_error: 4.6302\n",
            "Epoch 77/100\n",
            "17/17 [==============================] - 0s 2ms/step - loss: 4.5803 - mean_absolute_error: 4.5803\n",
            "Epoch 78/100\n",
            "17/17 [==============================] - 0s 2ms/step - loss: 4.6008 - mean_absolute_error: 4.6008\n",
            "Epoch 79/100\n",
            "17/17 [==============================] - 0s 2ms/step - loss: 5.0291 - mean_absolute_error: 5.0291\n",
            "Epoch 80/100\n",
            "17/17 [==============================] - 0s 1ms/step - loss: 4.4644 - mean_absolute_error: 4.4644\n",
            "Epoch 81/100\n",
            "17/17 [==============================] - 0s 1ms/step - loss: 4.8892 - mean_absolute_error: 4.8892\n",
            "Epoch 82/100\n",
            "17/17 [==============================] - 0s 2ms/step - loss: 4.4825 - mean_absolute_error: 4.4825\n",
            "Epoch 83/100\n",
            "17/17 [==============================] - 0s 2ms/step - loss: 4.6079 - mean_absolute_error: 4.6079\n",
            "Epoch 84/100\n",
            "17/17 [==============================] - 0s 2ms/step - loss: 4.5703 - mean_absolute_error: 4.5703\n",
            "Epoch 85/100\n",
            "17/17 [==============================] - 0s 2ms/step - loss: 4.3797 - mean_absolute_error: 4.3797\n",
            "Epoch 86/100\n",
            "17/17 [==============================] - 0s 2ms/step - loss: 4.6909 - mean_absolute_error: 4.6909\n",
            "Epoch 87/100\n",
            "17/17 [==============================] - 0s 2ms/step - loss: 5.2675 - mean_absolute_error: 5.2675\n",
            "Epoch 88/100\n",
            "17/17 [==============================] - 0s 2ms/step - loss: 4.2979 - mean_absolute_error: 4.2979\n",
            "Epoch 89/100\n",
            "17/17 [==============================] - 0s 2ms/step - loss: 4.5284 - mean_absolute_error: 4.5284\n",
            "Epoch 90/100\n",
            "17/17 [==============================] - 0s 2ms/step - loss: 4.8497 - mean_absolute_error: 4.8497\n",
            "Epoch 91/100\n",
            "17/17 [==============================] - 0s 1ms/step - loss: 4.2092 - mean_absolute_error: 4.2092\n",
            "Epoch 92/100\n",
            "17/17 [==============================] - 0s 2ms/step - loss: 5.4625 - mean_absolute_error: 5.4625\n",
            "Epoch 93/100\n",
            "17/17 [==============================] - 0s 2ms/step - loss: 4.5464 - mean_absolute_error: 4.5464\n",
            "Epoch 94/100\n",
            "17/17 [==============================] - 0s 2ms/step - loss: 5.8647 - mean_absolute_error: 5.8647\n",
            "Epoch 95/100\n",
            "17/17 [==============================] - 0s 2ms/step - loss: 5.2319 - mean_absolute_error: 5.2319\n",
            "Epoch 96/100\n",
            "17/17 [==============================] - 0s 2ms/step - loss: 4.6826 - mean_absolute_error: 4.6826\n",
            "Epoch 97/100\n",
            "17/17 [==============================] - 0s 3ms/step - loss: 5.1740 - mean_absolute_error: 5.1740\n",
            "Epoch 98/100\n",
            "17/17 [==============================] - 0s 2ms/step - loss: 4.5167 - mean_absolute_error: 4.5167\n",
            "Epoch 99/100\n",
            "17/17 [==============================] - 0s 2ms/step - loss: 4.7296 - mean_absolute_error: 4.7296\n",
            "Epoch 100/100\n",
            "17/17 [==============================] - 0s 2ms/step - loss: 5.6828 - mean_absolute_error: 5.6828\n"
          ]
        },
        {
          "output_type": "execute_result",
          "data": {
            "text/plain": [
              "<keras.callbacks.History at 0x7fd662665790>"
            ]
          },
          "metadata": {},
          "execution_count": 16
        }
      ]
    },
    {
      "cell_type": "markdown",
      "source": [
        "Выполним прогнозирование значений зависимой переменной (отклика):"
      ],
      "metadata": {
        "id": "risCjq86qaQZ"
      }
    },
    {
      "cell_type": "code",
      "source": [
        "w_hat2 = model.predict(h)"
      ],
      "metadata": {
        "id": "DcA61jG5qb3e"
      },
      "execution_count": 32,
      "outputs": []
    },
    {
      "cell_type": "markdown",
      "source": [
        "#### Сравнение значений показателей качества $R^2$ двух подходов:"
      ],
      "metadata": {
        "id": "UrtRlVDzs5W6"
      }
    },
    {
      "cell_type": "markdown",
      "source": [
        "Вычислим значение показателей качества $R^2$ двух подходов:\n",
        "1. Вычислим среднюю квадратичную ошибку (MSE)"
      ],
      "metadata": {
        "id": "rc5IrpchsI9k"
      }
    },
    {
      "cell_type": "code",
      "source": [
        "mse_test1 = np.sum((w_hat1 - w)**2) / len(w)  # для точного подхода\n",
        "print(\"MSE точного подхода = \", mse_test1)\n",
        "mse_test2 = np.sum((w_hat2 - w)**2) / len(w)  # для нейронной сети\n",
        "print(\"MSE нейронной сети = \", mse_test2)"
      ],
      "metadata": {
        "colab": {
          "base_uri": "https://localhost:8080/"
        },
        "id": "gMJ6b-VeOoad",
        "outputId": "6364e132-ee1c-421f-9b42-2f79c0a5ebc7"
      },
      "execution_count": 35,
      "outputs": [
        {
          "output_type": "stream",
          "name": "stdout",
          "text": [
            "MSE точного подхода =  24.8377685546875\n",
            "MSE нейронной сети =  219168.36764705883\n"
          ]
        }
      ]
    },
    {
      "cell_type": "markdown",
      "source": [
        "2. Вычислим коэффициенты детерминации $R^2$:"
      ],
      "metadata": {
        "id": "mcin-xb3Y_nA"
      }
    },
    {
      "cell_type": "code",
      "source": [
        "R1 = 1 - mse_test1/np.var(w)\n",
        "print(\"R^2 точного подхода = \", R1)\n",
        "R2 = 1 - mse_test2/np.var(w)\n",
        "print(\"R^2 ANN = \",R2)"
      ],
      "metadata": {
        "colab": {
          "base_uri": "https://localhost:8080/"
        },
        "id": "4d33TV-aYQ8C",
        "outputId": "63c089a7-d44e-4f2e-9df3-95a8540f88d3"
      },
      "execution_count": 38,
      "outputs": [
        {
          "output_type": "stream",
          "name": "stdout",
          "text": [
            "R^2 точного подхода =  0.885146427424846\n",
            "R^2 ANN =  -1012.4674523722017\n"
          ]
        }
      ]
    },
    {
      "cell_type": "markdown",
      "source": [
        "### Задание  4\n",
        "Постройте диаграмму рассеяния для независимого и зависимого признаков и изобразите линии двух построенных парных регрессий, подписывая оси и рисунок и создавая легенду. "
      ],
      "metadata": {
        "id": "rWuix656Y7PJ"
      }
    },
    {
      "cell_type": "code",
      "source": [
        "plt.figure(figsize=(12,8)) # size\n",
        "plt.scatter(h, w, label='диаграмма рассеяния')\n",
        "plt.xlabel(r\"$height$\", fontsize=14)\n",
        "plt.ylabel(r\"$weight$\", fontsize=14)\n",
        "plt.title('Визуализация линий регрессий для двух случаев')\n",
        "plt.plot(h, w_hat1, c='m', label='точная линия регрессии')\n",
        "plt.plot(h, w_hat2, c='r', label='линия регрессии (ANN)')\n",
        "plt.legend();"
      ],
      "metadata": {
        "colab": {
          "base_uri": "https://localhost:8080/",
          "height": 521
        },
        "id": "9f6gHLbnq1XL",
        "outputId": "ed07e73b-a76a-49bf-fdcb-bc49a2d91161"
      },
      "execution_count": 25,
      "outputs": [
        {
          "output_type": "display_data",
          "data": {
            "text/plain": [
              "<Figure size 864x576 with 1 Axes>"
            ],
            "image/png": "[encoded data removed]"
          },
          "metadata": {
            "needs_background": "light"
          }
        }
      ]
    },
    {
      "cell_type": "markdown",
      "source": [
        "### Задание 5 \n",
        "Разбейте набор признаков на обучающую и контрольную выборки. Создайте и адаптируйте на обучающей выборке нормализующий слой Tensorflow для всех признаков набора данных (за исключением зависимого признака). "
      ],
      "metadata": {
        "id": "e503YMGlQnws"
      }
    },
    {
      "cell_type": "markdown",
      "source": [
        "Функция разбиения данных на обучающую и контрольную выборки:"
      ],
      "metadata": {
        "id": "KFZYguVTZ3c2"
      }
    },
    {
      "cell_type": "code",
      "source": [
        "def train_test_split(X, y, test_ratio=0.2, seed=None): \n",
        "    \"\"\"returns X_train, X_test, y_train, y_test\"\"\" \n",
        "    assert X.shape[0] == y.shape[0], \\\n",
        "        \"Размер X должен быть равен размеру y\"\n",
        "    assert 0.0 <= test_ratio <= 1.0, \\\n",
        "        \"Неверное значение test_ratio\"\n",
        "\n",
        "    if seed: \n",
        "        np.random.seed(seed)\n",
        "\n",
        "    shuffled_indexes = np.random.permutation(len(X))\n",
        "    test_size = int(len(X) * test_ratio) \n",
        "\n",
        "    test_indexes = shuffled_indexes[:test_size] \n",
        "    train_indexes = shuffled_indexes[test_size:]\n",
        "\n",
        "    X_train = X[train_indexes] \n",
        "    y_train = y[train_indexes]\n",
        "\n",
        "    X_test = X[test_indexes] \n",
        "    y_test = y[test_indexes]\n",
        "\n",
        "    return X_train, X_test, y_train, y_test"
      ],
      "metadata": {
        "id": "UbPYDuDvZ1TS"
      },
      "execution_count": 39,
      "outputs": []
    },
    {
      "cell_type": "markdown",
      "source": [
        "Создадим четыре массива:  \n",
        "- x_train – массив значений признаков (предикторов) для обучения;  \n",
        "- y_train - массив значений отклика для x_train;\n",
        "- x_test – массив значений признаков (предикторов) для тестирования;\n",
        "- y_test - массив значений отклика для x_test."
      ],
      "metadata": {
        "id": "-8DauNtca98W"
      }
    },
    {
      "cell_type": "code",
      "source": [
        "df = dataFrame.drop(['weight'], axis=1)\n",
        "x_train, x_test, y_train, y_test = train_test_split(df.to_numpy(), w)\n",
        "x_train.shape, y_train.shape, x_test.shape, y_test.shape"
      ],
      "metadata": {
        "colab": {
          "base_uri": "https://localhost:8080/"
        },
        "id": "imM6bJU0aYW8",
        "outputId": "c0f4ad26-7337-4e0b-ae24-a88f2a02ac4f"
      },
      "execution_count": 104,
      "outputs": [
        {
          "output_type": "execute_result",
          "data": {
            "text/plain": [
              "((436, 3), (436,), (108, 3), (108,))"
            ]
          },
          "metadata": {},
          "execution_count": 104
        }
      ]
    },
    {
      "cell_type": "markdown",
      "source": [
        "Создадим на обучающей выборке нормализующий слой Tensorflow для всех признаков набора данных (за исключением зависимого признака)."
      ],
      "metadata": {
        "id": "omLXYtwCj6aG"
      }
    },
    {
      "cell_type": "markdown",
      "source": [
        "Создадим слой нормализации:"
      ],
      "metadata": {
        "id": "Umk5WApbljh_"
      }
    },
    {
      "cell_type": "code",
      "source": [
        "normalizer = tf.keras.layers.Normalization()"
      ],
      "metadata": {
        "id": "DkrIaNYvflSs"
      },
      "execution_count": 105,
      "outputs": []
    },
    {
      "cell_type": "markdown",
      "source": [
        "Преобразуем массив x_train в датафрейм:"
      ],
      "metadata": {
        "id": "XVbPlvtTlfgA"
      }
    },
    {
      "cell_type": "code",
      "source": [
        "df_train = pd.DataFrame(x_train)\n",
        "df_train"
      ],
      "metadata": {
        "colab": {
          "base_uri": "https://localhost:8080/",
          "height": 423
        },
        "id": "jEGNPazDlhru",
        "outputId": "8911d0ee-5763-4010-e3a7-89474ddd4201"
      },
      "execution_count": 106,
      "outputs": [
        {
          "output_type": "execute_result",
          "data": {
            "text/plain": [
              "        0           1    2\n",
              "0    37.0  147.955002  0.0\n",
              "1    16.0  153.669998  0.0\n",
              "2    46.0  153.035004  0.0\n",
              "3    50.0  167.005005  1.0\n",
              "4    56.0  147.955002  0.0\n",
              "..    ...         ...  ...\n",
              "431  54.0  159.399994  1.0\n",
              "432  21.0  155.574997  0.0\n",
              "433  24.0  160.654999  1.0\n",
              "434  35.0  163.830002  1.0\n",
              "435  41.0  161.289993  1.0\n",
              "\n",
              "[436 rows x 3 columns]"
            ],
            "text/html": [
              "\n",
              "  <div id=\"df-74aed21d-af92-4a61-9f58-984c591f922c\">\n",
              "    <div class=\"colab-df-container\">\n",
              "      <div>\n",
              "<style scoped>\n",
              "    .dataframe tbody tr th:only-of-type {\n",
              "        vertical-align: middle;\n",
              "    }\n",
              "\n",
              "    .dataframe tbody tr th {\n",
              "        vertical-align: top;\n",
              "    }\n",
              "\n",
              "    .dataframe thead th {\n",
              "        text-align: right;\n",
              "    }\n",
              "</style>\n",
              "<table border=\"1\" class=\"dataframe\">\n",
              "  <thead>\n",
              "    <tr style=\"text-align: right;\">\n",
              "      <th></th>\n",
              "      <th>0</th>\n",
              "      <th>1</th>\n",
              "      <th>2</th>\n",
              "    </tr>\n",
              "  </thead>\n",
              "  <tbody>\n",
              "    <tr>\n",
              "      <th>0</th>\n",
              "      <td>37.0</td>\n",
              "      <td>147.955002</td>\n",
              "      <td>0.0</td>\n",
              "    </tr>\n",
              "    <tr>\n",
              "      <th>1</th>\n",
              "      <td>16.0</td>\n",
              "      <td>153.669998</td>\n",
              "      <td>0.0</td>\n",
              "    </tr>\n",
              "    <tr>\n",
              "      <th>2</th>\n",
              "      <td>46.0</td>\n",
              "      <td>153.035004</td>\n",
              "      <td>0.0</td>\n",
              "    </tr>\n",
              "    <tr>\n",
              "      <th>3</th>\n",
              "      <td>50.0</td>\n",
              "      <td>167.005005</td>\n",
              "      <td>1.0</td>\n",
              "    </tr>\n",
              "    <tr>\n",
              "      <th>4</th>\n",
              "      <td>56.0</td>\n",
              "      <td>147.955002</td>\n",
              "      <td>0.0</td>\n",
              "    </tr>\n",
              "    <tr>\n",
              "      <th>...</th>\n",
              "      <td>...</td>\n",
              "      <td>...</td>\n",
              "      <td>...</td>\n",
              "    </tr>\n",
              "    <tr>\n",
              "      <th>431</th>\n",
              "      <td>54.0</td>\n",
              "      <td>159.399994</td>\n",
              "      <td>1.0</td>\n",
              "    </tr>\n",
              "    <tr>\n",
              "      <th>432</th>\n",
              "      <td>21.0</td>\n",
              "      <td>155.574997</td>\n",
              "      <td>0.0</td>\n",
              "    </tr>\n",
              "    <tr>\n",
              "      <th>433</th>\n",
              "      <td>24.0</td>\n",
              "      <td>160.654999</td>\n",
              "      <td>1.0</td>\n",
              "    </tr>\n",
              "    <tr>\n",
              "      <th>434</th>\n",
              "      <td>35.0</td>\n",
              "      <td>163.830002</td>\n",
              "      <td>1.0</td>\n",
              "    </tr>\n",
              "    <tr>\n",
              "      <th>435</th>\n",
              "      <td>41.0</td>\n",
              "      <td>161.289993</td>\n",
              "      <td>1.0</td>\n",
              "    </tr>\n",
              "  </tbody>\n",
              "</table>\n",
              "<p>436 rows × 3 columns</p>\n",
              "</div>\n",
              "      <button class=\"colab-df-convert\" onclick=\"convertToInteractive('df-74aed21d-af92-4a61-9f58-984c591f922c')\"\n",
              "              title=\"Convert this dataframe to an interactive table.\"\n",
              "              style=\"display:none;\">\n",
              "        \n",
              "  <svg xmlns=\"http://www.w3.org/2000/svg\" height=\"24px\"viewBox=\"0 0 24 24\"\n",
              "       width=\"24px\">\n",
              "    <path d=\"M0 0h24v24H0V0z\" fill=\"none\"/>\n",
              "    <path d=\"M18.56 5.44l.94 2.06.94-2.06 2.06-.94-2.06-.94-.94-2.06-.94 2.06-2.06.94zm-11 1L8.5 8.5l.94-2.06 2.06-.94-2.06-.94L8.5 2.5l-.94 2.06-2.06.94zm10 10l.94 2.06.94-2.06 2.06-.94-2.06-.94-.94-2.06-.94 2.06-2.06.94z\"/><path d=\"M17.41 7.96l-1.37-1.37c-.4-.4-.92-.59-1.43-.59-.52 0-1.04.2-1.43.59L10.3 9.45l-7.72 7.72c-.78.78-.78 2.05 0 2.83L4 21.41c.39.39.9.59 1.41.59.51 0 1.02-.2 1.41-.59l7.78-7.78 2.81-2.81c.8-.78.8-2.07 0-2.86zM5.41 20L4 18.59l7.72-7.72 1.47 1.35L5.41 20z\"/>\n",
              "  </svg>\n",
              "      </button>\n",
              "      \n",
              "  <style>\n",
              "    .colab-df-container {\n",
              "      display:flex;\n",
              "      flex-wrap:wrap;\n",
              "      gap: 12px;\n",
              "    }\n",
              "\n",
              "    .colab-df-convert {\n",
              "      background-color: #E8F0FE;\n",
              "      border: none;\n",
              "      border-radius: 50%;\n",
              "      cursor: pointer;\n",
              "      display: none;\n",
              "      fill: #1967D2;\n",
              "      height: 32px;\n",
              "      padding: 0 0 0 0;\n",
              "      width: 32px;\n",
              "    }\n",
              "\n",
              "    .colab-df-convert:hover {\n",
              "      background-color: #E2EBFA;\n",
              "      box-shadow: 0px 1px 2px rgba(60, 64, 67, 0.3), 0px 1px 3px 1px rgba(60, 64, 67, 0.15);\n",
              "      fill: #174EA6;\n",
              "    }\n",
              "\n",
              "    [theme=dark] .colab-df-convert {\n",
              "      background-color: #3B4455;\n",
              "      fill: #D2E3FC;\n",
              "    }\n",
              "\n",
              "    [theme=dark] .colab-df-convert:hover {\n",
              "      background-color: #434B5C;\n",
              "      box-shadow: 0px 1px 3px 1px rgba(0, 0, 0, 0.15);\n",
              "      filter: drop-shadow(0px 1px 2px rgba(0, 0, 0, 0.3));\n",
              "      fill: #FFFFFF;\n",
              "    }\n",
              "  </style>\n",
              "\n",
              "      <script>\n",
              "        const buttonEl =\n",
              "          document.querySelector('#df-74aed21d-af92-4a61-9f58-984c591f922c button.colab-df-convert');\n",
              "        buttonEl.style.display =\n",
              "          google.colab.kernel.accessAllowed ? 'block' : 'none';\n",
              "\n",
              "        async function convertToInteractive(key) {\n",
              "          const element = document.querySelector('#df-74aed21d-af92-4a61-9f58-984c591f922c');\n",
              "          const dataTable =\n",
              "            await google.colab.kernel.invokeFunction('convertToInteractive',\n",
              "                                                     [key], {});\n",
              "          if (!dataTable) return;\n",
              "\n",
              "          const docLinkHtml = 'Like what you see? Visit the ' +\n",
              "            '<a target=\"_blank\" href=https://colab.research.google.com/notebooks/data_table.ipynb>data table notebook</a>'\n",
              "            + ' to learn more about interactive tables.';\n",
              "          element.innerHTML = '';\n",
              "          dataTable['output_type'] = 'display_data';\n",
              "          await google.colab.output.renderOutput(dataTable, element);\n",
              "          const docLink = document.createElement('div');\n",
              "          docLink.innerHTML = docLinkHtml;\n",
              "          element.appendChild(docLink);\n",
              "        }\n",
              "      </script>\n",
              "    </div>\n",
              "  </div>\n",
              "  "
            ]
          },
          "metadata": {},
          "execution_count": 106
        }
      ]
    },
    {
      "cell_type": "markdown",
      "source": [
        "Адаптируем слой ко всем (кроме зависимого) признакам набора данных:"
      ],
      "metadata": {
        "id": "Jp8BHH1tl1DE"
      }
    },
    {
      "cell_type": "code",
      "source": [
        "normalizer.adapt(df_train)"
      ],
      "metadata": {
        "id": "z1m0lFt7lx9U"
      },
      "execution_count": 118,
      "outputs": []
    },
    {
      "cell_type": "markdown",
      "source": [
        "Оценим эффект нормализации:"
      ],
      "metadata": {
        "id": "Lah1VCzunPUR"
      }
    },
    {
      "cell_type": "code",
      "source": [
        "df_train[0:5]"
      ],
      "metadata": {
        "colab": {
          "base_uri": "https://localhost:8080/",
          "height": 206
        },
        "id": "ywxpUzgMm3yn",
        "outputId": "5475b001-d319-49cf-8594-fb917644973e"
      },
      "execution_count": 121,
      "outputs": [
        {
          "output_type": "execute_result",
          "data": {
            "text/plain": [
              "      0           1    2\n",
              "0  37.0  147.955002  0.0\n",
              "1  16.0  153.669998  0.0\n",
              "2  46.0  153.035004  0.0\n",
              "3  50.0  167.005005  1.0\n",
              "4  56.0  147.955002  0.0"
            ],
            "text/html": [
              "\n",
              "  <div id=\"df-fd4c052b-cb57-4d4e-9ead-160f82057cd1\">\n",
              "    <div class=\"colab-df-container\">\n",
              "      <div>\n",
              "<style scoped>\n",
              "    .dataframe tbody tr th:only-of-type {\n",
              "        vertical-align: middle;\n",
              "    }\n",
              "\n",
              "    .dataframe tbody tr th {\n",
              "        vertical-align: top;\n",
              "    }\n",
              "\n",
              "    .dataframe thead th {\n",
              "        text-align: right;\n",
              "    }\n",
              "</style>\n",
              "<table border=\"1\" class=\"dataframe\">\n",
              "  <thead>\n",
              "    <tr style=\"text-align: right;\">\n",
              "      <th></th>\n",
              "      <th>0</th>\n",
              "      <th>1</th>\n",
              "      <th>2</th>\n",
              "    </tr>\n",
              "  </thead>\n",
              "  <tbody>\n",
              "    <tr>\n",
              "      <th>0</th>\n",
              "      <td>37.0</td>\n",
              "      <td>147.955002</td>\n",
              "      <td>0.0</td>\n",
              "    </tr>\n",
              "    <tr>\n",
              "      <th>1</th>\n",
              "      <td>16.0</td>\n",
              "      <td>153.669998</td>\n",
              "      <td>0.0</td>\n",
              "    </tr>\n",
              "    <tr>\n",
              "      <th>2</th>\n",
              "      <td>46.0</td>\n",
              "      <td>153.035004</td>\n",
              "      <td>0.0</td>\n",
              "    </tr>\n",
              "    <tr>\n",
              "      <th>3</th>\n",
              "      <td>50.0</td>\n",
              "      <td>167.005005</td>\n",
              "      <td>1.0</td>\n",
              "    </tr>\n",
              "    <tr>\n",
              "      <th>4</th>\n",
              "      <td>56.0</td>\n",
              "      <td>147.955002</td>\n",
              "      <td>0.0</td>\n",
              "    </tr>\n",
              "  </tbody>\n",
              "</table>\n",
              "</div>\n",
              "      <button class=\"colab-df-convert\" onclick=\"convertToInteractive('df-fd4c052b-cb57-4d4e-9ead-160f82057cd1')\"\n",
              "              title=\"Convert this dataframe to an interactive table.\"\n",
              "              style=\"display:none;\">\n",
              "        \n",
              "  <svg xmlns=\"http://www.w3.org/2000/svg\" height=\"24px\"viewBox=\"0 0 24 24\"\n",
              "       width=\"24px\">\n",
              "    <path d=\"M0 0h24v24H0V0z\" fill=\"none\"/>\n",
              "    <path d=\"M18.56 5.44l.94 2.06.94-2.06 2.06-.94-2.06-.94-.94-2.06-.94 2.06-2.06.94zm-11 1L8.5 8.5l.94-2.06 2.06-.94-2.06-.94L8.5 2.5l-.94 2.06-2.06.94zm10 10l.94 2.06.94-2.06 2.06-.94-2.06-.94-.94-2.06-.94 2.06-2.06.94z\"/><path d=\"M17.41 7.96l-1.37-1.37c-.4-.4-.92-.59-1.43-.59-.52 0-1.04.2-1.43.59L10.3 9.45l-7.72 7.72c-.78.78-.78 2.05 0 2.83L4 21.41c.39.39.9.59 1.41.59.51 0 1.02-.2 1.41-.59l7.78-7.78 2.81-2.81c.8-.78.8-2.07 0-2.86zM5.41 20L4 18.59l7.72-7.72 1.47 1.35L5.41 20z\"/>\n",
              "  </svg>\n",
              "      </button>\n",
              "      \n",
              "  <style>\n",
              "    .colab-df-container {\n",
              "      display:flex;\n",
              "      flex-wrap:wrap;\n",
              "      gap: 12px;\n",
              "    }\n",
              "\n",
              "    .colab-df-convert {\n",
              "      background-color: #E8F0FE;\n",
              "      border: none;\n",
              "      border-radius: 50%;\n",
              "      cursor: pointer;\n",
              "      display: none;\n",
              "      fill: #1967D2;\n",
              "      height: 32px;\n",
              "      padding: 0 0 0 0;\n",
              "      width: 32px;\n",
              "    }\n",
              "\n",
              "    .colab-df-convert:hover {\n",
              "      background-color: #E2EBFA;\n",
              "      box-shadow: 0px 1px 2px rgba(60, 64, 67, 0.3), 0px 1px 3px 1px rgba(60, 64, 67, 0.15);\n",
              "      fill: #174EA6;\n",
              "    }\n",
              "\n",
              "    [theme=dark] .colab-df-convert {\n",
              "      background-color: #3B4455;\n",
              "      fill: #D2E3FC;\n",
              "    }\n",
              "\n",
              "    [theme=dark] .colab-df-convert:hover {\n",
              "      background-color: #434B5C;\n",
              "      box-shadow: 0px 1px 3px 1px rgba(0, 0, 0, 0.15);\n",
              "      filter: drop-shadow(0px 1px 2px rgba(0, 0, 0, 0.3));\n",
              "      fill: #FFFFFF;\n",
              "    }\n",
              "  </style>\n",
              "\n",
              "      <script>\n",
              "        const buttonEl =\n",
              "          document.querySelector('#df-fd4c052b-cb57-4d4e-9ead-160f82057cd1 button.colab-df-convert');\n",
              "        buttonEl.style.display =\n",
              "          google.colab.kernel.accessAllowed ? 'block' : 'none';\n",
              "\n",
              "        async function convertToInteractive(key) {\n",
              "          const element = document.querySelector('#df-fd4c052b-cb57-4d4e-9ead-160f82057cd1');\n",
              "          const dataTable =\n",
              "            await google.colab.kernel.invokeFunction('convertToInteractive',\n",
              "                                                     [key], {});\n",
              "          if (!dataTable) return;\n",
              "\n",
              "          const docLinkHtml = 'Like what you see? Visit the ' +\n",
              "            '<a target=\"_blank\" href=https://colab.research.google.com/notebooks/data_table.ipynb>data table notebook</a>'\n",
              "            + ' to learn more about interactive tables.';\n",
              "          element.innerHTML = '';\n",
              "          dataTable['output_type'] = 'display_data';\n",
              "          await google.colab.output.renderOutput(dataTable, element);\n",
              "          const docLink = document.createElement('div');\n",
              "          docLink.innerHTML = docLinkHtml;\n",
              "          element.appendChild(docLink);\n",
              "        }\n",
              "      </script>\n",
              "    </div>\n",
              "  </div>\n",
              "  "
            ]
          },
          "metadata": {},
          "execution_count": 121
        }
      ]
    },
    {
      "cell_type": "code",
      "source": [
        "normalizer(df_train[0:5]).numpy()"
      ],
      "metadata": {
        "colab": {
          "base_uri": "https://localhost:8080/"
        },
        "id": "f1QC5GR6nEeN",
        "outputId": "eb4f11c9-dc63-4dd3-8f47-b97d012bab57"
      },
      "execution_count": 120,
      "outputs": [
        {
          "output_type": "execute_result",
          "data": {
            "text/plain": [
              "array([[ 0.39909127,  0.34696844, -0.9595337 ],\n",
              "       [-0.63818914,  0.5544823 , -0.9595337 ],\n",
              "       [ 0.84364   ,  0.5314254 , -0.9595337 ],\n",
              "       [ 1.0412172 ,  1.0386819 ,  1.0421729 ],\n",
              "       [ 1.3375831 ,  0.34696844, -0.9595337 ]], dtype=float32)"
            ]
          },
          "metadata": {},
          "execution_count": 120
        }
      ]
    },
    {
      "cell_type": "markdown",
      "source": [
        "### Задание 6\n",
        "Используя созданный нормализующий слой, постройте и обучите на обучающей выборке регресоры на базе следующих моделей множественной регрессии:\n",
        "  * линейной регрессии\n",
        "  * гребневой регрессии (L2)\n",
        "  * лассо регрессии (L1)\n",
        "\n"
      ],
      "metadata": {
        "id": "8oFvW83zZvjp"
      }
    },
    {
      "cell_type": "markdown",
      "source": [
        "#### Линейная регрессия"
      ],
      "metadata": {
        "id": "tu14dZckvtGa"
      }
    },
    {
      "cell_type": "markdown",
      "source": [
        "Построим последовательную модель с двумя слоями:"
      ],
      "metadata": {
        "id": "66hqn_nUt5fv"
      }
    },
    {
      "cell_type": "code",
      "source": [
        "linear_model = tf.keras.Sequential([\n",
        "    normalizer,\n",
        "    tf.keras.layers.Dense(units=1)\n",
        "])\n",
        "linear_model.summary()"
      ],
      "metadata": {
        "colab": {
          "base_uri": "https://localhost:8080/"
        },
        "id": "qrXNgf0xtwN0",
        "outputId": "45496fce-29a1-4866-d673-ebba06188935"
      },
      "execution_count": 122,
      "outputs": [
        {
          "output_type": "stream",
          "name": "stdout",
          "text": [
            "Model: \"sequential_10\"\n",
            "_________________________________________________________________\n",
            " Layer (type)                Output Shape              Param #   \n",
            "=================================================================\n",
            " normalization_4 (Normalizat  (None, 3)                7         \n",
            " ion)                                                            \n",
            "                                                                 \n",
            " dense_10 (Dense)            (None, 1)                 4         \n",
            "                                                                 \n",
            "=================================================================\n",
            "Total params: 11\n",
            "Trainable params: 4\n",
            "Non-trainable params: 7\n",
            "_________________________________________________________________\n"
          ]
        }
      ]
    },
    {
      "cell_type": "markdown",
      "source": [
        "Вызовем модель для набора входных данных:"
      ],
      "metadata": {
        "id": "y593urXiuMER"
      }
    },
    {
      "cell_type": "code",
      "source": [
        "linear_model.predict(df_train[:10])"
      ],
      "metadata": {
        "colab": {
          "base_uri": "https://localhost:8080/"
        },
        "id": "5k5FsZk_uQ15",
        "outputId": "eed7f61d-20d1-48a8-f9c9-964d9e1a8b05"
      },
      "execution_count": 124,
      "outputs": [
        {
          "output_type": "execute_result",
          "data": {
            "text/plain": [
              "array([[ 0.66212606],\n",
              "       [ 1.4143503 ],\n",
              "       [ 0.27227172],\n",
              "       [-2.210734  ],\n",
              "       [-0.06479428],\n",
              "       [ 0.10272715],\n",
              "       [ 1.2153426 ],\n",
              "       [ 1.7836236 ],\n",
              "       [-1.7061026 ],\n",
              "       [-0.98487264]], dtype=float32)"
            ]
          },
          "metadata": {},
          "execution_count": 124
        }
      ]
    },
    {
      "cell_type": "markdown",
      "source": [
        "После построения модели настроим процедуру обучения с помощью метода compile(). "
      ],
      "metadata": {
        "id": "yMGzksbEuhOi"
      }
    },
    {
      "cell_type": "code",
      "source": [
        "linear_model.compile(\n",
        "    optimizer=tf.optimizers.Adam(learning_rate=0.25),\n",
        "    loss='mean_absolute_error')"
      ],
      "metadata": {
        "id": "-ea_i10RutyH"
      },
      "execution_count": 125,
      "outputs": []
    },
    {
      "cell_type": "markdown",
      "source": [
        "После настройки обучения используем метод fit() для выполнения обучения:"
      ],
      "metadata": {
        "id": "wOn8onoDurGz"
      }
    },
    {
      "cell_type": "code",
      "source": [
        "%%time\n",
        "history = linear_model.fit(\n",
        "    df_train, y_train, \n",
        "    epochs=100,\n",
        "    # подавляем вывод\n",
        "    verbose=0,\n",
        "    # проверка (валидация) на 20% обучающих данных\n",
        "    validation_split = 0.2)"
      ],
      "metadata": {
        "colab": {
          "base_uri": "https://localhost:8080/"
        },
        "id": "jJS1lpYTu1Cy",
        "outputId": "ba0484a2-adff-4693-8ee7-6607ea28ee2b"
      },
      "execution_count": 158,
      "outputs": [
        {
          "output_type": "stream",
          "name": "stdout",
          "text": [
            "CPU times: user 4.2 s, sys: 191 ms, total: 4.39 s\n",
            "Wall time: 4.5 s\n"
          ]
        }
      ]
    },
    {
      "cell_type": "markdown",
      "source": [
        "#### Гребневая регрессия (L2)"
      ],
      "metadata": {
        "id": "Dp_1uRscvzN-"
      }
    },
    {
      "cell_type": "markdown",
      "source": [
        "Создаем модель с нормализацией всех признаков и регуляризацией L2:"
      ],
      "metadata": {
        "id": "YSnlb6yWxObt"
      }
    },
    {
      "cell_type": "code",
      "source": [
        "l2_model = tf.keras.Sequential([\n",
        "    normalizer,\n",
        "    tf.keras.layers.Dense(units=1, \n",
        "                          kernel_regularizer=tf.keras.regularizers.L2(l2=0.01))\n",
        "])"
      ],
      "metadata": {
        "id": "rIxCvNmlwtoq"
      },
      "execution_count": 146,
      "outputs": []
    },
    {
      "cell_type": "markdown",
      "source": [
        "Компилируем:"
      ],
      "metadata": {
        "id": "SFwr8iiUxzI8"
      }
    },
    {
      "cell_type": "code",
      "source": [
        "l2_model.compile(\n",
        "    optimizer=tf.optimizers.Adam(learning_rate=0.25),\n",
        "    loss='mean_absolute_error')"
      ],
      "metadata": {
        "id": "IKgGuzq4xxs0"
      },
      "execution_count": 147,
      "outputs": []
    },
    {
      "cell_type": "markdown",
      "source": [
        "Обучаем модель:"
      ],
      "metadata": {
        "id": "f0zBLMA-x1Vp"
      }
    },
    {
      "cell_type": "code",
      "source": [
        "%%time\n",
        "history2 = l2_model.fit(\n",
        "    df_train, y_train, \n",
        "    epochs=100,\n",
        "    # подавляем вывод\n",
        "    verbose=0,\n",
        "    # проверка (валидация) на 20% обучающих данных\n",
        "    validation_split = 0.2)"
      ],
      "metadata": {
        "colab": {
          "base_uri": "https://localhost:8080/"
        },
        "id": "AL82hTETx4AG",
        "outputId": "7cbb26fd-0cff-4223-dc44-8c5041169faf"
      },
      "execution_count": 148,
      "outputs": [
        {
          "output_type": "stream",
          "name": "stdout",
          "text": [
            "CPU times: user 4.61 s, sys: 216 ms, total: 4.83 s\n",
            "Wall time: 5.16 s\n"
          ]
        }
      ]
    },
    {
      "cell_type": "markdown",
      "source": [
        "#### Лассо регрессии (L1)"
      ],
      "metadata": {
        "id": "J3344AM0v8be"
      }
    },
    {
      "cell_type": "markdown",
      "source": [
        "Создаем модель с нормализацией всех признаков и регуляризацией L1:"
      ],
      "metadata": {
        "id": "v9K-3403xMLO"
      }
    },
    {
      "cell_type": "code",
      "source": [
        "l1_model = tf.keras.Sequential([\n",
        "    normalizer,\n",
        "    tf.keras.layers.Dense(units=1, \n",
        "                          kernel_regularizer=tf.keras.regularizers.L1(l1=0.01))\n",
        "])"
      ],
      "metadata": {
        "id": "altKFCrUwpC5"
      },
      "execution_count": 131,
      "outputs": []
    },
    {
      "cell_type": "markdown",
      "source": [
        "Компилируем:"
      ],
      "metadata": {
        "id": "XiN2GU1qxift"
      }
    },
    {
      "cell_type": "code",
      "source": [
        "l1_model.compile(\n",
        "    optimizer=tf.optimizers.Adam(learning_rate=0.25),\n",
        "    loss='mean_absolute_error')"
      ],
      "metadata": {
        "id": "nJiGKsxoxJuk"
      },
      "execution_count": 132,
      "outputs": []
    },
    {
      "cell_type": "markdown",
      "source": [
        "Обучаем модель:"
      ],
      "metadata": {
        "id": "3q2c4ZI7xkAD"
      }
    },
    {
      "cell_type": "code",
      "source": [
        "%%time\n",
        "history1 = l1_model.fit(\n",
        "    df_train, y_train, \n",
        "    epochs=100,\n",
        "    # подавляем вывод\n",
        "    verbose=0,\n",
        "    # проверка (валидация) на 20% обучающих данных\n",
        "    validation_split = 0.2)"
      ],
      "metadata": {
        "colab": {
          "base_uri": "https://localhost:8080/"
        },
        "id": "H0E3o1W8xqSJ",
        "outputId": "df208ea6-3368-4baa-f2ca-fba1a417f488"
      },
      "execution_count": 133,
      "outputs": [
        {
          "output_type": "stream",
          "name": "stdout",
          "text": [
            "CPU times: user 4.25 s, sys: 232 ms, total: 4.49 s\n",
            "Wall time: 5.47 s\n"
          ]
        }
      ]
    },
    {
      "cell_type": "markdown",
      "source": [
        "### Задание 7 \n",
        "Определите  на контрольной выборке модель множественной регрессии с наиболее высоким качеством по показателю, указанному в индивидуальном задании, среди построенных моделей.\n",
        "\n",
        "*Показатель качества регрессии – MSE (mean squared error)*"
      ],
      "metadata": {
        "id": "TM3AmF0cZxKS"
      }
    },
    {
      "cell_type": "code",
      "source": [
        "linear_pr = linear_model.predict(x_test)\n",
        "l2_pr = l2_model.predict(x_test)\n",
        "l1_pr = l1_model.predict(x_test)\n",
        "mse_test_linear = np.sum((linear_pr - y_test)**2) / len(y_test)\n",
        "mse_test_l2 = np.sum((l2_pr - y_test)**2) / len(y_test)\n",
        "mse_test_l1 = np.sum((l1_pr - y_test)**2) / len(y_test)\n",
        "print(\"Показатель качества регрессии линейной регрессии = \", mse_test_linear)\n",
        "print(\"Показатель качества регрессии гребневой регрессии = \", mse_test_l2)\n",
        "print(\"Показатель качества регрессии лассо регрессии = \", mse_test_l1)"
      ],
      "metadata": {
        "colab": {
          "base_uri": "https://localhost:8080/"
        },
        "id": "m61QcR-czWUY",
        "outputId": "b396b224-391a-4c91-fbaa-bbc3670526db"
      },
      "execution_count": 200,
      "outputs": [
        {
          "output_type": "stream",
          "name": "stdout",
          "text": [
            "Показатель качества регрессии линейной регрессии =  43485.49537037037\n",
            "Показатель качества регрессии гребневой регрессии =  39809.416666666664\n",
            "Показатель качества регрессии лассо регрессии =  42221.72222222222\n"
          ]
        }
      ]
    },
    {
      "cell_type": "markdown",
      "source": [
        "### Задание 8 \n",
        "Для лучшего регрессора визуализируйте кривые обучения (в зависимости от эпохи обучения).\n",
        "\n"
      ],
      "metadata": {
        "id": "1OecVRV4ZybS"
      }
    },
    {
      "cell_type": "markdown",
      "source": [
        "Визуализируем ход обучения модели L2, используя статистику, хранящуюся в объекте history2."
      ],
      "metadata": {
        "id": "B5yj4bCz_XJ2"
      }
    },
    {
      "cell_type": "code",
      "source": [
        "hist = pd.DataFrame(history2.history)\n",
        "hist['epoch'] = history2.epoch\n",
        "hist"
      ],
      "metadata": {
        "colab": {
          "base_uri": "https://localhost:8080/",
          "height": 423
        },
        "id": "CLHyI_mY_bie",
        "outputId": "f020c76c-93e4-48dc-aab2-1c9cb438b452"
      },
      "execution_count": 165,
      "outputs": [
        {
          "output_type": "execute_result",
          "data": {
            "text/plain": [
              "         loss   val_loss  epoch\n",
              "0   34.635399  32.806087      0\n",
              "1   31.820978  30.188086      1\n",
              "2   29.042795  27.502119      2\n",
              "3   26.315453  24.834557      3\n",
              "4   23.626900  22.223673      4\n",
              "..        ...        ...    ...\n",
              "95   5.400801   5.396867     95\n",
              "96   5.428760   5.403248     96\n",
              "97   5.427770   5.411155     97\n",
              "98   5.463623   5.391746     98\n",
              "99   5.523023   5.408157     99\n",
              "\n",
              "[100 rows x 3 columns]"
            ],
            "text/html": [
              "\n",
              "  <div id=\"df-cdc356cc-b303-4553-896a-138ed1f66724\">\n",
              "    <div class=\"colab-df-container\">\n",
              "      <div>\n",
              "<style scoped>\n",
              "    .dataframe tbody tr th:only-of-type {\n",
              "        vertical-align: middle;\n",
              "    }\n",
              "\n",
              "    .dataframe tbody tr th {\n",
              "        vertical-align: top;\n",
              "    }\n",
              "\n",
              "    .dataframe thead th {\n",
              "        text-align: right;\n",
              "    }\n",
              "</style>\n",
              "<table border=\"1\" class=\"dataframe\">\n",
              "  <thead>\n",
              "    <tr style=\"text-align: right;\">\n",
              "      <th></th>\n",
              "      <th>loss</th>\n",
              "      <th>val_loss</th>\n",
              "      <th>epoch</th>\n",
              "    </tr>\n",
              "  </thead>\n",
              "  <tbody>\n",
              "    <tr>\n",
              "      <th>0</th>\n",
              "      <td>34.635399</td>\n",
              "      <td>32.806087</td>\n",
              "      <td>0</td>\n",
              "    </tr>\n",
              "    <tr>\n",
              "      <th>1</th>\n",
              "      <td>31.820978</td>\n",
              "      <td>30.188086</td>\n",
              "      <td>1</td>\n",
              "    </tr>\n",
              "    <tr>\n",
              "      <th>2</th>\n",
              "      <td>29.042795</td>\n",
              "      <td>27.502119</td>\n",
              "      <td>2</td>\n",
              "    </tr>\n",
              "    <tr>\n",
              "      <th>3</th>\n",
              "      <td>26.315453</td>\n",
              "      <td>24.834557</td>\n",
              "      <td>3</td>\n",
              "    </tr>\n",
              "    <tr>\n",
              "      <th>4</th>\n",
              "      <td>23.626900</td>\n",
              "      <td>22.223673</td>\n",
              "      <td>4</td>\n",
              "    </tr>\n",
              "    <tr>\n",
              "      <th>...</th>\n",
              "      <td>...</td>\n",
              "      <td>...</td>\n",
              "      <td>...</td>\n",
              "    </tr>\n",
              "    <tr>\n",
              "      <th>95</th>\n",
              "      <td>5.400801</td>\n",
              "      <td>5.396867</td>\n",
              "      <td>95</td>\n",
              "    </tr>\n",
              "    <tr>\n",
              "      <th>96</th>\n",
              "      <td>5.428760</td>\n",
              "      <td>5.403248</td>\n",
              "      <td>96</td>\n",
              "    </tr>\n",
              "    <tr>\n",
              "      <th>97</th>\n",
              "      <td>5.427770</td>\n",
              "      <td>5.411155</td>\n",
              "      <td>97</td>\n",
              "    </tr>\n",
              "    <tr>\n",
              "      <th>98</th>\n",
              "      <td>5.463623</td>\n",
              "      <td>5.391746</td>\n",
              "      <td>98</td>\n",
              "    </tr>\n",
              "    <tr>\n",
              "      <th>99</th>\n",
              "      <td>5.523023</td>\n",
              "      <td>5.408157</td>\n",
              "      <td>99</td>\n",
              "    </tr>\n",
              "  </tbody>\n",
              "</table>\n",
              "<p>100 rows × 3 columns</p>\n",
              "</div>\n",
              "      <button class=\"colab-df-convert\" onclick=\"convertToInteractive('df-cdc356cc-b303-4553-896a-138ed1f66724')\"\n",
              "              title=\"Convert this dataframe to an interactive table.\"\n",
              "              style=\"display:none;\">\n",
              "        \n",
              "  <svg xmlns=\"http://www.w3.org/2000/svg\" height=\"24px\"viewBox=\"0 0 24 24\"\n",
              "       width=\"24px\">\n",
              "    <path d=\"M0 0h24v24H0V0z\" fill=\"none\"/>\n",
              "    <path d=\"M18.56 5.44l.94 2.06.94-2.06 2.06-.94-2.06-.94-.94-2.06-.94 2.06-2.06.94zm-11 1L8.5 8.5l.94-2.06 2.06-.94-2.06-.94L8.5 2.5l-.94 2.06-2.06.94zm10 10l.94 2.06.94-2.06 2.06-.94-2.06-.94-.94-2.06-.94 2.06-2.06.94z\"/><path d=\"M17.41 7.96l-1.37-1.37c-.4-.4-.92-.59-1.43-.59-.52 0-1.04.2-1.43.59L10.3 9.45l-7.72 7.72c-.78.78-.78 2.05 0 2.83L4 21.41c.39.39.9.59 1.41.59.51 0 1.02-.2 1.41-.59l7.78-7.78 2.81-2.81c.8-.78.8-2.07 0-2.86zM5.41 20L4 18.59l7.72-7.72 1.47 1.35L5.41 20z\"/>\n",
              "  </svg>\n",
              "      </button>\n",
              "      \n",
              "  <style>\n",
              "    .colab-df-container {\n",
              "      display:flex;\n",
              "      flex-wrap:wrap;\n",
              "      gap: 12px;\n",
              "    }\n",
              "\n",
              "    .colab-df-convert {\n",
              "      background-color: #E8F0FE;\n",
              "      border: none;\n",
              "      border-radius: 50%;\n",
              "      cursor: pointer;\n",
              "      display: none;\n",
              "      fill: #1967D2;\n",
              "      height: 32px;\n",
              "      padding: 0 0 0 0;\n",
              "      width: 32px;\n",
              "    }\n",
              "\n",
              "    .colab-df-convert:hover {\n",
              "      background-color: #E2EBFA;\n",
              "      box-shadow: 0px 1px 2px rgba(60, 64, 67, 0.3), 0px 1px 3px 1px rgba(60, 64, 67, 0.15);\n",
              "      fill: #174EA6;\n",
              "    }\n",
              "\n",
              "    [theme=dark] .colab-df-convert {\n",
              "      background-color: #3B4455;\n",
              "      fill: #D2E3FC;\n",
              "    }\n",
              "\n",
              "    [theme=dark] .colab-df-convert:hover {\n",
              "      background-color: #434B5C;\n",
              "      box-shadow: 0px 1px 3px 1px rgba(0, 0, 0, 0.15);\n",
              "      filter: drop-shadow(0px 1px 2px rgba(0, 0, 0, 0.3));\n",
              "      fill: #FFFFFF;\n",
              "    }\n",
              "  </style>\n",
              "\n",
              "      <script>\n",
              "        const buttonEl =\n",
              "          document.querySelector('#df-cdc356cc-b303-4553-896a-138ed1f66724 button.colab-df-convert');\n",
              "        buttonEl.style.display =\n",
              "          google.colab.kernel.accessAllowed ? 'block' : 'none';\n",
              "\n",
              "        async function convertToInteractive(key) {\n",
              "          const element = document.querySelector('#df-cdc356cc-b303-4553-896a-138ed1f66724');\n",
              "          const dataTable =\n",
              "            await google.colab.kernel.invokeFunction('convertToInteractive',\n",
              "                                                     [key], {});\n",
              "          if (!dataTable) return;\n",
              "\n",
              "          const docLinkHtml = 'Like what you see? Visit the ' +\n",
              "            '<a target=\"_blank\" href=https://colab.research.google.com/notebooks/data_table.ipynb>data table notebook</a>'\n",
              "            + ' to learn more about interactive tables.';\n",
              "          element.innerHTML = '';\n",
              "          dataTable['output_type'] = 'display_data';\n",
              "          await google.colab.output.renderOutput(dataTable, element);\n",
              "          const docLink = document.createElement('div');\n",
              "          docLink.innerHTML = docLinkHtml;\n",
              "          element.appendChild(docLink);\n",
              "        }\n",
              "      </script>\n",
              "    </div>\n",
              "  </div>\n",
              "  "
            ]
          },
          "metadata": {},
          "execution_count": 165
        }
      ]
    },
    {
      "cell_type": "code",
      "source": [
        "plt.plot(history2.history['loss'], label='loss')\n",
        "plt.plot(history2.history['val_loss'], label='val_loss')\n",
        "plt.ylim([0, max(history2.history['loss'])*0.5])\n",
        "plt.title('Кривые обучения')\n",
        "plt.xlabel('Эпохи обучения')\n",
        "plt.ylabel('Ошибка')\n",
        "plt.legend()\n",
        "plt.grid(True);"
      ],
      "metadata": {
        "colab": {
          "base_uri": "https://localhost:8080/",
          "height": 295
        },
        "id": "rLvit919-lGp",
        "outputId": "79568da4-7389-4056-e683-28960f8e0200"
      },
      "execution_count": 166,
      "outputs": [
        {
          "output_type": "display_data",
          "data": {
            "text/plain": [
              "<Figure size 432x288 with 1 Axes>"
            ],
            "image/png": "[encoded data removed]"
          },
          "metadata": {
            "needs_background": "light"
          }
        }
      ]
    },
    {
      "cell_type": "markdown",
      "source": [
        "### Задание 9\n",
        "Определите медианные значения признаков (кроме независимого и зависимого признаков) и для построенных медианных значений визуализируйте на плоскости с независимым признаком в качестве оси абсцисс и зависимым признаком в качестве оси ординат точки тестовой выборки и линии (графики) различных моделей множественной регрессии разными цветами. Подпишите оси и создайте легенду и заголовок для рисунка."
      ],
      "metadata": {
        "id": "TZxkLrd9Zzya"
      }
    },
    {
      "cell_type": "markdown",
      "source": [
        "Определим медианные значения признаков (кроме независимого и зависимого признаков):"
      ],
      "metadata": {
        "id": "o2hofz7WedcO"
      }
    },
    {
      "cell_type": "code",
      "source": [
        "df_med = df.drop('height', axis = 1).median()\n",
        "df_med"
      ],
      "metadata": {
        "colab": {
          "base_uri": "https://localhost:8080/"
        },
        "id": "Rl5UMZEGDEz3",
        "outputId": "75fd9eb7-c5cb-4a0e-9a54-af5e62b290d5"
      },
      "execution_count": 185,
      "outputs": [
        {
          "output_type": "execute_result",
          "data": {
            "text/plain": [
              "age     27.0\n",
              "male     0.0\n",
              "dtype: float64"
            ]
          },
          "metadata": {},
          "execution_count": 185
        }
      ]
    },
    {
      "cell_type": "markdown",
      "source": [
        "Создадим новую тестовую выборку со значениями признаков age и male равными их медианным значениям. Для этого создадим новый dataframe с отфильтрованными значениями:"
      ],
      "metadata": {
        "id": "Ca188KlQevuk"
      }
    },
    {
      "cell_type": "code",
      "source": [
        "DataFrame = dataFrame[dataFrame['age']==df_med[0]]\n",
        "newDataFrame = DataFrame[DataFrame['male']==df_med[1]]\n",
        "newDataFrame"
      ],
      "metadata": {
        "colab": {
          "base_uri": "https://localhost:8080/",
          "height": 269
        },
        "id": "0nceE6FIYh_b",
        "outputId": "e23f8a99-90b1-441f-9ffe-1d9d5741f527"
      },
      "execution_count": 225,
      "outputs": [
        {
          "output_type": "execute_result",
          "data": {
            "text/plain": [
              "      age      height  male     weight\n",
              "156  27.0  142.875000     0  38.838814\n",
              "279  27.0  144.145004     0  37.194546\n",
              "287  27.0  153.669998     0  41.333572\n",
              "332  27.0  149.225006     0  42.155708\n",
              "396  27.0  152.399994     0  40.879978\n",
              "442  27.0  150.494995     0  43.459782\n",
              "508  27.0  162.559998     0  47.031822"
            ],
            "text/html": [
              "\n",
              "  <div id=\"df-ff5a641f-4a99-48a5-b04f-4a7b9d712bf6\">\n",
              "    <div class=\"colab-df-container\">\n",
              "      <div>\n",
              "<style scoped>\n",
              "    .dataframe tbody tr th:only-of-type {\n",
              "        vertical-align: middle;\n",
              "    }\n",
              "\n",
              "    .dataframe tbody tr th {\n",
              "        vertical-align: top;\n",
              "    }\n",
              "\n",
              "    .dataframe thead th {\n",
              "        text-align: right;\n",
              "    }\n",
              "</style>\n",
              "<table border=\"1\" class=\"dataframe\">\n",
              "  <thead>\n",
              "    <tr style=\"text-align: right;\">\n",
              "      <th></th>\n",
              "      <th>age</th>\n",
              "      <th>height</th>\n",
              "      <th>male</th>\n",
              "      <th>weight</th>\n",
              "    </tr>\n",
              "  </thead>\n",
              "  <tbody>\n",
              "    <tr>\n",
              "      <th>156</th>\n",
              "      <td>27.0</td>\n",
              "      <td>142.875000</td>\n",
              "      <td>0</td>\n",
              "      <td>38.838814</td>\n",
              "    </tr>\n",
              "    <tr>\n",
              "      <th>279</th>\n",
              "      <td>27.0</td>\n",
              "      <td>144.145004</td>\n",
              "      <td>0</td>\n",
              "      <td>37.194546</td>\n",
              "    </tr>\n",
              "    <tr>\n",
              "      <th>287</th>\n",
              "      <td>27.0</td>\n",
              "      <td>153.669998</td>\n",
              "      <td>0</td>\n",
              "      <td>41.333572</td>\n",
              "    </tr>\n",
              "    <tr>\n",
              "      <th>332</th>\n",
              "      <td>27.0</td>\n",
              "      <td>149.225006</td>\n",
              "      <td>0</td>\n",
              "      <td>42.155708</td>\n",
              "    </tr>\n",
              "    <tr>\n",
              "      <th>396</th>\n",
              "      <td>27.0</td>\n",
              "      <td>152.399994</td>\n",
              "      <td>0</td>\n",
              "      <td>40.879978</td>\n",
              "    </tr>\n",
              "    <tr>\n",
              "      <th>442</th>\n",
              "      <td>27.0</td>\n",
              "      <td>150.494995</td>\n",
              "      <td>0</td>\n",
              "      <td>43.459782</td>\n",
              "    </tr>\n",
              "    <tr>\n",
              "      <th>508</th>\n",
              "      <td>27.0</td>\n",
              "      <td>162.559998</td>\n",
              "      <td>0</td>\n",
              "      <td>47.031822</td>\n",
              "    </tr>\n",
              "  </tbody>\n",
              "</table>\n",
              "</div>\n",
              "      <button class=\"colab-df-convert\" onclick=\"convertToInteractive('df-ff5a641f-4a99-48a5-b04f-4a7b9d712bf6')\"\n",
              "              title=\"Convert this dataframe to an interactive table.\"\n",
              "              style=\"display:none;\">\n",
              "        \n",
              "  <svg xmlns=\"http://www.w3.org/2000/svg\" height=\"24px\"viewBox=\"0 0 24 24\"\n",
              "       width=\"24px\">\n",
              "    <path d=\"M0 0h24v24H0V0z\" fill=\"none\"/>\n",
              "    <path d=\"M18.56 5.44l.94 2.06.94-2.06 2.06-.94-2.06-.94-.94-2.06-.94 2.06-2.06.94zm-11 1L8.5 8.5l.94-2.06 2.06-.94-2.06-.94L8.5 2.5l-.94 2.06-2.06.94zm10 10l.94 2.06.94-2.06 2.06-.94-2.06-.94-.94-2.06-.94 2.06-2.06.94z\"/><path d=\"M17.41 7.96l-1.37-1.37c-.4-.4-.92-.59-1.43-.59-.52 0-1.04.2-1.43.59L10.3 9.45l-7.72 7.72c-.78.78-.78 2.05 0 2.83L4 21.41c.39.39.9.59 1.41.59.51 0 1.02-.2 1.41-.59l7.78-7.78 2.81-2.81c.8-.78.8-2.07 0-2.86zM5.41 20L4 18.59l7.72-7.72 1.47 1.35L5.41 20z\"/>\n",
              "  </svg>\n",
              "      </button>\n",
              "      \n",
              "  <style>\n",
              "    .colab-df-container {\n",
              "      display:flex;\n",
              "      flex-wrap:wrap;\n",
              "      gap: 12px;\n",
              "    }\n",
              "\n",
              "    .colab-df-convert {\n",
              "      background-color: #E8F0FE;\n",
              "      border: none;\n",
              "      border-radius: 50%;\n",
              "      cursor: pointer;\n",
              "      display: none;\n",
              "      fill: #1967D2;\n",
              "      height: 32px;\n",
              "      padding: 0 0 0 0;\n",
              "      width: 32px;\n",
              "    }\n",
              "\n",
              "    .colab-df-convert:hover {\n",
              "      background-color: #E2EBFA;\n",
              "      box-shadow: 0px 1px 2px rgba(60, 64, 67, 0.3), 0px 1px 3px 1px rgba(60, 64, 67, 0.15);\n",
              "      fill: #174EA6;\n",
              "    }\n",
              "\n",
              "    [theme=dark] .colab-df-convert {\n",
              "      background-color: #3B4455;\n",
              "      fill: #D2E3FC;\n",
              "    }\n",
              "\n",
              "    [theme=dark] .colab-df-convert:hover {\n",
              "      background-color: #434B5C;\n",
              "      box-shadow: 0px 1px 3px 1px rgba(0, 0, 0, 0.15);\n",
              "      filter: drop-shadow(0px 1px 2px rgba(0, 0, 0, 0.3));\n",
              "      fill: #FFFFFF;\n",
              "    }\n",
              "  </style>\n",
              "\n",
              "      <script>\n",
              "        const buttonEl =\n",
              "          document.querySelector('#df-ff5a641f-4a99-48a5-b04f-4a7b9d712bf6 button.colab-df-convert');\n",
              "        buttonEl.style.display =\n",
              "          google.colab.kernel.accessAllowed ? 'block' : 'none';\n",
              "\n",
              "        async function convertToInteractive(key) {\n",
              "          const element = document.querySelector('#df-ff5a641f-4a99-48a5-b04f-4a7b9d712bf6');\n",
              "          const dataTable =\n",
              "            await google.colab.kernel.invokeFunction('convertToInteractive',\n",
              "                                                     [key], {});\n",
              "          if (!dataTable) return;\n",
              "\n",
              "          const docLinkHtml = 'Like what you see? Visit the ' +\n",
              "            '<a target=\"_blank\" href=https://colab.research.google.com/notebooks/data_table.ipynb>data table notebook</a>'\n",
              "            + ' to learn more about interactive tables.';\n",
              "          element.innerHTML = '';\n",
              "          dataTable['output_type'] = 'display_data';\n",
              "          await google.colab.output.renderOutput(dataTable, element);\n",
              "          const docLink = document.createElement('div');\n",
              "          docLink.innerHTML = docLinkHtml;\n",
              "          element.appendChild(docLink);\n",
              "        }\n",
              "      </script>\n",
              "    </div>\n",
              "  </div>\n",
              "  "
            ]
          },
          "metadata": {},
          "execution_count": 225
        }
      ]
    },
    {
      "cell_type": "markdown",
      "source": [
        "Создадим тестовую выборку и выполним прогнозирование значений зависимой переменной, используя разные модели:"
      ],
      "metadata": {
        "id": "0SBzJM-pfQEl"
      }
    },
    {
      "cell_type": "code",
      "source": [
        "x_test = newDataFrame.drop('weight', axis=1)\n",
        "linear_pr = linear_model.predict(x_test)\n",
        "l2_pr = l2_model.predict(x_test)\n",
        "l1_pr = l1_model.predict(x_test)"
      ],
      "metadata": {
        "id": "6mYaDw8KbYnj"
      },
      "execution_count": 230,
      "outputs": []
    },
    {
      "cell_type": "markdown",
      "source": [
        "Уберем из тестовой выборки константные значения:"
      ],
      "metadata": {
        "id": "3LYTMnsbf-cO"
      }
    },
    {
      "cell_type": "code",
      "source": [
        "x_t = x_test.filter(items=['height']).to_numpy()\n",
        "x_t"
      ],
      "metadata": {
        "colab": {
          "base_uri": "https://localhost:8080/"
        },
        "id": "7atX-TEKcYSm",
        "outputId": "9c9a3d3f-7d69-4852-e51b-b06ff5eac1ad"
      },
      "execution_count": 243,
      "outputs": [
        {
          "output_type": "execute_result",
          "data": {
            "text/plain": [
              "array([[142.875],\n",
              "       [144.145],\n",
              "       [153.67 ],\n",
              "       [149.225],\n",
              "       [152.4  ],\n",
              "       [150.495],\n",
              "       [162.56 ]], dtype=float32)"
            ]
          },
          "metadata": {},
          "execution_count": 243
        }
      ]
    },
    {
      "cell_type": "markdown",
      "source": [
        "Визуализируем на плоскости с независимым признаком в качестве оси абсцисс и зависимым признаком в качестве оси ординат точки тестовой выборки и линии (графики) различных моделей множественной регрессии."
      ],
      "metadata": {
        "id": "DnmAWCHWeoEc"
      }
    },
    {
      "cell_type": "code",
      "source": [
        "plt.figure(figsize=(12,8)) # size\n",
        "plt.scatter(newDataFrame['height'], newDataFrame['weight'], label = \"точки тестовой выборки\")\n",
        "plt.title('Визуализация линий регрессий различных моделей')\n",
        "plt.plot(x_t, linear_pr, c='m', label='линейная регрессия')\n",
        "plt.plot(x_t, l2_pr, c='r', label='гребневая регрессия')\n",
        "plt.plot(x_t, l1_pr, c='y', label='лассо регрессии')\n",
        "plt.xlabel(r\"$height$\")\n",
        "plt.ylabel(r\"$weight$\")\n",
        "plt.legend();"
      ],
      "metadata": {
        "colab": {
          "base_uri": "https://localhost:8080/",
          "height": 517
        },
        "id": "kTpeqgydG2-G",
        "outputId": "67116621-a0cc-431f-e630-0edc4d2dd0ec"
      },
      "execution_count": 245,
      "outputs": [
        {
          "output_type": "display_data",
          "data": {
            "text/plain": [
              "<Figure size 864x576 with 1 Axes>"
            ],
            "image/png": "[encoded data removed]"
          },
          "metadata": {
            "needs_background": "light"
          }
        }
      ]
    }
  ],
  "metadata": {
    "colab": {
      "name": "Lab2_Ponomareva.ipynb",
      "provenance": [],
      "collapsed_sections": []
    },
    "kernelspec": {
      "display_name": "Python 3",
      "language": "python",
      "name": "python3"
    },
    "language_info": {
      "codemirror_mode": {
        "name": "ipython",
        "version": 3
      },
      "file_extension": ".py",
      "mimetype": "text/x-python",
      "name": "python",
      "nbconvert_exporter": "python",
      "pygments_lexer": "ipython3",
      "version": "3.7.4"
    },
    "widgets": {
      "application/vnd.jupyter.widget-state+json": {
        "eaac3417db73498e94e467f27488fb93": {
          "model_module": "@jupyter-widgets/controls",
          "model_name": "HBoxModel",
          "model_module_version": "1.5.0",
          "state": {
            "_dom_classes": [],
            "_model_module": "@jupyter-widgets/controls",
            "_model_module_version": "1.5.0",
            "_model_name": "HBoxModel",
            "_view_count": null,
            "_view_module": "@jupyter-widgets/controls",
            "_view_module_version": "1.5.0",
            "_view_name": "HBoxView",
            "box_style": "",
            "children": [
              "IPY_MODEL_4ef61a844b7045b3823588e97b3668f3",
              "IPY_MODEL_56f6879a75d8497ea0b7bca45ca0b0bd",
              "IPY_MODEL_b5c1b65845f2470ea9865dbc9b1b30e4"
            ],
            "layout": "IPY_MODEL_9f7f63d606464910a9693ae9add08f34"
          }
        },
        "4ef61a844b7045b3823588e97b3668f3": {
          "model_module": "@jupyter-widgets/controls",
          "model_name": "HTMLModel",
          "model_module_version": "1.5.0",
          "state": {
            "_dom_classes": [],
            "_model_module": "@jupyter-widgets/controls",
            "_model_module_version": "1.5.0",
            "_model_name": "HTMLModel",
            "_view_count": null,
            "_view_module": "@jupyter-widgets/controls",
            "_view_module_version": "1.5.0",
            "_view_name": "HTMLView",
            "description": "",
            "description_tooltip": null,
            "layout": "IPY_MODEL_00fd53b4385c427f92f053f192b43cb2",
            "placeholder": "​",
            "style": "IPY_MODEL_0bfa4cd5ace44e469bed9e00133c7743",
            "value": "Dl Completed...: 100%"
          }
        },
        "56f6879a75d8497ea0b7bca45ca0b0bd": {
          "model_module": "@jupyter-widgets/controls",
          "model_name": "FloatProgressModel",
          "model_module_version": "1.5.0",
          "state": {
            "_dom_classes": [],
            "_model_module": "@jupyter-widgets/controls",
            "_model_module_version": "1.5.0",
            "_model_name": "FloatProgressModel",
            "_view_count": null,
            "_view_module": "@jupyter-widgets/controls",
            "_view_module_version": "1.5.0",
            "_view_name": "ProgressView",
            "bar_style": "success",
            "description": "",
            "description_tooltip": null,
            "layout": "IPY_MODEL_4db7a23feb884705b073c76a9018fe0a",
            "max": 1,
            "min": 0,
            "orientation": "horizontal",
            "style": "IPY_MODEL_3fa5f0a5fda445dd980212c3b0329d73",
            "value": 1
          }
        },
        "b5c1b65845f2470ea9865dbc9b1b30e4": {
          "model_module": "@jupyter-widgets/controls",
          "model_name": "HTMLModel",
          "model_module_version": "1.5.0",
          "state": {
            "_dom_classes": [],
            "_model_module": "@jupyter-widgets/controls",
            "_model_module_version": "1.5.0",
            "_model_name": "HTMLModel",
            "_view_count": null,
            "_view_module": "@jupyter-widgets/controls",
            "_view_module_version": "1.5.0",
            "_view_name": "HTMLView",
            "description": "",
            "description_tooltip": null,
            "layout": "IPY_MODEL_520ed6344dea4c169677331de7faad6b",
            "placeholder": "​",
            "style": "IPY_MODEL_3cbc97b5b8f1444b9f7a8ac3999f29c6",
            "value": " 1/1 [00:00&lt;00:00,  3.61 url/s]"
          }
        },
        "9f7f63d606464910a9693ae9add08f34": {
          "model_module": "@jupyter-widgets/base",
          "model_name": "LayoutModel",
          "model_module_version": "1.2.0",
          "state": {
            "_model_module": "@jupyter-widgets/base",
            "_model_module_version": "1.2.0",
            "_model_name": "LayoutModel",
            "_view_count": null,
            "_view_module": "@jupyter-widgets/base",
            "_view_module_version": "1.2.0",
            "_view_name": "LayoutView",
            "align_content": null,
            "align_items": null,
            "align_self": null,
            "border": null,
            "bottom": null,
            "display": null,
            "flex": null,
            "flex_flow": null,
            "grid_area": null,
            "grid_auto_columns": null,
            "grid_auto_flow": null,
            "grid_auto_rows": null,
            "grid_column": null,
            "grid_gap": null,
            "grid_row": null,
            "grid_template_areas": null,
            "grid_template_columns": null,
            "grid_template_rows": null,
            "height": null,
            "justify_content": null,
            "justify_items": null,
            "left": null,
            "margin": null,
            "max_height": null,
            "max_width": null,
            "min_height": null,
            "min_width": null,
            "object_fit": null,
            "object_position": null,
            "order": null,
            "overflow": null,
            "overflow_x": null,
            "overflow_y": null,
            "padding": null,
            "right": null,
            "top": null,
            "visibility": null,
            "width": null
          }
        },
        "00fd53b4385c427f92f053f192b43cb2": {
          "model_module": "@jupyter-widgets/base",
          "model_name": "LayoutModel",
          "model_module_version": "1.2.0",
          "state": {
            "_model_module": "@jupyter-widgets/base",
            "_model_module_version": "1.2.0",
            "_model_name": "LayoutModel",
            "_view_count": null,
            "_view_module": "@jupyter-widgets/base",
            "_view_module_version": "1.2.0",
            "_view_name": "LayoutView",
            "align_content": null,
            "align_items": null,
            "align_self": null,
            "border": null,
            "bottom": null,
            "display": null,
            "flex": null,
            "flex_flow": null,
            "grid_area": null,
            "grid_auto_columns": null,
            "grid_auto_flow": null,
            "grid_auto_rows": null,
            "grid_column": null,
            "grid_gap": null,
            "grid_row": null,
            "grid_template_areas": null,
            "grid_template_columns": null,
            "grid_template_rows": null,
            "height": null,
            "justify_content": null,
            "justify_items": null,
            "left": null,
            "margin": null,
            "max_height": null,
            "max_width": null,
            "min_height": null,
            "min_width": null,
            "object_fit": null,
            "object_position": null,
            "order": null,
            "overflow": null,
            "overflow_x": null,
            "overflow_y": null,
            "padding": null,
            "right": null,
            "top": null,
            "visibility": null,
            "width": null
          }
        },
        "0bfa4cd5ace44e469bed9e00133c7743": {
          "model_module": "@jupyter-widgets/controls",
          "model_name": "DescriptionStyleModel",
          "model_module_version": "1.5.0",
          "state": {
            "_model_module": "@jupyter-widgets/controls",
            "_model_module_version": "1.5.0",
            "_model_name": "DescriptionStyleModel",
            "_view_count": null,
            "_view_module": "@jupyter-widgets/base",
            "_view_module_version": "1.2.0",
            "_view_name": "StyleView",
            "description_width": ""
          }
        },
        "4db7a23feb884705b073c76a9018fe0a": {
          "model_module": "@jupyter-widgets/base",
          "model_name": "LayoutModel",
          "model_module_version": "1.2.0",
          "state": {
            "_model_module": "@jupyter-widgets/base",
            "_model_module_version": "1.2.0",
            "_model_name": "LayoutModel",
            "_view_count": null,
            "_view_module": "@jupyter-widgets/base",
            "_view_module_version": "1.2.0",
            "_view_name": "LayoutView",
            "align_content": null,
            "align_items": null,
            "align_self": null,
            "border": null,
            "bottom": null,
            "display": null,
            "flex": null,
            "flex_flow": null,
            "grid_area": null,
            "grid_auto_columns": null,
            "grid_auto_flow": null,
            "grid_auto_rows": null,
            "grid_column": null,
            "grid_gap": null,
            "grid_row": null,
            "grid_template_areas": null,
            "grid_template_columns": null,
            "grid_template_rows": null,
            "height": null,
            "justify_content": null,
            "justify_items": null,
            "left": null,
            "margin": null,
            "max_height": null,
            "max_width": null,
            "min_height": null,
            "min_width": null,
            "object_fit": null,
            "object_position": null,
            "order": null,
            "overflow": null,
            "overflow_x": null,
            "overflow_y": null,
            "padding": null,
            "right": null,
            "top": null,
            "visibility": null,
            "width": "20px"
          }
        },
        "3fa5f0a5fda445dd980212c3b0329d73": {
          "model_module": "@jupyter-widgets/controls",
          "model_name": "ProgressStyleModel",
          "model_module_version": "1.5.0",
          "state": {
            "_model_module": "@jupyter-widgets/controls",
            "_model_module_version": "1.5.0",
            "_model_name": "ProgressStyleModel",
            "_view_count": null,
            "_view_module": "@jupyter-widgets/base",
            "_view_module_version": "1.2.0",
            "_view_name": "StyleView",
            "bar_color": null,
            "description_width": ""
          }
        },
        "520ed6344dea4c169677331de7faad6b": {
          "model_module": "@jupyter-widgets/base",
          "model_name": "LayoutModel",
          "model_module_version": "1.2.0",
          "state": {
            "_model_module": "@jupyter-widgets/base",
            "_model_module_version": "1.2.0",
            "_model_name": "LayoutModel",
            "_view_count": null,
            "_view_module": "@jupyter-widgets/base",
            "_view_module_version": "1.2.0",
            "_view_name": "LayoutView",
            "align_content": null,
            "align_items": null,
            "align_self": null,
            "border": null,
            "bottom": null,
            "display": null,
            "flex": null,
            "flex_flow": null,
            "grid_area": null,
            "grid_auto_columns": null,
            "grid_auto_flow": null,
            "grid_auto_rows": null,
            "grid_column": null,
            "grid_gap": null,
            "grid_row": null,
            "grid_template_areas": null,
            "grid_template_columns": null,
            "grid_template_rows": null,
            "height": null,
            "justify_content": null,
            "justify_items": null,
            "left": null,
            "margin": null,
            "max_height": null,
            "max_width": null,
            "min_height": null,
            "min_width": null,
            "object_fit": null,
            "object_position": null,
            "order": null,
            "overflow": null,
            "overflow_x": null,
            "overflow_y": null,
            "padding": null,
            "right": null,
            "top": null,
            "visibility": null,
            "width": null
          }
        },
        "3cbc97b5b8f1444b9f7a8ac3999f29c6": {
          "model_module": "@jupyter-widgets/controls",
          "model_name": "DescriptionStyleModel",
          "model_module_version": "1.5.0",
          "state": {
            "_model_module": "@jupyter-widgets/controls",
            "_model_module_version": "1.5.0",
            "_model_name": "DescriptionStyleModel",
            "_view_count": null,
            "_view_module": "@jupyter-widgets/base",
            "_view_module_version": "1.2.0",
            "_view_name": "StyleView",
            "description_width": ""
          }
        },
        "4774931780884e94b2c25e4259bd1507": {
          "model_module": "@jupyter-widgets/controls",
          "model_name": "HBoxModel",
          "model_module_version": "1.5.0",
          "state": {
            "_dom_classes": [],
            "_model_module": "@jupyter-widgets/controls",
            "_model_module_version": "1.5.0",
            "_model_name": "HBoxModel",
            "_view_count": null,
            "_view_module": "@jupyter-widgets/controls",
            "_view_module_version": "1.5.0",
            "_view_name": "HBoxView",
            "box_style": "",
            "children": [
              "IPY_MODEL_e8778ffa23c94bc29ed0d86388a11e8a",
              "IPY_MODEL_098ac18396f249549d2b63c949c2a1e9",
              "IPY_MODEL_33377de5bf834d0daf15b1e1d69f3e78"
            ],
            "layout": "IPY_MODEL_d027a07a0118421eaac381520ee1672f"
          }
        },
        "e8778ffa23c94bc29ed0d86388a11e8a": {
          "model_module": "@jupyter-widgets/controls",
          "model_name": "HTMLModel",
          "model_module_version": "1.5.0",
          "state": {
            "_dom_classes": [],
            "_model_module": "@jupyter-widgets/controls",
            "_model_module_version": "1.5.0",
            "_model_name": "HTMLModel",
            "_view_count": null,
            "_view_module": "@jupyter-widgets/controls",
            "_view_module_version": "1.5.0",
            "_view_name": "HTMLView",
            "description": "",
            "description_tooltip": null,
            "layout": "IPY_MODEL_29d45756c4f5431c8d2ffd9b2fcc7164",
            "placeholder": "​",
            "style": "IPY_MODEL_19541a92b5ad4dbc82f47830342a5315",
            "value": "Dl Size...: "
          }
        },
        "098ac18396f249549d2b63c949c2a1e9": {
          "model_module": "@jupyter-widgets/controls",
          "model_name": "FloatProgressModel",
          "model_module_version": "1.5.0",
          "state": {
            "_dom_classes": [],
            "_model_module": "@jupyter-widgets/controls",
            "_model_module_version": "1.5.0",
            "_model_name": "FloatProgressModel",
            "_view_count": null,
            "_view_module": "@jupyter-widgets/controls",
            "_view_module_version": "1.5.0",
            "_view_name": "ProgressView",
            "bar_style": "success",
            "description": "",
            "description_tooltip": null,
            "layout": "IPY_MODEL_1cd8bfb816f84430a38923615ff07469",
            "max": 1,
            "min": 0,
            "orientation": "horizontal",
            "style": "IPY_MODEL_f2c85ab720534bb0b3c2984213b14a7a",
            "value": 0
          }
        },
        "33377de5bf834d0daf15b1e1d69f3e78": {
          "model_module": "@jupyter-widgets/controls",
          "model_name": "HTMLModel",
          "model_module_version": "1.5.0",
          "state": {
            "_dom_classes": [],
            "_model_module": "@jupyter-widgets/controls",
            "_model_module_version": "1.5.0",
            "_model_name": "HTMLModel",
            "_view_count": null,
            "_view_module": "@jupyter-widgets/controls",
            "_view_module_version": "1.5.0",
            "_view_name": "HTMLView",
            "description": "",
            "description_tooltip": null,
            "layout": "IPY_MODEL_33dfccf9f2414b64afb7d5406d057e0f",
            "placeholder": "​",
            "style": "IPY_MODEL_34d16408efb64b5293ac26a860d1e712",
            "value": " 0/0 [00:00&lt;?, ? MiB/s]"
          }
        },
        "d027a07a0118421eaac381520ee1672f": {
          "model_module": "@jupyter-widgets/base",
          "model_name": "LayoutModel",
          "model_module_version": "1.2.0",
          "state": {
            "_model_module": "@jupyter-widgets/base",
            "_model_module_version": "1.2.0",
            "_model_name": "LayoutModel",
            "_view_count": null,
            "_view_module": "@jupyter-widgets/base",
            "_view_module_version": "1.2.0",
            "_view_name": "LayoutView",
            "align_content": null,
            "align_items": null,
            "align_self": null,
            "border": null,
            "bottom": null,
            "display": null,
            "flex": null,
            "flex_flow": null,
            "grid_area": null,
            "grid_auto_columns": null,
            "grid_auto_flow": null,
            "grid_auto_rows": null,
            "grid_column": null,
            "grid_gap": null,
            "grid_row": null,
            "grid_template_areas": null,
            "grid_template_columns": null,
            "grid_template_rows": null,
            "height": null,
            "justify_content": null,
            "justify_items": null,
            "left": null,
            "margin": null,
            "max_height": null,
            "max_width": null,
            "min_height": null,
            "min_width": null,
            "object_fit": null,
            "object_position": null,
            "order": null,
            "overflow": null,
            "overflow_x": null,
            "overflow_y": null,
            "padding": null,
            "right": null,
            "top": null,
            "visibility": null,
            "width": null
          }
        },
        "29d45756c4f5431c8d2ffd9b2fcc7164": {
          "model_module": "@jupyter-widgets/base",
          "model_name": "LayoutModel",
          "model_module_version": "1.2.0",
          "state": {
            "_model_module": "@jupyter-widgets/base",
            "_model_module_version": "1.2.0",
            "_model_name": "LayoutModel",
            "_view_count": null,
            "_view_module": "@jupyter-widgets/base",
            "_view_module_version": "1.2.0",
            "_view_name": "LayoutView",
            "align_content": null,
            "align_items": null,
            "align_self": null,
            "border": null,
            "bottom": null,
            "display": null,
            "flex": null,
            "flex_flow": null,
            "grid_area": null,
            "grid_auto_columns": null,
            "grid_auto_flow": null,
            "grid_auto_rows": null,
            "grid_column": null,
            "grid_gap": null,
            "grid_row": null,
            "grid_template_areas": null,
            "grid_template_columns": null,
            "grid_template_rows": null,
            "height": null,
            "justify_content": null,
            "justify_items": null,
            "left": null,
            "margin": null,
            "max_height": null,
            "max_width": null,
            "min_height": null,
            "min_width": null,
            "object_fit": null,
            "object_position": null,
            "order": null,
            "overflow": null,
            "overflow_x": null,
            "overflow_y": null,
            "padding": null,
            "right": null,
            "top": null,
            "visibility": null,
            "width": null
          }
        },
        "19541a92b5ad4dbc82f47830342a5315": {
          "model_module": "@jupyter-widgets/controls",
          "model_name": "DescriptionStyleModel",
          "model_module_version": "1.5.0",
          "state": {
            "_model_module": "@jupyter-widgets/controls",
            "_model_module_version": "1.5.0",
            "_model_name": "DescriptionStyleModel",
            "_view_count": null,
            "_view_module": "@jupyter-widgets/base",
            "_view_module_version": "1.2.0",
            "_view_name": "StyleView",
            "description_width": ""
          }
        },
        "1cd8bfb816f84430a38923615ff07469": {
          "model_module": "@jupyter-widgets/base",
          "model_name": "LayoutModel",
          "model_module_version": "1.2.0",
          "state": {
            "_model_module": "@jupyter-widgets/base",
            "_model_module_version": "1.2.0",
            "_model_name": "LayoutModel",
            "_view_count": null,
            "_view_module": "@jupyter-widgets/base",
            "_view_module_version": "1.2.0",
            "_view_name": "LayoutView",
            "align_content": null,
            "align_items": null,
            "align_self": null,
            "border": null,
            "bottom": null,
            "display": null,
            "flex": null,
            "flex_flow": null,
            "grid_area": null,
            "grid_auto_columns": null,
            "grid_auto_flow": null,
            "grid_auto_rows": null,
            "grid_column": null,
            "grid_gap": null,
            "grid_row": null,
            "grid_template_areas": null,
            "grid_template_columns": null,
            "grid_template_rows": null,
            "height": null,
            "justify_content": null,
            "justify_items": null,
            "left": null,
            "margin": null,
            "max_height": null,
            "max_width": null,
            "min_height": null,
            "min_width": null,
            "object_fit": null,
            "object_position": null,
            "order": null,
            "overflow": null,
            "overflow_x": null,
            "overflow_y": null,
            "padding": null,
            "right": null,
            "top": null,
            "visibility": null,
            "width": "20px"
          }
        },
        "f2c85ab720534bb0b3c2984213b14a7a": {
          "model_module": "@jupyter-widgets/controls",
          "model_name": "ProgressStyleModel",
          "model_module_version": "1.5.0",
          "state": {
            "_model_module": "@jupyter-widgets/controls",
            "_model_module_version": "1.5.0",
            "_model_name": "ProgressStyleModel",
            "_view_count": null,
            "_view_module": "@jupyter-widgets/base",
            "_view_module_version": "1.2.0",
            "_view_name": "StyleView",
            "bar_color": null,
            "description_width": ""
          }
        },
        "33dfccf9f2414b64afb7d5406d057e0f": {
          "model_module": "@jupyter-widgets/base",
          "model_name": "LayoutModel",
          "model_module_version": "1.2.0",
          "state": {
            "_model_module": "@jupyter-widgets/base",
            "_model_module_version": "1.2.0",
            "_model_name": "LayoutModel",
            "_view_count": null,
            "_view_module": "@jupyter-widgets/base",
            "_view_module_version": "1.2.0",
            "_view_name": "LayoutView",
            "align_content": null,
            "align_items": null,
            "align_self": null,
            "border": null,
            "bottom": null,
            "display": null,
            "flex": null,
            "flex_flow": null,
            "grid_area": null,
            "grid_auto_columns": null,
            "grid_auto_flow": null,
            "grid_auto_rows": null,
            "grid_column": null,
            "grid_gap": null,
            "grid_row": null,
            "grid_template_areas": null,
            "grid_template_columns": null,
            "grid_template_rows": null,
            "height": null,
            "justify_content": null,
            "justify_items": null,
            "left": null,
            "margin": null,
            "max_height": null,
            "max_width": null,
            "min_height": null,
            "min_width": null,
            "object_fit": null,
            "object_position": null,
            "order": null,
            "overflow": null,
            "overflow_x": null,
            "overflow_y": null,
            "padding": null,
            "right": null,
            "top": null,
            "visibility": null,
            "width": null
          }
        },
        "34d16408efb64b5293ac26a860d1e712": {
          "model_module": "@jupyter-widgets/controls",
          "model_name": "DescriptionStyleModel",
          "model_module_version": "1.5.0",
          "state": {
            "_model_module": "@jupyter-widgets/controls",
            "_model_module_version": "1.5.0",
            "_model_name": "DescriptionStyleModel",
            "_view_count": null,
            "_view_module": "@jupyter-widgets/base",
            "_view_module_version": "1.2.0",
            "_view_name": "StyleView",
            "description_width": ""
          }
        },
        "b54449b9a0b74adab0a93cf5edc4b1a9": {
          "model_module": "@jupyter-widgets/controls",
          "model_name": "HBoxModel",
          "model_module_version": "1.5.0",
          "state": {
            "_dom_classes": [],
            "_model_module": "@jupyter-widgets/controls",
            "_model_module_version": "1.5.0",
            "_model_name": "HBoxModel",
            "_view_count": null,
            "_view_module": "@jupyter-widgets/controls",
            "_view_module_version": "1.5.0",
            "_view_name": "HBoxView",
            "box_style": "",
            "children": [
              "IPY_MODEL_2b5ee81465a4448ba425fdf891750040",
              "IPY_MODEL_198b4e7f787344bfb8c95e78e79d6513",
              "IPY_MODEL_69f949a3cf4f4c408dbfc5177325bbeb"
            ],
            "layout": "IPY_MODEL_c7b095d7ca03439fb1885e966b3dcf2d"
          }
        },
        "2b5ee81465a4448ba425fdf891750040": {
          "model_module": "@jupyter-widgets/controls",
          "model_name": "HTMLModel",
          "model_module_version": "1.5.0",
          "state": {
            "_dom_classes": [],
            "_model_module": "@jupyter-widgets/controls",
            "_model_module_version": "1.5.0",
            "_model_name": "HTMLModel",
            "_view_count": null,
            "_view_module": "@jupyter-widgets/controls",
            "_view_module_version": "1.5.0",
            "_view_name": "HTMLView",
            "description": "",
            "description_tooltip": null,
            "layout": "IPY_MODEL_28f0ff49e05a4032933bd522df1158d2",
            "placeholder": "​",
            "style": "IPY_MODEL_3a19d7feb6c3449bbdc7072f40e1cc46",
            "value": "Extraction completed...: "
          }
        },
        "198b4e7f787344bfb8c95e78e79d6513": {
          "model_module": "@jupyter-widgets/controls",
          "model_name": "FloatProgressModel",
          "model_module_version": "1.5.0",
          "state": {
            "_dom_classes": [],
            "_model_module": "@jupyter-widgets/controls",
            "_model_module_version": "1.5.0",
            "_model_name": "FloatProgressModel",
            "_view_count": null,
            "_view_module": "@jupyter-widgets/controls",
            "_view_module_version": "1.5.0",
            "_view_name": "ProgressView",
            "bar_style": "success",
            "description": "",
            "description_tooltip": null,
            "layout": "IPY_MODEL_e928a1945dae45f7875fc48decb19212",
            "max": 1,
            "min": 0,
            "orientation": "horizontal",
            "style": "IPY_MODEL_895b4c865fc64f01aaca11b4786be7c6",
            "value": 0
          }
        },
        "69f949a3cf4f4c408dbfc5177325bbeb": {
          "model_module": "@jupyter-widgets/controls",
          "model_name": "HTMLModel",
          "model_module_version": "1.5.0",
          "state": {
            "_dom_classes": [],
            "_model_module": "@jupyter-widgets/controls",
            "_model_module_version": "1.5.0",
            "_model_name": "HTMLModel",
            "_view_count": null,
            "_view_module": "@jupyter-widgets/controls",
            "_view_module_version": "1.5.0",
            "_view_name": "HTMLView",
            "description": "",
            "description_tooltip": null,
            "layout": "IPY_MODEL_7cd75271a5b747259a214a3a55ed00ab",
            "placeholder": "​",
            "style": "IPY_MODEL_39491357af844ade8aedf87e63fb37ff",
            "value": " 0/0 [00:00&lt;?, ? file/s]"
          }
        },
        "c7b095d7ca03439fb1885e966b3dcf2d": {
          "model_module": "@jupyter-widgets/base",
          "model_name": "LayoutModel",
          "model_module_version": "1.2.0",
          "state": {
            "_model_module": "@jupyter-widgets/base",
            "_model_module_version": "1.2.0",
            "_model_name": "LayoutModel",
            "_view_count": null,
            "_view_module": "@jupyter-widgets/base",
            "_view_module_version": "1.2.0",
            "_view_name": "LayoutView",
            "align_content": null,
            "align_items": null,
            "align_self": null,
            "border": null,
            "bottom": null,
            "display": null,
            "flex": null,
            "flex_flow": null,
            "grid_area": null,
            "grid_auto_columns": null,
            "grid_auto_flow": null,
            "grid_auto_rows": null,
            "grid_column": null,
            "grid_gap": null,
            "grid_row": null,
            "grid_template_areas": null,
            "grid_template_columns": null,
            "grid_template_rows": null,
            "height": null,
            "justify_content": null,
            "justify_items": null,
            "left": null,
            "margin": null,
            "max_height": null,
            "max_width": null,
            "min_height": null,
            "min_width": null,
            "object_fit": null,
            "object_position": null,
            "order": null,
            "overflow": null,
            "overflow_x": null,
            "overflow_y": null,
            "padding": null,
            "right": null,
            "top": null,
            "visibility": null,
            "width": null
          }
        },
        "28f0ff49e05a4032933bd522df1158d2": {
          "model_module": "@jupyter-widgets/base",
          "model_name": "LayoutModel",
          "model_module_version": "1.2.0",
          "state": {
            "_model_module": "@jupyter-widgets/base",
            "_model_module_version": "1.2.0",
            "_model_name": "LayoutModel",
            "_view_count": null,
            "_view_module": "@jupyter-widgets/base",
            "_view_module_version": "1.2.0",
            "_view_name": "LayoutView",
            "align_content": null,
            "align_items": null,
            "align_self": null,
            "border": null,
            "bottom": null,
            "display": null,
            "flex": null,
            "flex_flow": null,
            "grid_area": null,
            "grid_auto_columns": null,
            "grid_auto_flow": null,
            "grid_auto_rows": null,
            "grid_column": null,
            "grid_gap": null,
            "grid_row": null,
            "grid_template_areas": null,
            "grid_template_columns": null,
            "grid_template_rows": null,
            "height": null,
            "justify_content": null,
            "justify_items": null,
            "left": null,
            "margin": null,
            "max_height": null,
            "max_width": null,
            "min_height": null,
            "min_width": null,
            "object_fit": null,
            "object_position": null,
            "order": null,
            "overflow": null,
            "overflow_x": null,
            "overflow_y": null,
            "padding": null,
            "right": null,
            "top": null,
            "visibility": null,
            "width": null
          }
        },
        "3a19d7feb6c3449bbdc7072f40e1cc46": {
          "model_module": "@jupyter-widgets/controls",
          "model_name": "DescriptionStyleModel",
          "model_module_version": "1.5.0",
          "state": {
            "_model_module": "@jupyter-widgets/controls",
            "_model_module_version": "1.5.0",
            "_model_name": "DescriptionStyleModel",
            "_view_count": null,
            "_view_module": "@jupyter-widgets/base",
            "_view_module_version": "1.2.0",
            "_view_name": "StyleView",
            "description_width": ""
          }
        },
        "e928a1945dae45f7875fc48decb19212": {
          "model_module": "@jupyter-widgets/base",
          "model_name": "LayoutModel",
          "model_module_version": "1.2.0",
          "state": {
            "_model_module": "@jupyter-widgets/base",
            "_model_module_version": "1.2.0",
            "_model_name": "LayoutModel",
            "_view_count": null,
            "_view_module": "@jupyter-widgets/base",
            "_view_module_version": "1.2.0",
            "_view_name": "LayoutView",
            "align_content": null,
            "align_items": null,
            "align_self": null,
            "border": null,
            "bottom": null,
            "display": null,
            "flex": null,
            "flex_flow": null,
            "grid_area": null,
            "grid_auto_columns": null,
            "grid_auto_flow": null,
            "grid_auto_rows": null,
            "grid_column": null,
            "grid_gap": null,
            "grid_row": null,
            "grid_template_areas": null,
            "grid_template_columns": null,
            "grid_template_rows": null,
            "height": null,
            "justify_content": null,
            "justify_items": null,
            "left": null,
            "margin": null,
            "max_height": null,
            "max_width": null,
            "min_height": null,
            "min_width": null,
            "object_fit": null,
            "object_position": null,
            "order": null,
            "overflow": null,
            "overflow_x": null,
            "overflow_y": null,
            "padding": null,
            "right": null,
            "top": null,
            "visibility": null,
            "width": "20px"
          }
        },
        "895b4c865fc64f01aaca11b4786be7c6": {
          "model_module": "@jupyter-widgets/controls",
          "model_name": "ProgressStyleModel",
          "model_module_version": "1.5.0",
          "state": {
            "_model_module": "@jupyter-widgets/controls",
            "_model_module_version": "1.5.0",
            "_model_name": "ProgressStyleModel",
            "_view_count": null,
            "_view_module": "@jupyter-widgets/base",
            "_view_module_version": "1.2.0",
            "_view_name": "StyleView",
            "bar_color": null,
            "description_width": ""
          }
        },
        "7cd75271a5b747259a214a3a55ed00ab": {
          "model_module": "@jupyter-widgets/base",
          "model_name": "LayoutModel",
          "model_module_version": "1.2.0",
          "state": {
            "_model_module": "@jupyter-widgets/base",
            "_model_module_version": "1.2.0",
            "_model_name": "LayoutModel",
            "_view_count": null,
            "_view_module": "@jupyter-widgets/base",
            "_view_module_version": "1.2.0",
            "_view_name": "LayoutView",
            "align_content": null,
            "align_items": null,
            "align_self": null,
            "border": null,
            "bottom": null,
            "display": null,
            "flex": null,
            "flex_flow": null,
            "grid_area": null,
            "grid_auto_columns": null,
            "grid_auto_flow": null,
            "grid_auto_rows": null,
            "grid_column": null,
            "grid_gap": null,
            "grid_row": null,
            "grid_template_areas": null,
            "grid_template_columns": null,
            "grid_template_rows": null,
            "height": null,
            "justify_content": null,
            "justify_items": null,
            "left": null,
            "margin": null,
            "max_height": null,
            "max_width": null,
            "min_height": null,
            "min_width": null,
            "object_fit": null,
            "object_position": null,
            "order": null,
            "overflow": null,
            "overflow_x": null,
            "overflow_y": null,
            "padding": null,
            "right": null,
            "top": null,
            "visibility": null,
            "width": null
          }
        },
        "39491357af844ade8aedf87e63fb37ff": {
          "model_module": "@jupyter-widgets/controls",
          "model_name": "DescriptionStyleModel",
          "model_module_version": "1.5.0",
          "state": {
            "_model_module": "@jupyter-widgets/controls",
            "_model_module_version": "1.5.0",
            "_model_name": "DescriptionStyleModel",
            "_view_count": null,
            "_view_module": "@jupyter-widgets/base",
            "_view_module_version": "1.2.0",
            "_view_name": "StyleView",
            "description_width": ""
          }
        },
        "0d00eb2ac1ee476f91cbcd857a7ef0c7": {
          "model_module": "@jupyter-widgets/controls",
          "model_name": "HBoxModel",
          "model_module_version": "1.5.0",
          "state": {
            "_dom_classes": [],
            "_model_module": "@jupyter-widgets/controls",
            "_model_module_version": "1.5.0",
            "_model_name": "HBoxModel",
            "_view_count": null,
            "_view_module": "@jupyter-widgets/controls",
            "_view_module_version": "1.5.0",
            "_view_name": "HBoxView",
            "box_style": "",
            "children": [
              "IPY_MODEL_99cc7338db4648038dc6aba51fe5451b",
              "IPY_MODEL_58fc54a91b204bd89a0ea7838a14b55d",
              "IPY_MODEL_9fef85a57f744184a83edf4bf40b1c2d"
            ],
            "layout": "IPY_MODEL_2593337009a44f3e9c31e4a4f1e81abf"
          }
        },
        "99cc7338db4648038dc6aba51fe5451b": {
          "model_module": "@jupyter-widgets/controls",
          "model_name": "HTMLModel",
          "model_module_version": "1.5.0",
          "state": {
            "_dom_classes": [],
            "_model_module": "@jupyter-widgets/controls",
            "_model_module_version": "1.5.0",
            "_model_name": "HTMLModel",
            "_view_count": null,
            "_view_module": "@jupyter-widgets/controls",
            "_view_module_version": "1.5.0",
            "_view_name": "HTMLView",
            "description": "",
            "description_tooltip": null,
            "layout": "IPY_MODEL_b17958f659c94ea18874527799f486dc",
            "placeholder": "​",
            "style": "IPY_MODEL_c65b0ed8c3374b24b08d47a17ec278f0",
            "value": "Generating splits...: 100%"
          }
        },
        "58fc54a91b204bd89a0ea7838a14b55d": {
          "model_module": "@jupyter-widgets/controls",
          "model_name": "FloatProgressModel",
          "model_module_version": "1.5.0",
          "state": {
            "_dom_classes": [],
            "_model_module": "@jupyter-widgets/controls",
            "_model_module_version": "1.5.0",
            "_model_name": "FloatProgressModel",
            "_view_count": null,
            "_view_module": "@jupyter-widgets/controls",
            "_view_module_version": "1.5.0",
            "_view_name": "ProgressView",
            "bar_style": "",
            "description": "",
            "description_tooltip": null,
            "layout": "IPY_MODEL_1c9c828dd0fe4f3c9204d202cdc31d96",
            "max": 1,
            "min": 0,
            "orientation": "horizontal",
            "style": "IPY_MODEL_64c2dccd05084132b39bee03504a97f6",
            "value": 1
          }
        },
        "9fef85a57f744184a83edf4bf40b1c2d": {
          "model_module": "@jupyter-widgets/controls",
          "model_name": "HTMLModel",
          "model_module_version": "1.5.0",
          "state": {
            "_dom_classes": [],
            "_model_module": "@jupyter-widgets/controls",
            "_model_module_version": "1.5.0",
            "_model_name": "HTMLModel",
            "_view_count": null,
            "_view_module": "@jupyter-widgets/controls",
            "_view_module_version": "1.5.0",
            "_view_name": "HTMLView",
            "description": "",
            "description_tooltip": null,
            "layout": "IPY_MODEL_d4ad81ae5afb48d49f1ad9e624786104",
            "placeholder": "​",
            "style": "IPY_MODEL_a6f2fcfcec02448a8c7ca62e3914aa38",
            "value": " 1/1 [00:00&lt;00:00,  3.54 splits/s]"
          }
        },
        "2593337009a44f3e9c31e4a4f1e81abf": {
          "model_module": "@jupyter-widgets/base",
          "model_name": "LayoutModel",
          "model_module_version": "1.2.0",
          "state": {
            "_model_module": "@jupyter-widgets/base",
            "_model_module_version": "1.2.0",
            "_model_name": "LayoutModel",
            "_view_count": null,
            "_view_module": "@jupyter-widgets/base",
            "_view_module_version": "1.2.0",
            "_view_name": "LayoutView",
            "align_content": null,
            "align_items": null,
            "align_self": null,
            "border": null,
            "bottom": null,
            "display": null,
            "flex": null,
            "flex_flow": null,
            "grid_area": null,
            "grid_auto_columns": null,
            "grid_auto_flow": null,
            "grid_auto_rows": null,
            "grid_column": null,
            "grid_gap": null,
            "grid_row": null,
            "grid_template_areas": null,
            "grid_template_columns": null,
            "grid_template_rows": null,
            "height": null,
            "justify_content": null,
            "justify_items": null,
            "left": null,
            "margin": null,
            "max_height": null,
            "max_width": null,
            "min_height": null,
            "min_width": null,
            "object_fit": null,
            "object_position": null,
            "order": null,
            "overflow": null,
            "overflow_x": null,
            "overflow_y": null,
            "padding": null,
            "right": null,
            "top": null,
            "visibility": null,
            "width": null
          }
        },
        "b17958f659c94ea18874527799f486dc": {
          "model_module": "@jupyter-widgets/base",
          "model_name": "LayoutModel",
          "model_module_version": "1.2.0",
          "state": {
            "_model_module": "@jupyter-widgets/base",
            "_model_module_version": "1.2.0",
            "_model_name": "LayoutModel",
            "_view_count": null,
            "_view_module": "@jupyter-widgets/base",
            "_view_module_version": "1.2.0",
            "_view_name": "LayoutView",
            "align_content": null,
            "align_items": null,
            "align_self": null,
            "border": null,
            "bottom": null,
            "display": null,
            "flex": null,
            "flex_flow": null,
            "grid_area": null,
            "grid_auto_columns": null,
            "grid_auto_flow": null,
            "grid_auto_rows": null,
            "grid_column": null,
            "grid_gap": null,
            "grid_row": null,
            "grid_template_areas": null,
            "grid_template_columns": null,
            "grid_template_rows": null,
            "height": null,
            "justify_content": null,
            "justify_items": null,
            "left": null,
            "margin": null,
            "max_height": null,
            "max_width": null,
            "min_height": null,
            "min_width": null,
            "object_fit": null,
            "object_position": null,
            "order": null,
            "overflow": null,
            "overflow_x": null,
            "overflow_y": null,
            "padding": null,
            "right": null,
            "top": null,
            "visibility": null,
            "width": null
          }
        },
        "c65b0ed8c3374b24b08d47a17ec278f0": {
          "model_module": "@jupyter-widgets/controls",
          "model_name": "DescriptionStyleModel",
          "model_module_version": "1.5.0",
          "state": {
            "_model_module": "@jupyter-widgets/controls",
            "_model_module_version": "1.5.0",
            "_model_name": "DescriptionStyleModel",
            "_view_count": null,
            "_view_module": "@jupyter-widgets/base",
            "_view_module_version": "1.2.0",
            "_view_name": "StyleView",
            "description_width": ""
          }
        },
        "1c9c828dd0fe4f3c9204d202cdc31d96": {
          "model_module": "@jupyter-widgets/base",
          "model_name": "LayoutModel",
          "model_module_version": "1.2.0",
          "state": {
            "_model_module": "@jupyter-widgets/base",
            "_model_module_version": "1.2.0",
            "_model_name": "LayoutModel",
            "_view_count": null,
            "_view_module": "@jupyter-widgets/base",
            "_view_module_version": "1.2.0",
            "_view_name": "LayoutView",
            "align_content": null,
            "align_items": null,
            "align_self": null,
            "border": null,
            "bottom": null,
            "display": null,
            "flex": null,
            "flex_flow": null,
            "grid_area": null,
            "grid_auto_columns": null,
            "grid_auto_flow": null,
            "grid_auto_rows": null,
            "grid_column": null,
            "grid_gap": null,
            "grid_row": null,
            "grid_template_areas": null,
            "grid_template_columns": null,
            "grid_template_rows": null,
            "height": null,
            "justify_content": null,
            "justify_items": null,
            "left": null,
            "margin": null,
            "max_height": null,
            "max_width": null,
            "min_height": null,
            "min_width": null,
            "object_fit": null,
            "object_position": null,
            "order": null,
            "overflow": null,
            "overflow_x": null,
            "overflow_y": null,
            "padding": null,
            "right": null,
            "top": null,
            "visibility": null,
            "width": null
          }
        },
        "64c2dccd05084132b39bee03504a97f6": {
          "model_module": "@jupyter-widgets/controls",
          "model_name": "ProgressStyleModel",
          "model_module_version": "1.5.0",
          "state": {
            "_model_module": "@jupyter-widgets/controls",
            "_model_module_version": "1.5.0",
            "_model_name": "ProgressStyleModel",
            "_view_count": null,
            "_view_module": "@jupyter-widgets/base",
            "_view_module_version": "1.2.0",
            "_view_name": "StyleView",
            "bar_color": null,
            "description_width": ""
          }
        },
        "d4ad81ae5afb48d49f1ad9e624786104": {
          "model_module": "@jupyter-widgets/base",
          "model_name": "LayoutModel",
          "model_module_version": "1.2.0",
          "state": {
            "_model_module": "@jupyter-widgets/base",
            "_model_module_version": "1.2.0",
            "_model_name": "LayoutModel",
            "_view_count": null,
            "_view_module": "@jupyter-widgets/base",
            "_view_module_version": "1.2.0",
            "_view_name": "LayoutView",
            "align_content": null,
            "align_items": null,
            "align_self": null,
            "border": null,
            "bottom": null,
            "display": null,
            "flex": null,
            "flex_flow": null,
            "grid_area": null,
            "grid_auto_columns": null,
            "grid_auto_flow": null,
            "grid_auto_rows": null,
            "grid_column": null,
            "grid_gap": null,
            "grid_row": null,
            "grid_template_areas": null,
            "grid_template_columns": null,
            "grid_template_rows": null,
            "height": null,
            "justify_content": null,
            "justify_items": null,
            "left": null,
            "margin": null,
            "max_height": null,
            "max_width": null,
            "min_height": null,
            "min_width": null,
            "object_fit": null,
            "object_position": null,
            "order": null,
            "overflow": null,
            "overflow_x": null,
            "overflow_y": null,
            "padding": null,
            "right": null,
            "top": null,
            "visibility": null,
            "width": null
          }
        },
        "a6f2fcfcec02448a8c7ca62e3914aa38": {
          "model_module": "@jupyter-widgets/controls",
          "model_name": "DescriptionStyleModel",
          "model_module_version": "1.5.0",
          "state": {
            "_model_module": "@jupyter-widgets/controls",
            "_model_module_version": "1.5.0",
            "_model_name": "DescriptionStyleModel",
            "_view_count": null,
            "_view_module": "@jupyter-widgets/base",
            "_view_module_version": "1.2.0",
            "_view_name": "StyleView",
            "description_width": ""
          }
        },
        "278ebb80d487439d93d090bc5a53a411": {
          "model_module": "@jupyter-widgets/controls",
          "model_name": "HBoxModel",
          "model_module_version": "1.5.0",
          "state": {
            "_dom_classes": [],
            "_model_module": "@jupyter-widgets/controls",
            "_model_module_version": "1.5.0",
            "_model_name": "HBoxModel",
            "_view_count": null,
            "_view_module": "@jupyter-widgets/controls",
            "_view_module_version": "1.5.0",
            "_view_name": "HBoxView",
            "box_style": "",
            "children": [
              "IPY_MODEL_6a501ebc018d4b4e894e93a419ecd4ac",
              "IPY_MODEL_7ed2a510d0314b468dc6942daba5eee7",
              "IPY_MODEL_1d0625adbc5348eb96d0b8667294e26b"
            ],
            "layout": "IPY_MODEL_b5108c94a91f40fa9a729f53ea23efa8"
          }
        },
        "6a501ebc018d4b4e894e93a419ecd4ac": {
          "model_module": "@jupyter-widgets/controls",
          "model_name": "HTMLModel",
          "model_module_version": "1.5.0",
          "state": {
            "_dom_classes": [],
            "_model_module": "@jupyter-widgets/controls",
            "_model_module_version": "1.5.0",
            "_model_name": "HTMLModel",
            "_view_count": null,
            "_view_module": "@jupyter-widgets/controls",
            "_view_module_version": "1.5.0",
            "_view_name": "HTMLView",
            "description": "",
            "description_tooltip": null,
            "layout": "IPY_MODEL_382d93d6152247839fe19d5635779015",
            "placeholder": "​",
            "style": "IPY_MODEL_475c07f7aa484fed9f306c2475a1a5de",
            "value": "Generating train examples...:  46%"
          }
        },
        "7ed2a510d0314b468dc6942daba5eee7": {
          "model_module": "@jupyter-widgets/controls",
          "model_name": "FloatProgressModel",
          "model_module_version": "1.5.0",
          "state": {
            "_dom_classes": [],
            "_model_module": "@jupyter-widgets/controls",
            "_model_module_version": "1.5.0",
            "_model_name": "FloatProgressModel",
            "_view_count": null,
            "_view_module": "@jupyter-widgets/controls",
            "_view_module_version": "1.5.0",
            "_view_name": "ProgressView",
            "bar_style": "",
            "description": "",
            "description_tooltip": null,
            "layout": "IPY_MODEL_5f68e56b80664af6aae8e824c0d84351",
            "max": 544,
            "min": 0,
            "orientation": "horizontal",
            "style": "IPY_MODEL_5c26032eeffa46b691b8ee0009a89ece",
            "value": 544
          }
        },
        "1d0625adbc5348eb96d0b8667294e26b": {
          "model_module": "@jupyter-widgets/controls",
          "model_name": "HTMLModel",
          "model_module_version": "1.5.0",
          "state": {
            "_dom_classes": [],
            "_model_module": "@jupyter-widgets/controls",
            "_model_module_version": "1.5.0",
            "_model_name": "HTMLModel",
            "_view_count": null,
            "_view_module": "@jupyter-widgets/controls",
            "_view_module_version": "1.5.0",
            "_view_name": "HTMLView",
            "description": "",
            "description_tooltip": null,
            "layout": "IPY_MODEL_fd83804e05cf4b959095d96682278dfe",
            "placeholder": "​",
            "style": "IPY_MODEL_a61906d0e57b40158932835b327eb445",
            "value": " 251/544 [00:00&lt;00:00, 2507.99 examples/s]"
          }
        },
        "b5108c94a91f40fa9a729f53ea23efa8": {
          "model_module": "@jupyter-widgets/base",
          "model_name": "LayoutModel",
          "model_module_version": "1.2.0",
          "state": {
            "_model_module": "@jupyter-widgets/base",
            "_model_module_version": "1.2.0",
            "_model_name": "LayoutModel",
            "_view_count": null,
            "_view_module": "@jupyter-widgets/base",
            "_view_module_version": "1.2.0",
            "_view_name": "LayoutView",
            "align_content": null,
            "align_items": null,
            "align_self": null,
            "border": null,
            "bottom": null,
            "display": null,
            "flex": null,
            "flex_flow": null,
            "grid_area": null,
            "grid_auto_columns": null,
            "grid_auto_flow": null,
            "grid_auto_rows": null,
            "grid_column": null,
            "grid_gap": null,
            "grid_row": null,
            "grid_template_areas": null,
            "grid_template_columns": null,
            "grid_template_rows": null,
            "height": null,
            "justify_content": null,
            "justify_items": null,
            "left": null,
            "margin": null,
            "max_height": null,
            "max_width": null,
            "min_height": null,
            "min_width": null,
            "object_fit": null,
            "object_position": null,
            "order": null,
            "overflow": null,
            "overflow_x": null,
            "overflow_y": null,
            "padding": null,
            "right": null,
            "top": null,
            "visibility": null,
            "width": null
          }
        },
        "382d93d6152247839fe19d5635779015": {
          "model_module": "@jupyter-widgets/base",
          "model_name": "LayoutModel",
          "model_module_version": "1.2.0",
          "state": {
            "_model_module": "@jupyter-widgets/base",
            "_model_module_version": "1.2.0",
            "_model_name": "LayoutModel",
            "_view_count": null,
            "_view_module": "@jupyter-widgets/base",
            "_view_module_version": "1.2.0",
            "_view_name": "LayoutView",
            "align_content": null,
            "align_items": null,
            "align_self": null,
            "border": null,
            "bottom": null,
            "display": null,
            "flex": null,
            "flex_flow": null,
            "grid_area": null,
            "grid_auto_columns": null,
            "grid_auto_flow": null,
            "grid_auto_rows": null,
            "grid_column": null,
            "grid_gap": null,
            "grid_row": null,
            "grid_template_areas": null,
            "grid_template_columns": null,
            "grid_template_rows": null,
            "height": null,
            "justify_content": null,
            "justify_items": null,
            "left": null,
            "margin": null,
            "max_height": null,
            "max_width": null,
            "min_height": null,
            "min_width": null,
            "object_fit": null,
            "object_position": null,
            "order": null,
            "overflow": null,
            "overflow_x": null,
            "overflow_y": null,
            "padding": null,
            "right": null,
            "top": null,
            "visibility": null,
            "width": null
          }
        },
        "475c07f7aa484fed9f306c2475a1a5de": {
          "model_module": "@jupyter-widgets/controls",
          "model_name": "DescriptionStyleModel",
          "model_module_version": "1.5.0",
          "state": {
            "_model_module": "@jupyter-widgets/controls",
            "_model_module_version": "1.5.0",
            "_model_name": "DescriptionStyleModel",
            "_view_count": null,
            "_view_module": "@jupyter-widgets/base",
            "_view_module_version": "1.2.0",
            "_view_name": "StyleView",
            "description_width": ""
          }
        },
        "5f68e56b80664af6aae8e824c0d84351": {
          "model_module": "@jupyter-widgets/base",
          "model_name": "LayoutModel",
          "model_module_version": "1.2.0",
          "state": {
            "_model_module": "@jupyter-widgets/base",
            "_model_module_version": "1.2.0",
            "_model_name": "LayoutModel",
            "_view_count": null,
            "_view_module": "@jupyter-widgets/base",
            "_view_module_version": "1.2.0",
            "_view_name": "LayoutView",
            "align_content": null,
            "align_items": null,
            "align_self": null,
            "border": null,
            "bottom": null,
            "display": null,
            "flex": null,
            "flex_flow": null,
            "grid_area": null,
            "grid_auto_columns": null,
            "grid_auto_flow": null,
            "grid_auto_rows": null,
            "grid_column": null,
            "grid_gap": null,
            "grid_row": null,
            "grid_template_areas": null,
            "grid_template_columns": null,
            "grid_template_rows": null,
            "height": null,
            "justify_content": null,
            "justify_items": null,
            "left": null,
            "margin": null,
            "max_height": null,
            "max_width": null,
            "min_height": null,
            "min_width": null,
            "object_fit": null,
            "object_position": null,
            "order": null,
            "overflow": null,
            "overflow_x": null,
            "overflow_y": null,
            "padding": null,
            "right": null,
            "top": null,
            "visibility": null,
            "width": null
          }
        },
        "5c26032eeffa46b691b8ee0009a89ece": {
          "model_module": "@jupyter-widgets/controls",
          "model_name": "ProgressStyleModel",
          "model_module_version": "1.5.0",
          "state": {
            "_model_module": "@jupyter-widgets/controls",
            "_model_module_version": "1.5.0",
            "_model_name": "ProgressStyleModel",
            "_view_count": null,
            "_view_module": "@jupyter-widgets/base",
            "_view_module_version": "1.2.0",
            "_view_name": "StyleView",
            "bar_color": null,
            "description_width": ""
          }
        },
        "fd83804e05cf4b959095d96682278dfe": {
          "model_module": "@jupyter-widgets/base",
          "model_name": "LayoutModel",
          "model_module_version": "1.2.0",
          "state": {
            "_model_module": "@jupyter-widgets/base",
            "_model_module_version": "1.2.0",
            "_model_name": "LayoutModel",
            "_view_count": null,
            "_view_module": "@jupyter-widgets/base",
            "_view_module_version": "1.2.0",
            "_view_name": "LayoutView",
            "align_content": null,
            "align_items": null,
            "align_self": null,
            "border": null,
            "bottom": null,
            "display": null,
            "flex": null,
            "flex_flow": null,
            "grid_area": null,
            "grid_auto_columns": null,
            "grid_auto_flow": null,
            "grid_auto_rows": null,
            "grid_column": null,
            "grid_gap": null,
            "grid_row": null,
            "grid_template_areas": null,
            "grid_template_columns": null,
            "grid_template_rows": null,
            "height": null,
            "justify_content": null,
            "justify_items": null,
            "left": null,
            "margin": null,
            "max_height": null,
            "max_width": null,
            "min_height": null,
            "min_width": null,
            "object_fit": null,
            "object_position": null,
            "order": null,
            "overflow": null,
            "overflow_x": null,
            "overflow_y": null,
            "padding": null,
            "right": null,
            "top": null,
            "visibility": null,
            "width": null
          }
        },
        "a61906d0e57b40158932835b327eb445": {
          "model_module": "@jupyter-widgets/controls",
          "model_name": "DescriptionStyleModel",
          "model_module_version": "1.5.0",
          "state": {
            "_model_module": "@jupyter-widgets/controls",
            "_model_module_version": "1.5.0",
            "_model_name": "DescriptionStyleModel",
            "_view_count": null,
            "_view_module": "@jupyter-widgets/base",
            "_view_module_version": "1.2.0",
            "_view_name": "StyleView",
            "description_width": ""
          }
        },
        "45b5c84ebb174bfc928aea814e3b52f0": {
          "model_module": "@jupyter-widgets/controls",
          "model_name": "HBoxModel",
          "model_module_version": "1.5.0",
          "state": {
            "_dom_classes": [],
            "_model_module": "@jupyter-widgets/controls",
            "_model_module_version": "1.5.0",
            "_model_name": "HBoxModel",
            "_view_count": null,
            "_view_module": "@jupyter-widgets/controls",
            "_view_module_version": "1.5.0",
            "_view_name": "HBoxView",
            "box_style": "",
            "children": [
              "IPY_MODEL_db2e667f002c47f39ac350dfcd76de76",
              "IPY_MODEL_7b3fefab250f4427a200e98226d1e8f6",
              "IPY_MODEL_cb1e8a163df0420aa0d3fd762e5ea649"
            ],
            "layout": "IPY_MODEL_595f9e0c6dfd499da3d85d7a4cae0ea3"
          }
        },
        "db2e667f002c47f39ac350dfcd76de76": {
          "model_module": "@jupyter-widgets/controls",
          "model_name": "HTMLModel",
          "model_module_version": "1.5.0",
          "state": {
            "_dom_classes": [],
            "_model_module": "@jupyter-widgets/controls",
            "_model_module_version": "1.5.0",
            "_model_name": "HTMLModel",
            "_view_count": null,
            "_view_module": "@jupyter-widgets/controls",
            "_view_module_version": "1.5.0",
            "_view_name": "HTMLView",
            "description": "",
            "description_tooltip": null,
            "layout": "IPY_MODEL_1a8b37ef948d4065abaff01ac9b7f8e9",
            "placeholder": "​",
            "style": "IPY_MODEL_bba96b0379c84d16a1fca600e618b4ff",
            "value": "Shuffling ~/tensorflow_datasets/howell/1.0.0.incompleteO8SZV1/howell-train.tfrecord*...:   0%"
          }
        },
        "7b3fefab250f4427a200e98226d1e8f6": {
          "model_module": "@jupyter-widgets/controls",
          "model_name": "FloatProgressModel",
          "model_module_version": "1.5.0",
          "state": {
            "_dom_classes": [],
            "_model_module": "@jupyter-widgets/controls",
            "_model_module_version": "1.5.0",
            "_model_name": "FloatProgressModel",
            "_view_count": null,
            "_view_module": "@jupyter-widgets/controls",
            "_view_module_version": "1.5.0",
            "_view_name": "ProgressView",
            "bar_style": "",
            "description": "",
            "description_tooltip": null,
            "layout": "IPY_MODEL_f606f9ee5996492da8318f1d558e4424",
            "max": 544,
            "min": 0,
            "orientation": "horizontal",
            "style": "IPY_MODEL_04426e3657e1427e9d445c2994a89511",
            "value": 544
          }
        },
        "cb1e8a163df0420aa0d3fd762e5ea649": {
          "model_module": "@jupyter-widgets/controls",
          "model_name": "HTMLModel",
          "model_module_version": "1.5.0",
          "state": {
            "_dom_classes": [],
            "_model_module": "@jupyter-widgets/controls",
            "_model_module_version": "1.5.0",
            "_model_name": "HTMLModel",
            "_view_count": null,
            "_view_module": "@jupyter-widgets/controls",
            "_view_module_version": "1.5.0",
            "_view_name": "HTMLView",
            "description": "",
            "description_tooltip": null,
            "layout": "IPY_MODEL_46d8b8737da941e0956140cc35c8dc1e",
            "placeholder": "​",
            "style": "IPY_MODEL_fad6eafc9e974e9e99edf69b5e46382e",
            "value": " 0/544 [00:00&lt;?, ? examples/s]"
          }
        },
        "595f9e0c6dfd499da3d85d7a4cae0ea3": {
          "model_module": "@jupyter-widgets/base",
          "model_name": "LayoutModel",
          "model_module_version": "1.2.0",
          "state": {
            "_model_module": "@jupyter-widgets/base",
            "_model_module_version": "1.2.0",
            "_model_name": "LayoutModel",
            "_view_count": null,
            "_view_module": "@jupyter-widgets/base",
            "_view_module_version": "1.2.0",
            "_view_name": "LayoutView",
            "align_content": null,
            "align_items": null,
            "align_self": null,
            "border": null,
            "bottom": null,
            "display": null,
            "flex": null,
            "flex_flow": null,
            "grid_area": null,
            "grid_auto_columns": null,
            "grid_auto_flow": null,
            "grid_auto_rows": null,
            "grid_column": null,
            "grid_gap": null,
            "grid_row": null,
            "grid_template_areas": null,
            "grid_template_columns": null,
            "grid_template_rows": null,
            "height": null,
            "justify_content": null,
            "justify_items": null,
            "left": null,
            "margin": null,
            "max_height": null,
            "max_width": null,
            "min_height": null,
            "min_width": null,
            "object_fit": null,
            "object_position": null,
            "order": null,
            "overflow": null,
            "overflow_x": null,
            "overflow_y": null,
            "padding": null,
            "right": null,
            "top": null,
            "visibility": null,
            "width": null
          }
        },
        "1a8b37ef948d4065abaff01ac9b7f8e9": {
          "model_module": "@jupyter-widgets/base",
          "model_name": "LayoutModel",
          "model_module_version": "1.2.0",
          "state": {
            "_model_module": "@jupyter-widgets/base",
            "_model_module_version": "1.2.0",
            "_model_name": "LayoutModel",
            "_view_count": null,
            "_view_module": "@jupyter-widgets/base",
            "_view_module_version": "1.2.0",
            "_view_name": "LayoutView",
            "align_content": null,
            "align_items": null,
            "align_self": null,
            "border": null,
            "bottom": null,
            "display": null,
            "flex": null,
            "flex_flow": null,
            "grid_area": null,
            "grid_auto_columns": null,
            "grid_auto_flow": null,
            "grid_auto_rows": null,
            "grid_column": null,
            "grid_gap": null,
            "grid_row": null,
            "grid_template_areas": null,
            "grid_template_columns": null,
            "grid_template_rows": null,
            "height": null,
            "justify_content": null,
            "justify_items": null,
            "left": null,
            "margin": null,
            "max_height": null,
            "max_width": null,
            "min_height": null,
            "min_width": null,
            "object_fit": null,
            "object_position": null,
            "order": null,
            "overflow": null,
            "overflow_x": null,
            "overflow_y": null,
            "padding": null,
            "right": null,
            "top": null,
            "visibility": null,
            "width": null
          }
        },
        "bba96b0379c84d16a1fca600e618b4ff": {
          "model_module": "@jupyter-widgets/controls",
          "model_name": "DescriptionStyleModel",
          "model_module_version": "1.5.0",
          "state": {
            "_model_module": "@jupyter-widgets/controls",
            "_model_module_version": "1.5.0",
            "_model_name": "DescriptionStyleModel",
            "_view_count": null,
            "_view_module": "@jupyter-widgets/base",
            "_view_module_version": "1.2.0",
            "_view_name": "StyleView",
            "description_width": ""
          }
        },
        "f606f9ee5996492da8318f1d558e4424": {
          "model_module": "@jupyter-widgets/base",
          "model_name": "LayoutModel",
          "model_module_version": "1.2.0",
          "state": {
            "_model_module": "@jupyter-widgets/base",
            "_model_module_version": "1.2.0",
            "_model_name": "LayoutModel",
            "_view_count": null,
            "_view_module": "@jupyter-widgets/base",
            "_view_module_version": "1.2.0",
            "_view_name": "LayoutView",
            "align_content": null,
            "align_items": null,
            "align_self": null,
            "border": null,
            "bottom": null,
            "display": null,
            "flex": null,
            "flex_flow": null,
            "grid_area": null,
            "grid_auto_columns": null,
            "grid_auto_flow": null,
            "grid_auto_rows": null,
            "grid_column": null,
            "grid_gap": null,
            "grid_row": null,
            "grid_template_areas": null,
            "grid_template_columns": null,
            "grid_template_rows": null,
            "height": null,
            "justify_content": null,
            "justify_items": null,
            "left": null,
            "margin": null,
            "max_height": null,
            "max_width": null,
            "min_height": null,
            "min_width": null,
            "object_fit": null,
            "object_position": null,
            "order": null,
            "overflow": null,
            "overflow_x": null,
            "overflow_y": null,
            "padding": null,
            "right": null,
            "top": null,
            "visibility": null,
            "width": null
          }
        },
        "04426e3657e1427e9d445c2994a89511": {
          "model_module": "@jupyter-widgets/controls",
          "model_name": "ProgressStyleModel",
          "model_module_version": "1.5.0",
          "state": {
            "_model_module": "@jupyter-widgets/controls",
            "_model_module_version": "1.5.0",
            "_model_name": "ProgressStyleModel",
            "_view_count": null,
            "_view_module": "@jupyter-widgets/base",
            "_view_module_version": "1.2.0",
            "_view_name": "StyleView",
            "bar_color": null,
            "description_width": ""
          }
        },
        "46d8b8737da941e0956140cc35c8dc1e": {
          "model_module": "@jupyter-widgets/base",
          "model_name": "LayoutModel",
          "model_module_version": "1.2.0",
          "state": {
            "_model_module": "@jupyter-widgets/base",
            "_model_module_version": "1.2.0",
            "_model_name": "LayoutModel",
            "_view_count": null,
            "_view_module": "@jupyter-widgets/base",
            "_view_module_version": "1.2.0",
            "_view_name": "LayoutView",
            "align_content": null,
            "align_items": null,
            "align_self": null,
            "border": null,
            "bottom": null,
            "display": null,
            "flex": null,
            "flex_flow": null,
            "grid_area": null,
            "grid_auto_columns": null,
            "grid_auto_flow": null,
            "grid_auto_rows": null,
            "grid_column": null,
            "grid_gap": null,
            "grid_row": null,
            "grid_template_areas": null,
            "grid_template_columns": null,
            "grid_template_rows": null,
            "height": null,
            "justify_content": null,
            "justify_items": null,
            "left": null,
            "margin": null,
            "max_height": null,
            "max_width": null,
            "min_height": null,
            "min_width": null,
            "object_fit": null,
            "object_position": null,
            "order": null,
            "overflow": null,
            "overflow_x": null,
            "overflow_y": null,
            "padding": null,
            "right": null,
            "top": null,
            "visibility": null,
            "width": null
          }
        },
        "fad6eafc9e974e9e99edf69b5e46382e": {
          "model_module": "@jupyter-widgets/controls",
          "model_name": "DescriptionStyleModel",
          "model_module_version": "1.5.0",
          "state": {
            "_model_module": "@jupyter-widgets/controls",
            "_model_module_version": "1.5.0",
            "_model_name": "DescriptionStyleModel",
            "_view_count": null,
            "_view_module": "@jupyter-widgets/base",
            "_view_module_version": "1.2.0",
            "_view_name": "StyleView",
            "description_width": ""
          }
        }
      }
    }
  },
  "nbformat": 4,
  "nbformat_minor": 0
}