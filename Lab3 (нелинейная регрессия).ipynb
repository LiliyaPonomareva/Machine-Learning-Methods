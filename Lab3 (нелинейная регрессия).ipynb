{
  "cells": [
    {
      "cell_type": "markdown",
      "metadata": {
        "id": "bkvu6piHt3ra"
      },
      "source": [
        "### РОССИЙСКИЙ УНИВЕРСИТЕТ ДРУЖБЫ НАРОДОВ\n",
        "\n",
        "#### Факультет физико-математических и естественных наук  \n",
        "#### Кафедра информационных технологий "
      ]
    },
    {
      "cell_type": "markdown",
      "metadata": {
        "id": "djXIWnpjt3rf"
      },
      "source": [
        "## ОТЧЕТ ПО ЛАБОРАТОРНОЙ РАБОТЕ № 3\n",
        "\n",
        "\n",
        "### Дисциплина: Методы машинного обучения"
      ]
    },
    {
      "cell_type": "markdown",
      "metadata": {
        "id": "fo_ynhTst3rg"
      },
      "source": [
        "##### Студент:  Пономарева Л. М.\n",
        "##### Группа:   НПИбд-02-19"
      ]
    },
    {
      "cell_type": "markdown",
      "metadata": {
        "id": "TbvGIymht3rh"
      },
      "source": [
        "### Москва 2022\n",
        "***"
      ]
    },
    {
      "cell_type": "markdown",
      "metadata": {
        "id": "avs03Eqmt3rh"
      },
      "source": [
        "### Вариант 27 \n",
        "\n",
        "1. Набор данных: diamonds \n",
        "\n",
        "2. Независимая переменная: features/x \n",
        "\n",
        "3. Зависимая переменная: price \n",
        "\n",
        "4. Доп. признак: имеющий минимальную ковариацию с независимой переменной \n",
        "\n",
        "5. Визуализация доп. признака – диаграмма размаха \n",
        "\n",
        "6. Показатель качества регрессии – R^2 (коэффициент детерминации) \n",
        "\n",
        "7. Степень полинома: 5 \n",
        "\n",
        "8. Параметры глубокой нейронной сети: кол-во скрытых слоев – 5, кол-во нейронов в скрытом слое – 32, функция активации – гиперболический тангенс. \n"
      ]
    },
    {
      "cell_type": "markdown",
      "source": [
        "### Задание 1\n",
        "Загрузите заданный в индивидуальном задании набор данных из Tensorflow Datasets, включая указанные в задании независимый признак и зависимый признак (отклик).\n",
        "\n",
        "Набор данных: diamonds  \n",
        "Независимый признак: features/x  \n",
        "Зависимый признак: price"
      ],
      "metadata": {
        "id": "k4NbLrGBKKqO"
      }
    },
    {
      "cell_type": "markdown",
      "source": [
        "Активируем последние версии наборов данных и подключаем модуль Tensorflow Datasets, который содержит необходимый нам набор 'diamonds':"
      ],
      "metadata": {
        "id": "xu0NnU_s8P10"
      }
    },
    {
      "cell_type": "code",
      "source": [
        "!pip install -q tfds-nightly\n",
        "import tensorflow_datasets as tfds"
      ],
      "metadata": {
        "id": "Jasw0y5o-bWc"
      },
      "execution_count": 1,
      "outputs": []
    },
    {
      "cell_type": "markdown",
      "source": [
        "Подключим необходимые библиотеки"
      ],
      "metadata": {
        "id": "0W9d1nzbQSs2"
      }
    },
    {
      "cell_type": "code",
      "source": [
        "import numpy as np\n",
        "import matplotlib.pyplot as plt\n",
        "import pandas as pd\n",
        "import tensorflow as tf\n",
        "import tensorflow_datasets as tfds"
      ],
      "metadata": {
        "id": "0dPEx7PvQRe1"
      },
      "execution_count": 2,
      "outputs": []
    },
    {
      "cell_type": "markdown",
      "source": [
        "Считываем из TFDS набор данных diamonds и преобразуем датасет в датафрейм:"
      ],
      "metadata": {
        "id": "Zuh8g4749H5R"
      }
    },
    {
      "cell_type": "code",
      "source": [
        "ds = tfds.load('diamonds', split='train')\n",
        "df = tfds.as_dataframe(ds)\n",
        "df.head()"
      ],
      "metadata": {
        "colab": {
          "base_uri": "https://localhost:8080/",
          "height": 206
        },
        "id": "w6Nqu_CrqeJL",
        "outputId": "8aae76d5-2f0a-414e-ebed-ab37c47c8ce7"
      },
      "execution_count": 3,
      "outputs": [
        {
          "output_type": "execute_result",
          "data": {
            "text/plain": [
              "   features/carat  features/clarity  features/color  features/cut  \\\n",
              "0            1.26                 2               4             2   \n",
              "1            0.80                 3               4             4   \n",
              "2            0.56                 4               2             4   \n",
              "3            1.51                 3               6             1   \n",
              "4            0.33                 6               5             4   \n",
              "\n",
              "   features/depth  features/table  features/x  features/y  features/z   price  \n",
              "0       60.599998            60.0        6.97        7.00        4.23  6546.0  \n",
              "1       62.099998            54.0        5.96        5.99        3.71  3030.0  \n",
              "2       61.700001            54.0        5.28        5.32        3.27  1915.0  \n",
              "3       64.000000            58.0        7.24        7.27        4.64  6936.0  \n",
              "4       62.200001            54.0        4.43        4.45        2.76   646.0  "
            ],
            "text/html": [
              "\n",
              "  <div id=\"df-a27a3f49-06f6-4a82-b539-ccec5b3fab39\">\n",
              "    <div class=\"colab-df-container\">\n",
              "      <div>\n",
              "<style scoped>\n",
              "    .dataframe tbody tr th:only-of-type {\n",
              "        vertical-align: middle;\n",
              "    }\n",
              "\n",
              "    .dataframe tbody tr th {\n",
              "        vertical-align: top;\n",
              "    }\n",
              "\n",
              "    .dataframe thead th {\n",
              "        text-align: right;\n",
              "    }\n",
              "</style>\n",
              "<table border=\"1\" class=\"dataframe\">\n",
              "  <thead>\n",
              "    <tr style=\"text-align: right;\">\n",
              "      <th></th>\n",
              "      <th>features/carat</th>\n",
              "      <th>features/clarity</th>\n",
              "      <th>features/color</th>\n",
              "      <th>features/cut</th>\n",
              "      <th>features/depth</th>\n",
              "      <th>features/table</th>\n",
              "      <th>features/x</th>\n",
              "      <th>features/y</th>\n",
              "      <th>features/z</th>\n",
              "      <th>price</th>\n",
              "    </tr>\n",
              "  </thead>\n",
              "  <tbody>\n",
              "    <tr>\n",
              "      <th>0</th>\n",
              "      <td>1.26</td>\n",
              "      <td>2</td>\n",
              "      <td>4</td>\n",
              "      <td>2</td>\n",
              "      <td>60.599998</td>\n",
              "      <td>60.0</td>\n",
              "      <td>6.97</td>\n",
              "      <td>7.00</td>\n",
              "      <td>4.23</td>\n",
              "      <td>6546.0</td>\n",
              "    </tr>\n",
              "    <tr>\n",
              "      <th>1</th>\n",
              "      <td>0.80</td>\n",
              "      <td>3</td>\n",
              "      <td>4</td>\n",
              "      <td>4</td>\n",
              "      <td>62.099998</td>\n",
              "      <td>54.0</td>\n",
              "      <td>5.96</td>\n",
              "      <td>5.99</td>\n",
              "      <td>3.71</td>\n",
              "      <td>3030.0</td>\n",
              "    </tr>\n",
              "    <tr>\n",
              "      <th>2</th>\n",
              "      <td>0.56</td>\n",
              "      <td>4</td>\n",
              "      <td>2</td>\n",
              "      <td>4</td>\n",
              "      <td>61.700001</td>\n",
              "      <td>54.0</td>\n",
              "      <td>5.28</td>\n",
              "      <td>5.32</td>\n",
              "      <td>3.27</td>\n",
              "      <td>1915.0</td>\n",
              "    </tr>\n",
              "    <tr>\n",
              "      <th>3</th>\n",
              "      <td>1.51</td>\n",
              "      <td>3</td>\n",
              "      <td>6</td>\n",
              "      <td>1</td>\n",
              "      <td>64.000000</td>\n",
              "      <td>58.0</td>\n",
              "      <td>7.24</td>\n",
              "      <td>7.27</td>\n",
              "      <td>4.64</td>\n",
              "      <td>6936.0</td>\n",
              "    </tr>\n",
              "    <tr>\n",
              "      <th>4</th>\n",
              "      <td>0.33</td>\n",
              "      <td>6</td>\n",
              "      <td>5</td>\n",
              "      <td>4</td>\n",
              "      <td>62.200001</td>\n",
              "      <td>54.0</td>\n",
              "      <td>4.43</td>\n",
              "      <td>4.45</td>\n",
              "      <td>2.76</td>\n",
              "      <td>646.0</td>\n",
              "    </tr>\n",
              "  </tbody>\n",
              "</table>\n",
              "</div>\n",
              "      <button class=\"colab-df-convert\" onclick=\"convertToInteractive('df-a27a3f49-06f6-4a82-b539-ccec5b3fab39')\"\n",
              "              title=\"Convert this dataframe to an interactive table.\"\n",
              "              style=\"display:none;\">\n",
              "        \n",
              "  <svg xmlns=\"http://www.w3.org/2000/svg\" height=\"24px\"viewBox=\"0 0 24 24\"\n",
              "       width=\"24px\">\n",
              "    <path d=\"M0 0h24v24H0V0z\" fill=\"none\"/>\n",
              "    <path d=\"M18.56 5.44l.94 2.06.94-2.06 2.06-.94-2.06-.94-.94-2.06-.94 2.06-2.06.94zm-11 1L8.5 8.5l.94-2.06 2.06-.94-2.06-.94L8.5 2.5l-.94 2.06-2.06.94zm10 10l.94 2.06.94-2.06 2.06-.94-2.06-.94-.94-2.06-.94 2.06-2.06.94z\"/><path d=\"M17.41 7.96l-1.37-1.37c-.4-.4-.92-.59-1.43-.59-.52 0-1.04.2-1.43.59L10.3 9.45l-7.72 7.72c-.78.78-.78 2.05 0 2.83L4 21.41c.39.39.9.59 1.41.59.51 0 1.02-.2 1.41-.59l7.78-7.78 2.81-2.81c.8-.78.8-2.07 0-2.86zM5.41 20L4 18.59l7.72-7.72 1.47 1.35L5.41 20z\"/>\n",
              "  </svg>\n",
              "      </button>\n",
              "      \n",
              "  <style>\n",
              "    .colab-df-container {\n",
              "      display:flex;\n",
              "      flex-wrap:wrap;\n",
              "      gap: 12px;\n",
              "    }\n",
              "\n",
              "    .colab-df-convert {\n",
              "      background-color: #E8F0FE;\n",
              "      border: none;\n",
              "      border-radius: 50%;\n",
              "      cursor: pointer;\n",
              "      display: none;\n",
              "      fill: #1967D2;\n",
              "      height: 32px;\n",
              "      padding: 0 0 0 0;\n",
              "      width: 32px;\n",
              "    }\n",
              "\n",
              "    .colab-df-convert:hover {\n",
              "      background-color: #E2EBFA;\n",
              "      box-shadow: 0px 1px 2px rgba(60, 64, 67, 0.3), 0px 1px 3px 1px rgba(60, 64, 67, 0.15);\n",
              "      fill: #174EA6;\n",
              "    }\n",
              "\n",
              "    [theme=dark] .colab-df-convert {\n",
              "      background-color: #3B4455;\n",
              "      fill: #D2E3FC;\n",
              "    }\n",
              "\n",
              "    [theme=dark] .colab-df-convert:hover {\n",
              "      background-color: #434B5C;\n",
              "      box-shadow: 0px 1px 3px 1px rgba(0, 0, 0, 0.15);\n",
              "      filter: drop-shadow(0px 1px 2px rgba(0, 0, 0, 0.3));\n",
              "      fill: #FFFFFF;\n",
              "    }\n",
              "  </style>\n",
              "\n",
              "      <script>\n",
              "        const buttonEl =\n",
              "          document.querySelector('#df-a27a3f49-06f6-4a82-b539-ccec5b3fab39 button.colab-df-convert');\n",
              "        buttonEl.style.display =\n",
              "          google.colab.kernel.accessAllowed ? 'block' : 'none';\n",
              "\n",
              "        async function convertToInteractive(key) {\n",
              "          const element = document.querySelector('#df-a27a3f49-06f6-4a82-b539-ccec5b3fab39');\n",
              "          const dataTable =\n",
              "            await google.colab.kernel.invokeFunction('convertToInteractive',\n",
              "                                                     [key], {});\n",
              "          if (!dataTable) return;\n",
              "\n",
              "          const docLinkHtml = 'Like what you see? Visit the ' +\n",
              "            '<a target=\"_blank\" href=https://colab.research.google.com/notebooks/data_table.ipynb>data table notebook</a>'\n",
              "            + ' to learn more about interactive tables.';\n",
              "          element.innerHTML = '';\n",
              "          dataTable['output_type'] = 'display_data';\n",
              "          await google.colab.output.renderOutput(dataTable, element);\n",
              "          const docLink = document.createElement('div');\n",
              "          docLink.innerHTML = docLinkHtml;\n",
              "          element.appendChild(docLink);\n",
              "        }\n",
              "      </script>\n",
              "    </div>\n",
              "  </div>\n",
              "  "
            ]
          },
          "metadata": {},
          "execution_count": 3
        }
      ]
    },
    {
      "cell_type": "markdown",
      "source": [
        "Вытащим данные о параметрах features/x и price:"
      ],
      "metadata": {
        "id": "-2s3BKM1G7H3"
      }
    },
    {
      "cell_type": "code",
      "source": [
        "x1 = df['features/x'].to_numpy()\n",
        "y1 = df['price'].to_numpy()\n",
        "x1.shape, y1.shape"
      ],
      "metadata": {
        "colab": {
          "base_uri": "https://localhost:8080/"
        },
        "id": "7sBQsXKirm__",
        "outputId": "061e4a72-b6d9-448c-af8b-f1d8f32d0450"
      },
      "execution_count": 4,
      "outputs": [
        {
          "output_type": "execute_result",
          "data": {
            "text/plain": [
              "((53940,), (53940,))"
            ]
          },
          "metadata": {},
          "execution_count": 4
        }
      ]
    },
    {
      "cell_type": "code",
      "source": [
        "plt.scatter(x1, y1)\n",
        "plt.xlabel(\"feature/x\")\n",
        "plt.ylabel(\"price\");"
      ],
      "metadata": {
        "colab": {
          "base_uri": "https://localhost:8080/",
          "height": 279
        },
        "id": "XxSNagKHq_Hj",
        "outputId": "02fdc347-342c-4375-f000-86ec160816ff"
      },
      "execution_count": 5,
      "outputs": [
        {
          "output_type": "display_data",
          "data": {
            "text/plain": [
              "<Figure size 432x288 with 1 Axes>"
            ],
            "image/png": "[encoded data removed]"
          },
          "metadata": {
            "needs_background": "light"
          }
        }
      ]
    },
    {
      "cell_type": "markdown",
      "source": [
        "Очистим набор от точек, расположенных вдоль левой границы графика."
      ],
      "metadata": {
        "id": "n41tyFA0oJCe"
      }
    },
    {
      "cell_type": "code",
      "source": [
        "min = np.min(x1)\n",
        "y = y1[x1 > 0]\n",
        "x = x1[x1 > 0]\n",
        "x.shape, y.shape"
      ],
      "metadata": {
        "colab": {
          "base_uri": "https://localhost:8080/"
        },
        "id": "xFHJJHuurfT5",
        "outputId": "ed5ddf22-5cf0-4856-b83e-647f6a8390a0"
      },
      "execution_count": 6,
      "outputs": [
        {
          "output_type": "execute_result",
          "data": {
            "text/plain": [
              "((53932,), (53932,))"
            ]
          },
          "metadata": {},
          "execution_count": 6
        }
      ]
    },
    {
      "cell_type": "code",
      "source": [
        "plt.scatter(x, y, label='диаграмма рассеяния', linewidths=0.5);"
      ],
      "metadata": {
        "colab": {
          "base_uri": "https://localhost:8080/",
          "height": 265
        },
        "id": "CWsHJ8BWUFIK",
        "outputId": "250d86f3-a81f-460f-8c9d-5701edac1f62"
      },
      "execution_count": 7,
      "outputs": [
        {
          "output_type": "display_data",
          "data": {
            "text/plain": [
              "<Figure size 432x288 with 1 Axes>"
            ],
            "image/png": "[encoded data removed]"
          },
          "metadata": {
            "needs_background": "light"
          }
        }
      ]
    },
    {
      "cell_type": "markdown",
      "source": [
        "### Задание 2\n",
        "Решите задачу полиномиальной регрессии для степени полинома, указанной в индивидуальном задании, при помощи нейронной сети с одним нейроном и оцените качество полученной модели по показателю, указанному в индивидуальном задании.\n",
        "\n",
        "Степень полинома: 5  \n",
        "Показатель качества регрессии: R<sup>2</sup> (коэффициент детерминации)\n"
      ],
      "metadata": {
        "id": "cxZukOGIilLW"
      }
    },
    {
      "cell_type": "code",
      "source": [
        "X = x.reshape(-1, 1)  # матрица с одним столбцом \n",
        "X.shape"
      ],
      "metadata": {
        "colab": {
          "base_uri": "https://localhost:8080/"
        },
        "id": "e4_ev7Dqpqlh",
        "outputId": "e4efa048-54e5-4da9-ad6a-a78000d1ceb7"
      },
      "execution_count": 8,
      "outputs": [
        {
          "output_type": "execute_result",
          "data": {
            "text/plain": [
              "(53932, 1)"
            ]
          },
          "metadata": {},
          "execution_count": 8
        }
      ]
    },
    {
      "cell_type": "markdown",
      "source": [
        "Подготовим для модели регрессии входные данные с пятью признаками - линейной, квадратичной, и т.д. до степенной зависимости порядка 5:"
      ],
      "metadata": {
        "id": "geN3qg4Bp0EN"
      }
    },
    {
      "cell_type": "code",
      "source": [
        "X5 = np.hstack([X, np.power(X, 2), np.power(X, 3), np.power(X, 4), np.power(X, 5)])\n",
        "X5.shape"
      ],
      "metadata": {
        "colab": {
          "base_uri": "https://localhost:8080/"
        },
        "id": "S69kTvLRpU5G",
        "outputId": "97264506-0773-4959-c96d-8f5ff958cc94"
      },
      "execution_count": 9,
      "outputs": [
        {
          "output_type": "execute_result",
          "data": {
            "text/plain": [
              "(53932, 5)"
            ]
          },
          "metadata": {},
          "execution_count": 9
        }
      ]
    },
    {
      "cell_type": "markdown",
      "source": [
        "Создадим простейшую нейронную сеть с одним слоем из одного нейрона:"
      ],
      "metadata": {
        "id": "Wu3ZFvy6iidx"
      }
    },
    {
      "cell_type": "code",
      "source": [
        "reg_model = tf.keras.Sequential([\n",
        "    tf.keras.Input(shape=(5,)),\n",
        "    tf.keras.layers.Dense(units=1)\n",
        "])"
      ],
      "metadata": {
        "id": "ga2g4yiNpz37"
      },
      "execution_count": 10,
      "outputs": []
    },
    {
      "cell_type": "code",
      "source": [
        "reg_model.summary()"
      ],
      "metadata": {
        "colab": {
          "base_uri": "https://localhost:8080/"
        },
        "id": "2Dp2OTj4osxT",
        "outputId": "f939693f-98eb-4723-e0e6-146ea77623c8"
      },
      "execution_count": 11,
      "outputs": [
        {
          "output_type": "stream",
          "name": "stdout",
          "text": [
            "Model: \"sequential\"\n",
            "_________________________________________________________________\n",
            " Layer (type)                Output Shape              Param #   \n",
            "=================================================================\n",
            " dense (Dense)               (None, 1)                 6         \n",
            "                                                                 \n",
            "=================================================================\n",
            "Total params: 6\n",
            "Trainable params: 6\n",
            "Non-trainable params: 0\n",
            "_________________________________________________________________\n"
          ]
        }
      ]
    },
    {
      "cell_type": "markdown",
      "source": [
        "Скомпилируем модель"
      ],
      "metadata": {
        "id": "nku9b_Rbo45W"
      }
    },
    {
      "cell_type": "code",
      "source": [
        "reg_model.compile(\n",
        "    optimizer=tf.optimizers.Adam(learning_rate=0.00001),\n",
        "    loss='mae')"
      ],
      "metadata": {
        "id": "CH7XgpFlo28q"
      },
      "execution_count": 12,
      "outputs": []
    },
    {
      "cell_type": "markdown",
      "source": [
        "Обучаем нейронную сеть на полиномиальных зависимостях:"
      ],
      "metadata": {
        "id": "r3UV4QGLpCYq"
      }
    },
    {
      "cell_type": "code",
      "source": [
        "history = reg_model.fit(\n",
        "    X5, y, \n",
        "    epochs=50,\n",
        "    # уровень выводимой информации\n",
        "    verbose=1,\n",
        "    # проверка (валидация) на 20% обучающих данных\n",
        "    validation_split = 0.2)"
      ],
      "metadata": {
        "colab": {
          "base_uri": "https://localhost:8080/"
        },
        "id": "H-19vAyYpDNa",
        "outputId": "eb3dc363-b161-444a-e007-48abc546d8ab"
      },
      "execution_count": 13,
      "outputs": [
        {
          "output_type": "stream",
          "name": "stdout",
          "text": [
            "Epoch 1/50\n",
            "1349/1349 [==============================] - 3s 2ms/step - loss: 2901.2825 - val_loss: 2857.3206\n",
            "Epoch 2/50\n",
            "1349/1349 [==============================] - 4s 3ms/step - loss: 2762.7788 - val_loss: 2719.0640\n",
            "Epoch 3/50\n",
            "1349/1349 [==============================] - 4s 3ms/step - loss: 2624.5432 - val_loss: 2581.0183\n",
            "Epoch 4/50\n",
            "1349/1349 [==============================] - 5s 3ms/step - loss: 2487.1108 - val_loss: 2444.0068\n",
            "Epoch 5/50\n",
            "1349/1349 [==============================] - 4s 3ms/step - loss: 2350.4692 - val_loss: 2307.2810\n",
            "Epoch 6/50\n",
            "1349/1349 [==============================] - 2s 1ms/step - loss: 2214.7461 - val_loss: 2171.8533\n",
            "Epoch 7/50\n",
            "1349/1349 [==============================] - 2s 2ms/step - loss: 2080.1687 - val_loss: 2037.1389\n",
            "Epoch 8/50\n",
            "1349/1349 [==============================] - 2s 1ms/step - loss: 1947.0778 - val_loss: 1904.1240\n",
            "Epoch 9/50\n",
            "1349/1349 [==============================] - 2s 1ms/step - loss: 1815.5720 - val_loss: 1771.8110\n",
            "Epoch 10/50\n",
            "1349/1349 [==============================] - 2s 2ms/step - loss: 1686.8967 - val_loss: 1643.1371\n",
            "Epoch 11/50\n",
            "1349/1349 [==============================] - 2s 1ms/step - loss: 1562.3942 - val_loss: 1519.0354\n",
            "Epoch 12/50\n",
            "1349/1349 [==============================] - 2s 2ms/step - loss: 1443.4788 - val_loss: 1401.5994\n",
            "Epoch 13/50\n",
            "1349/1349 [==============================] - 2s 2ms/step - loss: 1331.3005 - val_loss: 1291.4984\n",
            "Epoch 14/50\n",
            "1349/1349 [==============================] - 2s 1ms/step - loss: 1227.9631 - val_loss: 1191.6135\n",
            "Epoch 15/50\n",
            "1349/1349 [==============================] - 2s 1ms/step - loss: 1135.8853 - val_loss: 1103.7142\n",
            "Epoch 16/50\n",
            "1349/1349 [==============================] - 2s 2ms/step - loss: 1056.6398 - val_loss: 1029.2001\n",
            "Epoch 17/50\n",
            "1349/1349 [==============================] - 2s 1ms/step - loss: 991.3616 - val_loss: 968.5132\n",
            "Epoch 18/50\n",
            "1349/1349 [==============================] - 2s 1ms/step - loss: 940.5536 - val_loss: 921.7789\n",
            "Epoch 19/50\n",
            "1349/1349 [==============================] - 2s 2ms/step - loss: 903.2988 - val_loss: 888.5569\n",
            "Epoch 20/50\n",
            "1349/1349 [==============================] - 2s 1ms/step - loss: 878.3488 - val_loss: 867.1281\n",
            "Epoch 21/50\n",
            "1349/1349 [==============================] - 2s 2ms/step - loss: 862.8690 - val_loss: 854.0994\n",
            "Epoch 22/50\n",
            "1349/1349 [==============================] - 2s 1ms/step - loss: 854.5323 - val_loss: 847.6547\n",
            "Epoch 23/50\n",
            "1349/1349 [==============================] - 2s 1ms/step - loss: 850.6659 - val_loss: 844.6034\n",
            "Epoch 24/50\n",
            "1349/1349 [==============================] - 2s 1ms/step - loss: 849.0734 - val_loss: 843.3002\n",
            "Epoch 25/50\n",
            "1349/1349 [==============================] - 2s 1ms/step - loss: 848.4270 - val_loss: 842.6423\n",
            "Epoch 26/50\n",
            "1349/1349 [==============================] - 2s 1ms/step - loss: 848.1688 - val_loss: 842.3028\n",
            "Epoch 27/50\n",
            "1349/1349 [==============================] - 2s 1ms/step - loss: 848.0781 - val_loss: 842.1436\n",
            "Epoch 28/50\n",
            "1349/1349 [==============================] - 2s 1ms/step - loss: 848.0383 - val_loss: 842.0713\n",
            "Epoch 29/50\n",
            "1349/1349 [==============================] - 2s 1ms/step - loss: 848.0229 - val_loss: 841.9989\n",
            "Epoch 30/50\n",
            "1349/1349 [==============================] - 2s 1ms/step - loss: 848.0134 - val_loss: 841.9850\n",
            "Epoch 31/50\n",
            "1349/1349 [==============================] - 2s 1ms/step - loss: 848.0097 - val_loss: 841.9591\n",
            "Epoch 32/50\n",
            "1349/1349 [==============================] - 2s 2ms/step - loss: 848.0016 - val_loss: 841.9313\n",
            "Epoch 33/50\n",
            "1349/1349 [==============================] - 2s 1ms/step - loss: 848.0001 - val_loss: 841.9174\n",
            "Epoch 34/50\n",
            "1349/1349 [==============================] - 2s 2ms/step - loss: 847.9937 - val_loss: 841.9144\n",
            "Epoch 35/50\n",
            "1349/1349 [==============================] - 2s 1ms/step - loss: 847.9903 - val_loss: 841.9008\n",
            "Epoch 36/50\n",
            "1349/1349 [==============================] - 2s 1ms/step - loss: 847.9882 - val_loss: 841.9016\n",
            "Epoch 37/50\n",
            "1349/1349 [==============================] - 2s 2ms/step - loss: 847.9843 - val_loss: 841.9016\n",
            "Epoch 38/50\n",
            "1349/1349 [==============================] - 2s 1ms/step - loss: 847.9807 - val_loss: 841.8856\n",
            "Epoch 39/50\n",
            "1349/1349 [==============================] - 3s 2ms/step - loss: 847.9807 - val_loss: 841.8815\n",
            "Epoch 40/50\n",
            "1349/1349 [==============================] - 2s 1ms/step - loss: 847.9748 - val_loss: 841.8774\n",
            "Epoch 41/50\n",
            "1349/1349 [==============================] - 2s 2ms/step - loss: 847.9702 - val_loss: 841.8773\n",
            "Epoch 42/50\n",
            "1349/1349 [==============================] - 2s 1ms/step - loss: 847.9646 - val_loss: 841.8681\n",
            "Epoch 43/50\n",
            "1349/1349 [==============================] - 2s 1ms/step - loss: 847.9619 - val_loss: 841.8610\n",
            "Epoch 44/50\n",
            "1349/1349 [==============================] - 2s 2ms/step - loss: 847.9573 - val_loss: 841.8498\n",
            "Epoch 45/50\n",
            "1349/1349 [==============================] - 3s 2ms/step - loss: 847.9570 - val_loss: 841.8458\n",
            "Epoch 46/50\n",
            "1349/1349 [==============================] - 2s 2ms/step - loss: 847.9507 - val_loss: 841.8335\n",
            "Epoch 47/50\n",
            "1349/1349 [==============================] - 2s 2ms/step - loss: 847.9450 - val_loss: 841.8151\n",
            "Epoch 48/50\n",
            "1349/1349 [==============================] - 2s 1ms/step - loss: 847.9459 - val_loss: 841.8220\n",
            "Epoch 49/50\n",
            "1349/1349 [==============================] - 2s 1ms/step - loss: 847.9396 - val_loss: 841.8262\n",
            "Epoch 50/50\n",
            "1349/1349 [==============================] - 2s 1ms/step - loss: 847.9384 - val_loss: 841.8306\n"
          ]
        }
      ]
    },
    {
      "cell_type": "code",
      "source": [
        "y_predict_reg = reg_model.predict(X5)"
      ],
      "metadata": {
        "id": "09u10XYsK1aZ"
      },
      "execution_count": 14,
      "outputs": []
    },
    {
      "cell_type": "markdown",
      "source": [
        "Вычислим среднюю квадратичную ошибку MSE:"
      ],
      "metadata": {
        "id": "ChPU9G_IL-Yd"
      }
    },
    {
      "cell_type": "code",
      "source": [
        "y_predict_reg_ = y_predict_reg.reshape(-1)"
      ],
      "metadata": {
        "id": "K3Fxyx8mINlb"
      },
      "execution_count": 15,
      "outputs": []
    },
    {
      "cell_type": "code",
      "source": [
        "mse = np.sum((y_predict_reg_ - y)**2) / len(y)\n",
        "print(\"MSE = \", mse)"
      ],
      "metadata": {
        "colab": {
          "base_uri": "https://localhost:8080/"
        },
        "id": "0t_N4al5Kt_s",
        "outputId": "c4ac46df-7f91-426f-9e53-ac5d7368d2c7"
      },
      "execution_count": 16,
      "outputs": [
        {
          "output_type": "stream",
          "name": "stdout",
          "text": [
            "MSE =  2653160.8360157236\n"
          ]
        }
      ]
    },
    {
      "cell_type": "markdown",
      "source": [
        "Вычислим коэффициент детерминации R<sup>2</sup>:"
      ],
      "metadata": {
        "id": "OCB0islxLc4X"
      }
    },
    {
      "cell_type": "code",
      "source": [
        "R = 1 - mse/np.var(y)\n",
        "print(\"R^2  = \", R)"
      ],
      "metadata": {
        "colab": {
          "base_uri": "https://localhost:8080/"
        },
        "id": "iSP0HQJVLIVR",
        "outputId": "159b489a-79e7-4fbd-9277-c86ff1958995"
      },
      "execution_count": 17,
      "outputs": [
        {
          "output_type": "stream",
          "name": "stdout",
          "text": [
            "R^2  =  0.8332363902766227\n"
          ]
        }
      ]
    },
    {
      "cell_type": "markdown",
      "source": [
        "### Задание 3\n",
        "Постройте кривые обучения с зависимостью от количества эпох."
      ],
      "metadata": {
        "id": "NScz8Se6IlDa"
      }
    },
    {
      "cell_type": "markdown",
      "source": [
        "Визуализируем историю обучения при помощи следующей функции:"
      ],
      "metadata": {
        "id": "kzbjzgjyHgW7"
      }
    },
    {
      "cell_type": "code",
      "source": [
        "def plot_loss(history):\n",
        "  plt.plot(history.history['loss'])\n",
        "  plt.plot(history.history['val_loss'])\n",
        "  plt.ylim([0, max(history.history['loss'])])\n",
        "  plt.title('Функция потерь при обучении модели')\n",
        "  plt.xlabel('Эпохи обучения')\n",
        "  plt.ylabel('Функция потерь')\n",
        "  plt.legend(['Обучающая выборка', 'Тестовая выборка'], loc='upper right')\n",
        "  plt.grid(True)"
      ],
      "metadata": {
        "id": "nkUdSkmKaswU"
      },
      "execution_count": 18,
      "outputs": []
    },
    {
      "cell_type": "code",
      "source": [
        "plot_loss(history)"
      ],
      "metadata": {
        "colab": {
          "base_uri": "https://localhost:8080/",
          "height": 295
        },
        "id": "88UhBIocaysu",
        "outputId": "3ea13b53-379c-4da9-99d7-86c637ab88b7"
      },
      "execution_count": 19,
      "outputs": [
        {
          "output_type": "display_data",
          "data": {
            "text/plain": [
              "<Figure size 432x288 with 1 Axes>"
            ],
            "image/png": "[encoded data removed]"
          },
          "metadata": {
            "needs_background": "light"
          }
        }
      ]
    },
    {
      "cell_type": "markdown",
      "source": [
        "### Задание 4\n",
        "Визуализируйте точки набора данных на плоскости в виде диаграммы рассеяния (ось X – независимый признак, ось Y – зависимый признак), а также линию регрессии (другим цветом), подписывая оси и рисунок.  "
      ],
      "metadata": {
        "id": "n6uOO3qcI3Gz"
      }
    },
    {
      "cell_type": "markdown",
      "source": [
        "Выполним прогноз:"
      ],
      "metadata": {
        "id": "aXU_XeFIH9d-"
      }
    },
    {
      "cell_type": "code",
      "source": [
        "plt.scatter(x, y, label='набор данных', linewidths=0.5)\n",
        "plt.plot(np.sort(x), y_predict_reg[np.argsort(x)], color='r', label='линия регрессии')\n",
        "plt.xlabel('Независимый признак features/x')\n",
        "plt.ylabel('Зависимый признак price')\n",
        "plt.legend()\n",
        "plt.grid();"
      ],
      "metadata": {
        "colab": {
          "base_uri": "https://localhost:8080/",
          "height": 279
        },
        "id": "RnbLKu8IMyz3",
        "outputId": "c90e3bb8-9f6e-4871-b02a-ef7d1b6fecc9"
      },
      "execution_count": 20,
      "outputs": [
        {
          "output_type": "display_data",
          "data": {
            "text/plain": [
              "<Figure size 432x288 with 1 Axes>"
            ],
            "image/png": "[encoded data removed]"
          },
          "metadata": {
            "needs_background": "light"
          }
        }
      ]
    },
    {
      "cell_type": "markdown",
      "source": [
        "### Задание 5\n",
        "Определите в исходном наборе данных признак (отличный от независимого и зависимого признаков), принимающий непрерывные значения и имеющий свойства, указанные в индивидуальном задании.  \n",
        "\n",
        "Признак: имеющий минимальную ковариацию с независимой переменной."
      ],
      "metadata": {
        "id": "F_a8Ybd_PYSe"
      }
    },
    {
      "cell_type": "markdown",
      "source": [
        "Вычислим матрицу ковариаций:"
      ],
      "metadata": {
        "id": "GVjkWz5OSZ1C"
      }
    },
    {
      "cell_type": "code",
      "source": [
        "c = df.cov()\n",
        "c"
      ],
      "metadata": {
        "colab": {
          "base_uri": "https://localhost:8080/",
          "height": 427
        },
        "id": "LX9y3QLyPY1m",
        "outputId": "b409c9d2-e6f2-4fdc-82d1-52c324287ac0"
      },
      "execution_count": 21,
      "outputs": [
        {
          "output_type": "execute_result",
          "data": {
            "text/plain": [
              "                  features/carat  features/clarity  features/color  \\\n",
              "features/carat          0.224687         -0.275484        0.234998   \n",
              "features/clarity       -0.275484          2.713057        0.071818   \n",
              "features/color          0.234998          0.071818        2.893757   \n",
              "features/cut           -0.071435          0.347929       -0.038974   \n",
              "features/depth          0.019167         -0.159009        0.115221   \n",
              "features/table          0.192365         -0.590085        0.100597   \n",
              "features/x              0.518484         -0.687339        0.515770   \n",
              "features/y              0.515248         -0.674277        0.512116   \n",
              "features/z              0.318917         -0.426538        0.321998   \n",
              "price                1742.765358       -964.645300     1170.737650   \n",
              "\n",
              "                  features/cut  features/depth  features/table   features/x  \\\n",
              "features/carat       -0.071435        0.019167        0.192365     0.518484   \n",
              "features/clarity      0.347929       -0.159009       -0.590085    -0.687339   \n",
              "features/color       -0.038974        0.115221        0.100597     0.515770   \n",
              "features/cut          1.246795       -0.348815       -1.081358    -0.157278   \n",
              "features/depth       -0.348815        2.052404       -0.946840    -0.040641   \n",
              "features/table       -1.081358       -0.946840        4.992948     0.489643   \n",
              "features/x           -0.157278       -0.040641        0.489643     1.258347   \n",
              "features/y           -0.154901       -0.048009        0.468972     1.248789   \n",
              "features/z           -0.117664        0.095968        0.237996     0.768487   \n",
              "price              -238.279928      -60.853732     1133.318065  3958.021484   \n",
              "\n",
              "                   features/y   features/z         price  \n",
              "features/carat       0.515248     0.318917  1.742765e+03  \n",
              "features/clarity    -0.674277    -0.426538 -9.646453e+02  \n",
              "features/color       0.512116     0.321998  1.170738e+03  \n",
              "features/cut        -0.154901    -0.117664 -2.382799e+02  \n",
              "features/depth      -0.048009     0.095968 -6.085373e+01  \n",
              "features/table       0.468972     0.237996  1.133318e+03  \n",
              "features/x           1.248789     0.768487  3.958021e+03  \n",
              "features/y           1.304472     0.767320  3.943271e+03  \n",
              "features/z           0.767320     0.498011  2.424713e+03  \n",
              "price             3943.270809  2424.712609  1.591563e+07  "
            ],
            "text/html": [
              "\n",
              "  <div id=\"df-8fa89adc-ae92-4cfc-92a3-92ab6a70e092\">\n",
              "    <div class=\"colab-df-container\">\n",
              "      <div>\n",
              "<style scoped>\n",
              "    .dataframe tbody tr th:only-of-type {\n",
              "        vertical-align: middle;\n",
              "    }\n",
              "\n",
              "    .dataframe tbody tr th {\n",
              "        vertical-align: top;\n",
              "    }\n",
              "\n",
              "    .dataframe thead th {\n",
              "        text-align: right;\n",
              "    }\n",
              "</style>\n",
              "<table border=\"1\" class=\"dataframe\">\n",
              "  <thead>\n",
              "    <tr style=\"text-align: right;\">\n",
              "      <th></th>\n",
              "      <th>features/carat</th>\n",
              "      <th>features/clarity</th>\n",
              "      <th>features/color</th>\n",
              "      <th>features/cut</th>\n",
              "      <th>features/depth</th>\n",
              "      <th>features/table</th>\n",
              "      <th>features/x</th>\n",
              "      <th>features/y</th>\n",
              "      <th>features/z</th>\n",
              "      <th>price</th>\n",
              "    </tr>\n",
              "  </thead>\n",
              "  <tbody>\n",
              "    <tr>\n",
              "      <th>features/carat</th>\n",
              "      <td>0.224687</td>\n",
              "      <td>-0.275484</td>\n",
              "      <td>0.234998</td>\n",
              "      <td>-0.071435</td>\n",
              "      <td>0.019167</td>\n",
              "      <td>0.192365</td>\n",
              "      <td>0.518484</td>\n",
              "      <td>0.515248</td>\n",
              "      <td>0.318917</td>\n",
              "      <td>1.742765e+03</td>\n",
              "    </tr>\n",
              "    <tr>\n",
              "      <th>features/clarity</th>\n",
              "      <td>-0.275484</td>\n",
              "      <td>2.713057</td>\n",
              "      <td>0.071818</td>\n",
              "      <td>0.347929</td>\n",
              "      <td>-0.159009</td>\n",
              "      <td>-0.590085</td>\n",
              "      <td>-0.687339</td>\n",
              "      <td>-0.674277</td>\n",
              "      <td>-0.426538</td>\n",
              "      <td>-9.646453e+02</td>\n",
              "    </tr>\n",
              "    <tr>\n",
              "      <th>features/color</th>\n",
              "      <td>0.234998</td>\n",
              "      <td>0.071818</td>\n",
              "      <td>2.893757</td>\n",
              "      <td>-0.038974</td>\n",
              "      <td>0.115221</td>\n",
              "      <td>0.100597</td>\n",
              "      <td>0.515770</td>\n",
              "      <td>0.512116</td>\n",
              "      <td>0.321998</td>\n",
              "      <td>1.170738e+03</td>\n",
              "    </tr>\n",
              "    <tr>\n",
              "      <th>features/cut</th>\n",
              "      <td>-0.071435</td>\n",
              "      <td>0.347929</td>\n",
              "      <td>-0.038974</td>\n",
              "      <td>1.246795</td>\n",
              "      <td>-0.348815</td>\n",
              "      <td>-1.081358</td>\n",
              "      <td>-0.157278</td>\n",
              "      <td>-0.154901</td>\n",
              "      <td>-0.117664</td>\n",
              "      <td>-2.382799e+02</td>\n",
              "    </tr>\n",
              "    <tr>\n",
              "      <th>features/depth</th>\n",
              "      <td>0.019167</td>\n",
              "      <td>-0.159009</td>\n",
              "      <td>0.115221</td>\n",
              "      <td>-0.348815</td>\n",
              "      <td>2.052404</td>\n",
              "      <td>-0.946840</td>\n",
              "      <td>-0.040641</td>\n",
              "      <td>-0.048009</td>\n",
              "      <td>0.095968</td>\n",
              "      <td>-6.085373e+01</td>\n",
              "    </tr>\n",
              "    <tr>\n",
              "      <th>features/table</th>\n",
              "      <td>0.192365</td>\n",
              "      <td>-0.590085</td>\n",
              "      <td>0.100597</td>\n",
              "      <td>-1.081358</td>\n",
              "      <td>-0.946840</td>\n",
              "      <td>4.992948</td>\n",
              "      <td>0.489643</td>\n",
              "      <td>0.468972</td>\n",
              "      <td>0.237996</td>\n",
              "      <td>1.133318e+03</td>\n",
              "    </tr>\n",
              "    <tr>\n",
              "      <th>features/x</th>\n",
              "      <td>0.518484</td>\n",
              "      <td>-0.687339</td>\n",
              "      <td>0.515770</td>\n",
              "      <td>-0.157278</td>\n",
              "      <td>-0.040641</td>\n",
              "      <td>0.489643</td>\n",
              "      <td>1.258347</td>\n",
              "      <td>1.248789</td>\n",
              "      <td>0.768487</td>\n",
              "      <td>3.958021e+03</td>\n",
              "    </tr>\n",
              "    <tr>\n",
              "      <th>features/y</th>\n",
              "      <td>0.515248</td>\n",
              "      <td>-0.674277</td>\n",
              "      <td>0.512116</td>\n",
              "      <td>-0.154901</td>\n",
              "      <td>-0.048009</td>\n",
              "      <td>0.468972</td>\n",
              "      <td>1.248789</td>\n",
              "      <td>1.304472</td>\n",
              "      <td>0.767320</td>\n",
              "      <td>3.943271e+03</td>\n",
              "    </tr>\n",
              "    <tr>\n",
              "      <th>features/z</th>\n",
              "      <td>0.318917</td>\n",
              "      <td>-0.426538</td>\n",
              "      <td>0.321998</td>\n",
              "      <td>-0.117664</td>\n",
              "      <td>0.095968</td>\n",
              "      <td>0.237996</td>\n",
              "      <td>0.768487</td>\n",
              "      <td>0.767320</td>\n",
              "      <td>0.498011</td>\n",
              "      <td>2.424713e+03</td>\n",
              "    </tr>\n",
              "    <tr>\n",
              "      <th>price</th>\n",
              "      <td>1742.765358</td>\n",
              "      <td>-964.645300</td>\n",
              "      <td>1170.737650</td>\n",
              "      <td>-238.279928</td>\n",
              "      <td>-60.853732</td>\n",
              "      <td>1133.318065</td>\n",
              "      <td>3958.021484</td>\n",
              "      <td>3943.270809</td>\n",
              "      <td>2424.712609</td>\n",
              "      <td>1.591563e+07</td>\n",
              "    </tr>\n",
              "  </tbody>\n",
              "</table>\n",
              "</div>\n",
              "      <button class=\"colab-df-convert\" onclick=\"convertToInteractive('df-8fa89adc-ae92-4cfc-92a3-92ab6a70e092')\"\n",
              "              title=\"Convert this dataframe to an interactive table.\"\n",
              "              style=\"display:none;\">\n",
              "        \n",
              "  <svg xmlns=\"http://www.w3.org/2000/svg\" height=\"24px\"viewBox=\"0 0 24 24\"\n",
              "       width=\"24px\">\n",
              "    <path d=\"M0 0h24v24H0V0z\" fill=\"none\"/>\n",
              "    <path d=\"M18.56 5.44l.94 2.06.94-2.06 2.06-.94-2.06-.94-.94-2.06-.94 2.06-2.06.94zm-11 1L8.5 8.5l.94-2.06 2.06-.94-2.06-.94L8.5 2.5l-.94 2.06-2.06.94zm10 10l.94 2.06.94-2.06 2.06-.94-2.06-.94-.94-2.06-.94 2.06-2.06.94z\"/><path d=\"M17.41 7.96l-1.37-1.37c-.4-.4-.92-.59-1.43-.59-.52 0-1.04.2-1.43.59L10.3 9.45l-7.72 7.72c-.78.78-.78 2.05 0 2.83L4 21.41c.39.39.9.59 1.41.59.51 0 1.02-.2 1.41-.59l7.78-7.78 2.81-2.81c.8-.78.8-2.07 0-2.86zM5.41 20L4 18.59l7.72-7.72 1.47 1.35L5.41 20z\"/>\n",
              "  </svg>\n",
              "      </button>\n",
              "      \n",
              "  <style>\n",
              "    .colab-df-container {\n",
              "      display:flex;\n",
              "      flex-wrap:wrap;\n",
              "      gap: 12px;\n",
              "    }\n",
              "\n",
              "    .colab-df-convert {\n",
              "      background-color: #E8F0FE;\n",
              "      border: none;\n",
              "      border-radius: 50%;\n",
              "      cursor: pointer;\n",
              "      display: none;\n",
              "      fill: #1967D2;\n",
              "      height: 32px;\n",
              "      padding: 0 0 0 0;\n",
              "      width: 32px;\n",
              "    }\n",
              "\n",
              "    .colab-df-convert:hover {\n",
              "      background-color: #E2EBFA;\n",
              "      box-shadow: 0px 1px 2px rgba(60, 64, 67, 0.3), 0px 1px 3px 1px rgba(60, 64, 67, 0.15);\n",
              "      fill: #174EA6;\n",
              "    }\n",
              "\n",
              "    [theme=dark] .colab-df-convert {\n",
              "      background-color: #3B4455;\n",
              "      fill: #D2E3FC;\n",
              "    }\n",
              "\n",
              "    [theme=dark] .colab-df-convert:hover {\n",
              "      background-color: #434B5C;\n",
              "      box-shadow: 0px 1px 3px 1px rgba(0, 0, 0, 0.15);\n",
              "      filter: drop-shadow(0px 1px 2px rgba(0, 0, 0, 0.3));\n",
              "      fill: #FFFFFF;\n",
              "    }\n",
              "  </style>\n",
              "\n",
              "      <script>\n",
              "        const buttonEl =\n",
              "          document.querySelector('#df-8fa89adc-ae92-4cfc-92a3-92ab6a70e092 button.colab-df-convert');\n",
              "        buttonEl.style.display =\n",
              "          google.colab.kernel.accessAllowed ? 'block' : 'none';\n",
              "\n",
              "        async function convertToInteractive(key) {\n",
              "          const element = document.querySelector('#df-8fa89adc-ae92-4cfc-92a3-92ab6a70e092');\n",
              "          const dataTable =\n",
              "            await google.colab.kernel.invokeFunction('convertToInteractive',\n",
              "                                                     [key], {});\n",
              "          if (!dataTable) return;\n",
              "\n",
              "          const docLinkHtml = 'Like what you see? Visit the ' +\n",
              "            '<a target=\"_blank\" href=https://colab.research.google.com/notebooks/data_table.ipynb>data table notebook</a>'\n",
              "            + ' to learn more about interactive tables.';\n",
              "          element.innerHTML = '';\n",
              "          dataTable['output_type'] = 'display_data';\n",
              "          await google.colab.output.renderOutput(dataTable, element);\n",
              "          const docLink = document.createElement('div');\n",
              "          docLink.innerHTML = docLinkHtml;\n",
              "          element.appendChild(docLink);\n",
              "        }\n",
              "      </script>\n",
              "    </div>\n",
              "  </div>\n",
              "  "
            ]
          },
          "metadata": {},
          "execution_count": 21
        }
      ]
    },
    {
      "cell_type": "markdown",
      "source": [
        "Найдем в ней минимальное значение и определим положение этого значения в матрице:"
      ],
      "metadata": {
        "id": "RPDUShqvSkHY"
      }
    },
    {
      "cell_type": "code",
      "source": [
        "array = c.to_numpy()\n",
        "min = 10000000000\n",
        "length = len(array)\n",
        "for i in range(length-1):\n",
        "  if (array[i][6] < min):\n",
        "      min = array[i][6]   \n",
        "np.where(array == min)"
      ],
      "metadata": {
        "colab": {
          "base_uri": "https://localhost:8080/"
        },
        "id": "W1BWkHUVQwur",
        "outputId": "ca5d16c4-cfae-482f-9249-ae060e709cfd"
      },
      "execution_count": 22,
      "outputs": [
        {
          "output_type": "execute_result",
          "data": {
            "text/plain": [
              "(array([1, 6]), array([6, 1]))"
            ]
          },
          "metadata": {},
          "execution_count": 22
        }
      ]
    },
    {
      "cell_type": "markdown",
      "source": [
        "Это признак features/clarity, который оказался дискретным, так что найдем подходящий вручную:\n",
        "\n",
        "features/depth - это признак с минимальным значением ковариации с независимой переменной среди признаков с непрерывными значениями."
      ],
      "metadata": {
        "id": "Uij2vU6aS3FE"
      }
    },
    {
      "cell_type": "markdown",
      "source": [
        "### Задание 6\n",
        "Визуализируйте этот признак в соответствии с индивидуальным заданием.\n",
        "\n",
        "Визуализация доп. признака – диаграмма размаха"
      ],
      "metadata": {
        "id": "aI_aEs6fS2Dt"
      }
    },
    {
      "cell_type": "code",
      "source": [
        "plt.boxplot(df['features/depth'])\n",
        "plt.title(\"Диаграмма размаха признака, имеющего минимальную ковариацию с независимой переменной\")\n",
        "plt.xticks([1], ['features/depth']);"
      ],
      "metadata": {
        "colab": {
          "base_uri": "https://localhost:8080/",
          "height": 281
        },
        "id": "ca2dKhYMRAkO",
        "outputId": "b755f1f4-c3b9-4b0d-9013-5123cada783c"
      },
      "execution_count": 23,
      "outputs": [
        {
          "output_type": "display_data",
          "data": {
            "text/plain": [
              "<Figure size 432x288 with 1 Axes>"
            ],
            "image/png": "[encoded data removed]"
          },
          "metadata": {
            "needs_background": "light"
          }
        }
      ]
    },
    {
      "cell_type": "markdown",
      "source": [
        "### Задание 7\n",
        "Сформируйте набор входных из двух признаков набора данных (независимый признак и определенный признак), создайте и адаптируйте нормализующий слой Tensorflow для двух признаков. "
      ],
      "metadata": {
        "id": "oWR1-P5PIOGD"
      }
    },
    {
      "cell_type": "markdown",
      "source": [
        "Сформируем набор входных данных из двух признаков:"
      ],
      "metadata": {
        "id": "uFkwMl1zYQMU"
      }
    },
    {
      "cell_type": "code",
      "source": [
        "X2 = np.array(df[['features/x','features/depth']])  # набор из независимого и определенного признака\n",
        "y2 = np.array(df[['price']]).reshape(-1)  # зависимый признак\n",
        "X2.shape, y2.shape"
      ],
      "metadata": {
        "colab": {
          "base_uri": "https://localhost:8080/"
        },
        "id": "U2rhd6nBWWQo",
        "outputId": "16ca84d2-bcc4-45bf-ad50-982281b3abea"
      },
      "execution_count": 64,
      "outputs": [
        {
          "output_type": "execute_result",
          "data": {
            "text/plain": [
              "((53940, 2), (53940,))"
            ]
          },
          "metadata": {},
          "execution_count": 64
        }
      ]
    },
    {
      "cell_type": "markdown",
      "source": [
        "Адаптируем нормализующий слой Tensorflow для двух признаков:"
      ],
      "metadata": {
        "id": "NngpkC6nYJpY"
      }
    },
    {
      "cell_type": "code",
      "source": [
        "feature_normalizer = tf.keras.layers.Normalization(axis=None,input_shape=(2,)) \n",
        "feature_normalizer.adapt(X2)"
      ],
      "metadata": {
        "id": "RuWNCsJyWFBg"
      },
      "execution_count": 65,
      "outputs": []
    },
    {
      "cell_type": "markdown",
      "source": [
        "### Задание 8\n",
        "Используя созданный нормализующий слой, постройте нейронную сеть (нелинейный регресор) с количеством скрытых слоев, количеством нейронов и функцией активации, указанными в индивидуальном задании, и одним нейроном в выходном слое и обучите ее на наборе данных из двух признаков и отклика. \n",
        "\n",
        "Кол-во скрытых слоев – 5, кол-во нейронов в скрытом слое – 32, функция активации – гиперболический тангенс."
      ],
      "metadata": {
        "id": "-8_GjNnUPIK0"
      }
    },
    {
      "cell_type": "code",
      "source": [
        "large_model = tf.keras.Sequential([\n",
        "    feature_normalizer,\n",
        "    tf.keras.layers.Dense(units=32, activation='tanh'),\n",
        "    tf.keras.layers.Dense(units=32, activation='tanh'),\n",
        "    tf.keras.layers.Dense(units=32, activation='tanh'),\n",
        "    tf.keras.layers.Dense(units=32, activation='tanh'),\n",
        "    tf.keras.layers.Dense(units=32, activation='tanh'),\n",
        "    tf.keras.layers.Dense(units=1)\n",
        "])\n",
        "\n",
        "large_model.summary()"
      ],
      "metadata": {
        "colab": {
          "base_uri": "https://localhost:8080/"
        },
        "id": "bRheEfAVZ7bL",
        "outputId": "e7b30eda-81fc-4f6f-8ff5-0734372d7243"
      },
      "execution_count": 66,
      "outputs": [
        {
          "output_type": "stream",
          "name": "stdout",
          "text": [
            "Model: \"sequential_3\"\n",
            "_________________________________________________________________\n",
            " Layer (type)                Output Shape              Param #   \n",
            "=================================================================\n",
            " normalization_2 (Normalizat  (None, 2)                3         \n",
            " ion)                                                            \n",
            "                                                                 \n",
            " dense_13 (Dense)            (None, 32)                96        \n",
            "                                                                 \n",
            " dense_14 (Dense)            (None, 32)                1056      \n",
            "                                                                 \n",
            " dense_15 (Dense)            (None, 32)                1056      \n",
            "                                                                 \n",
            " dense_16 (Dense)            (None, 32)                1056      \n",
            "                                                                 \n",
            " dense_17 (Dense)            (None, 32)                1056      \n",
            "                                                                 \n",
            " dense_18 (Dense)            (None, 1)                 33        \n",
            "                                                                 \n",
            "=================================================================\n",
            "Total params: 4,356\n",
            "Trainable params: 4,353\n",
            "Non-trainable params: 3\n",
            "_________________________________________________________________\n"
          ]
        }
      ]
    },
    {
      "cell_type": "markdown",
      "source": [
        "Скомпилируем модель, используя в качестве функции потерь  среднеквадратичную ошибку MSE с оптимизатором по умолчанию (RmsProp):"
      ],
      "metadata": {
        "id": "_UPLcZ83b04Y"
      }
    },
    {
      "cell_type": "code",
      "source": [
        "large_model.compile(\n",
        "    optimizer=tf.optimizers.Adam(learning_rate=0.01),\n",
        "    loss='mae')"
      ],
      "metadata": {
        "id": "QO3gX4cIbxal"
      },
      "execution_count": 67,
      "outputs": []
    },
    {
      "cell_type": "markdown",
      "source": [
        "Обучим модель"
      ],
      "metadata": {
        "id": "J1iNfyfjb5p8"
      }
    },
    {
      "cell_type": "code",
      "source": [
        "history2 = large_model.fit(\n",
        "    X2, y2, \n",
        "    epochs=50,\n",
        "    # уровень выводимой информации\n",
        "    verbose=1,\n",
        "    # проверка (валидация) на 20% обучающих данных\n",
        "    validation_split = 0.2)"
      ],
      "metadata": {
        "colab": {
          "base_uri": "https://localhost:8080/"
        },
        "id": "y5bCtYsvb8Rm",
        "outputId": "d43198be-4c77-4e20-8470-35699b34db46"
      },
      "execution_count": 87,
      "outputs": [
        {
          "output_type": "stream",
          "name": "stdout",
          "text": [
            "Epoch 1/50\n",
            "1349/1349 [==============================] - 3s 2ms/step - loss: 20091206.0000 - val_loss: 20486726.0000\n",
            "Epoch 2/50\n",
            "1349/1349 [==============================] - 2s 2ms/step - loss: 19920744.0000 - val_loss: 20315684.0000\n",
            "Epoch 3/50\n",
            "1349/1349 [==============================] - 3s 2ms/step - loss: 19752440.0000 - val_loss: 20148322.0000\n",
            "Epoch 4/50\n",
            "1349/1349 [==============================] - 2s 2ms/step - loss: 19589814.0000 - val_loss: 19984342.0000\n",
            "Epoch 5/50\n",
            "1349/1349 [==============================] - 3s 2ms/step - loss: 19429578.0000 - val_loss: 19824682.0000\n",
            "Epoch 6/50\n",
            "1349/1349 [==============================] - 5s 4ms/step - loss: 19273262.0000 - val_loss: 19668150.0000\n",
            "Epoch 7/50\n",
            "1349/1349 [==============================] - 3s 2ms/step - loss: 19121382.0000 - val_loss: 19516202.0000\n",
            "Epoch 8/50\n",
            "1349/1349 [==============================] - 3s 2ms/step - loss: 18973186.0000 - val_loss: 19368356.0000\n",
            "Epoch 9/50\n",
            "1349/1349 [==============================] - 3s 2ms/step - loss: 18829404.0000 - val_loss: 19224242.0000\n",
            "Epoch 10/50\n",
            "1349/1349 [==============================] - 3s 2ms/step - loss: 18688466.0000 - val_loss: 19084370.0000\n",
            "Epoch 11/50\n",
            "1349/1349 [==============================] - 3s 2ms/step - loss: 18552932.0000 - val_loss: 18948278.0000\n",
            "Epoch 12/50\n",
            "1349/1349 [==============================] - 3s 2ms/step - loss: 18420760.0000 - val_loss: 18816014.0000\n",
            "Epoch 13/50\n",
            "1349/1349 [==============================] - 3s 2ms/step - loss: 18292436.0000 - val_loss: 18687218.0000\n",
            "Epoch 14/50\n",
            "1349/1349 [==============================] - 3s 2ms/step - loss: 18168362.0000 - val_loss: 18562114.0000\n",
            "Epoch 15/50\n",
            "1349/1349 [==============================] - 3s 2ms/step - loss: 18047030.0000 - val_loss: 18440752.0000\n",
            "Epoch 16/50\n",
            "1349/1349 [==============================] - 3s 2ms/step - loss: 17929712.0000 - val_loss: 18324266.0000\n",
            "Epoch 17/50\n",
            "1349/1349 [==============================] - 3s 2ms/step - loss: 17816484.0000 - val_loss: 18211684.0000\n",
            "Epoch 18/50\n",
            "1349/1349 [==============================] - 3s 2ms/step - loss: 17708098.0000 - val_loss: 18102100.0000\n",
            "Epoch 19/50\n",
            "1349/1349 [==============================] - 3s 2ms/step - loss: 17601280.0000 - val_loss: 17996266.0000\n",
            "Epoch 20/50\n",
            "1349/1349 [==============================] - 3s 2ms/step - loss: 17499162.0000 - val_loss: 17895152.0000\n",
            "Epoch 21/50\n",
            "1349/1349 [==============================] - 3s 2ms/step - loss: 17401952.0000 - val_loss: 17797028.0000\n",
            "Epoch 22/50\n",
            "1349/1349 [==============================] - 3s 2ms/step - loss: 17308278.0000 - val_loss: 17702926.0000\n",
            "Epoch 23/50\n",
            "1349/1349 [==============================] - 3s 2ms/step - loss: 17217030.0000 - val_loss: 17611420.0000\n",
            "Epoch 24/50\n",
            "1349/1349 [==============================] - 3s 3ms/step - loss: 17129542.0000 - val_loss: 17524334.0000\n",
            "Epoch 25/50\n",
            "1349/1349 [==============================] - 3s 2ms/step - loss: 17045700.0000 - val_loss: 17440942.0000\n",
            "Epoch 26/50\n",
            "1349/1349 [==============================] - 3s 2ms/step - loss: 16966070.0000 - val_loss: 17361076.0000\n",
            "Epoch 27/50\n",
            "1349/1349 [==============================] - 3s 2ms/step - loss: 16889094.0000 - val_loss: 17283664.0000\n",
            "Epoch 28/50\n",
            "1349/1349 [==============================] - 3s 2ms/step - loss: 16816288.0000 - val_loss: 17211242.0000\n",
            "Epoch 29/50\n",
            "1349/1349 [==============================] - 3s 2ms/step - loss: 16747091.0000 - val_loss: 17141756.0000\n",
            "Epoch 30/50\n",
            "1349/1349 [==============================] - 5s 4ms/step - loss: 16681084.0000 - val_loss: 17075862.0000\n",
            "Epoch 31/50\n",
            "1349/1349 [==============================] - 3s 2ms/step - loss: 16618584.0000 - val_loss: 17013912.0000\n",
            "Epoch 32/50\n",
            "1349/1349 [==============================] - 3s 2ms/step - loss: 16560215.0000 - val_loss: 16954590.0000\n",
            "Epoch 33/50\n",
            "1349/1349 [==============================] - 3s 2ms/step - loss: 16503833.0000 - val_loss: 16898308.0000\n",
            "Epoch 34/50\n",
            "1349/1349 [==============================] - 3s 2ms/step - loss: 16450274.0000 - val_loss: 16846098.0000\n",
            "Epoch 35/50\n",
            "1349/1349 [==============================] - 3s 2ms/step - loss: 16401400.0000 - val_loss: 16797094.0000\n",
            "Epoch 36/50\n",
            "1349/1349 [==============================] - 3s 2ms/step - loss: 16355076.0000 - val_loss: 16750547.0000\n",
            "Epoch 37/50\n",
            "1349/1349 [==============================] - 3s 2ms/step - loss: 16311482.0000 - val_loss: 16706703.0000\n",
            "Epoch 38/50\n",
            "1349/1349 [==============================] - 3s 2ms/step - loss: 16271500.0000 - val_loss: 16666352.0000\n",
            "Epoch 39/50\n",
            "1349/1349 [==============================] - 3s 2ms/step - loss: 16233602.0000 - val_loss: 16628747.0000\n",
            "Epoch 40/50\n",
            "1349/1349 [==============================] - 3s 2ms/step - loss: 16198350.0000 - val_loss: 16593743.0000\n",
            "Epoch 41/50\n",
            "1349/1349 [==============================] - 3s 2ms/step - loss: 16166305.0000 - val_loss: 16561109.0000\n",
            "Epoch 42/50\n",
            "1349/1349 [==============================] - 3s 2ms/step - loss: 16136161.0000 - val_loss: 16531243.0000\n",
            "Epoch 43/50\n",
            "1349/1349 [==============================] - 2s 2ms/step - loss: 16108661.0000 - val_loss: 16503636.0000\n",
            "Epoch 44/50\n",
            "1349/1349 [==============================] - 3s 2ms/step - loss: 16083262.0000 - val_loss: 16478213.0000\n",
            "Epoch 45/50\n",
            "1349/1349 [==============================] - 3s 2ms/step - loss: 16060117.0000 - val_loss: 16454706.0000\n",
            "Epoch 46/50\n",
            "1349/1349 [==============================] - 2s 2ms/step - loss: 16038777.0000 - val_loss: 16433416.0000\n",
            "Epoch 47/50\n",
            "1349/1349 [==============================] - 3s 2ms/step - loss: 16019365.0000 - val_loss: 16413463.0000\n",
            "Epoch 48/50\n",
            "1349/1349 [==============================] - 2s 2ms/step - loss: 16001307.0000 - val_loss: 16395216.0000\n",
            "Epoch 49/50\n",
            "1349/1349 [==============================] - 2s 2ms/step - loss: 15985239.0000 - val_loss: 16379204.0000\n",
            "Epoch 50/50\n",
            "1349/1349 [==============================] - 2s 2ms/step - loss: 15970672.0000 - val_loss: 16364161.0000\n"
          ]
        }
      ]
    },
    {
      "cell_type": "markdown",
      "source": [
        "### Задание 9\n",
        "Визуализируйте набор данных в виде точечного графика и прогноз нейронной сети в виде поверхности в трехмерном пространстве."
      ],
      "metadata": {
        "id": "iP7ECFb-PJ9b"
      }
    },
    {
      "cell_type": "markdown",
      "source": [
        "Для построения 3d графиков импортируем необходимые модули:"
      ],
      "metadata": {
        "id": "0YRWPw4xgeuW"
      }
    },
    {
      "cell_type": "code",
      "source": [
        "from mpl_toolkits import mplot3d"
      ],
      "metadata": {
        "id": "kbPaKkWFft3v"
      },
      "execution_count": 69,
      "outputs": []
    },
    {
      "cell_type": "markdown",
      "source": [
        "Подготовим координаты точек набора данных:"
      ],
      "metadata": {
        "id": "FIAp01D7hD7v"
      }
    },
    {
      "cell_type": "code",
      "source": [
        "xs = X2[:,0] # features/x\n",
        "ys = X2[:,1] # features/depth\n",
        "zs = y2      # price"
      ],
      "metadata": {
        "id": "cr4SgPhoiqAl"
      },
      "execution_count": 70,
      "outputs": []
    },
    {
      "cell_type": "markdown",
      "source": [
        "Подготовим данные:"
      ],
      "metadata": {
        "id": "qiH42sFojJ8J"
      }
    },
    {
      "cell_type": "code",
      "source": [
        "n_plot = 51 # оптимальное количество точек для визуализации\n",
        "\n",
        "x_plot = np.linspace(np.min(xs), np.max(xs), n_plot) \n",
        "y_plot = np.linspace(np.min(ys), np.max(ys), n_plot)\n",
        "\n",
        "x_mesh, y_mesh = np.meshgrid(x_plot, y_plot)\n",
        "x_mesh.shape, y_mesh.shape"
      ],
      "metadata": {
        "colab": {
          "base_uri": "https://localhost:8080/"
        },
        "id": "-ukQ760Pi7AO",
        "outputId": "f4787979-3fe5-4c19-fc53-ea59ce27a95c"
      },
      "execution_count": 71,
      "outputs": [
        {
          "output_type": "execute_result",
          "data": {
            "text/plain": [
              "((51, 51), (51, 51))"
            ]
          },
          "metadata": {},
          "execution_count": 71
        }
      ]
    },
    {
      "cell_type": "code",
      "source": [
        "x_plot2 = np.reshape(x_mesh, [n_plot**2,1])\n",
        "y_plot2 = np.reshape(y_mesh, [n_plot**2,1])\n",
        "xy_2 = np.hstack([x_plot2, y_plot2])\n",
        "xy_2.shape"
      ],
      "metadata": {
        "colab": {
          "base_uri": "https://localhost:8080/"
        },
        "id": "WNdHwMRwj5CZ",
        "outputId": "f34fd5ca-c600-4d77-c7ce-3ee4206e2703"
      },
      "execution_count": 72,
      "outputs": [
        {
          "output_type": "execute_result",
          "data": {
            "text/plain": [
              "(2601, 2)"
            ]
          },
          "metadata": {},
          "execution_count": 72
        }
      ]
    },
    {
      "cell_type": "markdown",
      "source": [
        "Теперь выполним прогнозирование при помощи обученной ранее модели:\n",
        "видим, что прогнозирование не работает, как должно"
      ],
      "metadata": {
        "id": "YS-Vi91Lj85t"
      }
    },
    {
      "cell_type": "code",
      "source": [
        "z = large_model.predict(xy_2)\n",
        "z.shape"
      ],
      "metadata": {
        "colab": {
          "base_uri": "https://localhost:8080/"
        },
        "id": "kcXqB0CUj9n5",
        "outputId": "db19c61c-ca30-46c2-8707-79a627a4f369"
      },
      "execution_count": 91,
      "outputs": [
        {
          "output_type": "execute_result",
          "data": {
            "text/plain": [
              "(2601, 1)"
            ]
          },
          "metadata": {},
          "execution_count": 91
        }
      ]
    },
    {
      "cell_type": "markdown",
      "source": [
        "Вернемся к форме 51 на 51:"
      ],
      "metadata": {
        "id": "r6Zn5U51kX67"
      }
    },
    {
      "cell_type": "code",
      "source": [
        "z_mesh = z.reshape((n_plot, n_plot))\n",
        "z_mesh.shape"
      ],
      "metadata": {
        "colab": {
          "base_uri": "https://localhost:8080/"
        },
        "id": "EFIZGbhqkVDJ",
        "outputId": "d537bc21-e680-4020-db6a-435e8be82473"
      },
      "execution_count": 89,
      "outputs": [
        {
          "output_type": "execute_result",
          "data": {
            "text/plain": [
              "(51, 51)"
            ]
          },
          "metadata": {},
          "execution_count": 89
        }
      ]
    },
    {
      "cell_type": "markdown",
      "source": [
        "Визуализируем "
      ],
      "metadata": {
        "id": "4LubYBQT7RaI"
      }
    },
    {
      "cell_type": "code",
      "source": [
        "from matplotlib import cm\n",
        "\n",
        "fig = plt.figure(figsize=(12, 10))\n",
        "ax = fig.add_subplot(projection='3d')\n",
        "\n",
        "surf = ax.plot_surface(x_mesh, y_mesh, z_mesh, rstride=1, cstride=1, linewidth=0.05, cmap=cm.winter, antialiased=True, edgecolors='gray') \n",
        "ax.scatter( xs, ys, zs, s=100, c='r' )\n",
        "\n",
        "ax.set_xlabel('features/x') \n",
        "ax.set_ylabel('features/depth') \n",
        "ax.set_zlabel('price') \n",
        "ax.set_title('Визуалиация набора данных для трех признаков и прогноза нейронной сети', fontsize=14)\n",
        "\n",
        "ax.view_init(elev = 40, azim = -100)"
      ],
      "metadata": {
        "colab": {
          "base_uri": "https://localhost:8080/",
          "height": 575
        },
        "id": "H0ujXu00g89l",
        "outputId": "dbabef45-d36f-4bd6-9c86-f53c9ab6aa69"
      },
      "execution_count": 92,
      "outputs": [
        {
          "output_type": "display_data",
          "data": {
            "text/plain": [
              "<Figure size 864x720 with 1 Axes>"
            ],
            "image/png": "[encoded data removed]"
          },
          "metadata": {
            "needs_background": "light"
          }
        }
      ]
    },
    {
      "cell_type": "markdown",
      "source": [
        "### Задание 10\n",
        "Разбейте набор данных из двух признаков и отклика на обучающую и тестовую выборки и постройте кривые обучения для заданного показателя качества в зависимости от количества точек в обучающей выборке, подписывая оси и рисунок и создавая легенду. "
      ],
      "metadata": {
        "id": "21VpTO7yPLaR"
      }
    },
    {
      "cell_type": "markdown",
      "source": [
        "Используем функцию train_test_split для разделения набора данных:"
      ],
      "metadata": {
        "id": "S1GJekb5wOfJ"
      }
    },
    {
      "cell_type": "code",
      "source": [
        "def train_test_split(X, y, test_ratio=0.2, seed=None):\n",
        "    \"\"\"возвращает X_train, X_test, y_train, y_test\"\"\"\n",
        "    assert X.shape[0] == y.shape[0], \\\n",
        "        \"Размер X должен быть равен размеру y\"\n",
        "    assert 0.0 <= test_ratio <= 1.0, \\\n",
        "        \"Неверное значение test_ratio\"\n",
        "\n",
        "    if seed:\n",
        "        np.random.seed(seed)\n",
        "\n",
        "    shuffled_indexes = np.random.permutation(len(X))\n",
        "\n",
        "    test_size = int(len(X) * test_ratio)\n",
        "    test_indexes = shuffled_indexes[:test_size]\n",
        "    train_indexes = shuffled_indexes[test_size:]\n",
        "\n",
        "    X_train = X[train_indexes]\n",
        "    y_train = y[train_indexes]\n",
        "\n",
        "    X_test = X[test_indexes]\n",
        "    y_test = y[test_indexes]\n",
        "\n",
        "    return X_train, X_test, y_train, y_test"
      ],
      "metadata": {
        "id": "nsptcxezvyAZ"
      },
      "execution_count": 77,
      "outputs": []
    },
    {
      "cell_type": "markdown",
      "source": [
        "Разобьем массивы данных X и y на обучающие и тестовые данные:"
      ],
      "metadata": {
        "id": "zHDHGPZ97b01"
      }
    },
    {
      "cell_type": "code",
      "source": [
        "X_train, X_test, y_train, y_test = train_test_split(X2, y2, 0.3)\n",
        "X_train.shape, X_test.shape, y_train.shape, y_test.shape"
      ],
      "metadata": {
        "colab": {
          "base_uri": "https://localhost:8080/"
        },
        "id": "gRhDV0TDwbix",
        "outputId": "6c461799-18e5-46b0-9b59-fed54c3ce725"
      },
      "execution_count": 78,
      "outputs": [
        {
          "output_type": "execute_result",
          "data": {
            "text/plain": [
              "((37758, 2), (16182, 2), (37758,), (16182,))"
            ]
          },
          "metadata": {},
          "execution_count": 78
        }
      ]
    },
    {
      "cell_type": "markdown",
      "source": [
        "Функция высчитывающая показатель качества R<sup>2</sup>"
      ],
      "metadata": {
        "id": "p4EnOjhP7_aO"
      }
    },
    {
      "cell_type": "code",
      "source": [
        "def my_r(y_test, y_predict):\n",
        "  mse = np.sum((y_predict - y_test)**2) / len(y_test)\n",
        "  return 1 - mse/np.var(y_test)"
      ],
      "metadata": {
        "id": "YldLDk7kwmDc"
      },
      "execution_count": 93,
      "outputs": []
    },
    {
      "cell_type": "code",
      "source": [
        "train_score = []\n",
        "test_score = []\n",
        "for i in range(1758, 37758, 1000):\n",
        "    large_model = tf.keras.Sequential([\n",
        "        feature_normalizer,\n",
        "        tf.keras.layers.Dense(units=32, activation='tanh'),\n",
        "        tf.keras.layers.Dense(units=1)\n",
        "    ])\n",
        "    large_model.compile(loss='mse')\n",
        "    large_model.fit(X_train[:i], y_train[:i], epochs=50, verbose=0)\n",
        "\n",
        "    y_train_predict = large_model.predict(X_train[:i])\n",
        "    train_score.append(my_r(y_train[:i], y_train_predict))\n",
        "    \n",
        "    y_test_predict = large_model.predict(X_test)\n",
        "    test_score.append(my_r(y_test, y_test_predict))\n",
        "    print('-->', i, ' done')"
      ],
      "metadata": {
        "colab": {
          "base_uri": "https://localhost:8080/"
        },
        "id": "_deGblWfwpoy",
        "outputId": "905679ba-d5a5-4f37-edde-fdbc8b679e15"
      },
      "execution_count": 94,
      "outputs": [
        {
          "output_type": "stream",
          "name": "stdout",
          "text": [
            "--> 1758  done\n",
            "--> 2758  done\n",
            "--> 3758  done\n",
            "--> 4758  done\n",
            "--> 5758  done\n",
            "--> 6758  done\n",
            "--> 7758  done\n",
            "--> 8758  done\n",
            "--> 9758  done\n",
            "--> 10758  done\n",
            "--> 11758  done\n",
            "--> 12758  done\n",
            "--> 13758  done\n",
            "--> 14758  done\n",
            "--> 15758  done\n",
            "--> 16758  done\n",
            "--> 17758  done\n",
            "--> 18758  done\n",
            "--> 19758  done\n",
            "--> 20758  done\n",
            "--> 21758  done\n",
            "--> 22758  done\n",
            "--> 23758  done\n",
            "--> 24758  done\n",
            "--> 25758  done\n",
            "--> 26758  done\n",
            "--> 27758  done\n",
            "--> 28758  done\n",
            "--> 29758  done\n",
            "--> 30758  done\n",
            "--> 31758  done\n",
            "--> 32758  done\n",
            "--> 33758  done\n",
            "--> 34758  done\n",
            "--> 35758  done\n",
            "--> 36758  done\n"
          ]
        }
      ]
    },
    {
      "cell_type": "code",
      "source": [
        "plt.plot([i for i in range(1758, len(X_train), 1000)], \n",
        "                               train_score, label=\"train\")\n",
        "plt.plot([i for i in range(1758, len(X_train), 1000)], \n",
        "                               test_score, label=\"test\")\n",
        "plt.legend();"
      ],
      "metadata": {
        "colab": {
          "base_uri": "https://localhost:8080/",
          "height": 265
        },
        "id": "dFph1aDtw1xq",
        "outputId": "8ebaa4bc-9ddc-40f4-e0ba-4a3fa9b480ed"
      },
      "execution_count": 95,
      "outputs": [
        {
          "output_type": "display_data",
          "data": {
            "text/plain": [
              "<Figure size 432x288 with 1 Axes>"
            ],
            "image/png": "[encoded data removed]"
          },
          "metadata": {
            "needs_background": "light"
          }
        }
      ]
    }
  ],
  "metadata": {
    "colab": {
      "name": "Lab3_Ponomareva.ipynb",
      "provenance": [],
      "collapsed_sections": []
    },
    "kernelspec": {
      "display_name": "Python 3",
      "language": "python",
      "name": "python3"
    },
    "language_info": {
      "codemirror_mode": {
        "name": "ipython",
        "version": 3
      },
      "file_extension": ".py",
      "mimetype": "text/x-python",
      "name": "python",
      "nbconvert_exporter": "python",
      "pygments_lexer": "ipython3",
      "version": "3.7.4"
    }
  },
  "nbformat": 4,
  "nbformat_minor": 0
}